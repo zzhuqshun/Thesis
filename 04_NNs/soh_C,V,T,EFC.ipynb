{
 "cells": [
  {
   "cell_type": "code",
   "execution_count": 1,
   "metadata": {},
   "outputs": [],
   "source": [
    "%load_ext autoreload\n",
    "%autoreload 2\n",
    "from data_processing import *\n",
    "\n",
    "from sklearn.metrics import mean_absolute_error, r2_score,mean_squared_error,mean_absolute_percentage_error\n",
    "import torch\n",
    "import torch.optim as optim\n",
    "import torch.nn as nn\n",
    "import torch.nn.functional as F\n",
    "from torch.utils.data import Dataset, DataLoader\n",
    "import optuna\n",
    "import os\n",
    "import numpy as np\n",
    "from tqdm import tqdm\n",
    "import copy\n",
    "import random\n",
    "\n",
    "device = torch.device(\"cuda\" if torch.cuda.is_available() else \"cpu\")\n",
    "SEQUENCE_LENGTH = 144\n",
    "PREDICT_LENGTH = 1\n",
    "HIDDEN_SIZE = 64\n",
    "NUM_LAYERS = 2\n",
    "DROPOUT = 0.2\n",
    "BATCH_SIZE = 32\n",
    "LEARNING_RATE = 0.001\n",
    "EPOCHS = 200\n",
    "PATIENCE = 20\n"
   ]
  },
  {
   "cell_type": "code",
   "execution_count": 2,
   "metadata": {},
   "outputs": [
    {
     "name": "stdout",
     "output_type": "stream",
     "text": [
      "Found 15 parquet files\n"
     ]
    },
    {
     "name": "stderr",
     "output_type": "stream",
     "text": [
      "Processing cells:   0%|          | 0/15 [00:00<?, ?cell/s]"
     ]
    },
    {
     "name": "stdout",
     "output_type": "stream",
     "text": [
      "Processing C01 ...\n"
     ]
    },
    {
     "name": "stderr",
     "output_type": "stream",
     "text": [
      "Processing cells:   7%|▋         | 1/15 [00:14<03:16, 14.07s/cell]"
     ]
    },
    {
     "name": "stdout",
     "output_type": "stream",
     "text": [
      "Processing C03 ...\n"
     ]
    },
    {
     "name": "stderr",
     "output_type": "stream",
     "text": [
      "Processing cells:  13%|█▎        | 2/15 [00:22<02:17, 10.57s/cell]"
     ]
    },
    {
     "name": "stdout",
     "output_type": "stream",
     "text": [
      "Processing C05 ...\n"
     ]
    },
    {
     "name": "stderr",
     "output_type": "stream",
     "text": [
      "Processing cells:  20%|██        | 3/15 [00:29<01:51,  9.27s/cell]"
     ]
    },
    {
     "name": "stdout",
     "output_type": "stream",
     "text": [
      "Processing C07 ...\n"
     ]
    },
    {
     "name": "stderr",
     "output_type": "stream",
     "text": [
      "Processing cells:  27%|██▋       | 4/15 [00:38<01:37,  8.90s/cell]"
     ]
    },
    {
     "name": "stdout",
     "output_type": "stream",
     "text": [
      "Processing C09 ...\n"
     ]
    },
    {
     "name": "stderr",
     "output_type": "stream",
     "text": [
      "Processing cells:  33%|███▎      | 5/15 [00:42<01:10,  7.08s/cell]"
     ]
    },
    {
     "name": "stdout",
     "output_type": "stream",
     "text": [
      "Processing C11 ...\n"
     ]
    },
    {
     "name": "stderr",
     "output_type": "stream",
     "text": [
      "Processing cells:  40%|████      | 6/15 [00:46<00:54,  6.11s/cell]"
     ]
    },
    {
     "name": "stdout",
     "output_type": "stream",
     "text": [
      "Processing C13 ...\n"
     ]
    },
    {
     "name": "stderr",
     "output_type": "stream",
     "text": [
      "Processing cells:  47%|████▋     | 7/15 [00:47<00:37,  4.64s/cell]"
     ]
    },
    {
     "name": "stdout",
     "output_type": "stream",
     "text": [
      "Processing C15 ...\n"
     ]
    },
    {
     "name": "stderr",
     "output_type": "stream",
     "text": [
      "Processing cells:  53%|█████▎    | 8/15 [00:49<00:26,  3.81s/cell]"
     ]
    },
    {
     "name": "stdout",
     "output_type": "stream",
     "text": [
      "Processing C17 ...\n"
     ]
    },
    {
     "name": "stderr",
     "output_type": "stream",
     "text": [
      "Processing cells:  60%|██████    | 9/15 [00:57<00:30,  5.01s/cell]"
     ]
    },
    {
     "name": "stdout",
     "output_type": "stream",
     "text": [
      "Processing C19 ...\n"
     ]
    },
    {
     "name": "stderr",
     "output_type": "stream",
     "text": [
      "Processing cells:  67%|██████▋   | 10/15 [01:04<00:28,  5.72s/cell]"
     ]
    },
    {
     "name": "stdout",
     "output_type": "stream",
     "text": [
      "Processing C21 ...\n"
     ]
    },
    {
     "name": "stderr",
     "output_type": "stream",
     "text": [
      "Processing cells:  73%|███████▎  | 11/15 [01:11<00:24,  6.10s/cell]"
     ]
    },
    {
     "name": "stdout",
     "output_type": "stream",
     "text": [
      "Processing C23 ...\n"
     ]
    },
    {
     "name": "stderr",
     "output_type": "stream",
     "text": [
      "Processing cells:  80%|████████  | 12/15 [01:19<00:19,  6.46s/cell]"
     ]
    },
    {
     "name": "stdout",
     "output_type": "stream",
     "text": [
      "Processing C25 ...\n"
     ]
    },
    {
     "name": "stderr",
     "output_type": "stream",
     "text": [
      "Processing cells:  87%|████████▋ | 13/15 [01:24<00:12,  6.04s/cell]"
     ]
    },
    {
     "name": "stdout",
     "output_type": "stream",
     "text": [
      "Processing C27 ...\n"
     ]
    },
    {
     "name": "stderr",
     "output_type": "stream",
     "text": [
      "Processing cells:  93%|█████████▎| 14/15 [01:31<00:06,  6.43s/cell]"
     ]
    },
    {
     "name": "stdout",
     "output_type": "stream",
     "text": [
      "Processing C29 ...\n"
     ]
    },
    {
     "name": "stderr",
     "output_type": "stream",
     "text": [
      "Processing cells: 100%|██████████| 15/15 [01:36<00:00,  6.43s/cell]\n"
     ]
    },
    {
     "name": "stdout",
     "output_type": "stream",
     "text": [
      "Cell split completed:\n",
      "Training set: 13 cells\n",
      "Validation set: 1 cells\n",
      "Test set: 1 cells\n",
      "Final dataset sizes:\n",
      "Training set: 285880 rows (split into 13 parts)\n",
      "Validation set: 26791 rows from 1 cells\n",
      "Test set: 27189 rows from 1 cells\n"
     ]
    }
   ],
   "source": [
    "##########################################################\n",
    "# Data loading\n",
    "##########################################################\n",
    "data_dir = \"../01_Datenaufbereitung/Output/Calculated/\"\n",
    "all_data = load_data(data_dir)\n",
    "\n",
    "train_df, val_df, test_df = split_data(all_data, train=13, val=1, test=1, parts = 1)\n",
    "train_scaled, val_scaled, test_scaled = scale_data(train_df, val_df, test_df)\n"
   ]
  },
  {
   "cell_type": "code",
   "execution_count": 3,
   "metadata": {},
   "outputs": [
    {
     "data": {
      "text/html": [
       "<div>\n",
       "<style scoped>\n",
       "    .dataframe tbody tr th:only-of-type {\n",
       "        vertical-align: middle;\n",
       "    }\n",
       "\n",
       "    .dataframe tbody tr th {\n",
       "        vertical-align: top;\n",
       "    }\n",
       "\n",
       "    .dataframe thead th {\n",
       "        text-align: right;\n",
       "    }\n",
       "</style>\n",
       "<table border=\"1\" class=\"dataframe\">\n",
       "  <thead>\n",
       "    <tr style=\"text-align: right;\">\n",
       "      <th></th>\n",
       "      <th>Testtime[min]</th>\n",
       "      <th>Current[A]</th>\n",
       "      <th>Voltage[V]</th>\n",
       "      <th>Temperature[°C]</th>\n",
       "      <th>cell_id</th>\n",
       "      <th>SOH_ZHU</th>\n",
       "    </tr>\n",
       "  </thead>\n",
       "  <tbody>\n",
       "    <tr>\n",
       "      <th>190855</th>\n",
       "      <td>0</td>\n",
       "      <td>0.367775</td>\n",
       "      <td>-4.470896</td>\n",
       "      <td>1.112695</td>\n",
       "      <td>C19</td>\n",
       "      <td>0.999996</td>\n",
       "    </tr>\n",
       "    <tr>\n",
       "      <th>190856</th>\n",
       "      <td>1</td>\n",
       "      <td>0.871294</td>\n",
       "      <td>0.079981</td>\n",
       "      <td>0.016040</td>\n",
       "      <td>C19</td>\n",
       "      <td>0.999986</td>\n",
       "    </tr>\n",
       "    <tr>\n",
       "      <th>190857</th>\n",
       "      <td>2</td>\n",
       "      <td>0.871286</td>\n",
       "      <td>0.459221</td>\n",
       "      <td>-0.163084</td>\n",
       "      <td>C19</td>\n",
       "      <td>0.999973</td>\n",
       "    </tr>\n",
       "    <tr>\n",
       "      <th>190858</th>\n",
       "      <td>3</td>\n",
       "      <td>0.871258</td>\n",
       "      <td>0.590494</td>\n",
       "      <td>-0.072661</td>\n",
       "      <td>C19</td>\n",
       "      <td>0.999961</td>\n",
       "    </tr>\n",
       "    <tr>\n",
       "      <th>190859</th>\n",
       "      <td>4</td>\n",
       "      <td>0.871295</td>\n",
       "      <td>0.653840</td>\n",
       "      <td>0.115139</td>\n",
       "      <td>C19</td>\n",
       "      <td>0.999948</td>\n",
       "    </tr>\n",
       "    <tr>\n",
       "      <th>...</th>\n",
       "      <td>...</td>\n",
       "      <td>...</td>\n",
       "      <td>...</td>\n",
       "      <td>...</td>\n",
       "      <td>...</td>\n",
       "      <td>...</td>\n",
       "    </tr>\n",
       "    <tr>\n",
       "      <th>218039</th>\n",
       "      <td>27184</td>\n",
       "      <td>-0.134704</td>\n",
       "      <td>-0.347841</td>\n",
       "      <td>-0.673595</td>\n",
       "      <td>C19</td>\n",
       "      <td>0.839529</td>\n",
       "    </tr>\n",
       "    <tr>\n",
       "      <th>218040</th>\n",
       "      <td>27185</td>\n",
       "      <td>-0.145455</td>\n",
       "      <td>-0.380731</td>\n",
       "      <td>-0.663063</td>\n",
       "      <td>C19</td>\n",
       "      <td>0.839529</td>\n",
       "    </tr>\n",
       "    <tr>\n",
       "      <th>218041</th>\n",
       "      <td>27186</td>\n",
       "      <td>-0.109405</td>\n",
       "      <td>-0.364477</td>\n",
       "      <td>-0.650688</td>\n",
       "      <td>C19</td>\n",
       "      <td>0.839529</td>\n",
       "    </tr>\n",
       "    <tr>\n",
       "      <th>218042</th>\n",
       "      <td>27187</td>\n",
       "      <td>-0.059426</td>\n",
       "      <td>-0.278636</td>\n",
       "      <td>-0.654852</td>\n",
       "      <td>C19</td>\n",
       "      <td>0.839529</td>\n",
       "    </tr>\n",
       "    <tr>\n",
       "      <th>218043</th>\n",
       "      <td>27188</td>\n",
       "      <td>-0.059426</td>\n",
       "      <td>-0.269001</td>\n",
       "      <td>-0.650568</td>\n",
       "      <td>C19</td>\n",
       "      <td>0.839529</td>\n",
       "    </tr>\n",
       "  </tbody>\n",
       "</table>\n",
       "<p>27189 rows × 6 columns</p>\n",
       "</div>"
      ],
      "text/plain": [
       "        Testtime[min]  Current[A]  Voltage[V]  Temperature[°C] cell_id  \\\n",
       "190855              0    0.367775   -4.470896         1.112695     C19   \n",
       "190856              1    0.871294    0.079981         0.016040     C19   \n",
       "190857              2    0.871286    0.459221        -0.163084     C19   \n",
       "190858              3    0.871258    0.590494        -0.072661     C19   \n",
       "190859              4    0.871295    0.653840         0.115139     C19   \n",
       "...               ...         ...         ...              ...     ...   \n",
       "218039          27184   -0.134704   -0.347841        -0.673595     C19   \n",
       "218040          27185   -0.145455   -0.380731        -0.663063     C19   \n",
       "218041          27186   -0.109405   -0.364477        -0.650688     C19   \n",
       "218042          27187   -0.059426   -0.278636        -0.654852     C19   \n",
       "218043          27188   -0.059426   -0.269001        -0.650568     C19   \n",
       "\n",
       "         SOH_ZHU  \n",
       "190855  0.999996  \n",
       "190856  0.999986  \n",
       "190857  0.999973  \n",
       "190858  0.999961  \n",
       "190859  0.999948  \n",
       "...          ...  \n",
       "218039  0.839529  \n",
       "218040  0.839529  \n",
       "218041  0.839529  \n",
       "218042  0.839529  \n",
       "218043  0.839529  \n",
       "\n",
       "[27189 rows x 6 columns]"
      ]
     },
     "execution_count": 3,
     "metadata": {},
     "output_type": "execute_result"
    }
   ],
   "source": [
    "### Visualize data\n",
    "# visualize_data(all_data)\n",
    "# inspect_data_ranges(all_data)\n",
    "# inspect_data_ranges(train_scaled)\n",
    "# plot_dataset_soh(train_df, \"Train\")\n",
    "# plot_dataset_soh(val_df, \"Validation\")\n",
    "# plot_dataset_soh(test_df, \"Test\")\n",
    "test_scaled"
   ]
  },
  {
   "cell_type": "code",
   "execution_count": 4,
   "metadata": {},
   "outputs": [],
   "source": [
    "##########################################################\n",
    "# Dataset definition    \n",
    "##########################################################\n",
    "class CellDataset(Dataset):\n",
    "    def __init__(self, df, sequence_length=60, pred_len=1, stride=1):\n",
    "        self.sequence_length = sequence_length\n",
    "        self.pred_len = pred_len\n",
    "        # Specify feature columns and label column\n",
    "        features_cols = ['Voltage[V]', 'Current[A]', 'Temperature[°C]']\n",
    "        label_col = 'SOH_ZHU'\n",
    "        cell_id_col = 'cell_id'\n",
    "        \n",
    "        # Initialize lists to store features and labels\n",
    "        self.features = []\n",
    "        self.labels = []\n",
    "        \n",
    "        # Process each cell separately\n",
    "        for cell_id in df[cell_id_col].unique():\n",
    "            # Get data for current cell\n",
    "            cell_data = df[df[cell_id_col] == cell_id].sort_index()\n",
    "            \n",
    "            # Convert to tensors\n",
    "            cell_features = torch.tensor(cell_data[features_cols].values, dtype=torch.float32)\n",
    "            cell_labels = torch.tensor(cell_data[label_col].values, dtype=torch.float32)\n",
    "            \n",
    "            # Calculate number of possible windows\n",
    "            n_samples = len(cell_data) - sequence_length - pred_len + 1\n",
    "            \n",
    "            if n_samples > 0:\n",
    "                # Create sliding windows\n",
    "                for i in range(0, n_samples, stride):\n",
    "                    # Input sequence\n",
    "                    feature_window = cell_features[i:i + sequence_length]\n",
    "                    # Prediction target\n",
    "                    label_window = cell_labels[i + sequence_length:i + sequence_length + pred_len]\n",
    "                    \n",
    "                    self.features.append(feature_window)\n",
    "                    self.labels.append(label_window)\n",
    "        \n",
    "        # Convert lists to tensors\n",
    "        self.features = torch.stack(self.features)  # (n_samples, sequence_length, n_features)\n",
    "        self.labels = torch.stack(self.labels)      # (n_samples, pred_len)\n",
    "\n",
    "    def __len__(self):\n",
    "        return len(self.features)\n",
    "\n",
    "    def __getitem__(self, idx):\n",
    "        return self.features[idx], self.labels[idx]\n",
    "\n",
    "\n",
    "train_dataset = CellDataset(train_scaled, SEQUENCE_LENGTH, PREDICT_LENGTH)\n",
    "val_dataset = CellDataset(val_scaled, SEQUENCE_LENGTH, PREDICT_LENGTH)\n",
    "test_dataset = CellDataset(test_scaled, SEQUENCE_LENGTH, PREDICT_LENGTH)\n",
    "\n",
    "train_loader = DataLoader(train_dataset, batch_size=BATCH_SIZE, shuffle=True, pin_memory=torch.cuda.is_available())\n",
    "val_loader = DataLoader(val_dataset, batch_size=BATCH_SIZE, shuffle=False, pin_memory=torch.cuda.is_available())\n",
    "test_loader = DataLoader(test_dataset, batch_size=BATCH_SIZE, shuffle=False, pin_memory=torch.cuda.is_available())\n"
   ]
  },
  {
   "cell_type": "code",
   "execution_count": null,
   "metadata": {},
   "outputs": [],
   "source": [
    "##########################################################  \n",
    "# Model definition  \n",
    "##########################################################\n",
    "# 1. LSTM one/multi step prediction model\n",
    "class SOHLSTM(nn.Module):\n",
    "    def __init__(self, input_size, hidden_size, num_layers, dropout=0.2):\n",
    "        super(SOHLSTM, self).__init__()\n",
    "\n",
    "        self.hidden_size = hidden_size\n",
    "        self.num_layers = num_layers\n",
    "\n",
    "        # LSTM layer\n",
    "        self.lstm = nn.LSTM(\n",
    "            input_size=input_size,\n",
    "            hidden_size=hidden_size,\n",
    "            num_layers=num_layers,\n",
    "            batch_first=True,\n",
    "            dropout=dropout if num_layers > 1 else 0\n",
    "        )\n",
    "\n",
    "        # Fully connected layer\n",
    "        self.fc_layers = nn.Sequential(\n",
    "            nn.Linear(hidden_size, hidden_size // 2),\n",
    "            nn.LeakyReLU(),\n",
    "            nn.Dropout(dropout),\n",
    "            nn.Linear(hidden_size // 2, 1)\n",
    "        )\n",
    "\n",
    "    def forward(self, x):\n",
    "        # Initialize hidden state and cell state with zeros\n",
    "        batch_size = x.size(0)\n",
    "        h0 = torch.zeros(self.num_layers, batch_size, self.hidden_size, device=x.device)\n",
    "        c0 = torch.zeros(self.num_layers, batch_size, self.hidden_size, device=x.device)\n",
    "        \n",
    "        # Forward propagate LSTM\n",
    "        lstm_out, _ = self.lstm(x, (h0, c0))\n",
    "\n",
    "        # Only take the output from the last time\n",
    "        out = lstm_out[:, -1, :]  # The shape: [batch_size, hidden_size]\n",
    "\n",
    "        # Through the fully connected layer\n",
    "        out = self.fc_layers(out)\n",
    "        \n",
    "        return out.squeeze(-1), _\n",
    "\n",
    "# # 2. LSTM with attention prediction model\n",
    "# class AttentionLayer(nn.Module):\n",
    "#     def __init__(self, hidden_dim):\n",
    "#         super(AttentionLayer, self).__init__()\n",
    "#         self.hidden_dim = hidden_dim\n",
    "#         # 前馈网络：先降维，再经过 Tanh 激活，最后映射到标量注意力得分\n",
    "#         self.attention = nn.Sequential(\n",
    "#             nn.Linear(hidden_dim, hidden_dim // 2),\n",
    "#             nn.Tanh(),\n",
    "#             nn.Linear(hidden_dim // 2, 1)\n",
    "#         )\n",
    "        \n",
    "#     def forward(self, lstm_output):\n",
    "#         \"\"\"\n",
    "#         Args:\n",
    "#             lstm_output: [batch_size, seq_len, hidden_dim]\n",
    "#         Returns:\n",
    "#             context: [batch_size, hidden_dim]，加权求和后的上下文向量\n",
    "#             attn_weights: [batch_size, seq_len, 1]，归一化的注意力权重\n",
    "#         \"\"\"\n",
    "#         # 计算每个时间步的注意力得分\n",
    "#         attn_scores = self.attention(lstm_output)  # 形状: (batch_size, seq_len, 1)\n",
    "#         # 对得分做 softmax 归一化\n",
    "#         attn_weights = F.softmax(attn_scores, dim=1)\n",
    "#         # 利用注意力权重对所有时间步的隐藏状态做加权求和\n",
    "#         context = torch.bmm(attn_weights.transpose(1, 2), lstm_output)  # 形状: (batch_size, 1, hidden_dim)\n",
    "#         context = context.squeeze(1)  # 形状: (batch_size, hidden_dim)\n",
    "#         return context, attn_weights\n",
    "\n",
    "# class LSTMattention(nn.Module):\n",
    "#     def __init__(self, input_dim: int, hidden_dim: int, num_layers: int, dropout: float, output_length: int = 5):\n",
    "#         \"\"\"\n",
    "#         Args:\n",
    "#             input_dim (int): 输入特征数\n",
    "#             hidden_dim (int): LSTM 隐藏层维度\n",
    "#             num_layers (int): LSTM 层数\n",
    "#             dropout (float): dropout 概率\n",
    "#             output_length (int): 预测步数，即未来要预测多少个时间步的值\n",
    "#         \"\"\"\n",
    "#         super(LSTMattention, self).__init__()\n",
    "#         self.hidden_dim = hidden_dim\n",
    "#         self.num_layers = num_layers\n",
    "#         self.output_length = output_length\n",
    "        \n",
    "#         self.lstm = nn.LSTM(input_dim, hidden_dim, num_layers, batch_first=True, dropout=dropout)\n",
    "#         # 添加加性注意力层\n",
    "#         self.attention = AttentionLayer(hidden_dim)\n",
    "#         # 全连接层将上下文向量映射为多步预测输出\n",
    "#         # self.fc = nn.Linear(hidden_dim, output_length)\n",
    "#         self.fc = nn.Sequential(\n",
    "#             nn.Linear(hidden_dim, hidden_dim // 2),\n",
    "#             nn.LeakyReLU(),\n",
    "#             nn.Dropout(dropout),\n",
    "#             nn.Linear(hidden_dim // 2, output_length)\n",
    "#         )\n",
    "    \n",
    "#     def forward(self, x: torch.Tensor) -> torch.Tensor:\n",
    "#         \"\"\"\n",
    "#         Args:\n",
    "#             x (torch.Tensor): 输入数据，形状为 (batch_size, seq_len, input_dim)\n",
    "        \n",
    "#         Returns:\n",
    "#             torch.Tensor: 预测结果，形状为 (batch_size, output_length)\n",
    "#         \"\"\"\n",
    "#         # 初始化 LSTM 的隐状态和细胞状态\n",
    "#         h0 = torch.zeros(self.num_layers, x.size(0), self.hidden_dim, dtype=x.dtype, device=x.device)\n",
    "#         c0 = torch.zeros(self.num_layers, x.size(0), self.hidden_dim, dtype=x.dtype, device=x.device)\n",
    "        \n",
    "#         # LSTM 输出： (batch_size, seq_len, hidden_dim)\n",
    "#         lstm_out, _ = self.lstm(x, (h0, c0))\n",
    "        \n",
    "#         # 使用加性注意力机制生成上下文向量\n",
    "#         context, attn_weights = self.attention(lstm_out)\n",
    "        \n",
    "#         # 利用上下文向量进行多步预测\n",
    "#         output = self.fc(context)\n",
    "        \n",
    "#         return output, attn_weights\n",
    "    \n",
    "# # 3. BiLSTM prediction model    \n",
    "# class SOHBiLSTM(nn.Module):\n",
    "#     def __init__(self, input_dim, hidden_dim, num_layers, output_length: int = 5, dropout=0.2):\n",
    "#         super(SOHBiLSTM, self).__init__()\n",
    "#         self.hidden_dim = hidden_dim\n",
    "#         self.num_layers = num_layers\n",
    "#         self.output_length = output_length\n",
    "\n",
    "#         # BiLSTM layer\n",
    "#         self.bilstm = nn.LSTM(\n",
    "#             input_dim,\n",
    "#             hidden_dim,\n",
    "#             num_layers,\n",
    "#             batch_first=True,\n",
    "#             bidirectional=True,  # Enable bidirectional LSTM layer\n",
    "#             dropout=dropout if num_layers > 1 else 0\n",
    "#         )\n",
    "\n",
    "#         # Fully connected layer (Output of BiLSTM is 2*hidden_dim)\n",
    "#         self.fc_layers = nn.Sequential(\n",
    "#             nn.Linear(hidden_dim * 2, hidden_dim),\n",
    "#             nn.LeakyReLU(),\n",
    "#             nn.Dropout(dropout),\n",
    "#             nn.BatchNorm1d(hidden_dim),  # Batch normalization layer\n",
    "#             nn.Linear(hidden_dim, hidden_dim // 2),\n",
    "#             nn.LeakyReLU(),\n",
    "#             nn.Dropout(dropout),\n",
    "#             nn.Linear(hidden_dim // 2, output_length)\n",
    "#         )\n",
    "\n",
    "#     def forward(self, x):\n",
    "#         # Initialize hidden state and cell state with zeros\n",
    "#         batch_size = x.size(0)\n",
    "#         # The hidden state for BiLSTM is 2*hidden_dim\n",
    "#         h0 = torch.zeros(self.num_layers * 2, batch_size, self.hidden_dim, device=x.device)\n",
    "#         c0 = torch.zeros(self.num_layers * 2, batch_size, self.hidden_dim, device=x.device)\n",
    "        \n",
    "#         # Forward propagate BiLSTM\n",
    "#         bilstm_out, _ = self.bilstm(x, (h0, c0))\n",
    "        \n",
    "#         # Only take the output from the final time step\n",
    "#         out = bilstm_out[:, -1, :]  # The shape: [batch_size, 2*hidden_dim]\n",
    "        \n",
    "#         # Through the fully connected layer\n",
    "#         out = self.fc_layers(out)\n",
    "        \n",
    "#         return out, _\n",
    "\n",
    "# 3. Transformer prediction model\n",
    "class TransformerModel(nn.Module):\n",
    "    def __init__(self, input_dim: int, hidden_dim: int, num_layers: int, dropout: float, output_length: int = 1):\n",
    "        \"\"\"\n",
    "        Args:\n",
    "            input_dim (int): 输入特征数\n",
    "            hidden_dim (int): Transformer 隐藏层维度\n",
    "            num_layers (int): Transformer 层数\n",
    "            dropout (float): dropout 概率\n",
    "            output_length (int): 预测步数，1 表示单步预测，大于1则为多步预测\n",
    "        \"\"\"\n",
    "        super(TransformerModel, self).__init__()\n",
    "        self.hidden_dim = hidden_dim\n",
    "        self.num_layers = num_layers\n",
    "        self.output_length = output_length\n",
    "\n",
    "        # Transformer Encoder 部分，添加 batch_first=True\n",
    "        self.encoder_layer = nn.TransformerEncoderLayer(d_model=hidden_dim, nhead=8, dropout=dropout, batch_first=True)\n",
    "        self.transformer_encoder = nn.TransformerEncoder(self.encoder_layer, num_layers=num_layers)\n",
    "        \n",
    "        # 用于处理输入特征的线性层\n",
    "        self.input_fc = nn.Linear(input_dim, hidden_dim)\n",
    "        \n",
    "        # 输出层\n",
    "        self.fc = nn.Linear(hidden_dim, output_length)\n",
    "    \n",
    "    def forward(self, x: torch.Tensor) -> torch.Tensor:\n",
    "        # 输入 x 的形状是 (batch_size, seq_len, input_dim)\n",
    "        batch_size, seq_len, _ = x.size()\n",
    "        \n",
    "        # 将输入特征通过线性层转换到 hidden_dim 的维度\n",
    "        x = self.input_fc(x)  # 形状变为 (batch_size, seq_len, hidden_dim)\n",
    "        \n",
    "        # Transformer 编码器输出\n",
    "        transformer_out = self.transformer_encoder(x)\n",
    "        \n",
    "        # 取最后一个时间步的输出\n",
    "        final_hidden = transformer_out[:, -1, :]  # 形状为 (batch_size, hidden_dim)\n",
    "        \n",
    "        # 通过全连接层得到最终的输出\n",
    "        output = self.fc(final_hidden)  # 形状为 (batch_size, output_length)\n",
    "        \n",
    "        return output, _\n",
    "\n"
   ]
  },
  {
   "cell_type": "code",
   "execution_count": 20,
   "metadata": {},
   "outputs": [],
   "source": [
    "##########################################################\n",
    "# Training process\n",
    "##########################################################      \n",
    "def train_and_validation(model, train_loader, val_loader, save_path):\n",
    "    # Define the loss function and optimizer\n",
    "    criterion = nn.MSELoss()\n",
    "    optimizer = torch.optim.Adam(model.parameters(), lr=LEARNING_RATE, weight_decay=1e-4)\n",
    "    # Define learning rate scheduler and early stopping\n",
    "    scheduler = torch.optim.lr_scheduler.ReduceLROnPlateau(optimizer, mode='min', factor=0.1, patience=5)\n",
    "\n",
    "    # Initialize the early stopping parameters\n",
    "    epochs_no_improve = 0\n",
    "    best_val_loss = float('inf')\n",
    "\n",
    "    # Define the history to store training and validation loss\n",
    "    history = {\n",
    "        'train_loss': [],\n",
    "        'val_loss': [],\n",
    "        'epoch': []\n",
    "    }\n",
    "\n",
    "    # Start training\n",
    "    print('\\nStart training...')\n",
    "    for epoch in range(EPOCHS):\n",
    "        # ==================== Training phase ====================\n",
    "        model.train()\n",
    "        train_loss = 0.0\n",
    "\n",
    "        with tqdm(total=len(train_loader), desc=f'Epoch {epoch+1}/{EPOCHS}', leave=False) as pbar:\n",
    "            for features, labels in train_loader:\n",
    "                features, labels = features.to(device), labels.to(device)\n",
    "                optimizer.zero_grad()\n",
    "                outputs,_ = model(features)\n",
    "                loss = criterion(outputs, labels)\n",
    "                loss.backward()\n",
    "                nn.utils.clip_grad_norm_(model.parameters(), max_norm=1)\n",
    "                optimizer.step()\n",
    "                train_loss += loss.item()\n",
    "                pbar.update(1)\n",
    "\n",
    "        train_loss /= len(train_loader)\n",
    "        history['train_loss'].append(train_loss)\n",
    "\n",
    "        # ==================== Validation phase ====================\n",
    "        model.eval()\n",
    "        val_loss = 0.0\n",
    "\n",
    "        with torch.no_grad():\n",
    "            for features, labels in val_loader:\n",
    "                features, labels = features.to(device), labels.to(device)\n",
    "                outputs,_ = model(features)\n",
    "                loss = criterion(outputs, labels)\n",
    "                val_loss += loss.item()\n",
    "\n",
    "        val_loss /= len(val_loader)\n",
    "        history['val_loss'].append(val_loss)\n",
    "        history['epoch'].append(epoch + 1)\n",
    "\n",
    "        # Update learning rate\n",
    "        scheduler.step(val_loss)\n",
    "\n",
    "        # Display the training and validation loss and learning rate\n",
    "        print(f'Epoch {epoch + 1}/{EPOCHS} | '\n",
    "              f'Train Loss: {train_loss:.3e} | '\n",
    "              f'Val Loss: {val_loss:.3e} | '\n",
    "              f'LR: {optimizer.param_groups[0][\"lr\"]:.2e}')\n",
    "\n",
    "        # Check for early stopping and save the best model\n",
    "        if val_loss < best_val_loss:\n",
    "            best_val_loss = val_loss\n",
    "            epochs_no_improve = 0\n",
    "            best_model = copy.deepcopy(model)\n",
    "        else:\n",
    "            epochs_no_improve += 1\n",
    "            if epochs_no_improve >= PATIENCE:\n",
    "                print(f'Early stopping triggered after {epoch + 1} epochs!')\n",
    "                break\n",
    "    last_model = copy.deepcopy(model)\n",
    "    return history, best_model, last_model\n"
   ]
  },
  {
   "cell_type": "code",
   "execution_count": 53,
   "metadata": {},
   "outputs": [],
   "source": [
    "def evaluate_model(model, data_loader, PREDICT_LENGTH):\n",
    "    predictions = []\n",
    "    true_labels = []\n",
    "\n",
    "    with torch.no_grad():\n",
    "        for features, labels in data_loader:\n",
    "            features, labels = features.to(device), labels.to(device)\n",
    "            outputs = model(features)\n",
    "            if PREDICT_LENGTH > 1:\n",
    "                predictions.append(outputs.cpu().numpy())\n",
    "            else:\n",
    "                predictions.append(outputs.squeeze(-1).cpu().numpy())\n",
    "            true_labels.append(labels.cpu().numpy())\n",
    "\n",
    "    predictions = np.concatenate(predictions)\n",
    "    true_labels = np.concatenate(true_labels)\n",
    "\n",
    "    mae = mean_absolute_error(true_labels, predictions)\n",
    "    mape =  mean_absolute_percentage_error(true_labels, predictions)\n",
    "    rmse = np.sqrt(mean_squared_error(true_labels, predictions))\n",
    "    r2 = r2_score(true_labels, predictions)\n",
    "\n",
    "    print(\"Evaluation Metrics:\")\n",
    "    print(\"MAE: {:.4e}\".format(mae))\n",
    "    print(\"MAPE: {:.4e}\".format(mape))\n",
    "    print(\"RMSE: {:.4e}\".format(rmse))\n",
    "    print(\"R2: {:.4f}\".format(r2))\n",
    "\n",
    "    return predictions, true_labels, mae, rmse, r2\n"
   ]
  },
  {
   "cell_type": "code",
   "execution_count": 54,
   "metadata": {},
   "outputs": [
    {
     "ename": "NameError",
     "evalue": "name 'train_and_validation' is not defined",
     "output_type": "error",
     "traceback": [
      "\u001b[1;31m---------------------------------------------------------------------------\u001b[0m",
      "\u001b[1;31mNameError\u001b[0m                                 Traceback (most recent call last)",
      "Cell \u001b[1;32mIn[54], line 7\u001b[0m\n\u001b[0;32m      4\u001b[0m \u001b[38;5;66;03m# model = TransformerModel(input_dim=3, hidden_dim=HIDDEN_SIZE, num_layers=NUM_LAYERS,\u001b[39;00m\n\u001b[0;32m      5\u001b[0m \u001b[38;5;66;03m#                          dropout=DROPOUT, output_length=PREDICT_LENGTH)\u001b[39;00m\n\u001b[0;32m      6\u001b[0m model\u001b[38;5;241m.\u001b[39mto(device)\n\u001b[1;32m----> 7\u001b[0m history, best_model, _ \u001b[38;5;241m=\u001b[39m \u001b[43mtrain_and_validation\u001b[49m(model, train_loader, val_loader, save_path)\n",
      "\u001b[1;31mNameError\u001b[0m: name 'train_and_validation' is not defined"
     ]
    }
   ],
   "source": [
    "# Define the model path and training history path\n",
    "model = LSTMmodel(input_dim=3, hidden_dim=HIDDEN_SIZE, num_layers=NUM_LAYERS, \n",
    "                  dropout=DROPOUT, output_length=PREDICT_LENGTH)\n",
    "# model = TransformerModel(input_dim=3, hidden_dim=HIDDEN_SIZE, num_layers=NUM_LAYERS,\n",
    "#                          dropout=DROPOUT, output_length=PREDICT_LENGTH)\n",
    "model.to(device)\n",
    "history, best_model, _ = train_and_validation(model, train_loader, val_loader, save_path)"
   ]
  },
  {
   "cell_type": "code",
   "execution_count": 55,
   "metadata": {},
   "outputs": [
    {
     "name": "stderr",
     "output_type": "stream",
     "text": [
      "C:\\Users\\zzhuqshun\\AppData\\Local\\Temp\\ipykernel_16232\\1634409715.py:43: FutureWarning: You are using `torch.load` with `weights_only=False` (the current default value), which uses the default pickle module implicitly. It is possible to construct malicious pickle data which will execute arbitrary code during unpickling (See https://github.com/pytorch/pytorch/blob/main/SECURITY.md#untrusted-models for more details). In a future release, the default value for `weights_only` will be flipped to `True`. This limits the functions that could be executed during unpickling. Arbitrary objects will no longer be allowed to be loaded via this mode unless they are explicitly allowlisted by the user via `torch.serialization.add_safe_globals`. We recommend you start setting `weights_only=True` for any use case where you don't have full control of the loaded file. Please open an issue on GitHub for any issues related to this experimental feature.\n",
      "  model.load_state_dict(torch.load(r\"E:\\00_Thesis\\04_NNs\\models\\600resample\\best_soh_model.pth\",  map_location=device))\n"
     ]
    },
    {
     "ename": "RuntimeError",
     "evalue": "Input and parameter tensors are not at the same device, found input tensor at cuda:0 and parameter tensor at cpu",
     "output_type": "error",
     "traceback": [
      "\u001b[1;31m---------------------------------------------------------------------------\u001b[0m",
      "\u001b[1;31mRuntimeError\u001b[0m                              Traceback (most recent call last)",
      "Cell \u001b[1;32mIn[55], line 44\u001b[0m\n\u001b[0;32m     42\u001b[0m model \u001b[38;5;241m=\u001b[39m SOHLSTM(input_size\u001b[38;5;241m=\u001b[39m\u001b[38;5;241m3\u001b[39m, hidden_size\u001b[38;5;241m=\u001b[39mHIDDEN_SIZE, num_layers\u001b[38;5;241m=\u001b[39mNUM_LAYERS, dropout\u001b[38;5;241m=\u001b[39mDROPOUT)\n\u001b[0;32m     43\u001b[0m model\u001b[38;5;241m.\u001b[39mload_state_dict(torch\u001b[38;5;241m.\u001b[39mload(\u001b[38;5;124mr\u001b[39m\u001b[38;5;124m\"\u001b[39m\u001b[38;5;124mE:\u001b[39m\u001b[38;5;124m\\\u001b[39m\u001b[38;5;124m00_Thesis\u001b[39m\u001b[38;5;124m\\\u001b[39m\u001b[38;5;124m04_NNs\u001b[39m\u001b[38;5;124m\\\u001b[39m\u001b[38;5;124mmodels\u001b[39m\u001b[38;5;124m\\\u001b[39m\u001b[38;5;124m600resample\u001b[39m\u001b[38;5;124m\\\u001b[39m\u001b[38;5;124mbest_soh_model.pth\u001b[39m\u001b[38;5;124m\"\u001b[39m,  map_location\u001b[38;5;241m=\u001b[39mdevice))\n\u001b[1;32m---> 44\u001b[0m predictions, true_labels, mae, rmse, r2   \u001b[38;5;241m=\u001b[39m \u001b[43mevaluate_model\u001b[49m\u001b[43m(\u001b[49m\u001b[43mmodel\u001b[49m\u001b[43m,\u001b[49m\u001b[43m \u001b[49m\u001b[43mtest_loader\u001b[49m\u001b[43m,\u001b[49m\u001b[43m \u001b[49m\u001b[43mPREDICT_LENGTH\u001b[49m\u001b[43m)\u001b[49m\n",
      "Cell \u001b[1;32mIn[53], line 8\u001b[0m, in \u001b[0;36mevaluate_model\u001b[1;34m(model, data_loader, PREDICT_LENGTH)\u001b[0m\n\u001b[0;32m      6\u001b[0m \u001b[38;5;28;01mfor\u001b[39;00m features, labels \u001b[38;5;129;01min\u001b[39;00m data_loader:\n\u001b[0;32m      7\u001b[0m     features, labels \u001b[38;5;241m=\u001b[39m features\u001b[38;5;241m.\u001b[39mto(device), labels\u001b[38;5;241m.\u001b[39mto(device)\n\u001b[1;32m----> 8\u001b[0m     outputs \u001b[38;5;241m=\u001b[39m \u001b[43mmodel\u001b[49m\u001b[43m(\u001b[49m\u001b[43mfeatures\u001b[49m\u001b[43m)\u001b[49m\n\u001b[0;32m      9\u001b[0m     \u001b[38;5;28;01mif\u001b[39;00m PREDICT_LENGTH \u001b[38;5;241m>\u001b[39m \u001b[38;5;241m1\u001b[39m:\n\u001b[0;32m     10\u001b[0m         predictions\u001b[38;5;241m.\u001b[39mappend(outputs\u001b[38;5;241m.\u001b[39mcpu()\u001b[38;5;241m.\u001b[39mnumpy())\n",
      "File \u001b[1;32mc:\\Users\\zzhuqshun\\.conda\\envs\\ML\\lib\\site-packages\\torch\\nn\\modules\\module.py:1553\u001b[0m, in \u001b[0;36mModule._wrapped_call_impl\u001b[1;34m(self, *args, **kwargs)\u001b[0m\n\u001b[0;32m   1551\u001b[0m     \u001b[38;5;28;01mreturn\u001b[39;00m \u001b[38;5;28mself\u001b[39m\u001b[38;5;241m.\u001b[39m_compiled_call_impl(\u001b[38;5;241m*\u001b[39margs, \u001b[38;5;241m*\u001b[39m\u001b[38;5;241m*\u001b[39mkwargs)  \u001b[38;5;66;03m# type: ignore[misc]\u001b[39;00m\n\u001b[0;32m   1552\u001b[0m \u001b[38;5;28;01melse\u001b[39;00m:\n\u001b[1;32m-> 1553\u001b[0m     \u001b[38;5;28;01mreturn\u001b[39;00m \u001b[38;5;28mself\u001b[39m\u001b[38;5;241m.\u001b[39m_call_impl(\u001b[38;5;241m*\u001b[39margs, \u001b[38;5;241m*\u001b[39m\u001b[38;5;241m*\u001b[39mkwargs)\n",
      "File \u001b[1;32mc:\\Users\\zzhuqshun\\.conda\\envs\\ML\\lib\\site-packages\\torch\\nn\\modules\\module.py:1562\u001b[0m, in \u001b[0;36mModule._call_impl\u001b[1;34m(self, *args, **kwargs)\u001b[0m\n\u001b[0;32m   1557\u001b[0m \u001b[38;5;66;03m# If we don't have any hooks, we want to skip the rest of the logic in\u001b[39;00m\n\u001b[0;32m   1558\u001b[0m \u001b[38;5;66;03m# this function, and just call forward.\u001b[39;00m\n\u001b[0;32m   1559\u001b[0m \u001b[38;5;28;01mif\u001b[39;00m \u001b[38;5;129;01mnot\u001b[39;00m (\u001b[38;5;28mself\u001b[39m\u001b[38;5;241m.\u001b[39m_backward_hooks \u001b[38;5;129;01mor\u001b[39;00m \u001b[38;5;28mself\u001b[39m\u001b[38;5;241m.\u001b[39m_backward_pre_hooks \u001b[38;5;129;01mor\u001b[39;00m \u001b[38;5;28mself\u001b[39m\u001b[38;5;241m.\u001b[39m_forward_hooks \u001b[38;5;129;01mor\u001b[39;00m \u001b[38;5;28mself\u001b[39m\u001b[38;5;241m.\u001b[39m_forward_pre_hooks\n\u001b[0;32m   1560\u001b[0m         \u001b[38;5;129;01mor\u001b[39;00m _global_backward_pre_hooks \u001b[38;5;129;01mor\u001b[39;00m _global_backward_hooks\n\u001b[0;32m   1561\u001b[0m         \u001b[38;5;129;01mor\u001b[39;00m _global_forward_hooks \u001b[38;5;129;01mor\u001b[39;00m _global_forward_pre_hooks):\n\u001b[1;32m-> 1562\u001b[0m     \u001b[38;5;28;01mreturn\u001b[39;00m forward_call(\u001b[38;5;241m*\u001b[39margs, \u001b[38;5;241m*\u001b[39m\u001b[38;5;241m*\u001b[39mkwargs)\n\u001b[0;32m   1564\u001b[0m \u001b[38;5;28;01mtry\u001b[39;00m:\n\u001b[0;32m   1565\u001b[0m     result \u001b[38;5;241m=\u001b[39m \u001b[38;5;28;01mNone\u001b[39;00m\n",
      "Cell \u001b[1;32mIn[55], line 32\u001b[0m, in \u001b[0;36mSOHLSTM.forward\u001b[1;34m(self, x)\u001b[0m\n\u001b[0;32m     29\u001b[0m c0 \u001b[38;5;241m=\u001b[39m torch\u001b[38;5;241m.\u001b[39mzeros(\u001b[38;5;28mself\u001b[39m\u001b[38;5;241m.\u001b[39mnum_layers, batch_size, \u001b[38;5;28mself\u001b[39m\u001b[38;5;241m.\u001b[39mhidden_size, device\u001b[38;5;241m=\u001b[39mx\u001b[38;5;241m.\u001b[39mdevice)\n\u001b[0;32m     31\u001b[0m \u001b[38;5;66;03m# Forward propagate LSTM\u001b[39;00m\n\u001b[1;32m---> 32\u001b[0m lstm_out, _ \u001b[38;5;241m=\u001b[39m \u001b[38;5;28;43mself\u001b[39;49m\u001b[38;5;241;43m.\u001b[39;49m\u001b[43mlstm\u001b[49m\u001b[43m(\u001b[49m\u001b[43mx\u001b[49m\u001b[43m,\u001b[49m\u001b[43m \u001b[49m\u001b[43m(\u001b[49m\u001b[43mh0\u001b[49m\u001b[43m,\u001b[49m\u001b[43m \u001b[49m\u001b[43mc0\u001b[49m\u001b[43m)\u001b[49m\u001b[43m)\u001b[49m\n\u001b[0;32m     34\u001b[0m \u001b[38;5;66;03m# Only take the output from the final time\u001b[39;00m\n\u001b[0;32m     35\u001b[0m out \u001b[38;5;241m=\u001b[39m lstm_out[:, \u001b[38;5;241m-\u001b[39m\u001b[38;5;241m1\u001b[39m, :]  \u001b[38;5;66;03m# The shape: [batch_size, hidden_size]\u001b[39;00m\n",
      "File \u001b[1;32mc:\\Users\\zzhuqshun\\.conda\\envs\\ML\\lib\\site-packages\\torch\\nn\\modules\\module.py:1553\u001b[0m, in \u001b[0;36mModule._wrapped_call_impl\u001b[1;34m(self, *args, **kwargs)\u001b[0m\n\u001b[0;32m   1551\u001b[0m     \u001b[38;5;28;01mreturn\u001b[39;00m \u001b[38;5;28mself\u001b[39m\u001b[38;5;241m.\u001b[39m_compiled_call_impl(\u001b[38;5;241m*\u001b[39margs, \u001b[38;5;241m*\u001b[39m\u001b[38;5;241m*\u001b[39mkwargs)  \u001b[38;5;66;03m# type: ignore[misc]\u001b[39;00m\n\u001b[0;32m   1552\u001b[0m \u001b[38;5;28;01melse\u001b[39;00m:\n\u001b[1;32m-> 1553\u001b[0m     \u001b[38;5;28;01mreturn\u001b[39;00m \u001b[38;5;28mself\u001b[39m\u001b[38;5;241m.\u001b[39m_call_impl(\u001b[38;5;241m*\u001b[39margs, \u001b[38;5;241m*\u001b[39m\u001b[38;5;241m*\u001b[39mkwargs)\n",
      "File \u001b[1;32mc:\\Users\\zzhuqshun\\.conda\\envs\\ML\\lib\\site-packages\\torch\\nn\\modules\\module.py:1562\u001b[0m, in \u001b[0;36mModule._call_impl\u001b[1;34m(self, *args, **kwargs)\u001b[0m\n\u001b[0;32m   1557\u001b[0m \u001b[38;5;66;03m# If we don't have any hooks, we want to skip the rest of the logic in\u001b[39;00m\n\u001b[0;32m   1558\u001b[0m \u001b[38;5;66;03m# this function, and just call forward.\u001b[39;00m\n\u001b[0;32m   1559\u001b[0m \u001b[38;5;28;01mif\u001b[39;00m \u001b[38;5;129;01mnot\u001b[39;00m (\u001b[38;5;28mself\u001b[39m\u001b[38;5;241m.\u001b[39m_backward_hooks \u001b[38;5;129;01mor\u001b[39;00m \u001b[38;5;28mself\u001b[39m\u001b[38;5;241m.\u001b[39m_backward_pre_hooks \u001b[38;5;129;01mor\u001b[39;00m \u001b[38;5;28mself\u001b[39m\u001b[38;5;241m.\u001b[39m_forward_hooks \u001b[38;5;129;01mor\u001b[39;00m \u001b[38;5;28mself\u001b[39m\u001b[38;5;241m.\u001b[39m_forward_pre_hooks\n\u001b[0;32m   1560\u001b[0m         \u001b[38;5;129;01mor\u001b[39;00m _global_backward_pre_hooks \u001b[38;5;129;01mor\u001b[39;00m _global_backward_hooks\n\u001b[0;32m   1561\u001b[0m         \u001b[38;5;129;01mor\u001b[39;00m _global_forward_hooks \u001b[38;5;129;01mor\u001b[39;00m _global_forward_pre_hooks):\n\u001b[1;32m-> 1562\u001b[0m     \u001b[38;5;28;01mreturn\u001b[39;00m forward_call(\u001b[38;5;241m*\u001b[39margs, \u001b[38;5;241m*\u001b[39m\u001b[38;5;241m*\u001b[39mkwargs)\n\u001b[0;32m   1564\u001b[0m \u001b[38;5;28;01mtry\u001b[39;00m:\n\u001b[0;32m   1565\u001b[0m     result \u001b[38;5;241m=\u001b[39m \u001b[38;5;28;01mNone\u001b[39;00m\n",
      "File \u001b[1;32mc:\\Users\\zzhuqshun\\.conda\\envs\\ML\\lib\\site-packages\\torch\\nn\\modules\\rnn.py:917\u001b[0m, in \u001b[0;36mLSTM.forward\u001b[1;34m(self, input, hx)\u001b[0m\n\u001b[0;32m    914\u001b[0m         hx \u001b[38;5;241m=\u001b[39m \u001b[38;5;28mself\u001b[39m\u001b[38;5;241m.\u001b[39mpermute_hidden(hx, sorted_indices)\n\u001b[0;32m    916\u001b[0m \u001b[38;5;28;01mif\u001b[39;00m batch_sizes \u001b[38;5;129;01mis\u001b[39;00m \u001b[38;5;28;01mNone\u001b[39;00m:\n\u001b[1;32m--> 917\u001b[0m     result \u001b[38;5;241m=\u001b[39m \u001b[43m_VF\u001b[49m\u001b[38;5;241;43m.\u001b[39;49m\u001b[43mlstm\u001b[49m\u001b[43m(\u001b[49m\u001b[38;5;28;43minput\u001b[39;49m\u001b[43m,\u001b[49m\u001b[43m \u001b[49m\u001b[43mhx\u001b[49m\u001b[43m,\u001b[49m\u001b[43m \u001b[49m\u001b[38;5;28;43mself\u001b[39;49m\u001b[38;5;241;43m.\u001b[39;49m\u001b[43m_flat_weights\u001b[49m\u001b[43m,\u001b[49m\u001b[43m \u001b[49m\u001b[38;5;28;43mself\u001b[39;49m\u001b[38;5;241;43m.\u001b[39;49m\u001b[43mbias\u001b[49m\u001b[43m,\u001b[49m\u001b[43m \u001b[49m\u001b[38;5;28;43mself\u001b[39;49m\u001b[38;5;241;43m.\u001b[39;49m\u001b[43mnum_layers\u001b[49m\u001b[43m,\u001b[49m\n\u001b[0;32m    918\u001b[0m \u001b[43m                      \u001b[49m\u001b[38;5;28;43mself\u001b[39;49m\u001b[38;5;241;43m.\u001b[39;49m\u001b[43mdropout\u001b[49m\u001b[43m,\u001b[49m\u001b[43m \u001b[49m\u001b[38;5;28;43mself\u001b[39;49m\u001b[38;5;241;43m.\u001b[39;49m\u001b[43mtraining\u001b[49m\u001b[43m,\u001b[49m\u001b[43m \u001b[49m\u001b[38;5;28;43mself\u001b[39;49m\u001b[38;5;241;43m.\u001b[39;49m\u001b[43mbidirectional\u001b[49m\u001b[43m,\u001b[49m\u001b[43m \u001b[49m\u001b[38;5;28;43mself\u001b[39;49m\u001b[38;5;241;43m.\u001b[39;49m\u001b[43mbatch_first\u001b[49m\u001b[43m)\u001b[49m\n\u001b[0;32m    919\u001b[0m \u001b[38;5;28;01melse\u001b[39;00m:\n\u001b[0;32m    920\u001b[0m     result \u001b[38;5;241m=\u001b[39m _VF\u001b[38;5;241m.\u001b[39mlstm(\u001b[38;5;28minput\u001b[39m, batch_sizes, hx, \u001b[38;5;28mself\u001b[39m\u001b[38;5;241m.\u001b[39m_flat_weights, \u001b[38;5;28mself\u001b[39m\u001b[38;5;241m.\u001b[39mbias,\n\u001b[0;32m    921\u001b[0m                       \u001b[38;5;28mself\u001b[39m\u001b[38;5;241m.\u001b[39mnum_layers, \u001b[38;5;28mself\u001b[39m\u001b[38;5;241m.\u001b[39mdropout, \u001b[38;5;28mself\u001b[39m\u001b[38;5;241m.\u001b[39mtraining, \u001b[38;5;28mself\u001b[39m\u001b[38;5;241m.\u001b[39mbidirectional)\n",
      "\u001b[1;31mRuntimeError\u001b[0m: Input and parameter tensors are not at the same device, found input tensor at cuda:0 and parameter tensor at cpu"
     ]
    }
   ],
   "source": [
    "\n",
    "class SOHLSTM(nn.Module):\n",
    "    def __init__(self, input_size, hidden_size, num_layers, dropout=0.2):\n",
    "        super(SOHLSTM, self).__init__()\n",
    "\n",
    "        self.hidden_size = hidden_size\n",
    "        self.num_layers = num_layers\n",
    "\n",
    "        # LSTM layer\n",
    "        self.lstm = nn.LSTM(\n",
    "            input_size=input_size,\n",
    "            hidden_size=hidden_size,\n",
    "            num_layers=num_layers,\n",
    "            batch_first=True,\n",
    "            dropout=dropout if num_layers > 1 else 0\n",
    "        )\n",
    "\n",
    "        # Fully connected layer\n",
    "        self.fc_layers = nn.Sequential(\n",
    "            nn.Linear(hidden_size, hidden_size // 2),\n",
    "            nn.LeakyReLU(),\n",
    "            nn.Dropout(dropout),\n",
    "            nn.Linear(hidden_size // 2, 1)\n",
    "        )\n",
    "\n",
    "    def forward(self, x):\n",
    "        # Initialize hidden state and cell state with zeros\n",
    "        batch_size = x.size(0)\n",
    "        h0 = torch.zeros(self.num_layers, batch_size, self.hidden_size, device=x.device)\n",
    "        c0 = torch.zeros(self.num_layers, batch_size, self.hidden_size, device=x.device)\n",
    "        \n",
    "        # Forward propagate LSTM\n",
    "        lstm_out, _ = self.lstm(x, (h0, c0))\n",
    "\n",
    "        # Only take the output from the final time\n",
    "        out = lstm_out[:, -1, :]  # The shape: [batch_size, hidden_size]\n",
    "\n",
    "        # Through the fully connected layer\n",
    "        out = self.fc_layers(out)\n",
    "        \n",
    "        return out.squeeze(-1)\n",
    "    \n",
    "model = SOHLSTM(input_size=3, hidden_size=HIDDEN_SIZE, num_layers=NUM_LAYERS, dropout=DROPOUT)\n",
    "model.load_state_dict(torch.load(r\"E:\\00_Thesis\\04_NNs\\models\\600resample\\best_soh_model.pth\",  map_location=device))\n",
    "predictions, true_labels, mae, rmse, r2   = evaluate_model(model, test_loader, PREDICT_LENGTH)"
   ]
  },
  {
   "cell_type": "code",
   "execution_count": 18,
   "metadata": {},
   "outputs": [],
   "source": [
    "true_labels = true_labels.reshape(-1)\n",
    "predictions = predictions.reshape(-1)"
   ]
  },
  {
   "cell_type": "code",
   "execution_count": 22,
   "metadata": {},
   "outputs": [
    {
     "data": {
      "text/plain": [
       "((27045, 1), (27045, 1))"
      ]
     },
     "execution_count": 22,
     "metadata": {},
     "output_type": "execute_result"
    }
   ],
   "source": [
    "true_labels.shape, predictions.shape"
   ]
  },
  {
   "cell_type": "code",
   "execution_count": 30,
   "metadata": {},
   "outputs": [
    {
     "data": {
      "image/png": "[encoded data removed]",
      "text/plain": [
       "<Figure size 1200x600 with 1 Axes>"
      ]
     },
     "metadata": {},
     "output_type": "display_data"
    }
   ],
   "source": [
    "plt.figure(figsize=(12, 6))\n",
    "plt.plot(true_labels, label='Ground Truth')\n",
    "plt.plot(predictions, label='Predicted')\n",
    "plt.title(f\"SOH Prediction - Test Set\\nR2: {r2:.4f} | MAE: {mae:.4e} | RMSE: {rmse:.4e}\")\n",
    "plt.xlabel('Time Steps')\n",
    "plt.ylabel('SOH')\n",
    "plt.legend()\n",
    "plt.tight_layout()\n",
    "plt.show()"
   ]
  },
  {
   "cell_type": "code",
   "execution_count": 28,
   "metadata": {},
   "outputs": [
    {
     "name": "stdout",
     "output_type": "stream",
     "text": [
      "Epoch [1/100]\n",
      "Train Loss: 1.4268e-02\n",
      "Val Metrics: MAE: 4.3500e-02 | RMSE: 5.4340e-02 | R2: -0.4057\n",
      "Epoch [2/100]\n",
      "Train Loss: 1.9494e-03\n",
      "Val Metrics: MAE: 3.4646e-02 | RMSE: 4.1078e-02 | R2: 0.1967\n",
      "Epoch [3/100]\n",
      "Train Loss: 6.3074e-04\n",
      "Val Metrics: MAE: 6.0723e-02 | RMSE: 7.2105e-02 | R2: -1.4751\n",
      "Epoch [4/100]\n",
      "Train Loss: 3.9798e-04\n",
      "Val Metrics: MAE: 3.4080e-02 | RMSE: 4.0147e-02 | R2: 0.2327\n",
      "Epoch [5/100]\n",
      "Train Loss: 3.2346e-04\n",
      "Val Metrics: MAE: 3.6777e-02 | RMSE: 4.2208e-02 | R2: 0.1519\n",
      "Epoch [6/100]\n",
      "Train Loss: 2.8937e-04\n",
      "Val Metrics: MAE: 3.5765e-02 | RMSE: 4.1223e-02 | R2: 0.1910\n",
      "Epoch [7/100]\n",
      "Train Loss: 2.6699e-04\n",
      "Val Metrics: MAE: 3.5667e-02 | RMSE: 4.2691e-02 | R2: 0.1324\n",
      "Epoch [8/100]\n",
      "Train Loss: 2.4578e-04\n",
      "Val Metrics: MAE: 3.5688e-02 | RMSE: 4.3222e-02 | R2: 0.1107\n",
      "Epoch [9/100]\n",
      "Train Loss: 2.9189e-04\n",
      "Val Metrics: MAE: 3.5080e-02 | RMSE: 4.2529e-02 | R2: 0.1389\n",
      "Epoch [10/100]\n",
      "Train Loss: 3.7056e-04\n",
      "Val Metrics: MAE: 6.8496e-02 | RMSE: 7.9646e-02 | R2: -2.0198\n",
      "Epoch [11/100]\n",
      "Train Loss: 4.2552e-04\n",
      "Val Metrics: MAE: 4.1502e-02 | RMSE: 5.2305e-02 | R2: -0.3024\n"
     ]
    },
    {
     "ename": "KeyboardInterrupt",
     "evalue": "",
     "output_type": "error",
     "traceback": [
      "\u001b[1;31m---------------------------------------------------------------------------\u001b[0m",
      "\u001b[1;31mKeyboardInterrupt\u001b[0m                         Traceback (most recent call last)",
      "Cell \u001b[1;32mIn[28], line 36\u001b[0m\n\u001b[0;32m     29\u001b[0m optimizer \u001b[38;5;241m=\u001b[39m optim\u001b[38;5;241m.\u001b[39mAdam(\n\u001b[0;32m     30\u001b[0m     model\u001b[38;5;241m.\u001b[39mparameters(),\n\u001b[0;32m     31\u001b[0m     lr\u001b[38;5;241m=\u001b[39m\u001b[38;5;241m1e-4\u001b[39m,\n\u001b[0;32m     32\u001b[0m     weight_decay\u001b[38;5;241m=\u001b[39m\u001b[38;5;241m1e-3\u001b[39m\n\u001b[0;32m     33\u001b[0m )\n\u001b[0;32m     35\u001b[0m \u001b[38;5;66;03m# Train model\u001b[39;00m\n\u001b[1;32m---> 36\u001b[0m history, best_model_state \u001b[38;5;241m=\u001b[39m \u001b[43mtrain_model\u001b[49m\u001b[43m(\u001b[49m\n\u001b[0;32m     37\u001b[0m \u001b[43m    \u001b[49m\u001b[43mmodel\u001b[49m\u001b[43m,\u001b[49m\u001b[43m \u001b[49m\u001b[43mcriterion\u001b[49m\u001b[43m,\u001b[49m\u001b[43m \u001b[49m\u001b[43moptimizer\u001b[49m\u001b[43m,\u001b[49m\n\u001b[0;32m     38\u001b[0m \u001b[43m    \u001b[49m\u001b[43mtrain_loader\u001b[49m\u001b[43m,\u001b[49m\u001b[43m \u001b[49m\u001b[43mval_dataset\u001b[49m\u001b[43m,\u001b[49m\n\u001b[0;32m     39\u001b[0m \u001b[43m    \u001b[49m\u001b[43mnum_epochs\u001b[49m\u001b[38;5;241;43m=\u001b[39;49m\u001b[38;5;241;43m100\u001b[39;49m\u001b[43m,\u001b[49m\n\u001b[0;32m     40\u001b[0m \u001b[43m    \u001b[49m\u001b[43mpatience\u001b[49m\u001b[38;5;241;43m=\u001b[39;49m\u001b[38;5;241;43m10\u001b[39;49m\u001b[43m,\u001b[49m\n\u001b[0;32m     41\u001b[0m \u001b[43m    \u001b[49m\u001b[43mseed_length\u001b[49m\u001b[38;5;241;43m=\u001b[39;49m\u001b[43mseed_length\u001b[49m\u001b[43m,\u001b[49m\n\u001b[0;32m     42\u001b[0m \u001b[43m    \u001b[49m\u001b[43mpred_length\u001b[49m\u001b[38;5;241;43m=\u001b[39;49m\u001b[43mpred_length\u001b[49m\u001b[43m \u001b[49m\n\u001b[0;32m     43\u001b[0m \u001b[43m)\u001b[49m\n\u001b[0;32m     45\u001b[0m \u001b[38;5;66;03m# Save best model\u001b[39;00m\n\u001b[0;32m     46\u001b[0m torch\u001b[38;5;241m.\u001b[39msave(best_model_state, \u001b[38;5;124m\"\u001b[39m\u001b[38;5;124mbest_model.pth\u001b[39m\u001b[38;5;124m\"\u001b[39m)\n",
      "Cell \u001b[1;32mIn[26], line 68\u001b[0m, in \u001b[0;36mtrain_model\u001b[1;34m(model, criterion, optimizer, train_loader, val_dataset, num_epochs, patience, seed_length, pred_length)\u001b[0m\n\u001b[0;32m     65\u001b[0m loss \u001b[38;5;241m=\u001b[39m criterion(predictions, Y_target)\n\u001b[0;32m     67\u001b[0m optimizer\u001b[38;5;241m.\u001b[39mzero_grad()\n\u001b[1;32m---> 68\u001b[0m \u001b[43mloss\u001b[49m\u001b[38;5;241;43m.\u001b[39;49m\u001b[43mbackward\u001b[49m\u001b[43m(\u001b[49m\u001b[43m)\u001b[49m\n\u001b[0;32m     69\u001b[0m optimizer\u001b[38;5;241m.\u001b[39mstep()\n\u001b[0;32m     71\u001b[0m train_losses\u001b[38;5;241m.\u001b[39mappend(loss\u001b[38;5;241m.\u001b[39mitem())\n",
      "File \u001b[1;32mc:\\Users\\zzhuqshun\\.conda\\envs\\ML\\lib\\site-packages\\torch\\_tensor.py:521\u001b[0m, in \u001b[0;36mTensor.backward\u001b[1;34m(self, gradient, retain_graph, create_graph, inputs)\u001b[0m\n\u001b[0;32m    511\u001b[0m \u001b[38;5;28;01mif\u001b[39;00m has_torch_function_unary(\u001b[38;5;28mself\u001b[39m):\n\u001b[0;32m    512\u001b[0m     \u001b[38;5;28;01mreturn\u001b[39;00m handle_torch_function(\n\u001b[0;32m    513\u001b[0m         Tensor\u001b[38;5;241m.\u001b[39mbackward,\n\u001b[0;32m    514\u001b[0m         (\u001b[38;5;28mself\u001b[39m,),\n\u001b[1;32m   (...)\u001b[0m\n\u001b[0;32m    519\u001b[0m         inputs\u001b[38;5;241m=\u001b[39minputs,\n\u001b[0;32m    520\u001b[0m     )\n\u001b[1;32m--> 521\u001b[0m \u001b[43mtorch\u001b[49m\u001b[38;5;241;43m.\u001b[39;49m\u001b[43mautograd\u001b[49m\u001b[38;5;241;43m.\u001b[39;49m\u001b[43mbackward\u001b[49m\u001b[43m(\u001b[49m\n\u001b[0;32m    522\u001b[0m \u001b[43m    \u001b[49m\u001b[38;5;28;43mself\u001b[39;49m\u001b[43m,\u001b[49m\u001b[43m \u001b[49m\u001b[43mgradient\u001b[49m\u001b[43m,\u001b[49m\u001b[43m \u001b[49m\u001b[43mretain_graph\u001b[49m\u001b[43m,\u001b[49m\u001b[43m \u001b[49m\u001b[43mcreate_graph\u001b[49m\u001b[43m,\u001b[49m\u001b[43m \u001b[49m\u001b[43minputs\u001b[49m\u001b[38;5;241;43m=\u001b[39;49m\u001b[43minputs\u001b[49m\n\u001b[0;32m    523\u001b[0m \u001b[43m\u001b[49m\u001b[43m)\u001b[49m\n",
      "File \u001b[1;32mc:\\Users\\zzhuqshun\\.conda\\envs\\ML\\lib\\site-packages\\torch\\autograd\\__init__.py:289\u001b[0m, in \u001b[0;36mbackward\u001b[1;34m(tensors, grad_tensors, retain_graph, create_graph, grad_variables, inputs)\u001b[0m\n\u001b[0;32m    284\u001b[0m     retain_graph \u001b[38;5;241m=\u001b[39m create_graph\n\u001b[0;32m    286\u001b[0m \u001b[38;5;66;03m# The reason we repeat the same comment below is that\u001b[39;00m\n\u001b[0;32m    287\u001b[0m \u001b[38;5;66;03m# some Python versions print out the first line of a multi-line function\u001b[39;00m\n\u001b[0;32m    288\u001b[0m \u001b[38;5;66;03m# calls in the traceback and some print out the last line\u001b[39;00m\n\u001b[1;32m--> 289\u001b[0m \u001b[43m_engine_run_backward\u001b[49m\u001b[43m(\u001b[49m\n\u001b[0;32m    290\u001b[0m \u001b[43m    \u001b[49m\u001b[43mtensors\u001b[49m\u001b[43m,\u001b[49m\n\u001b[0;32m    291\u001b[0m \u001b[43m    \u001b[49m\u001b[43mgrad_tensors_\u001b[49m\u001b[43m,\u001b[49m\n\u001b[0;32m    292\u001b[0m \u001b[43m    \u001b[49m\u001b[43mretain_graph\u001b[49m\u001b[43m,\u001b[49m\n\u001b[0;32m    293\u001b[0m \u001b[43m    \u001b[49m\u001b[43mcreate_graph\u001b[49m\u001b[43m,\u001b[49m\n\u001b[0;32m    294\u001b[0m \u001b[43m    \u001b[49m\u001b[43minputs\u001b[49m\u001b[43m,\u001b[49m\n\u001b[0;32m    295\u001b[0m \u001b[43m    \u001b[49m\u001b[43mallow_unreachable\u001b[49m\u001b[38;5;241;43m=\u001b[39;49m\u001b[38;5;28;43;01mTrue\u001b[39;49;00m\u001b[43m,\u001b[49m\n\u001b[0;32m    296\u001b[0m \u001b[43m    \u001b[49m\u001b[43maccumulate_grad\u001b[49m\u001b[38;5;241;43m=\u001b[39;49m\u001b[38;5;28;43;01mTrue\u001b[39;49;00m\u001b[43m,\u001b[49m\n\u001b[0;32m    297\u001b[0m \u001b[43m\u001b[49m\u001b[43m)\u001b[49m\n",
      "File \u001b[1;32mc:\\Users\\zzhuqshun\\.conda\\envs\\ML\\lib\\site-packages\\torch\\autograd\\graph.py:769\u001b[0m, in \u001b[0;36m_engine_run_backward\u001b[1;34m(t_outputs, *args, **kwargs)\u001b[0m\n\u001b[0;32m    767\u001b[0m     unregister_hooks \u001b[38;5;241m=\u001b[39m _register_logging_hooks_on_whole_graph(t_outputs)\n\u001b[0;32m    768\u001b[0m \u001b[38;5;28;01mtry\u001b[39;00m:\n\u001b[1;32m--> 769\u001b[0m     \u001b[38;5;28;01mreturn\u001b[39;00m Variable\u001b[38;5;241m.\u001b[39m_execution_engine\u001b[38;5;241m.\u001b[39mrun_backward(  \u001b[38;5;66;03m# Calls into the C++ engine to run the backward pass\u001b[39;00m\n\u001b[0;32m    770\u001b[0m         t_outputs, \u001b[38;5;241m*\u001b[39margs, \u001b[38;5;241m*\u001b[39m\u001b[38;5;241m*\u001b[39mkwargs\n\u001b[0;32m    771\u001b[0m     )  \u001b[38;5;66;03m# Calls into the C++ engine to run the backward pass\u001b[39;00m\n\u001b[0;32m    772\u001b[0m \u001b[38;5;28;01mfinally\u001b[39;00m:\n\u001b[0;32m    773\u001b[0m     \u001b[38;5;28;01mif\u001b[39;00m attach_logging_hooks:\n",
      "\u001b[1;31mKeyboardInterrupt\u001b[0m: "
     ]
    }
   ],
   "source": [
    "seed_length = 13\n",
    "pred_length = 10\n",
    "batch_size = 16  \n",
    "hidden_dim = 80\n",
    "num_layers = 5\n",
    "dropout = 0.5\n",
    "\n",
    "# Create datasets with appropriate modes\n",
    "train_dataset = SequenceDataset(train_scaled, seed_len=seed_length, pred_len=pred_length, is_train=True)\n",
    "val_dataset = SequenceDataset(val_scaled, seed_len=seed_length, pred_len=pred_length, is_train=False)\n",
    "\n",
    "# Create data loaders\n",
    "train_loader = DataLoader(\n",
    "    train_dataset, \n",
    "    batch_size=batch_size, \n",
    "    shuffle=False, \n",
    "    drop_last=True\n",
    ")\n",
    "\n",
    "val_dataset = SequenceDataset(val_scaled, seed_len=seed_length, pred_len=pred_length, is_train=False)\n",
    "\n",
    "# Model initialization\n",
    "model = LSTMSOH(\n",
    "    input_dim=4,\n",
    "    hidden_dim=hidden_dim,\n",
    "    num_layers=num_layers,\n",
    "    dropout=dropout,\n",
    "    pred_len=pred_length\n",
    ").to(device)\n",
    "\n",
    "criterion = nn.MSELoss()\n",
    "optimizer = optim.Adam(\n",
    "    model.parameters(),\n",
    "    lr=1e-4,\n",
    "    weight_decay=1e-3\n",
    ")\n",
    "\n",
    "# Train model\n",
    "history, best_model_state = train_model(\n",
    "    model, criterion, optimizer,\n",
    "    train_loader, val_dataset,\n",
    "    num_epochs=100,\n",
    "    patience=10,\n",
    "    seed_length=seed_length,\n",
    "    pred_length=pred_length \n",
    ")\n",
    "\n",
    "# Save best model\n",
    "torch.save(best_model_state, \"best_model.pth\")\n"
   ]
  },
  {
   "cell_type": "code",
   "execution_count": null,
   "metadata": {},
   "outputs": [],
   "source": [
    "\n",
    "##########################################################\n",
    "# Evaluation\n",
    "##########################################################  \n",
    "def test_model(model, test_dataset):\n",
    "    model.eval()\n",
    "    \n",
    "    # 获取测试电池数据\n",
    "    cell_id = test_dataset.cell_ids[0]  # 只有一个电池\n",
    "    cell_data = test_dataset.cell_data[cell_id]\n",
    "    \n",
    "    # 进行连续预测\n",
    "    predictions, targets = evaluate_continuous(\n",
    "        model, cell_data, seed_length, pred_length, device\n",
    "    )\n",
    "    \n",
    "    # 计算指标\n",
    "    metrics = {\n",
    "        'r2': r2_score(targets, predictions),\n",
    "        'mae': mean_absolute_error(targets, predictions),\n",
    "        'rmse': np.sqrt(mean_squared_error(targets, predictions))\n",
    "    }\n",
    "    \n",
    "    print(\"\\nTest Metrics:\")\n",
    "    print(f\"R2: {metrics['r2']:.5f}\")\n",
    "    print(f\"MAE: {metrics['mae']:.5e}\")\n",
    "    print(f\"RMSE: {metrics['rmse']:.5e}\")\n",
    "    \n",
    "    return predictions, targets, metrics\n",
    "# 加载最佳模型进行评估\n",
    "model.load_state_dict(best_model_state)\n",
    "test_dataset = SequenceDataset(test_scaled, seed_len=seed_length, pred_len=pred_length, is_train=False)\n",
    "\n",
    "# 评估模型\n",
    "predictions, targets, metrics = test_model(model, test_dataset)\n",
    "\n",
    "# 绘制预测结果\n",
    "plt.figure(figsize=(12, 6))\n",
    "plt.plot(targets, label='Ground Truth')\n",
    "plt.plot(predictions, label='Predicted')\n",
    "plt.title(f\"SOH Prediction - Test Set\\nR2: {metrics['r2']:.5f} | MAE: {metrics['mae']:.5e} | RMSE: {metrics['rmse']:.5e}\")\n",
    "plt.xlabel('Time Steps')\n",
    "plt.ylabel('SOH')\n",
    "plt.legend()\n",
    "plt.tight_layout()\n",
    "plt.show()"
   ]
  }
 ],
 "metadata": {
  "kernelspec": {
   "display_name": "ML",
   "language": "python",
   "name": "python3"
  },
  "language_info": {
   "codemirror_mode": {
    "name": "ipython",
    "version": 3
   },
   "file_extension": ".py",
   "mimetype": "text/x-python",
   "name": "python",
   "nbconvert_exporter": "python",
   "pygments_lexer": "ipython3",
   "version": "3.9.18"
  }
 },
 "nbformat": 4,
 "nbformat_minor": 2
}
