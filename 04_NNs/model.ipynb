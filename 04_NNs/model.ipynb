{
 "cells": [
  {
   "cell_type": "code",
   "execution_count": 32,
   "metadata": {},
   "outputs": [
    {
     "name": "stdout",
     "output_type": "stream",
     "text": [
      "The autoreload extension is already loaded. To reload it, use:\n",
      "  %reload_ext autoreload\n"
     ]
    }
   ],
   "source": [
    "%load_ext autoreload\n",
    "%autoreload 2\n",
    "%matplotlib widget\n",
    "from data_processing import *\n",
    "device = torch.device(\"cuda\" if torch.cuda.is_available() else \"cpu\")\n",
    "\n",
    "from sklearn.metrics import mean_absolute_error, r2_score,mean_squared_error\n",
    "import torch\n",
    "import torch.optim as optim\n",
    "import torch.nn as nn\n",
    "from torch.utils.data import Dataset, DataLoader\n",
    "import optuna\n",
    "\n",
    "import numpy as np\n",
    "from tqdm import tqdm\n",
    "import copy\n",
    "\n"
   ]
  },
  {
   "cell_type": "code",
   "execution_count": 33,
   "metadata": {},
   "outputs": [
    {
     "name": "stdout",
     "output_type": "stream",
     "text": [
      "Found 15 parquet files\n"
     ]
    },
    {
     "name": "stderr",
     "output_type": "stream",
     "text": [
      "Processing cells:   0%|          | 0/15 [00:00<?, ?cell/s]"
     ]
    },
    {
     "name": "stdout",
     "output_type": "stream",
     "text": [
      "Processing C01 ...\n"
     ]
    },
    {
     "name": "stderr",
     "output_type": "stream",
     "text": [
      "Processing cells:   7%|▋         | 1/15 [00:16<03:51, 16.55s/cell]"
     ]
    },
    {
     "name": "stdout",
     "output_type": "stream",
     "text": [
      "Processing C03 ...\n"
     ]
    },
    {
     "name": "stderr",
     "output_type": "stream",
     "text": [
      "Processing cells:  13%|█▎        | 2/15 [00:24<02:31, 11.66s/cell]"
     ]
    },
    {
     "name": "stdout",
     "output_type": "stream",
     "text": [
      "Processing C05 ...\n"
     ]
    },
    {
     "name": "stderr",
     "output_type": "stream",
     "text": [
      "Processing cells:  20%|██        | 3/15 [00:33<02:02, 10.18s/cell]"
     ]
    },
    {
     "name": "stdout",
     "output_type": "stream",
     "text": [
      "Processing C07 ...\n"
     ]
    },
    {
     "name": "stderr",
     "output_type": "stream",
     "text": [
      "Processing cells:  27%|██▋       | 4/15 [00:41<01:44,  9.47s/cell]"
     ]
    },
    {
     "name": "stdout",
     "output_type": "stream",
     "text": [
      "Processing C09 ...\n"
     ]
    },
    {
     "name": "stderr",
     "output_type": "stream",
     "text": [
      "Processing cells:  33%|███▎      | 5/15 [00:46<01:16,  7.68s/cell]"
     ]
    },
    {
     "name": "stdout",
     "output_type": "stream",
     "text": [
      "Processing C11 ...\n"
     ]
    },
    {
     "name": "stderr",
     "output_type": "stream",
     "text": [
      "Processing cells:  40%|████      | 6/15 [00:51<01:01,  6.89s/cell]"
     ]
    },
    {
     "name": "stdout",
     "output_type": "stream",
     "text": [
      "Processing C13 ...\n"
     ]
    },
    {
     "name": "stderr",
     "output_type": "stream",
     "text": [
      "Processing cells:  47%|████▋     | 7/15 [00:53<00:42,  5.29s/cell]"
     ]
    },
    {
     "name": "stdout",
     "output_type": "stream",
     "text": [
      "Processing C15 ...\n"
     ]
    },
    {
     "name": "stderr",
     "output_type": "stream",
     "text": [
      "Processing cells:  53%|█████▎    | 8/15 [00:56<00:31,  4.45s/cell]"
     ]
    },
    {
     "name": "stdout",
     "output_type": "stream",
     "text": [
      "Processing C17 ...\n"
     ]
    },
    {
     "name": "stderr",
     "output_type": "stream",
     "text": [
      "Processing cells:  60%|██████    | 9/15 [01:04<00:34,  5.81s/cell]"
     ]
    },
    {
     "name": "stdout",
     "output_type": "stream",
     "text": [
      "Processing C19 ...\n"
     ]
    },
    {
     "name": "stderr",
     "output_type": "stream",
     "text": [
      "Processing cells:  67%|██████▋   | 10/15 [01:13<00:32,  6.55s/cell]"
     ]
    },
    {
     "name": "stdout",
     "output_type": "stream",
     "text": [
      "Processing C21 ...\n"
     ]
    },
    {
     "name": "stderr",
     "output_type": "stream",
     "text": [
      "Processing cells:  73%|███████▎  | 11/15 [01:20<00:27,  6.94s/cell]"
     ]
    },
    {
     "name": "stdout",
     "output_type": "stream",
     "text": [
      "Processing C23 ...\n"
     ]
    },
    {
     "name": "stderr",
     "output_type": "stream",
     "text": [
      "Processing cells:  80%|████████  | 12/15 [01:29<00:22,  7.39s/cell]"
     ]
    },
    {
     "name": "stdout",
     "output_type": "stream",
     "text": [
      "Processing C25 ...\n"
     ]
    },
    {
     "name": "stderr",
     "output_type": "stream",
     "text": [
      "Processing cells:  87%|████████▋ | 13/15 [01:34<00:13,  6.84s/cell]"
     ]
    },
    {
     "name": "stdout",
     "output_type": "stream",
     "text": [
      "Processing C27 ...\n"
     ]
    },
    {
     "name": "stderr",
     "output_type": "stream",
     "text": [
      "Processing cells:  93%|█████████▎| 14/15 [01:42<00:07,  7.10s/cell]"
     ]
    },
    {
     "name": "stdout",
     "output_type": "stream",
     "text": [
      "Processing C29 ...\n"
     ]
    },
    {
     "name": "stderr",
     "output_type": "stream",
     "text": [
      "Processing cells: 100%|██████████| 15/15 [01:47<00:00,  7.20s/cell]\n"
     ]
    }
   ],
   "source": [
    "### Load data\n",
    "data_dir = \"../01_Datenaufbereitung/Output/Calculated/\"\n",
    "all_data = load_data(data_dir)\n"
   ]
  },
  {
   "cell_type": "code",
   "execution_count": 34,
   "metadata": {},
   "outputs": [
    {
     "name": "stdout",
     "output_type": "stream",
     "text": [
      "Cell split completed:\n",
      "Training set: 13 cells\n",
      "Validation set: 1 cells\n",
      "Test set: 1 cells\n",
      "Final dataset sizes:\n",
      "Training set: 48609 rows (split into 65 parts)\n",
      "Validation set: 4561 rows from 1 cells\n",
      "Test set: 4602 rows from 1 cells\n"
     ]
    }
   ],
   "source": [
    "train_df, val_df, test_df = split_data(all_data, train=13, val=1, test=1,parts = 5)\n",
    "train_scaled, val_scaled, test_scaled = scale_data(train_df, val_df, test_df)"
   ]
  },
  {
   "cell_type": "code",
   "execution_count": null,
   "metadata": {},
   "outputs": [],
   "source": [
    "### Visualize data\n",
    "# visualize_data(all_data)\n",
    "# inspect_data_ranges(all_data)\n",
    "# inspect_data_ranges(train_scaled)\n",
    "# plot_dataset_soh(train_df, \"Train\")\n",
    "# plot_dataset_soh(val_df, \"Validation\")\n",
    "# plot_dataset_soh(test_df, \"Test\")"
   ]
  },
  {
   "cell_type": "code",
   "execution_count": 37,
   "metadata": {},
   "outputs": [],
   "source": [
    "class SequenceDataset(Dataset):\n",
    "    def __init__(self, df, seed_len = 36, pred_len = 1):\n",
    "        self.seed_len = seed_len\n",
    "        self.pred_len = pred_len\n",
    "        self.data = df[[\"SOH_ZHU\",'Current[A]', 'Voltage[V]','Temperature[°C]']].values\n",
    "\n",
    "    def __len__(self):\n",
    "        return len(self.data) - (self.seed_len + self.pred_len)\n",
    "\n",
    "    def __getitem__(self, idx):\n",
    "        # X: (batch_size, seq_len, num_features)\n",
    "        x_seq = self.data[idx : idx + self.seed_len]\n",
    "        # Y: (batch_size, pred_len)\n",
    "        y_seq = self.data[idx + self.seed_len : idx + self.seed_len + self.pred_len, 0]\n",
    "\n",
    "        x = torch.tensor(x_seq, dtype=torch.float32)\n",
    "        y = torch.tensor(y_seq, dtype=torch.float32)\n",
    "        return x, y\n",
    "\n",
    "\n",
    "\n",
    "# Using ground truth of SOH and 3 covariances\n",
    "seed_length=13\n",
    "pred_length=10\n",
    "batch_size=16\n",
    "train_dataset = SequenceDataset(train_scaled, seed_len=seed_length, pred_len=pred_length)\n",
    "val_dataset = SequenceDataset(val_scaled, seed_len=seed_length, pred_len=pred_length)\n",
    "test_dataset = SequenceDataset(test_scaled, seed_len=seed_length, pred_len=pred_length)\n",
    "\n",
    "\n",
    "train_loader = DataLoader(train_dataset, batch_size=batch_size, shuffle=True, drop_last=True)\n",
    "val_loader = DataLoader(val_dataset, batch_size=batch_size, shuffle=False, drop_last=True)\n",
    "test_loader = DataLoader(test_dataset, batch_size=batch_size, shuffle=False, drop_last=True)\n",
    "\n"
   ]
  },
  {
   "cell_type": "code",
   "execution_count": 38,
   "metadata": {},
   "outputs": [],
   "source": [
    "class LSTMSOH(nn.Module):\n",
    "    def __init__(self, input_dim: int, hidden_dim: int, num_layers: int, dropout: float):\n",
    "        super(LSTMSOH, self).__init__()\n",
    "        self.hidden_dim = hidden_dim\n",
    "        self.num_layers = num_layers\n",
    "        self.dropout = dropout\n",
    "        self.lstm = nn.LSTM(input_dim, hidden_dim, num_layers, batch_first=True, dropout= dropout)\n",
    "        # Attention layer: project hidden state at each time step to a scalar attention weight\n",
    "        # self.attention = nn.Linear(hidden_dim, 1)\n",
    "        self.fc = nn.Linear(hidden_dim, 1)\n",
    "    \n",
    "    def forward(self, x: torch.Tensor) -> torch.Tensor:\n",
    "        h0 = torch.zeros(self.num_layers, x.size(0), self.hidden_dim, dtype=x.dtype, device=x.device)\n",
    "        c0 = torch.zeros(self.num_layers, x.size(0), self.hidden_dim, dtype=x.dtype, device=x.device)\n",
    "        lstm_out, _ = self.lstm(x,(h0,c0))  # lstm_out shape: (batch_size, seq_len, hidden_dim)\n",
    "        \n",
    "        # # # Compute attention scores and normalize them\n",
    "        # attn_scores = self.attention(lstm_out)  # shape: (batch_size, seq_len, 1)\n",
    "        # attn_weights = torch.softmax(attn_scores, dim=1)  # softmax over seq_len\n",
    "        \n",
    "        # # # Compute the context vector as the weighted sum of LSTM outputs\n",
    "        # context = torch.sum(attn_weights * lstm_out, dim=1)  # shape: (batch_size, hidden_dim)\n",
    "        # out = self.fc(context)  # Final prediction, shape: (batch_size, 1)\n",
    "        \n",
    "        out = self.fc(lstm_out[:,-1,:]) # (batch_size, hidden_dim) -> (batch_size, 1)\n",
    "        \n",
    "        return out.squeeze(-1) #(batch_size,)"
   ]
  },
  {
   "cell_type": "code",
   "execution_count": 39,
   "metadata": {},
   "outputs": [],
   "source": [
    "def train_model(model, criterion, optimizer, train_loader, val_loader, num_epochs=10, patience=5):\n",
    "\n",
    "    device = torch.device(\"cuda\" if torch.cuda.is_available() else \"cpu\")\n",
    "    model.to(device)\n",
    "    \n",
    "    history = {'train_loss': [],'val_loss': [],'val_mae': [],'val_rmse': [],'val_r2': []}\n",
    "    \n",
    "    best_val_loss = float('inf')\n",
    "    best_model_state = None\n",
    "    epochs_no_improve = 0\n",
    "    \n",
    "    target_idx = 0\n",
    "    \n",
    "    for epoch in range(num_epochs):\n",
    "        # -----------------------------\n",
    "        # 1) Training Loop (pure autoregressive)\n",
    "        # -----------------------------\n",
    "        model.train()\n",
    "        train_losses = []\n",
    "        \n",
    "        for X_batch, Y_batch in tqdm(train_loader, desc=f\"Epoch {epoch+1}/{num_epochs} Training\", leave=False):\n",
    "            X_batch = X_batch.to(device)  # shape: (batch_size, seed_len, num_features)\n",
    "            Y_batch = Y_batch.to(device)  # shape: (batch_size, pred_len)\n",
    "            \n",
    "            batch_size, seed_len, num_features = X_batch.shape\n",
    "            pred_len = Y_batch.shape[1]\n",
    "            \n",
    "            # current_seq als autoregressive rolling window\n",
    "            current_seq = X_batch.clone()  # (batch_size, seed_len, num_features)\n",
    "            preds_steps = []\n",
    "            \n",
    "            for t in range(pred_len):\n",
    "                # 1) Predicting the next time step with the current sequence\n",
    "                pred = model(current_seq)  # (batch_size,)\n",
    "                preds_steps.append(pred.unsqueeze(1))  # -> (batch_size, 1)\n",
    "                \n",
    "                # 2) Write pred back to current_seq's target column, ready for the next time step.\n",
    "                 # exceed seed_len or no more features, only the current last frame will be kept.\n",
    "                next_input = current_seq[:, -1, :].clone()\n",
    "                # Replace target columns with model predictions\n",
    "                next_input[:, target_idx] = pred\n",
    "                \n",
    "                # 3) Move the window: remove the top frame, put in a new prediction frame\n",
    "                #   current_seq[:, 1:, :] -> drop the last step\n",
    "                #   next_input.unsqueeze(1) -> (batch_size, 1, num_features)\n",
    "                current_seq = torch.cat([current_seq[:, 1:, :], next_input.unsqueeze(1)], dim=1)\n",
    "            \n",
    "            preds_steps = torch.cat(preds_steps, dim=1)\n",
    "            loss = criterion(preds_steps, Y_batch)\n",
    "            \n",
    "            optimizer.zero_grad()\n",
    "            loss.backward()\n",
    "            optimizer.step()\n",
    "            \n",
    "            train_losses.append(loss.item())\n",
    "        \n",
    "        mean_train_loss = np.mean(train_losses)\n",
    "        history['train_loss'].append(mean_train_loss)\n",
    "        \n",
    "        # -----------------------------\n",
    "        # 2) Validation Loop (pure autoregressive)\n",
    "        # -----------------------------\n",
    "        model.eval()\n",
    "        val_losses = []\n",
    "        all_preds = []\n",
    "        all_targets = []\n",
    "        \n",
    "        with torch.no_grad():\n",
    "            for X_val, Y_val in val_loader:\n",
    "                X_val = X_val.to(device)\n",
    "                Y_val = Y_val.to(device)\n",
    "                batch_size, seed_len, num_features = X_val.shape\n",
    "                pred_len = Y_val.shape[1]\n",
    "                \n",
    "                current_seq = X_val.clone()\n",
    "                preds_steps = []\n",
    "                \n",
    "                for t in range(pred_len):\n",
    "                    pred = model(current_seq)  # (batch_size,)\n",
    "                    preds_steps.append(pred.unsqueeze(1))\n",
    "                    \n",
    "                    next_input = current_seq[:, -1, :].clone()\n",
    "                    next_input[:, target_idx] = pred\n",
    "                    \n",
    "                    current_seq = torch.cat([current_seq[:, 1:, :], next_input.unsqueeze(1)], dim=1)\n",
    "                \n",
    "                preds_steps = torch.cat(preds_steps, dim=1)  # (batch_size, pred_len)\n",
    "                val_loss = criterion(preds_steps, Y_val)\n",
    "                val_losses.append(val_loss.item())\n",
    "                \n",
    "                all_preds.append(preds_steps.cpu().numpy())\n",
    "                all_targets.append(Y_val.cpu().numpy())\n",
    "        \n",
    "        mean_val_loss = np.mean(val_losses)\n",
    "        history['val_loss'].append(mean_val_loss)\n",
    "        \n",
    "        # Calculate overall MAE, RMSE, R2\n",
    "        all_preds = np.concatenate(all_preds, axis=0)\n",
    "        all_targets = np.concatenate(all_targets, axis=0)\n",
    "        mae = np.mean(np.abs(all_preds - all_targets))\n",
    "        rmse = np.sqrt(np.mean((all_preds - all_targets)**2))\n",
    "        \n",
    "        ss_res = np.sum((all_targets - all_preds)**2)\n",
    "        ss_tot = np.sum((all_targets - np.mean(all_targets))**2)\n",
    "        r2 = 1 - ss_res / ss_tot if ss_tot > 1e-12 else 0.0\n",
    "        \n",
    "        history['val_mae'].append(mae)\n",
    "        history['val_rmse'].append(rmse)\n",
    "        history['val_r2'].append(r2)\n",
    "        \n",
    "        print(f\"Epoch [{epoch+1}/{num_epochs}] | \"\n",
    "              f\"Train Loss: {mean_train_loss:.4e} | Val Loss: {mean_val_loss:.4e} | \"\n",
    "              f\"MAE: {mae:.4e} | RMSE: {rmse:.4e} | R2: {r2:.4f}\")\n",
    "        \n",
    "        # -----------------------------\n",
    "        # 3) Early Stopping\n",
    "        # -----------------------------\n",
    "        if mean_val_loss < best_val_loss:\n",
    "            best_val_loss = mean_val_loss\n",
    "            best_model_state = copy.deepcopy(model.state_dict())\n",
    "            epochs_no_improve = 0\n",
    "        else:\n",
    "            epochs_no_improve += 1\n",
    "            if epochs_no_improve >= patience:\n",
    "                print(f\"Early stopping at epoch {epoch+1} because validation loss did not improve.\")\n",
    "                break\n",
    "    \n",
    "    return history, best_model_state\n"
   ]
  },
  {
   "cell_type": "code",
   "execution_count": 40,
   "metadata": {},
   "outputs": [
    {
     "name": "stderr",
     "output_type": "stream",
     "text": [
      "                                                                         \r"
     ]
    },
    {
     "name": "stdout",
     "output_type": "stream",
     "text": [
      "Epoch [1/100] | Train Loss: 8.6163e-02 | Val Loss: 3.0031e-03 | MAE: 4.3685e-02 | RMSE: 5.4800e-02 | R2: -0.4388\n"
     ]
    },
    {
     "name": "stderr",
     "output_type": "stream",
     "text": [
      "                                                                         \r"
     ]
    },
    {
     "name": "stdout",
     "output_type": "stream",
     "text": [
      "Epoch [2/100] | Train Loss: 4.9960e-03 | Val Loss: 3.0748e-03 | MAE: 4.4127e-02 | RMSE: 5.5451e-02 | R2: -0.4732\n"
     ]
    },
    {
     "name": "stderr",
     "output_type": "stream",
     "text": [
      "                                                                         \r"
     ]
    },
    {
     "name": "stdout",
     "output_type": "stream",
     "text": [
      "Epoch [3/100] | Train Loss: 3.9559e-03 | Val Loss: 2.0431e-03 | MAE: 3.5931e-02 | RMSE: 4.5201e-02 | R2: 0.0211\n"
     ]
    },
    {
     "name": "stderr",
     "output_type": "stream",
     "text": [
      "                                                                         \r"
     ]
    },
    {
     "name": "stdout",
     "output_type": "stream",
     "text": [
      "Epoch [4/100] | Train Loss: 2.5506e-03 | Val Loss: 1.0634e-03 | MAE: 2.7894e-02 | RMSE: 3.2610e-02 | R2: 0.4905\n"
     ]
    },
    {
     "name": "stderr",
     "output_type": "stream",
     "text": [
      "                                                                         \r"
     ]
    },
    {
     "name": "stdout",
     "output_type": "stream",
     "text": [
      "Epoch [5/100] | Train Loss: 1.0984e-03 | Val Loss: 3.9701e-04 | MAE: 1.6824e-02 | RMSE: 1.9925e-02 | R2: 0.8098\n"
     ]
    },
    {
     "name": "stderr",
     "output_type": "stream",
     "text": [
      "                                                                         \r"
     ]
    },
    {
     "name": "stdout",
     "output_type": "stream",
     "text": [
      "Epoch [6/100] | Train Loss: 7.1324e-04 | Val Loss: 7.9293e-05 | MAE: 7.0892e-03 | RMSE: 8.9047e-03 | R2: 0.9620\n"
     ]
    },
    {
     "name": "stderr",
     "output_type": "stream",
     "text": [
      "                                                                         \r"
     ]
    },
    {
     "name": "stdout",
     "output_type": "stream",
     "text": [
      "Epoch [7/100] | Train Loss: 5.3544e-04 | Val Loss: 4.5410e-05 | MAE: 5.2540e-03 | RMSE: 6.7387e-03 | R2: 0.9782\n"
     ]
    },
    {
     "name": "stderr",
     "output_type": "stream",
     "text": [
      "                                                                         \r"
     ]
    },
    {
     "name": "stdout",
     "output_type": "stream",
     "text": [
      "Epoch [8/100] | Train Loss: 4.4083e-04 | Val Loss: 2.8465e-05 | MAE: 3.9848e-03 | RMSE: 5.3353e-03 | R2: 0.9864\n"
     ]
    },
    {
     "name": "stderr",
     "output_type": "stream",
     "text": [
      "                                                                         \r"
     ]
    },
    {
     "name": "stdout",
     "output_type": "stream",
     "text": [
      "Epoch [9/100] | Train Loss: 3.9016e-04 | Val Loss: 2.9379e-05 | MAE: 4.3157e-03 | RMSE: 5.4203e-03 | R2: 0.9859\n"
     ]
    },
    {
     "name": "stderr",
     "output_type": "stream",
     "text": [
      "                                                                          \r"
     ]
    },
    {
     "name": "stdout",
     "output_type": "stream",
     "text": [
      "Epoch [10/100] | Train Loss: 3.5991e-04 | Val Loss: 2.1300e-05 | MAE: 3.0219e-03 | RMSE: 4.6152e-03 | R2: 0.9898\n"
     ]
    },
    {
     "name": "stderr",
     "output_type": "stream",
     "text": [
      "                                                                          \r"
     ]
    },
    {
     "name": "stdout",
     "output_type": "stream",
     "text": [
      "Epoch [11/100] | Train Loss: 3.4090e-04 | Val Loss: 1.4661e-05 | MAE: 2.5204e-03 | RMSE: 3.8289e-03 | R2: 0.9930\n"
     ]
    },
    {
     "name": "stderr",
     "output_type": "stream",
     "text": [
      "                                                                          \r"
     ]
    },
    {
     "name": "stdout",
     "output_type": "stream",
     "text": [
      "Epoch [12/100] | Train Loss: 3.2606e-04 | Val Loss: 1.6702e-05 | MAE: 2.7924e-03 | RMSE: 4.0868e-03 | R2: 0.9920\n"
     ]
    },
    {
     "name": "stderr",
     "output_type": "stream",
     "text": [
      "                                                                          \r"
     ]
    },
    {
     "name": "stdout",
     "output_type": "stream",
     "text": [
      "Epoch [13/100] | Train Loss: 3.1676e-04 | Val Loss: 3.0502e-05 | MAE: 4.5819e-03 | RMSE: 5.5228e-03 | R2: 0.9854\n"
     ]
    },
    {
     "name": "stderr",
     "output_type": "stream",
     "text": [
      "                                                                          \r"
     ]
    },
    {
     "name": "stdout",
     "output_type": "stream",
     "text": [
      "Epoch [14/100] | Train Loss: 3.0741e-04 | Val Loss: 1.1624e-05 | MAE: 2.3865e-03 | RMSE: 3.4095e-03 | R2: 0.9944\n"
     ]
    },
    {
     "name": "stderr",
     "output_type": "stream",
     "text": [
      "                                                                          \r"
     ]
    },
    {
     "name": "stdout",
     "output_type": "stream",
     "text": [
      "Epoch [15/100] | Train Loss: 3.0078e-04 | Val Loss: 1.5132e-05 | MAE: 2.7479e-03 | RMSE: 3.8900e-03 | R2: 0.9927\n"
     ]
    },
    {
     "name": "stderr",
     "output_type": "stream",
     "text": [
      "                                                                          \r"
     ]
    },
    {
     "name": "stdout",
     "output_type": "stream",
     "text": [
      "Epoch [16/100] | Train Loss: 2.9401e-04 | Val Loss: 1.9079e-05 | MAE: 3.6297e-03 | RMSE: 4.3680e-03 | R2: 0.9909\n"
     ]
    },
    {
     "name": "stderr",
     "output_type": "stream",
     "text": [
      "                                                                          \r"
     ]
    },
    {
     "name": "stdout",
     "output_type": "stream",
     "text": [
      "Epoch [17/100] | Train Loss: 2.8930e-04 | Val Loss: 2.2454e-05 | MAE: 3.5115e-03 | RMSE: 4.7386e-03 | R2: 0.9892\n"
     ]
    },
    {
     "name": "stderr",
     "output_type": "stream",
     "text": [
      "                                                                          \r"
     ]
    },
    {
     "name": "stdout",
     "output_type": "stream",
     "text": [
      "Epoch [18/100] | Train Loss: 2.8713e-04 | Val Loss: 9.9116e-06 | MAE: 2.2792e-03 | RMSE: 3.1483e-03 | R2: 0.9953\n"
     ]
    },
    {
     "name": "stderr",
     "output_type": "stream",
     "text": [
      "                                                                          \r"
     ]
    },
    {
     "name": "stdout",
     "output_type": "stream",
     "text": [
      "Epoch [19/100] | Train Loss: 2.8194e-04 | Val Loss: 2.4821e-05 | MAE: 3.7538e-03 | RMSE: 4.9821e-03 | R2: 0.9881\n"
     ]
    },
    {
     "name": "stderr",
     "output_type": "stream",
     "text": [
      "                                                                          \r"
     ]
    },
    {
     "name": "stdout",
     "output_type": "stream",
     "text": [
      "Epoch [20/100] | Train Loss: 2.7704e-04 | Val Loss: 5.9111e-06 | MAE: 1.7479e-03 | RMSE: 2.4313e-03 | R2: 0.9972\n"
     ]
    },
    {
     "name": "stderr",
     "output_type": "stream",
     "text": [
      "                                                                          \r"
     ]
    },
    {
     "name": "stdout",
     "output_type": "stream",
     "text": [
      "Epoch [21/100] | Train Loss: 2.7475e-04 | Val Loss: 6.7859e-06 | MAE: 1.9117e-03 | RMSE: 2.6050e-03 | R2: 0.9967\n"
     ]
    },
    {
     "name": "stderr",
     "output_type": "stream",
     "text": [
      "                                                                          \r"
     ]
    },
    {
     "name": "stdout",
     "output_type": "stream",
     "text": [
      "Epoch [22/100] | Train Loss: 2.7120e-04 | Val Loss: 1.3128e-05 | MAE: 3.0704e-03 | RMSE: 3.6233e-03 | R2: 0.9937\n"
     ]
    },
    {
     "name": "stderr",
     "output_type": "stream",
     "text": [
      "                                                                          \r"
     ]
    },
    {
     "name": "stdout",
     "output_type": "stream",
     "text": [
      "Epoch [23/100] | Train Loss: 2.6819e-04 | Val Loss: 6.3708e-06 | MAE: 1.9079e-03 | RMSE: 2.5240e-03 | R2: 0.9969\n"
     ]
    },
    {
     "name": "stderr",
     "output_type": "stream",
     "text": [
      "                                                                          \r"
     ]
    },
    {
     "name": "stdout",
     "output_type": "stream",
     "text": [
      "Epoch [24/100] | Train Loss: 2.6491e-04 | Val Loss: 4.5305e-06 | MAE: 1.4596e-03 | RMSE: 2.1285e-03 | R2: 0.9978\n"
     ]
    },
    {
     "name": "stderr",
     "output_type": "stream",
     "text": [
      "                                                                          \r"
     ]
    },
    {
     "name": "stdout",
     "output_type": "stream",
     "text": [
      "Epoch [25/100] | Train Loss: 2.6117e-04 | Val Loss: 1.1951e-05 | MAE: 2.8068e-03 | RMSE: 3.4570e-03 | R2: 0.9943\n"
     ]
    },
    {
     "name": "stderr",
     "output_type": "stream",
     "text": [
      "                                                                          \r"
     ]
    },
    {
     "name": "stdout",
     "output_type": "stream",
     "text": [
      "Epoch [26/100] | Train Loss: 2.5960e-04 | Val Loss: 4.7708e-05 | MAE: 5.9760e-03 | RMSE: 6.9071e-03 | R2: 0.9771\n"
     ]
    },
    {
     "name": "stderr",
     "output_type": "stream",
     "text": [
      "                                                                          \r"
     ]
    },
    {
     "name": "stdout",
     "output_type": "stream",
     "text": [
      "Epoch [27/100] | Train Loss: 2.5661e-04 | Val Loss: 5.3848e-06 | MAE: 1.7462e-03 | RMSE: 2.3205e-03 | R2: 0.9974\n"
     ]
    },
    {
     "name": "stderr",
     "output_type": "stream",
     "text": [
      "                                                                          \r"
     ]
    },
    {
     "name": "stdout",
     "output_type": "stream",
     "text": [
      "Epoch [28/100] | Train Loss: 2.5516e-04 | Val Loss: 9.5595e-06 | MAE: 2.3591e-03 | RMSE: 3.0918e-03 | R2: 0.9954\n"
     ]
    },
    {
     "name": "stderr",
     "output_type": "stream",
     "text": [
      "                                                                          \r"
     ]
    },
    {
     "name": "stdout",
     "output_type": "stream",
     "text": [
      "Epoch [29/100] | Train Loss: 2.5299e-04 | Val Loss: 6.7723e-06 | MAE: 2.0663e-03 | RMSE: 2.6024e-03 | R2: 0.9968\n"
     ]
    },
    {
     "name": "stderr",
     "output_type": "stream",
     "text": [
      "                                                                          \r"
     ]
    },
    {
     "name": "stdout",
     "output_type": "stream",
     "text": [
      "Epoch [30/100] | Train Loss: 2.5099e-04 | Val Loss: 4.3330e-06 | MAE: 1.5424e-03 | RMSE: 2.0816e-03 | R2: 0.9979\n"
     ]
    },
    {
     "name": "stderr",
     "output_type": "stream",
     "text": [
      "                                                                          \r"
     ]
    },
    {
     "name": "stdout",
     "output_type": "stream",
     "text": [
      "Epoch [31/100] | Train Loss: 2.4888e-04 | Val Loss: 8.9655e-06 | MAE: 2.4462e-03 | RMSE: 2.9942e-03 | R2: 0.9957\n"
     ]
    },
    {
     "name": "stderr",
     "output_type": "stream",
     "text": [
      "                                                                          \r"
     ]
    },
    {
     "name": "stdout",
     "output_type": "stream",
     "text": [
      "Epoch [32/100] | Train Loss: 2.4589e-04 | Val Loss: 9.5829e-06 | MAE: 2.7069e-03 | RMSE: 3.0956e-03 | R2: 0.9954\n"
     ]
    },
    {
     "name": "stderr",
     "output_type": "stream",
     "text": [
      "                                                                          \r"
     ]
    },
    {
     "name": "stdout",
     "output_type": "stream",
     "text": [
      "Epoch [33/100] | Train Loss: 2.4625e-04 | Val Loss: 9.7749e-06 | MAE: 2.3486e-03 | RMSE: 3.1265e-03 | R2: 0.9953\n"
     ]
    },
    {
     "name": "stderr",
     "output_type": "stream",
     "text": [
      "                                                                          \r"
     ]
    },
    {
     "name": "stdout",
     "output_type": "stream",
     "text": [
      "Epoch [34/100] | Train Loss: 2.4451e-04 | Val Loss: 3.6970e-06 | MAE: 1.5984e-03 | RMSE: 1.9228e-03 | R2: 0.9982\n"
     ]
    },
    {
     "name": "stderr",
     "output_type": "stream",
     "text": [
      "                                                                          \r"
     ]
    },
    {
     "name": "stdout",
     "output_type": "stream",
     "text": [
      "Epoch [35/100] | Train Loss: 2.4084e-04 | Val Loss: 2.3897e-06 | MAE: 1.1046e-03 | RMSE: 1.5459e-03 | R2: 0.9989\n"
     ]
    },
    {
     "name": "stderr",
     "output_type": "stream",
     "text": [
      "                                                                          \r"
     ]
    },
    {
     "name": "stdout",
     "output_type": "stream",
     "text": [
      "Epoch [36/100] | Train Loss: 2.3824e-04 | Val Loss: 1.1409e-05 | MAE: 2.5403e-03 | RMSE: 3.3777e-03 | R2: 0.9945\n"
     ]
    },
    {
     "name": "stderr",
     "output_type": "stream",
     "text": [
      "                                                                          \r"
     ]
    },
    {
     "name": "stdout",
     "output_type": "stream",
     "text": [
      "Epoch [37/100] | Train Loss: 2.3883e-04 | Val Loss: 8.4253e-06 | MAE: 2.5109e-03 | RMSE: 2.9026e-03 | R2: 0.9960\n"
     ]
    },
    {
     "name": "stderr",
     "output_type": "stream",
     "text": [
      "                                                                          \r"
     ]
    },
    {
     "name": "stdout",
     "output_type": "stream",
     "text": [
      "Epoch [38/100] | Train Loss: 2.3750e-04 | Val Loss: 5.9557e-06 | MAE: 2.1000e-03 | RMSE: 2.4404e-03 | R2: 0.9971\n"
     ]
    },
    {
     "name": "stderr",
     "output_type": "stream",
     "text": [
      "                                                                          \r"
     ]
    },
    {
     "name": "stdout",
     "output_type": "stream",
     "text": [
      "Epoch [39/100] | Train Loss: 2.3543e-04 | Val Loss: 4.1335e-06 | MAE: 1.5803e-03 | RMSE: 2.0331e-03 | R2: 0.9980\n"
     ]
    },
    {
     "name": "stderr",
     "output_type": "stream",
     "text": [
      "                                                                          \r"
     ]
    },
    {
     "name": "stdout",
     "output_type": "stream",
     "text": [
      "Epoch [40/100] | Train Loss: 2.3415e-04 | Val Loss: 4.7700e-06 | MAE: 1.7239e-03 | RMSE: 2.1840e-03 | R2: 0.9977\n"
     ]
    },
    {
     "name": "stderr",
     "output_type": "stream",
     "text": [
      "                                                                          \r"
     ]
    },
    {
     "name": "stdout",
     "output_type": "stream",
     "text": [
      "Epoch [41/100] | Train Loss: 2.3366e-04 | Val Loss: 7.9514e-06 | MAE: 2.3284e-03 | RMSE: 2.8198e-03 | R2: 0.9962\n"
     ]
    },
    {
     "name": "stderr",
     "output_type": "stream",
     "text": [
      "                                                                          \r"
     ]
    },
    {
     "name": "stdout",
     "output_type": "stream",
     "text": [
      "Epoch [42/100] | Train Loss: 2.3073e-04 | Val Loss: 2.4644e-05 | MAE: 4.0537e-03 | RMSE: 4.9643e-03 | R2: 0.9882\n"
     ]
    },
    {
     "name": "stderr",
     "output_type": "stream",
     "text": [
      "                                                                          \r"
     ]
    },
    {
     "name": "stdout",
     "output_type": "stream",
     "text": [
      "Epoch [43/100] | Train Loss: 2.3072e-04 | Val Loss: 1.5842e-05 | MAE: 3.3234e-03 | RMSE: 3.9802e-03 | R2: 0.9924\n"
     ]
    },
    {
     "name": "stderr",
     "output_type": "stream",
     "text": [
      "                                                                          \r"
     ]
    },
    {
     "name": "stdout",
     "output_type": "stream",
     "text": [
      "Epoch [44/100] | Train Loss: 2.2805e-04 | Val Loss: 5.4201e-06 | MAE: 1.7691e-03 | RMSE: 2.3281e-03 | R2: 0.9974\n"
     ]
    },
    {
     "name": "stderr",
     "output_type": "stream",
     "text": [
      "                                                                          \r"
     ]
    },
    {
     "name": "stdout",
     "output_type": "stream",
     "text": [
      "Epoch [45/100] | Train Loss: 2.2644e-04 | Val Loss: 2.0853e-06 | MAE: 1.0013e-03 | RMSE: 1.4441e-03 | R2: 0.9990\n"
     ]
    },
    {
     "name": "stderr",
     "output_type": "stream",
     "text": [
      "                                                                          \r"
     ]
    },
    {
     "name": "stdout",
     "output_type": "stream",
     "text": [
      "Epoch [46/100] | Train Loss: 2.2860e-04 | Val Loss: 2.6198e-05 | MAE: 4.1925e-03 | RMSE: 5.1184e-03 | R2: 0.9874\n"
     ]
    },
    {
     "name": "stderr",
     "output_type": "stream",
     "text": [
      "                                                                          \r"
     ]
    },
    {
     "name": "stdout",
     "output_type": "stream",
     "text": [
      "Epoch [47/100] | Train Loss: 2.2785e-04 | Val Loss: 6.6594e-06 | MAE: 2.0500e-03 | RMSE: 2.5806e-03 | R2: 0.9968\n"
     ]
    },
    {
     "name": "stderr",
     "output_type": "stream",
     "text": [
      "                                                                          \r"
     ]
    },
    {
     "name": "stdout",
     "output_type": "stream",
     "text": [
      "Epoch [48/100] | Train Loss: 2.2669e-04 | Val Loss: 4.9846e-06 | MAE: 1.5856e-03 | RMSE: 2.2326e-03 | R2: 0.9976\n"
     ]
    },
    {
     "name": "stderr",
     "output_type": "stream",
     "text": [
      "                                                                          \r"
     ]
    },
    {
     "name": "stdout",
     "output_type": "stream",
     "text": [
      "Epoch [49/100] | Train Loss: 2.2360e-04 | Val Loss: 1.0424e-05 | MAE: 2.3663e-03 | RMSE: 3.2287e-03 | R2: 0.9950\n"
     ]
    },
    {
     "name": "stderr",
     "output_type": "stream",
     "text": [
      "                                                                          \r"
     ]
    },
    {
     "name": "stdout",
     "output_type": "stream",
     "text": [
      "Epoch [50/100] | Train Loss: 2.2294e-04 | Val Loss: 2.5551e-06 | MAE: 1.2222e-03 | RMSE: 1.5985e-03 | R2: 0.9988\n"
     ]
    },
    {
     "name": "stderr",
     "output_type": "stream",
     "text": [
      "                                                                          \r"
     ]
    },
    {
     "name": "stdout",
     "output_type": "stream",
     "text": [
      "Epoch [51/100] | Train Loss: 2.2229e-04 | Val Loss: 4.9575e-06 | MAE: 1.8123e-03 | RMSE: 2.2266e-03 | R2: 0.9976\n"
     ]
    },
    {
     "name": "stderr",
     "output_type": "stream",
     "text": [
      "                                                                          \r"
     ]
    },
    {
     "name": "stdout",
     "output_type": "stream",
     "text": [
      "Epoch [52/100] | Train Loss: 2.2129e-04 | Val Loss: 5.3119e-06 | MAE: 1.7742e-03 | RMSE: 2.3048e-03 | R2: 0.9975\n"
     ]
    },
    {
     "name": "stderr",
     "output_type": "stream",
     "text": [
      "                                                                          \r"
     ]
    },
    {
     "name": "stdout",
     "output_type": "stream",
     "text": [
      "Epoch [53/100] | Train Loss: 2.1829e-04 | Val Loss: 5.0918e-06 | MAE: 1.6968e-03 | RMSE: 2.2565e-03 | R2: 0.9976\n"
     ]
    },
    {
     "name": "stderr",
     "output_type": "stream",
     "text": [
      "                                                                          \r"
     ]
    },
    {
     "name": "stdout",
     "output_type": "stream",
     "text": [
      "Epoch [54/100] | Train Loss: 2.1682e-04 | Val Loss: 5.1207e-06 | MAE: 1.7782e-03 | RMSE: 2.2629e-03 | R2: 0.9975\n"
     ]
    },
    {
     "name": "stderr",
     "output_type": "stream",
     "text": [
      "                                                                          \r"
     ]
    },
    {
     "name": "stdout",
     "output_type": "stream",
     "text": [
      "Epoch [55/100] | Train Loss: 2.1786e-04 | Val Loss: 7.8473e-06 | MAE: 2.2515e-03 | RMSE: 2.8013e-03 | R2: 0.9962\n"
     ]
    },
    {
     "name": "stderr",
     "output_type": "stream",
     "text": [
      "                                                                          \r"
     ]
    },
    {
     "name": "stdout",
     "output_type": "stream",
     "text": [
      "Epoch [56/100] | Train Loss: 2.1576e-04 | Val Loss: 2.0781e-06 | MAE: 1.0908e-03 | RMSE: 1.4415e-03 | R2: 0.9990\n"
     ]
    },
    {
     "name": "stderr",
     "output_type": "stream",
     "text": [
      "                                                                          \r"
     ]
    },
    {
     "name": "stdout",
     "output_type": "stream",
     "text": [
      "Epoch [57/100] | Train Loss: 2.1591e-04 | Val Loss: 2.8425e-06 | MAE: 1.2514e-03 | RMSE: 1.6860e-03 | R2: 0.9986\n"
     ]
    },
    {
     "name": "stderr",
     "output_type": "stream",
     "text": [
      "                                                                          \r"
     ]
    },
    {
     "name": "stdout",
     "output_type": "stream",
     "text": [
      "Epoch [58/100] | Train Loss: 2.1297e-04 | Val Loss: 4.3692e-06 | MAE: 1.5468e-03 | RMSE: 2.0903e-03 | R2: 0.9979\n"
     ]
    },
    {
     "name": "stderr",
     "output_type": "stream",
     "text": [
      "                                                                          \r"
     ]
    },
    {
     "name": "stdout",
     "output_type": "stream",
     "text": [
      "Epoch [59/100] | Train Loss: 2.1522e-04 | Val Loss: 4.3164e-06 | MAE: 1.6170e-03 | RMSE: 2.0776e-03 | R2: 0.9979\n"
     ]
    },
    {
     "name": "stderr",
     "output_type": "stream",
     "text": [
      "                                                                          \r"
     ]
    },
    {
     "name": "stdout",
     "output_type": "stream",
     "text": [
      "Epoch [60/100] | Train Loss: 2.1252e-04 | Val Loss: 1.3693e-05 | MAE: 2.8996e-03 | RMSE: 3.7004e-03 | R2: 0.9934\n"
     ]
    },
    {
     "name": "stderr",
     "output_type": "stream",
     "text": [
      "                                                                          \r"
     ]
    },
    {
     "name": "stdout",
     "output_type": "stream",
     "text": [
      "Epoch [61/100] | Train Loss: 2.1214e-04 | Val Loss: 1.4942e-05 | MAE: 3.4360e-03 | RMSE: 3.8655e-03 | R2: 0.9928\n"
     ]
    },
    {
     "name": "stderr",
     "output_type": "stream",
     "text": [
      "                                                                          \r"
     ]
    },
    {
     "name": "stdout",
     "output_type": "stream",
     "text": [
      "Epoch [62/100] | Train Loss: 2.1106e-04 | Val Loss: 1.9046e-06 | MAE: 1.0131e-03 | RMSE: 1.3801e-03 | R2: 0.9991\n"
     ]
    },
    {
     "name": "stderr",
     "output_type": "stream",
     "text": [
      "                                                                          \r"
     ]
    },
    {
     "name": "stdout",
     "output_type": "stream",
     "text": [
      "Epoch [63/100] | Train Loss: 2.0988e-04 | Val Loss: 3.4220e-06 | MAE: 1.3455e-03 | RMSE: 1.8499e-03 | R2: 0.9984\n"
     ]
    },
    {
     "name": "stderr",
     "output_type": "stream",
     "text": [
      "                                                                          \r"
     ]
    },
    {
     "name": "stdout",
     "output_type": "stream",
     "text": [
      "Epoch [64/100] | Train Loss: 2.0783e-04 | Val Loss: 1.0691e-05 | MAE: 2.5882e-03 | RMSE: 3.2697e-03 | R2: 0.9949\n"
     ]
    },
    {
     "name": "stderr",
     "output_type": "stream",
     "text": [
      "                                                                          \r"
     ]
    },
    {
     "name": "stdout",
     "output_type": "stream",
     "text": [
      "Epoch [65/100] | Train Loss: 2.0914e-04 | Val Loss: 3.0298e-06 | MAE: 1.2378e-03 | RMSE: 1.7406e-03 | R2: 0.9985\n"
     ]
    },
    {
     "name": "stderr",
     "output_type": "stream",
     "text": [
      "                                                                          \r"
     ]
    },
    {
     "name": "stdout",
     "output_type": "stream",
     "text": [
      "Epoch [66/100] | Train Loss: 2.0757e-04 | Val Loss: 2.6576e-05 | MAE: 4.1931e-03 | RMSE: 5.1552e-03 | R2: 0.9873\n"
     ]
    },
    {
     "name": "stderr",
     "output_type": "stream",
     "text": [
      "                                                                          \r"
     ]
    },
    {
     "name": "stdout",
     "output_type": "stream",
     "text": [
      "Epoch [67/100] | Train Loss: 2.0895e-04 | Val Loss: 3.1231e-06 | MAE: 1.3799e-03 | RMSE: 1.7672e-03 | R2: 0.9985\n"
     ]
    },
    {
     "name": "stderr",
     "output_type": "stream",
     "text": [
      "                                                                          \r"
     ]
    },
    {
     "name": "stdout",
     "output_type": "stream",
     "text": [
      "Epoch [68/100] | Train Loss: 2.0647e-04 | Val Loss: 7.4718e-06 | MAE: 2.1754e-03 | RMSE: 2.7335e-03 | R2: 0.9964\n"
     ]
    },
    {
     "name": "stderr",
     "output_type": "stream",
     "text": [
      "                                                                          \r"
     ]
    },
    {
     "name": "stdout",
     "output_type": "stream",
     "text": [
      "Epoch [69/100] | Train Loss: 2.0721e-04 | Val Loss: 1.8863e-06 | MAE: 9.9476e-04 | RMSE: 1.3734e-03 | R2: 0.9991\n"
     ]
    },
    {
     "name": "stderr",
     "output_type": "stream",
     "text": [
      "                                                                          \r"
     ]
    },
    {
     "name": "stdout",
     "output_type": "stream",
     "text": [
      "Epoch [70/100] | Train Loss: 2.0432e-04 | Val Loss: 1.3230e-06 | MAE: 7.8594e-04 | RMSE: 1.1502e-03 | R2: 0.9994\n"
     ]
    },
    {
     "name": "stderr",
     "output_type": "stream",
     "text": [
      "                                                                          \r"
     ]
    },
    {
     "name": "stdout",
     "output_type": "stream",
     "text": [
      "Epoch [71/100] | Train Loss: 2.0403e-04 | Val Loss: 3.2088e-06 | MAE: 1.3811e-03 | RMSE: 1.7913e-03 | R2: 0.9985\n"
     ]
    },
    {
     "name": "stderr",
     "output_type": "stream",
     "text": [
      "                                                                          \r"
     ]
    },
    {
     "name": "stdout",
     "output_type": "stream",
     "text": [
      "Epoch [72/100] | Train Loss: 2.0502e-04 | Val Loss: 8.7814e-06 | MAE: 2.4398e-03 | RMSE: 2.9633e-03 | R2: 0.9958\n"
     ]
    },
    {
     "name": "stderr",
     "output_type": "stream",
     "text": [
      "                                                                          \r"
     ]
    },
    {
     "name": "stdout",
     "output_type": "stream",
     "text": [
      "Epoch [73/100] | Train Loss: 2.0252e-04 | Val Loss: 1.2013e-05 | MAE: 2.9182e-03 | RMSE: 3.4659e-03 | R2: 0.9942\n"
     ]
    },
    {
     "name": "stderr",
     "output_type": "stream",
     "text": [
      "                                                                          \r"
     ]
    },
    {
     "name": "stdout",
     "output_type": "stream",
     "text": [
      "Epoch [74/100] | Train Loss: 2.0327e-04 | Val Loss: 7.4435e-06 | MAE: 2.1457e-03 | RMSE: 2.7283e-03 | R2: 0.9964\n"
     ]
    },
    {
     "name": "stderr",
     "output_type": "stream",
     "text": [
      "                                                                          \r"
     ]
    },
    {
     "name": "stdout",
     "output_type": "stream",
     "text": [
      "Epoch [75/100] | Train Loss: 2.0302e-04 | Val Loss: 4.9912e-06 | MAE: 1.6987e-03 | RMSE: 2.2341e-03 | R2: 0.9976\n"
     ]
    },
    {
     "name": "stderr",
     "output_type": "stream",
     "text": [
      "                                                                          \r"
     ]
    },
    {
     "name": "stdout",
     "output_type": "stream",
     "text": [
      "Epoch [76/100] | Train Loss: 2.0092e-04 | Val Loss: 1.0686e-05 | MAE: 2.8479e-03 | RMSE: 3.2690e-03 | R2: 0.9949\n"
     ]
    },
    {
     "name": "stderr",
     "output_type": "stream",
     "text": [
      "                                                                          \r"
     ]
    },
    {
     "name": "stdout",
     "output_type": "stream",
     "text": [
      "Epoch [77/100] | Train Loss: 2.0225e-04 | Val Loss: 1.1043e-05 | MAE: 2.7197e-03 | RMSE: 3.3230e-03 | R2: 0.9947\n"
     ]
    },
    {
     "name": "stderr",
     "output_type": "stream",
     "text": [
      "                                                                          \r"
     ]
    },
    {
     "name": "stdout",
     "output_type": "stream",
     "text": [
      "Epoch [78/100] | Train Loss: 2.0159e-04 | Val Loss: 5.3810e-06 | MAE: 1.9050e-03 | RMSE: 2.3197e-03 | R2: 0.9974\n"
     ]
    },
    {
     "name": "stderr",
     "output_type": "stream",
     "text": [
      "                                                                          \r"
     ]
    },
    {
     "name": "stdout",
     "output_type": "stream",
     "text": [
      "Epoch [79/100] | Train Loss: 2.0150e-04 | Val Loss: 1.7753e-06 | MAE: 1.0177e-03 | RMSE: 1.3324e-03 | R2: 0.9991\n"
     ]
    },
    {
     "name": "stderr",
     "output_type": "stream",
     "text": [
      "                                                                          \r"
     ]
    },
    {
     "name": "stdout",
     "output_type": "stream",
     "text": [
      "Epoch [80/100] | Train Loss: 2.0227e-04 | Val Loss: 1.2365e-05 | MAE: 2.6888e-03 | RMSE: 3.5164e-03 | R2: 0.9941\n"
     ]
    },
    {
     "name": "stderr",
     "output_type": "stream",
     "text": [
      "                                                                          \r"
     ]
    },
    {
     "name": "stdout",
     "output_type": "stream",
     "text": [
      "Epoch [81/100] | Train Loss: 1.9941e-04 | Val Loss: 5.4536e-06 | MAE: 1.7925e-03 | RMSE: 2.3353e-03 | R2: 0.9974\n"
     ]
    },
    {
     "name": "stderr",
     "output_type": "stream",
     "text": [
      "                                                                          \r"
     ]
    },
    {
     "name": "stdout",
     "output_type": "stream",
     "text": [
      "Epoch [82/100] | Train Loss: 1.9858e-04 | Val Loss: 1.6102e-05 | MAE: 3.0868e-03 | RMSE: 4.0127e-03 | R2: 0.9923\n"
     ]
    },
    {
     "name": "stderr",
     "output_type": "stream",
     "text": [
      "                                                                          \r"
     ]
    },
    {
     "name": "stdout",
     "output_type": "stream",
     "text": [
      "Epoch [83/100] | Train Loss: 2.0058e-04 | Val Loss: 5.2996e-06 | MAE: 1.8787e-03 | RMSE: 2.3021e-03 | R2: 0.9975\n"
     ]
    },
    {
     "name": "stderr",
     "output_type": "stream",
     "text": [
      "                                                                          \r"
     ]
    },
    {
     "name": "stdout",
     "output_type": "stream",
     "text": [
      "Epoch [84/100] | Train Loss: 1.9963e-04 | Val Loss: 1.6697e-05 | MAE: 3.1213e-03 | RMSE: 4.0861e-03 | R2: 0.9920\n"
     ]
    },
    {
     "name": "stderr",
     "output_type": "stream",
     "text": [
      "                                                                          \r"
     ]
    },
    {
     "name": "stdout",
     "output_type": "stream",
     "text": [
      "Epoch [85/100] | Train Loss: 1.9983e-04 | Val Loss: 3.5752e-06 | MAE: 1.4194e-03 | RMSE: 1.8908e-03 | R2: 0.9983\n",
      "Early stopping at epoch 85 because validation loss did not improve.\n"
     ]
    }
   ],
   "source": [
    "model = LSTMSOH(input_dim=4, hidden_dim=80, num_layers=5, dropout=0.5).type(torch.float32).to(device)\n",
    "optimizer = optim.Adam(model.parameters(), lr= 1.4296450393279462e-05, weight_decay=0.00012)\n",
    "criterion = nn.MSELoss()\n",
    "history, best_state = train_model(model, criterion, optimizer, train_loader, val_loader, num_epochs=100, patience=15)\n",
    "torch.save(best_state, \"best_model.pth\") "
   ]
  },
  {
   "cell_type": "code",
   "execution_count": 41,
   "metadata": {},
   "outputs": [
    {
     "data": {
      "application/vnd.jupyter.widget-view+json": {
       "model_id": "f81e9b4d2910446b8bf5db8694e23761",
       "version_major": 2,
       "version_minor": 0
      },
      "image/png": "[encoded data removed]",
      "text/html": [
       "\n",
       "            <div style=\"display: inline-block;\">\n",
       "                <div class=\"jupyter-widgets widget-label\" style=\"text-align: center;\">\n",
       "                    Figure\n",
       "                </div>\n",
       "                <img src='data:image/png;base64,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' width=1000.0/>\n",
       "            </div>\n",
       "        "
      ],
      "text/plain": [
       "Canvas(toolbar=Toolbar(toolitems=[('Home', 'Reset original view', 'home', 'home'), ('Back', 'Back to previous …"
      ]
     },
     "metadata": {},
     "output_type": "display_data"
    }
   ],
   "source": [
    "# Plot training history\n",
    "plt.figure(figsize=(10, 5))\n",
    "plt.semilogy(history['train_loss'], label='Train Loss')\n",
    "plt.semilogy(history['val_loss'], label='Validation Loss')\n",
    "plt.xlabel('Epoch')\n",
    "plt.ylabel('Loss')\n",
    "plt.title('Training and Validation Loss Over Epochs')\n",
    "plt.legend()\n",
    "plt.grid(True)\n",
    "plt.show()\n"
   ]
  },
  {
   "cell_type": "code",
   "execution_count": null,
   "metadata": {},
   "outputs": [],
   "source": [
    "# Example usage:\n",
    "def objective(trial):\n",
    "    # Suggest hyperparameters\n",
    "    hidden_size = trial.suggest_int('hidden_size', 32, 256, step = 16)\n",
    "    num_layers = trial.suggest_int('num_layers', 2, 5)\n",
    "    learning_rate = trial.suggest_float('learning_rate', 1e-5, 1e-1, log=True)\n",
    "    dropout = trial.suggest_float('dropout', 0.1,0.5)\n",
    "    weight_decay= trial.suggest_float('weight_decay',1e-5,1e-1, log=True)\n",
    "    \n",
    "    seed_len = trial.suggest_int('seed_len', 12, 128)\n",
    "    pred_len = trial.suggest_int('pred_len', 1, 20)\n",
    "    batch_size = trial.suggest_int('batch_size', 16, 64, step = 8)\n",
    "    \n",
    "    train_dataset = SequenceDataset(train_scaled, seed_len=seed_len, pred_len=pred_len)\n",
    "    val_dataset = SequenceDataset(val_scaled, seed_len=seed_len, pred_len=pred_len)\n",
    "    \n",
    "    train_loader = DataLoader(train_dataset, batch_size=batch_size, shuffle=True, drop_last=True)\n",
    "    val_loader = DataLoader(val_dataset, batch_size=batch_size, shuffle=False, drop_last=True)\n",
    "    \n",
    "    # Instantiate model with suggested hyperparameters\n",
    "    model = LSTMSOH(input_dim=4, hidden_dim=hidden_size, num_layers=num_layers, dropout=dropout).type(torch.float32).to(device)\n",
    "    criterion = nn.MSELoss()\n",
    "    optimizer = optim.Adam(model.parameters(), lr=learning_rate, weight_decay=weight_decay) #L2 regularization\n",
    "    history, _ = train_model(model, criterion, optimizer, train_loader, val_loader)\n",
    "\n",
    "    # Extract last validation loss\n",
    "    last_val_loss = history['val_loss'][-1]\n",
    "    return last_val_loss\n",
    "\n",
    "    # Optuna study\n",
    "study = optuna.create_study(direction='minimize')\n",
    "study.optimize(objective, n_trials=100)\n",
    "\n",
    "# Extract best trial\n",
    "best_trial = study.best_trial\n",
    "print(f\"Best trial: {best_trial}\")\n",
    "\n",
    "best_hyperparams = study.best_trial.params\n",
    "print('Best hyperparameters:', best_hyperparams)"
   ]
  },
  {
   "cell_type": "code",
   "execution_count": 45,
   "metadata": {},
   "outputs": [
    {
     "name": "stdout",
     "output_type": "stream",
     "text": [
      "R2:0.99737 | MAE: 1.65564e-03| RMSE:2.04573e-03\n"
     ]
    }
   ],
   "source": [
    "### predict_autoregressive\n",
    "def evaluate_model(model, test_loader):\n",
    "    model.eval()\n",
    "    # Copy the data for the specified input columns, ensuring the original df is not modified\n",
    "    all_preds = []\n",
    "    all_targets = []\n",
    "\n",
    "    with torch.no_grad():\n",
    "        for X_test, Y_test in test_loader:\n",
    "            X_test = X_test.to(device)\n",
    "            Y_test = Y_test.to(device)\n",
    "            batch_size, seed_len, num_features = X_test.shape\n",
    "            pred_len = Y_test.shape[1]\n",
    "            \n",
    "            current_seq = X_test.clone()\n",
    "            preds_steps = []\n",
    "            \n",
    "            for t in range(pred_len):\n",
    "                pred = model(current_seq) \n",
    "                preds_steps.append(pred.unsqueeze(1))\n",
    "                \n",
    "                next_input = current_seq[:, -1, :].clone()\n",
    "                \n",
    "                next_input[:, 0] = pred\n",
    "                current_seq = torch.cat([current_seq[:, 1:, :], next_input.unsqueeze(1)], dim=1)\n",
    "            \n",
    "            preds_steps = torch.cat(preds_steps, dim=1)  # (batch_size, pred_len)         \n",
    "            all_preds.append(preds_steps.cpu().numpy())\n",
    "            all_targets.append(Y_test.cpu().numpy())\n",
    "            \n",
    "    all_preds = np.concatenate(all_preds, axis=0)\n",
    "    all_targets = np.concatenate(all_targets, axis=0)\n",
    "    r2 = r2_score(all_targets, all_preds)\n",
    "    mae = mean_absolute_error(all_targets, all_preds)\n",
    "    rmse = np.sqrt(mean_squared_error(all_targets, all_preds))\n",
    "    print(f\"R2:{r2:.5f} | MAE: {mae:.5e}| RMSE:{rmse:.5e}\")\n",
    "    \n",
    "    return all_preds, all_targets, r2, mae, rmse\n",
    "    \n",
    "all_preds, all_targets, r2, mae, rmse = evaluate_model(model, test_loader)\n"
   ]
  },
  {
   "cell_type": "code",
   "execution_count": 44,
   "metadata": {},
   "outputs": [
    {
     "name": "stdout",
     "output_type": "stream",
     "text": [
      "R2:0.99737 | MAE: 1.65564e-03| RMSE:2.04573e-03\n"
     ]
    },
    {
     "data": {
      "application/vnd.jupyter.widget-view+json": {
       "model_id": "c7d0ccecc70247098aae374e3814ae90",
       "version_major": 2,
       "version_minor": 0
      },
      "image/png": "[encoded data removed]",
      "text/html": [
       "\n",
       "            <div style=\"display: inline-block;\">\n",
       "                <div class=\"jupyter-widgets widget-label\" style=\"text-align: center;\">\n",
       "                    Figure\n",
       "                </div>\n",
       "                <img src='data:image/png;base64,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' width=1000.0/>\n",
       "            </div>\n",
       "        "
      ],
      "text/plain": [
       "Canvas(toolbar=Toolbar(toolitems=[('Home', 'Reset original view', 'home', 'home'), ('Back', 'Back to previous …"
      ]
     },
     "metadata": {},
     "output_type": "display_data"
    }
   ],
   "source": [
    "plt.figure(figsize=(10, 5))\n",
    "plt.plot(all_targets[:, 0], label=\"Ground Truth SOH\")\n",
    "plt.plot(all_preds[:, 0], label=\"Predicted SOH\")\n",
    "plt.title(\"Autoregressive SOH-Estimation - Test \")\n",
    "plt.text(0.5, 0.95, f\"R2:{r2:.5f} | MAE: {mae:.5e}| RMSE:{rmse:.5e}\", \n",
    "         horizontalalignment='center', transform=plt.gca().transAxes)\n",
    "print(f\"R2:{r2:.5f} | MAE: {mae:.5e}| RMSE:{rmse:.5e}\")\n",
    "plt.xlabel(\"Samples\")\n",
    "plt.ylabel(\"SOH\")\n",
    "plt.legend()\n",
    "plt.tight_layout()\n",
    "plt.show()\n"
   ]
  },
  {
   "cell_type": "code",
   "execution_count": null,
   "metadata": {},
   "outputs": [],
   "source": []
  }
 ],
 "metadata": {
  "kernelspec": {
   "display_name": "ML",
   "language": "python",
   "name": "python3"
  },
  "language_info": {
   "codemirror_mode": {
    "name": "ipython",
    "version": 3
   },
   "file_extension": ".py",
   "mimetype": "text/x-python",
   "name": "python",
   "nbconvert_exporter": "python",
   "pygments_lexer": "ipython3",
   "version": "3.9.18"
  }
 },
 "nbformat": 4,
 "nbformat_minor": 2
}
