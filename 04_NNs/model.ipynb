{
 "cells": [
  {
   "cell_type": "code",
   "execution_count": 2,
   "metadata": {},
   "outputs": [
    {
     "name": "stdout",
     "output_type": "stream",
     "text": [
      "The autoreload extension is already loaded. To reload it, use:\n",
      "  %reload_ext autoreload\n"
     ]
    }
   ],
   "source": [
    "%load_ext autoreload\n",
    "%autoreload 2\n",
    "%matplotlib widget\n",
    "from data_processing import *\n",
    "\n",
    "from sklearn.metrics import mean_absolute_error, r2_score,mean_squared_error\n",
    "import torch\n",
    "import torch.optim as optim\n",
    "import torch.nn as nn\n",
    "from torch.utils.data import Dataset, DataLoader\n",
    "import optuna\n",
    "\n",
    "import numpy as np\n",
    "from tqdm import tqdm\n",
    "import copy\n",
    "\n",
    "device = torch.device(\"cuda\" if torch.cuda.is_available() else \"cpu\")\n"
   ]
  },
  {
   "cell_type": "code",
   "execution_count": 3,
   "metadata": {},
   "outputs": [
    {
     "name": "stdout",
     "output_type": "stream",
     "text": [
      "Found 15 parquet files\n"
     ]
    },
    {
     "name": "stderr",
     "output_type": "stream",
     "text": [
      "Processing cells:   0%|          | 0/15 [00:00<?, ?cell/s]"
     ]
    },
    {
     "name": "stdout",
     "output_type": "stream",
     "text": [
      "Processing C01 ...\n"
     ]
    },
    {
     "name": "stderr",
     "output_type": "stream",
     "text": [
      "Processing cells:   7%|▋         | 1/15 [00:15<03:38, 15.64s/cell]"
     ]
    },
    {
     "name": "stdout",
     "output_type": "stream",
     "text": [
      "Processing C03 ...\n"
     ]
    },
    {
     "name": "stderr",
     "output_type": "stream",
     "text": [
      "Processing cells:  13%|█▎        | 2/15 [00:24<02:28, 11.45s/cell]"
     ]
    },
    {
     "name": "stdout",
     "output_type": "stream",
     "text": [
      "Processing C05 ...\n"
     ]
    },
    {
     "name": "stderr",
     "output_type": "stream",
     "text": [
      "Processing cells:  20%|██        | 3/15 [00:31<01:55,  9.64s/cell]"
     ]
    },
    {
     "name": "stdout",
     "output_type": "stream",
     "text": [
      "Processing C07 ...\n"
     ]
    },
    {
     "name": "stderr",
     "output_type": "stream",
     "text": [
      "Processing cells:  27%|██▋       | 4/15 [00:39<01:38,  8.99s/cell]"
     ]
    },
    {
     "name": "stdout",
     "output_type": "stream",
     "text": [
      "Processing C09 ...\n"
     ]
    },
    {
     "name": "stderr",
     "output_type": "stream",
     "text": [
      "Processing cells:  33%|███▎      | 5/15 [00:44<01:16,  7.61s/cell]"
     ]
    },
    {
     "name": "stdout",
     "output_type": "stream",
     "text": [
      "Processing C11 ...\n"
     ]
    },
    {
     "name": "stderr",
     "output_type": "stream",
     "text": [
      "Processing cells:  40%|████      | 6/15 [00:49<01:01,  6.78s/cell]"
     ]
    },
    {
     "name": "stdout",
     "output_type": "stream",
     "text": [
      "Processing C13 ...\n"
     ]
    },
    {
     "name": "stderr",
     "output_type": "stream",
     "text": [
      "Processing cells:  47%|████▋     | 7/15 [00:52<00:42,  5.27s/cell]"
     ]
    },
    {
     "name": "stdout",
     "output_type": "stream",
     "text": [
      "Processing C15 ...\n"
     ]
    },
    {
     "name": "stderr",
     "output_type": "stream",
     "text": [
      "Processing cells:  53%|█████▎    | 8/15 [00:54<00:30,  4.42s/cell]"
     ]
    },
    {
     "name": "stdout",
     "output_type": "stream",
     "text": [
      "Processing C17 ...\n"
     ]
    },
    {
     "name": "stderr",
     "output_type": "stream",
     "text": [
      "Processing cells:  60%|██████    | 9/15 [01:03<00:35,  5.86s/cell]"
     ]
    },
    {
     "name": "stdout",
     "output_type": "stream",
     "text": [
      "Processing C19 ...\n"
     ]
    },
    {
     "name": "stderr",
     "output_type": "stream",
     "text": [
      "Processing cells:  67%|██████▋   | 10/15 [01:11<00:32,  6.53s/cell]"
     ]
    },
    {
     "name": "stdout",
     "output_type": "stream",
     "text": [
      "Processing C21 ...\n"
     ]
    },
    {
     "name": "stderr",
     "output_type": "stream",
     "text": [
      "Processing cells:  73%|███████▎  | 11/15 [01:19<00:28,  7.02s/cell]"
     ]
    },
    {
     "name": "stdout",
     "output_type": "stream",
     "text": [
      "Processing C23 ...\n"
     ]
    },
    {
     "name": "stderr",
     "output_type": "stream",
     "text": [
      "Processing cells:  80%|████████  | 12/15 [01:28<00:22,  7.61s/cell]"
     ]
    },
    {
     "name": "stdout",
     "output_type": "stream",
     "text": [
      "Processing C25 ...\n"
     ]
    },
    {
     "name": "stderr",
     "output_type": "stream",
     "text": [
      "Processing cells:  87%|████████▋ | 13/15 [01:34<00:13,  6.97s/cell]"
     ]
    },
    {
     "name": "stdout",
     "output_type": "stream",
     "text": [
      "Processing C27 ...\n"
     ]
    },
    {
     "name": "stderr",
     "output_type": "stream",
     "text": [
      "Processing cells:  93%|█████████▎| 14/15 [01:42<00:07,  7.21s/cell]"
     ]
    },
    {
     "name": "stdout",
     "output_type": "stream",
     "text": [
      "Processing C29 ...\n"
     ]
    },
    {
     "name": "stderr",
     "output_type": "stream",
     "text": [
      "Processing cells: 100%|██████████| 15/15 [01:47<00:00,  7.18s/cell]\n"
     ]
    }
   ],
   "source": [
    "### Load data\n",
    "data_dir = \"../01_Datenaufbereitung/Output/Calculated/\"\n",
    "all_data = load_data(data_dir)\n"
   ]
  },
  {
   "cell_type": "code",
   "execution_count": 6,
   "metadata": {},
   "outputs": [
    {
     "name": "stdout",
     "output_type": "stream",
     "text": [
      "Cell split completed:\n",
      "Training set: 13 cells\n",
      "Validation set: 1 cells\n",
      "Test set: 1 cells\n",
      "Final dataset sizes:\n",
      "Training set: 48609 rows (split into 65 parts)\n",
      "Validation set: 4561 rows from 1 cells\n",
      "Test set: 4602 rows from 1 cells\n"
     ]
    }
   ],
   "source": [
    "train_df, val_df, test_df = split_data(all_data, train=13, val=1, test=1,parts = 5)\n",
    "train_scaled, val_scaled, test_scaled = scale_data(train_df, val_df, test_df)"
   ]
  },
  {
   "cell_type": "code",
   "execution_count": null,
   "metadata": {},
   "outputs": [],
   "source": [
    "### Visualize data\n",
    "# visualize_data(all_data)\n",
    "# inspect_data_ranges(all_data)\n",
    "# inspect_data_ranges(train_scaled)\n",
    "# plot_dataset_soh(train_df, \"Train\")\n",
    "# plot_dataset_soh(val_df, \"Validation\")\n",
    "# plot_dataset_soh(test_df, \"Test\")"
   ]
  },
  {
   "cell_type": "code",
   "execution_count": 29,
   "metadata": {},
   "outputs": [],
   "source": [
    "class SequenceDataset(Dataset):\n",
    "    def __init__(self, df, seed_len=72, pred_len=5):\n",
    "        self.seed_len = seed_len\n",
    "        self.pred_len = pred_len\n",
    "        \n",
    "        # 分离特征和目标\n",
    "        self.covariates = df[['Current[A]', 'Voltage[V]', 'Temperature[°C]']].values\n",
    "        self.soh = df['SOH_ZHU'].values\n",
    "\n",
    "    def __len__(self):\n",
    "        return len(self.covariates) - (self.seed_len + self.pred_len)\n",
    "\n",
    "    def __getitem__(self, idx):\n",
    "        # 协变量序列\n",
    "        x_covariates = self.covariates[idx:idx + self.seed_len]\n",
    "        # SOH历史序列\n",
    "        x_soh = self.soh[idx:idx + self.seed_len]\n",
    "        # 目标SOH序列\n",
    "        y_seq = self.soh[idx + self.seed_len:idx + self.seed_len + self.pred_len]\n",
    "\n",
    "        return {\n",
    "            'covariates': torch.tensor(x_covariates, dtype=torch.float32),\n",
    "            'soh_history': torch.tensor(x_soh, dtype=torch.float32),\n",
    "            'target': torch.tensor(y_seq, dtype=torch.float32)\n",
    "        }\n",
    "\n",
    "# 创建数据加载器\n",
    "seq_length = 72\n",
    "pred_len = 5\n",
    "batch_size = 32\n",
    "\n",
    "train_dataset = SequenceDataset(train_scaled, seed_len=seq_length, pred_len=pred_len)\n",
    "val_dataset = SequenceDataset(val_scaled, seed_len=seq_length, pred_len=pred_len)\n",
    "test_dataset = SequenceDataset(test_scaled, seed_len=seq_length, pred_len=pred_len)\n",
    "\n",
    "train_loader = DataLoader(train_dataset, batch_size=batch_size, shuffle=True, drop_last=True)\n",
    "val_loader = DataLoader(val_dataset, batch_size=batch_size, shuffle=False, drop_last=True)\n",
    "test_loader = DataLoader(test_dataset, batch_size=batch_size, shuffle=False, drop_last=True)\n"
   ]
  },
  {
   "cell_type": "code",
   "execution_count": 30,
   "metadata": {},
   "outputs": [],
   "source": [
    "class LSTMSOH(nn.Module):\n",
    "    def __init__(self, covariate_dim=3, hidden_dim=128, num_layers=3, dropout=0.3, pred_len=5):\n",
    "        super(LSTMSOH, self).__init__()\n",
    "        self.hidden_dim = hidden_dim\n",
    "        self.num_layers = num_layers\n",
    "        self.dropout = dropout\n",
    "        self.pred_len = pred_len\n",
    "        \n",
    "        # 协变量编码器\n",
    "        self.covariate_encoder = nn.LSTM(\n",
    "            covariate_dim, hidden_dim, num_layers,\n",
    "            batch_first=True, dropout=dropout,\n",
    "            bidirectional=True\n",
    "        )\n",
    "        \n",
    "        # SOH历史编码器\n",
    "        self.soh_encoder = nn.LSTM(\n",
    "            1, hidden_dim, num_layers,\n",
    "            batch_first=True, dropout=dropout,\n",
    "            bidirectional=True\n",
    "        )\n",
    "        \n",
    "        # 注意力层\n",
    "        self.attention = nn.Sequential(\n",
    "            nn.Linear(hidden_dim * 2, hidden_dim),\n",
    "            nn.Tanh(),\n",
    "            nn.Linear(hidden_dim, 1)\n",
    "        )\n",
    "        \n",
    "        # 预测器\n",
    "        self.predictor = nn.Sequential(\n",
    "            nn.Linear(hidden_dim * 2, hidden_dim),\n",
    "            nn.ReLU(),\n",
    "            nn.Dropout(dropout),\n",
    "            nn.Linear(hidden_dim, pred_len)\n",
    "        )\n",
    "        \n",
    "    def forward(self, covariates, soh_history=None, teacher_forcing_ratio=0.0):\n",
    "        batch_size = covariates.size(0)\n",
    "        \n",
    "        # 编码协变量\n",
    "        h0_cov = torch.zeros(self.num_layers * 2, batch_size, self.hidden_dim, device=covariates.device)\n",
    "        c0_cov = torch.zeros(self.num_layers * 2, batch_size, self.hidden_dim, device=covariates.device)\n",
    "        cov_out, _ = self.covariate_encoder(covariates, (h0_cov, c0_cov))\n",
    "        \n",
    "        if soh_history is not None and (teacher_forcing_ratio > 0 or self.training):\n",
    "            # 编码SOH历史\n",
    "            soh_history = soh_history.unsqueeze(-1)  # 添加特征维度\n",
    "            h0_soh = torch.zeros(self.num_layers * 2, batch_size, self.hidden_dim, device=covariates.device)\n",
    "            c0_soh = torch.zeros(self.num_layers * 2, batch_size, self.hidden_dim, device=covariates.device)\n",
    "            soh_out, _ = self.soh_encoder(soh_history, (h0_soh, c0_soh))\n",
    "            \n",
    "            # 结合两种特征\n",
    "            combined_features = torch.cat([cov_out, soh_out], dim=-1)\n",
    "        else:\n",
    "            # 仅使用协变量特征\n",
    "            combined_features = cov_out\n",
    "            \n",
    "        # 注意力机制\n",
    "        attention_weights = self.attention(combined_features)\n",
    "        attention_weights = torch.softmax(attention_weights, dim=1)\n",
    "        context = torch.bmm(attention_weights.transpose(1, 2), combined_features)\n",
    "        \n",
    "        # 预测\n",
    "        predictions = self.predictor(context.squeeze(1))\n",
    "        \n",
    "        return predictions\n"
   ]
  },
  {
   "cell_type": "code",
   "execution_count": 27,
   "metadata": {},
   "outputs": [],
   "source": [
    "def train_model(model, criterion, optimizer, train_loader, val_loader, num_epochs=50, patience=10):\n",
    "    device = torch.device(\"cuda\" if torch.cuda.is_available() else \"cpu\")\n",
    "    model.to(device)\n",
    "    \n",
    "    history = {'train_loss': [], 'val_loss': [], 'val_mae': [], 'val_rmse': [], 'val_r2': []}\n",
    "    \n",
    "    best_val_loss = float('inf')\n",
    "    best_model_state = None\n",
    "    epochs_no_improve = 0\n",
    "    \n",
    "    for epoch in range(num_epochs):\n",
    "        # 计算teacher forcing比率（随着训练进行逐渐减小）\n",
    "        teacher_forcing_ratio = max(0, 1 - (epoch / (num_epochs * 0.7)))\n",
    "        \n",
    "        # Training Loop\n",
    "        model.train()\n",
    "        train_losses = []\n",
    "        \n",
    "        for batch in tqdm(train_loader, desc=f\"Epoch {epoch+1}/{num_epochs} Training\", leave=False):\n",
    "            covariates = batch['covariates'].to(device)\n",
    "            soh_history = batch['soh_history'].to(device)\n",
    "            targets = batch['target'].to(device)\n",
    "            \n",
    "            # 使用teacher forcing进行预测\n",
    "            predictions = model(\n",
    "                covariates=covariates,\n",
    "                soh_history=soh_history,\n",
    "                teacher_forcing_ratio=teacher_forcing_ratio\n",
    "            )\n",
    "            \n",
    "            loss = criterion(predictions, targets)\n",
    "            \n",
    "            optimizer.zero_grad()\n",
    "            loss.backward()\n",
    "            optimizer.step()\n",
    "            \n",
    "            train_losses.append(loss.item())\n",
    "        \n",
    "        mean_train_loss = np.mean(train_losses)\n",
    "        history['train_loss'].append(mean_train_loss)\n",
    "        \n",
    "        # Validation Loop\n",
    "        model.eval()\n",
    "        val_losses = []\n",
    "        all_preds = []\n",
    "        all_targets = []\n",
    "        \n",
    "        with torch.no_grad():\n",
    "            for batch in val_loader:\n",
    "                covariates = batch['covariates'].to(device)\n",
    "                targets = batch['target'].to(device)\n",
    "                \n",
    "                # 验证时只使用协变量进行预测\n",
    "                predictions = model(\n",
    "                    covariates=covariates,\n",
    "                    soh_history=None,  # 不使用SOH历史\n",
    "                    teacher_forcing_ratio=0.0\n",
    "                )\n",
    "                \n",
    "                val_loss = criterion(predictions, targets)\n",
    "                val_losses.append(val_loss.item())\n",
    "                \n",
    "                all_preds.append(predictions.cpu().numpy())\n",
    "                all_targets.append(targets.cpu().numpy())\n",
    "        \n",
    "        # 计算验证指标\n",
    "        mean_val_loss = np.mean(val_losses)\n",
    "        all_preds = np.concatenate(all_preds, axis=0)\n",
    "        all_targets = np.concatenate(all_targets, axis=0)\n",
    "        \n",
    "        mae = mean_absolute_error(all_targets, all_preds)\n",
    "        rmse = np.sqrt(mean_squared_error(all_targets, all_preds))\n",
    "        r2 = r2_score(all_targets.flatten(), all_preds.flatten())\n",
    "        \n",
    "        history['val_loss'].append(mean_val_loss)\n",
    "        history['val_mae'].append(mae)\n",
    "        history['val_rmse'].append(rmse)\n",
    "        history['val_r2'].append(r2)\n",
    "        \n",
    "        print(f\"Epoch [{epoch+1}/{num_epochs}] | \"\n",
    "              f\"TF Ratio: {teacher_forcing_ratio:.2f} | \"\n",
    "              f\"Train Loss: {mean_train_loss:.4e} | \"\n",
    "              f\"Val Loss: {mean_val_loss:.4e} | \"\n",
    "              f\"MAE: {mae:.4e} | RMSE: {rmse:.4e} | \"\n",
    "              f\"R2: {r2:.4f}\")\n",
    "        \n",
    "        # Early Stopping\n",
    "        if mean_val_loss < best_val_loss:\n",
    "            best_val_loss = mean_val_loss\n",
    "            best_model_state = copy.deepcopy(model.state_dict())\n",
    "            epochs_no_improve = 0\n",
    "        else:\n",
    "            epochs_no_improve += 1\n",
    "            if epochs_no_improve >= patience:\n",
    "                print(f\"Early stopping at epoch {epoch+1}\")\n",
    "                break\n",
    "    \n",
    "    return history, best_model_state\n"
   ]
  },
  {
   "cell_type": "code",
   "execution_count": 31,
   "metadata": {},
   "outputs": [
    {
     "name": "stderr",
     "output_type": "stream",
     "text": [
      "                                                             \r"
     ]
    },
    {
     "ename": "RuntimeError",
     "evalue": "mat1 and mat2 shapes cannot be multiplied (2304x512 and 256x128)",
     "output_type": "error",
     "traceback": [
      "\u001b[1;31m---------------------------------------------------------------------------\u001b[0m",
      "\u001b[1;31mRuntimeError\u001b[0m                              Traceback (most recent call last)",
      "Cell \u001b[1;32mIn[31], line 13\u001b[0m\n\u001b[0;32m     10\u001b[0m criterion \u001b[38;5;241m=\u001b[39m nn\u001b[38;5;241m.\u001b[39mMSELoss()\n\u001b[0;32m     12\u001b[0m \u001b[38;5;66;03m# 训练模型\u001b[39;00m\n\u001b[1;32m---> 13\u001b[0m history, best_state \u001b[38;5;241m=\u001b[39m \u001b[43mtrain_model\u001b[49m\u001b[43m(\u001b[49m\n\u001b[0;32m     14\u001b[0m \u001b[43m    \u001b[49m\u001b[43mmodel\u001b[49m\u001b[38;5;241;43m=\u001b[39;49m\u001b[43mmodel\u001b[49m\u001b[43m,\u001b[49m\n\u001b[0;32m     15\u001b[0m \u001b[43m    \u001b[49m\u001b[43mcriterion\u001b[49m\u001b[38;5;241;43m=\u001b[39;49m\u001b[43mcriterion\u001b[49m\u001b[43m,\u001b[49m\n\u001b[0;32m     16\u001b[0m \u001b[43m    \u001b[49m\u001b[43moptimizer\u001b[49m\u001b[38;5;241;43m=\u001b[39;49m\u001b[43moptimizer\u001b[49m\u001b[43m,\u001b[49m\n\u001b[0;32m     17\u001b[0m \u001b[43m    \u001b[49m\u001b[43mtrain_loader\u001b[49m\u001b[38;5;241;43m=\u001b[39;49m\u001b[43mtrain_loader\u001b[49m\u001b[43m,\u001b[49m\n\u001b[0;32m     18\u001b[0m \u001b[43m    \u001b[49m\u001b[43mval_loader\u001b[49m\u001b[38;5;241;43m=\u001b[39;49m\u001b[43mval_loader\u001b[49m\u001b[43m,\u001b[49m\n\u001b[0;32m     19\u001b[0m \u001b[43m    \u001b[49m\u001b[43mnum_epochs\u001b[49m\u001b[38;5;241;43m=\u001b[39;49m\u001b[38;5;241;43m50\u001b[39;49m\u001b[43m,\u001b[49m\n\u001b[0;32m     20\u001b[0m \u001b[43m    \u001b[49m\u001b[43mpatience\u001b[49m\u001b[38;5;241;43m=\u001b[39;49m\u001b[38;5;241;43m10\u001b[39;49m\n\u001b[0;32m     21\u001b[0m \u001b[43m)\u001b[49m\n\u001b[0;32m     23\u001b[0m \u001b[38;5;66;03m# 保存最佳模型\u001b[39;00m\n\u001b[0;32m     24\u001b[0m torch\u001b[38;5;241m.\u001b[39msave(best_state, \u001b[38;5;124m\"\u001b[39m\u001b[38;5;124mbest_model.pth\u001b[39m\u001b[38;5;124m\"\u001b[39m)\n",
      "Cell \u001b[1;32mIn[27], line 25\u001b[0m, in \u001b[0;36mtrain_model\u001b[1;34m(model, criterion, optimizer, train_loader, val_loader, num_epochs, patience)\u001b[0m\n\u001b[0;32m     22\u001b[0m targets \u001b[38;5;241m=\u001b[39m batch[\u001b[38;5;124m'\u001b[39m\u001b[38;5;124mtarget\u001b[39m\u001b[38;5;124m'\u001b[39m]\u001b[38;5;241m.\u001b[39mto(device)\n\u001b[0;32m     24\u001b[0m \u001b[38;5;66;03m# 使用teacher forcing进行预测\u001b[39;00m\n\u001b[1;32m---> 25\u001b[0m predictions \u001b[38;5;241m=\u001b[39m \u001b[43mmodel\u001b[49m\u001b[43m(\u001b[49m\n\u001b[0;32m     26\u001b[0m \u001b[43m    \u001b[49m\u001b[43mcovariates\u001b[49m\u001b[38;5;241;43m=\u001b[39;49m\u001b[43mcovariates\u001b[49m\u001b[43m,\u001b[49m\n\u001b[0;32m     27\u001b[0m \u001b[43m    \u001b[49m\u001b[43msoh_history\u001b[49m\u001b[38;5;241;43m=\u001b[39;49m\u001b[43msoh_history\u001b[49m\u001b[43m,\u001b[49m\n\u001b[0;32m     28\u001b[0m \u001b[43m    \u001b[49m\u001b[43mteacher_forcing_ratio\u001b[49m\u001b[38;5;241;43m=\u001b[39;49m\u001b[43mteacher_forcing_ratio\u001b[49m\n\u001b[0;32m     29\u001b[0m \u001b[43m\u001b[49m\u001b[43m)\u001b[49m\n\u001b[0;32m     31\u001b[0m loss \u001b[38;5;241m=\u001b[39m criterion(predictions, targets)\n\u001b[0;32m     33\u001b[0m optimizer\u001b[38;5;241m.\u001b[39mzero_grad()\n",
      "File \u001b[1;32mc:\\Users\\zzhuqshun\\.conda\\envs\\ML\\lib\\site-packages\\torch\\nn\\modules\\module.py:1553\u001b[0m, in \u001b[0;36mModule._wrapped_call_impl\u001b[1;34m(self, *args, **kwargs)\u001b[0m\n\u001b[0;32m   1551\u001b[0m     \u001b[38;5;28;01mreturn\u001b[39;00m \u001b[38;5;28mself\u001b[39m\u001b[38;5;241m.\u001b[39m_compiled_call_impl(\u001b[38;5;241m*\u001b[39margs, \u001b[38;5;241m*\u001b[39m\u001b[38;5;241m*\u001b[39mkwargs)  \u001b[38;5;66;03m# type: ignore[misc]\u001b[39;00m\n\u001b[0;32m   1552\u001b[0m \u001b[38;5;28;01melse\u001b[39;00m:\n\u001b[1;32m-> 1553\u001b[0m     \u001b[38;5;28;01mreturn\u001b[39;00m \u001b[38;5;28mself\u001b[39m\u001b[38;5;241m.\u001b[39m_call_impl(\u001b[38;5;241m*\u001b[39margs, \u001b[38;5;241m*\u001b[39m\u001b[38;5;241m*\u001b[39mkwargs)\n",
      "File \u001b[1;32mc:\\Users\\zzhuqshun\\.conda\\envs\\ML\\lib\\site-packages\\torch\\nn\\modules\\module.py:1562\u001b[0m, in \u001b[0;36mModule._call_impl\u001b[1;34m(self, *args, **kwargs)\u001b[0m\n\u001b[0;32m   1557\u001b[0m \u001b[38;5;66;03m# If we don't have any hooks, we want to skip the rest of the logic in\u001b[39;00m\n\u001b[0;32m   1558\u001b[0m \u001b[38;5;66;03m# this function, and just call forward.\u001b[39;00m\n\u001b[0;32m   1559\u001b[0m \u001b[38;5;28;01mif\u001b[39;00m \u001b[38;5;129;01mnot\u001b[39;00m (\u001b[38;5;28mself\u001b[39m\u001b[38;5;241m.\u001b[39m_backward_hooks \u001b[38;5;129;01mor\u001b[39;00m \u001b[38;5;28mself\u001b[39m\u001b[38;5;241m.\u001b[39m_backward_pre_hooks \u001b[38;5;129;01mor\u001b[39;00m \u001b[38;5;28mself\u001b[39m\u001b[38;5;241m.\u001b[39m_forward_hooks \u001b[38;5;129;01mor\u001b[39;00m \u001b[38;5;28mself\u001b[39m\u001b[38;5;241m.\u001b[39m_forward_pre_hooks\n\u001b[0;32m   1560\u001b[0m         \u001b[38;5;129;01mor\u001b[39;00m _global_backward_pre_hooks \u001b[38;5;129;01mor\u001b[39;00m _global_backward_hooks\n\u001b[0;32m   1561\u001b[0m         \u001b[38;5;129;01mor\u001b[39;00m _global_forward_hooks \u001b[38;5;129;01mor\u001b[39;00m _global_forward_pre_hooks):\n\u001b[1;32m-> 1562\u001b[0m     \u001b[38;5;28;01mreturn\u001b[39;00m forward_call(\u001b[38;5;241m*\u001b[39margs, \u001b[38;5;241m*\u001b[39m\u001b[38;5;241m*\u001b[39mkwargs)\n\u001b[0;32m   1564\u001b[0m \u001b[38;5;28;01mtry\u001b[39;00m:\n\u001b[0;32m   1565\u001b[0m     result \u001b[38;5;241m=\u001b[39m \u001b[38;5;28;01mNone\u001b[39;00m\n",
      "Cell \u001b[1;32mIn[30], line 60\u001b[0m, in \u001b[0;36mLSTMSOH.forward\u001b[1;34m(self, covariates, soh_history, teacher_forcing_ratio)\u001b[0m\n\u001b[0;32m     57\u001b[0m     combined_features \u001b[38;5;241m=\u001b[39m cov_out\n\u001b[0;32m     59\u001b[0m \u001b[38;5;66;03m# 注意力机制\u001b[39;00m\n\u001b[1;32m---> 60\u001b[0m attention_weights \u001b[38;5;241m=\u001b[39m \u001b[38;5;28;43mself\u001b[39;49m\u001b[38;5;241;43m.\u001b[39;49m\u001b[43mattention\u001b[49m\u001b[43m(\u001b[49m\u001b[43mcombined_features\u001b[49m\u001b[43m)\u001b[49m\n\u001b[0;32m     61\u001b[0m attention_weights \u001b[38;5;241m=\u001b[39m torch\u001b[38;5;241m.\u001b[39msoftmax(attention_weights, dim\u001b[38;5;241m=\u001b[39m\u001b[38;5;241m1\u001b[39m)\n\u001b[0;32m     62\u001b[0m context \u001b[38;5;241m=\u001b[39m torch\u001b[38;5;241m.\u001b[39mbmm(attention_weights\u001b[38;5;241m.\u001b[39mtranspose(\u001b[38;5;241m1\u001b[39m, \u001b[38;5;241m2\u001b[39m), combined_features)\n",
      "File \u001b[1;32mc:\\Users\\zzhuqshun\\.conda\\envs\\ML\\lib\\site-packages\\torch\\nn\\modules\\module.py:1553\u001b[0m, in \u001b[0;36mModule._wrapped_call_impl\u001b[1;34m(self, *args, **kwargs)\u001b[0m\n\u001b[0;32m   1551\u001b[0m     \u001b[38;5;28;01mreturn\u001b[39;00m \u001b[38;5;28mself\u001b[39m\u001b[38;5;241m.\u001b[39m_compiled_call_impl(\u001b[38;5;241m*\u001b[39margs, \u001b[38;5;241m*\u001b[39m\u001b[38;5;241m*\u001b[39mkwargs)  \u001b[38;5;66;03m# type: ignore[misc]\u001b[39;00m\n\u001b[0;32m   1552\u001b[0m \u001b[38;5;28;01melse\u001b[39;00m:\n\u001b[1;32m-> 1553\u001b[0m     \u001b[38;5;28;01mreturn\u001b[39;00m \u001b[38;5;28mself\u001b[39m\u001b[38;5;241m.\u001b[39m_call_impl(\u001b[38;5;241m*\u001b[39margs, \u001b[38;5;241m*\u001b[39m\u001b[38;5;241m*\u001b[39mkwargs)\n",
      "File \u001b[1;32mc:\\Users\\zzhuqshun\\.conda\\envs\\ML\\lib\\site-packages\\torch\\nn\\modules\\module.py:1562\u001b[0m, in \u001b[0;36mModule._call_impl\u001b[1;34m(self, *args, **kwargs)\u001b[0m\n\u001b[0;32m   1557\u001b[0m \u001b[38;5;66;03m# If we don't have any hooks, we want to skip the rest of the logic in\u001b[39;00m\n\u001b[0;32m   1558\u001b[0m \u001b[38;5;66;03m# this function, and just call forward.\u001b[39;00m\n\u001b[0;32m   1559\u001b[0m \u001b[38;5;28;01mif\u001b[39;00m \u001b[38;5;129;01mnot\u001b[39;00m (\u001b[38;5;28mself\u001b[39m\u001b[38;5;241m.\u001b[39m_backward_hooks \u001b[38;5;129;01mor\u001b[39;00m \u001b[38;5;28mself\u001b[39m\u001b[38;5;241m.\u001b[39m_backward_pre_hooks \u001b[38;5;129;01mor\u001b[39;00m \u001b[38;5;28mself\u001b[39m\u001b[38;5;241m.\u001b[39m_forward_hooks \u001b[38;5;129;01mor\u001b[39;00m \u001b[38;5;28mself\u001b[39m\u001b[38;5;241m.\u001b[39m_forward_pre_hooks\n\u001b[0;32m   1560\u001b[0m         \u001b[38;5;129;01mor\u001b[39;00m _global_backward_pre_hooks \u001b[38;5;129;01mor\u001b[39;00m _global_backward_hooks\n\u001b[0;32m   1561\u001b[0m         \u001b[38;5;129;01mor\u001b[39;00m _global_forward_hooks \u001b[38;5;129;01mor\u001b[39;00m _global_forward_pre_hooks):\n\u001b[1;32m-> 1562\u001b[0m     \u001b[38;5;28;01mreturn\u001b[39;00m forward_call(\u001b[38;5;241m*\u001b[39margs, \u001b[38;5;241m*\u001b[39m\u001b[38;5;241m*\u001b[39mkwargs)\n\u001b[0;32m   1564\u001b[0m \u001b[38;5;28;01mtry\u001b[39;00m:\n\u001b[0;32m   1565\u001b[0m     result \u001b[38;5;241m=\u001b[39m \u001b[38;5;28;01mNone\u001b[39;00m\n",
      "File \u001b[1;32mc:\\Users\\zzhuqshun\\.conda\\envs\\ML\\lib\\site-packages\\torch\\nn\\modules\\container.py:219\u001b[0m, in \u001b[0;36mSequential.forward\u001b[1;34m(self, input)\u001b[0m\n\u001b[0;32m    217\u001b[0m \u001b[38;5;28;01mdef\u001b[39;00m \u001b[38;5;21mforward\u001b[39m(\u001b[38;5;28mself\u001b[39m, \u001b[38;5;28minput\u001b[39m):\n\u001b[0;32m    218\u001b[0m     \u001b[38;5;28;01mfor\u001b[39;00m module \u001b[38;5;129;01min\u001b[39;00m \u001b[38;5;28mself\u001b[39m:\n\u001b[1;32m--> 219\u001b[0m         \u001b[38;5;28minput\u001b[39m \u001b[38;5;241m=\u001b[39m \u001b[43mmodule\u001b[49m\u001b[43m(\u001b[49m\u001b[38;5;28;43minput\u001b[39;49m\u001b[43m)\u001b[49m\n\u001b[0;32m    220\u001b[0m     \u001b[38;5;28;01mreturn\u001b[39;00m \u001b[38;5;28minput\u001b[39m\n",
      "File \u001b[1;32mc:\\Users\\zzhuqshun\\.conda\\envs\\ML\\lib\\site-packages\\torch\\nn\\modules\\module.py:1553\u001b[0m, in \u001b[0;36mModule._wrapped_call_impl\u001b[1;34m(self, *args, **kwargs)\u001b[0m\n\u001b[0;32m   1551\u001b[0m     \u001b[38;5;28;01mreturn\u001b[39;00m \u001b[38;5;28mself\u001b[39m\u001b[38;5;241m.\u001b[39m_compiled_call_impl(\u001b[38;5;241m*\u001b[39margs, \u001b[38;5;241m*\u001b[39m\u001b[38;5;241m*\u001b[39mkwargs)  \u001b[38;5;66;03m# type: ignore[misc]\u001b[39;00m\n\u001b[0;32m   1552\u001b[0m \u001b[38;5;28;01melse\u001b[39;00m:\n\u001b[1;32m-> 1553\u001b[0m     \u001b[38;5;28;01mreturn\u001b[39;00m \u001b[38;5;28mself\u001b[39m\u001b[38;5;241m.\u001b[39m_call_impl(\u001b[38;5;241m*\u001b[39margs, \u001b[38;5;241m*\u001b[39m\u001b[38;5;241m*\u001b[39mkwargs)\n",
      "File \u001b[1;32mc:\\Users\\zzhuqshun\\.conda\\envs\\ML\\lib\\site-packages\\torch\\nn\\modules\\module.py:1562\u001b[0m, in \u001b[0;36mModule._call_impl\u001b[1;34m(self, *args, **kwargs)\u001b[0m\n\u001b[0;32m   1557\u001b[0m \u001b[38;5;66;03m# If we don't have any hooks, we want to skip the rest of the logic in\u001b[39;00m\n\u001b[0;32m   1558\u001b[0m \u001b[38;5;66;03m# this function, and just call forward.\u001b[39;00m\n\u001b[0;32m   1559\u001b[0m \u001b[38;5;28;01mif\u001b[39;00m \u001b[38;5;129;01mnot\u001b[39;00m (\u001b[38;5;28mself\u001b[39m\u001b[38;5;241m.\u001b[39m_backward_hooks \u001b[38;5;129;01mor\u001b[39;00m \u001b[38;5;28mself\u001b[39m\u001b[38;5;241m.\u001b[39m_backward_pre_hooks \u001b[38;5;129;01mor\u001b[39;00m \u001b[38;5;28mself\u001b[39m\u001b[38;5;241m.\u001b[39m_forward_hooks \u001b[38;5;129;01mor\u001b[39;00m \u001b[38;5;28mself\u001b[39m\u001b[38;5;241m.\u001b[39m_forward_pre_hooks\n\u001b[0;32m   1560\u001b[0m         \u001b[38;5;129;01mor\u001b[39;00m _global_backward_pre_hooks \u001b[38;5;129;01mor\u001b[39;00m _global_backward_hooks\n\u001b[0;32m   1561\u001b[0m         \u001b[38;5;129;01mor\u001b[39;00m _global_forward_hooks \u001b[38;5;129;01mor\u001b[39;00m _global_forward_pre_hooks):\n\u001b[1;32m-> 1562\u001b[0m     \u001b[38;5;28;01mreturn\u001b[39;00m forward_call(\u001b[38;5;241m*\u001b[39margs, \u001b[38;5;241m*\u001b[39m\u001b[38;5;241m*\u001b[39mkwargs)\n\u001b[0;32m   1564\u001b[0m \u001b[38;5;28;01mtry\u001b[39;00m:\n\u001b[0;32m   1565\u001b[0m     result \u001b[38;5;241m=\u001b[39m \u001b[38;5;28;01mNone\u001b[39;00m\n",
      "File \u001b[1;32mc:\\Users\\zzhuqshun\\.conda\\envs\\ML\\lib\\site-packages\\torch\\nn\\modules\\linear.py:117\u001b[0m, in \u001b[0;36mLinear.forward\u001b[1;34m(self, input)\u001b[0m\n\u001b[0;32m    116\u001b[0m \u001b[38;5;28;01mdef\u001b[39;00m \u001b[38;5;21mforward\u001b[39m(\u001b[38;5;28mself\u001b[39m, \u001b[38;5;28minput\u001b[39m: Tensor) \u001b[38;5;241m-\u001b[39m\u001b[38;5;241m>\u001b[39m Tensor:\n\u001b[1;32m--> 117\u001b[0m     \u001b[38;5;28;01mreturn\u001b[39;00m \u001b[43mF\u001b[49m\u001b[38;5;241;43m.\u001b[39;49m\u001b[43mlinear\u001b[49m\u001b[43m(\u001b[49m\u001b[38;5;28;43minput\u001b[39;49m\u001b[43m,\u001b[49m\u001b[43m \u001b[49m\u001b[38;5;28;43mself\u001b[39;49m\u001b[38;5;241;43m.\u001b[39;49m\u001b[43mweight\u001b[49m\u001b[43m,\u001b[49m\u001b[43m \u001b[49m\u001b[38;5;28;43mself\u001b[39;49m\u001b[38;5;241;43m.\u001b[39;49m\u001b[43mbias\u001b[49m\u001b[43m)\u001b[49m\n",
      "\u001b[1;31mRuntimeError\u001b[0m: mat1 and mat2 shapes cannot be multiplied (2304x512 and 256x128)"
     ]
    }
   ],
   "source": [
    "model = LSTMSOH(\n",
    "    covariate_dim=3,  # 电流、电压、温度\n",
    "    hidden_dim=128,\n",
    "    num_layers=3,\n",
    "    dropout=0.3,\n",
    "    pred_len=5\n",
    ")\n",
    "\n",
    "optimizer = optim.Adam(model.parameters(), lr=1e-4, weight_decay=1e-4)\n",
    "criterion = nn.MSELoss()\n",
    "\n",
    "# 训练模型\n",
    "history, best_state = train_model(\n",
    "    model=model,\n",
    "    criterion=criterion,\n",
    "    optimizer=optimizer,\n",
    "    train_loader=train_loader,\n",
    "    val_loader=val_loader,\n",
    "    num_epochs=50,\n",
    "    patience=10\n",
    ")\n",
    "\n",
    "# 保存最佳模型\n",
    "torch.save(best_state, \"best_model.pth\")"
   ]
  },
  {
   "cell_type": "code",
   "execution_count": 19,
   "metadata": {},
   "outputs": [
    {
     "data": {
      "application/vnd.jupyter.widget-view+json": {
       "model_id": "f2faf978093142cabb35b5b15af6e73c",
       "version_major": 2,
       "version_minor": 0
      },
      "image/png": "[encoded data removed]",
      "text/html": [
       "\n",
       "            <div style=\"display: inline-block;\">\n",
       "                <div class=\"jupyter-widgets widget-label\" style=\"text-align: center;\">\n",
       "                    Figure\n",
       "                </div>\n",
       "                <img src='data:image/png;base64,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' width=1000.0/>\n",
       "            </div>\n",
       "        "
      ],
      "text/plain": [
       "Canvas(toolbar=Toolbar(toolitems=[('Home', 'Reset original view', 'home', 'home'), ('Back', 'Back to previous …"
      ]
     },
     "metadata": {},
     "output_type": "display_data"
    }
   ],
   "source": [
    "# Plot training history\n",
    "plt.figure(figsize=(10, 5))\n",
    "plt.semilogy(history['train_loss'], label='Train Loss')\n",
    "plt.semilogy(history['val_loss'], label='Validation Loss')\n",
    "plt.xlabel('Epoch')\n",
    "plt.ylabel('Loss')\n",
    "plt.title('Training and Validation Loss Over Epochs')\n",
    "plt.legend()\n",
    "plt.grid(True)\n",
    "plt.show()\n"
   ]
  },
  {
   "cell_type": "code",
   "execution_count": null,
   "metadata": {},
   "outputs": [],
   "source": [
    "# Example usage:\n",
    "def objective(trial):\n",
    "    # Suggest hyperparameters\n",
    "    hidden_size = trial.suggest_int('hidden_size', 32, 256, step = 16)\n",
    "    num_layers = trial.suggest_int('num_layers', 2, 5)\n",
    "    learning_rate = trial.suggest_float('learning_rate', 1e-5, 1e-1, log=True)\n",
    "    dropout = trial.suggest_float('dropout', 0.1,0.5)\n",
    "    weight_decay= trial.suggest_float('weight_decay',1e-5,1e-1, log=True)\n",
    "    \n",
    "    seed_len = trial.suggest_int('seed_len', 12, 128)\n",
    "    pred_len = trial.suggest_int('pred_len', 1, 20)\n",
    "    batch_size = trial.suggest_int('batch_size', 16, 64, step = 8)\n",
    "    \n",
    "    train_dataset = SequenceDataset(train_scaled, seed_len=seed_len, pred_len=pred_len)\n",
    "    val_dataset = SequenceDataset(val_scaled, seed_len=seed_len, pred_len=pred_len)\n",
    "    \n",
    "    train_loader = DataLoader(train_dataset, batch_size=batch_size, shuffle=True, drop_last=True)\n",
    "    val_loader = DataLoader(val_dataset, batch_size=batch_size, shuffle=False, drop_last=True)\n",
    "    \n",
    "    # Instantiate model with suggested hyperparameters\n",
    "    model = LSTMSOH(input_dim=4, hidden_dim=hidden_size, num_layers=num_layers, dropout=dropout).type(torch.float32).to(device)\n",
    "    criterion = nn.MSELoss()\n",
    "    optimizer = optim.Adam(model.parameters(), lr=learning_rate, weight_decay=weight_decay) #L2 regularization\n",
    "    history, _ = train_model(model, criterion, optimizer, train_loader, val_loader)\n",
    "\n",
    "    # Extract last validation loss\n",
    "    last_val_loss = history['val_loss'][-1]\n",
    "    return last_val_loss\n",
    "\n",
    "    # Optuna study\n",
    "study = optuna.create_study(direction='minimize')\n",
    "study.optimize(objective, n_trials=100)\n",
    "\n",
    "# Extract best trial\n",
    "best_trial = study.best_trial\n",
    "print(f\"Best trial: {best_trial}\")\n",
    "\n",
    "best_hyperparams = study.best_trial.params\n",
    "print('Best hyperparameters:', best_hyperparams)"
   ]
  },
  {
   "cell_type": "code",
   "execution_count": null,
   "metadata": {},
   "outputs": [],
   "source": [
    "### predict_autoregressive\n",
    "device = torch.device(\"cuda\" if torch.cuda.is_available() else \"cpu\")\n",
    "def evaluate_model(model, test_loader, device):\n",
    "    \"\"\"\n",
    "    Evaluate model performance on test set using multi-step prediction\n",
    "    \n",
    "    Args:\n",
    "        model: PyTorch model\n",
    "        test_loader: DataLoader for test set\n",
    "        device: torch device\n",
    "        \n",
    "    Returns:\n",
    "        dict: Dictionary containing evaluation metrics and predictions\n",
    "    \"\"\"\n",
    "    model.eval()\n",
    "    all_preds = []\n",
    "    all_targets = []\n",
    "    \n",
    "    with torch.no_grad():\n",
    "        for X_test, Y_test in test_loader:\n",
    "            X_test = X_test.to(device)\n",
    "            Y_test = Y_test.to(device)\n",
    "            \n",
    "            predictions = model(X_test)\n",
    "            \n",
    "            all_preds.append(predictions.cpu().numpy())\n",
    "            all_targets.append(Y_test.cpu().numpy())\n",
    "    \n",
    "    all_preds = np.concatenate(all_preds, axis=0)\n",
    "    all_targets = np.concatenate(all_targets, axis=0)\n",
    "    \n",
    "    metrics = {\n",
    "        'r2': r2_score(all_targets, all_preds),\n",
    "        'mae': mean_absolute_error(all_targets, all_preds),\n",
    "        'rmse': np.sqrt(mean_squared_error(all_targets, all_preds)),\n",
    "        'predictions': all_preds,\n",
    "        'targets': all_targets\n",
    "    }\n",
    "    \n",
    "    print(f\"R2:{metrics['r2']:.5f} | MAE: {metrics['mae']:.5e}| RMSE:{metrics['rmse']:.5e}\")\n",
    "    \n",
    "    return metrics\n",
    "\n",
    "# Evaluate model\n",
    "metrics = evaluate_model(model, test_loader, device)\n",
    "all_preds = metrics['predictions'] \n",
    "all_targets = metrics['targets']\n",
    "\n"
   ]
  },
  {
   "cell_type": "code",
   "execution_count": null,
   "metadata": {},
   "outputs": [],
   "source": [
    "plt.figure(figsize=(10, 5))\n",
    "plt.plot(all_targets[:, 0], label=\"Ground Truth SOH\")\n",
    "plt.plot(all_preds[:, 0], label=\"Predicted SOH\")\n",
    "plt.title(\"Autoregressive SOH-Estimation - Test \")\n",
    "plt.xlabel(\"Samples\")\n",
    "plt.ylabel(\"SOH\")\n",
    "plt.legend()\n",
    "plt.tight_layout()\n",
    "plt.show()\n"
   ]
  }
 ],
 "metadata": {
  "kernelspec": {
   "display_name": "ML",
   "language": "python",
   "name": "python3"
  },
  "language_info": {
   "codemirror_mode": {
    "name": "ipython",
    "version": 3
   },
   "file_extension": ".py",
   "mimetype": "text/x-python",
   "name": "python",
   "nbconvert_exporter": "python",
   "pygments_lexer": "ipython3",
   "version": "3.9.18"
  }
 },
 "nbformat": 4,
 "nbformat_minor": 2
}
