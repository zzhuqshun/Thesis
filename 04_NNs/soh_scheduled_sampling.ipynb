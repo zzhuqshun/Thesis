{
 "cells": [
  {
   "cell_type": "code",
   "execution_count": 15,
   "metadata": {},
   "outputs": [
    {
     "name": "stdout",
     "output_type": "stream",
     "text": [
      "The autoreload extension is already loaded. To reload it, use:\n",
      "  %reload_ext autoreload\n"
     ]
    }
   ],
   "source": [
    "%load_ext autoreload\n",
    "%autoreload 2\n",
    "%matplotlib widget\n",
    "from data_processing import *\n",
    "from sklearn.metrics import mean_absolute_error, r2_score,mean_squared_error\n",
    "import torch\n",
    "import torch.optim as optim\n",
    "import torch.nn as nn\n",
    "from torch.utils.data import Dataset, DataLoader\n",
    "import optuna\n",
    "import random\n",
    "import os\n",
    "import time\n",
    "from pytorch_lightning.loggers import TensorBoardLogger\n",
    "\n",
    "\n",
    "import numpy as np\n",
    "from tqdm import tqdm\n",
    "import copy\n",
    "DEVICE = torch.device(\"cuda\" if torch.cuda.is_available() else \"cpu\")\n"
   ]
  },
  {
   "cell_type": "markdown",
   "metadata": {},
   "source": [
    "## Load data & scaling\n",
    "- Resample the datasets for SOH to h\n",
    "- Split data to 13/1/1 for Traning/Validation/Test\n",
    "- Scaling corresponding Current, Voltage, Temperature"
   ]
  },
  {
   "cell_type": "code",
   "execution_count": 9,
   "metadata": {},
   "outputs": [
    {
     "name": "stdout",
     "output_type": "stream",
     "text": [
      "Found 15 parquet files\n"
     ]
    },
    {
     "name": "stderr",
     "output_type": "stream",
     "text": [
      "Processing cells:   0%|          | 0/15 [00:00<?, ?cell/s]"
     ]
    },
    {
     "name": "stdout",
     "output_type": "stream",
     "text": [
      "Processing C01 ...\n"
     ]
    },
    {
     "name": "stderr",
     "output_type": "stream",
     "text": [
      "Processing cells:   7%|▋         | 1/15 [00:18<04:20, 18.63s/cell]"
     ]
    },
    {
     "name": "stdout",
     "output_type": "stream",
     "text": [
      "Processing C03 ...\n"
     ]
    },
    {
     "name": "stderr",
     "output_type": "stream",
     "text": [
      "Processing cells:  13%|█▎        | 2/15 [00:28<02:58, 13.73s/cell]"
     ]
    },
    {
     "name": "stdout",
     "output_type": "stream",
     "text": [
      "Processing C05 ...\n"
     ]
    },
    {
     "name": "stderr",
     "output_type": "stream",
     "text": [
      "Processing cells:  20%|██        | 3/15 [00:37<02:16, 11.39s/cell]"
     ]
    },
    {
     "name": "stdout",
     "output_type": "stream",
     "text": [
      "Processing C07 ...\n"
     ]
    },
    {
     "name": "stderr",
     "output_type": "stream",
     "text": [
      "Processing cells:  27%|██▋       | 4/15 [00:45<01:49,  9.97s/cell]"
     ]
    },
    {
     "name": "stdout",
     "output_type": "stream",
     "text": [
      "Processing C09 ...\n"
     ]
    },
    {
     "name": "stderr",
     "output_type": "stream",
     "text": [
      "Processing cells:  33%|███▎      | 5/15 [00:49<01:18,  7.84s/cell]"
     ]
    },
    {
     "name": "stdout",
     "output_type": "stream",
     "text": [
      "Processing C11 ...\n"
     ]
    },
    {
     "name": "stderr",
     "output_type": "stream",
     "text": [
      "Processing cells:  40%|████      | 6/15 [00:53<00:59,  6.56s/cell]"
     ]
    },
    {
     "name": "stdout",
     "output_type": "stream",
     "text": [
      "Processing C13 ...\n"
     ]
    },
    {
     "name": "stderr",
     "output_type": "stream",
     "text": [
      "Processing cells:  47%|████▋     | 7/15 [00:55<00:39,  4.94s/cell]"
     ]
    },
    {
     "name": "stdout",
     "output_type": "stream",
     "text": [
      "Processing C15 ...\n"
     ]
    },
    {
     "name": "stderr",
     "output_type": "stream",
     "text": [
      "Processing cells:  53%|█████▎    | 8/15 [00:57<00:28,  4.05s/cell]"
     ]
    },
    {
     "name": "stdout",
     "output_type": "stream",
     "text": [
      "Processing C17 ...\n"
     ]
    },
    {
     "name": "stderr",
     "output_type": "stream",
     "text": [
      "Processing cells:  60%|██████    | 9/15 [01:05<00:31,  5.28s/cell]"
     ]
    },
    {
     "name": "stdout",
     "output_type": "stream",
     "text": [
      "Processing C19 ...\n"
     ]
    },
    {
     "name": "stderr",
     "output_type": "stream",
     "text": [
      "Processing cells:  67%|██████▋   | 10/15 [01:12<00:28,  5.77s/cell]"
     ]
    },
    {
     "name": "stdout",
     "output_type": "stream",
     "text": [
      "Processing C21 ...\n"
     ]
    },
    {
     "name": "stderr",
     "output_type": "stream",
     "text": [
      "Processing cells:  73%|███████▎  | 11/15 [01:19<00:25,  6.36s/cell]"
     ]
    },
    {
     "name": "stdout",
     "output_type": "stream",
     "text": [
      "Processing C23 ...\n"
     ]
    },
    {
     "name": "stderr",
     "output_type": "stream",
     "text": [
      "Processing cells:  80%|████████  | 12/15 [01:27<00:20,  6.85s/cell]"
     ]
    },
    {
     "name": "stdout",
     "output_type": "stream",
     "text": [
      "Processing C25 ...\n"
     ]
    },
    {
     "name": "stderr",
     "output_type": "stream",
     "text": [
      "Processing cells:  87%|████████▋ | 13/15 [01:32<00:12,  6.37s/cell]"
     ]
    },
    {
     "name": "stdout",
     "output_type": "stream",
     "text": [
      "Processing C27 ...\n"
     ]
    },
    {
     "name": "stderr",
     "output_type": "stream",
     "text": [
      "Processing cells:  93%|█████████▎| 14/15 [01:41<00:07,  7.15s/cell]"
     ]
    },
    {
     "name": "stdout",
     "output_type": "stream",
     "text": [
      "Processing C29 ...\n"
     ]
    },
    {
     "name": "stderr",
     "output_type": "stream",
     "text": [
      "Processing cells: 100%|██████████| 15/15 [01:47<00:00,  7.18s/cell]\n"
     ]
    }
   ],
   "source": [
    "data_dir = \"../01_Datenaufbereitung/Output/Calculated/\"\n",
    "all_data = load_data(data_dir)"
   ]
  },
  {
   "cell_type": "code",
   "execution_count": 10,
   "metadata": {},
   "outputs": [
    {
     "name": "stdout",
     "output_type": "stream",
     "text": [
      "Cell split completed:\n",
      "Training set: 13 cells\n",
      "Validation set: 1 cells\n",
      "Test set: 1 cells\n",
      "Final dataset sizes:\n",
      "Training set: 47658 rows (split into 13 parts)\n",
      "Validation set: 4466 rows from 1 cells\n",
      "Test set: 4533 rows from 1 cells\n"
     ]
    }
   ],
   "source": [
    "train_df, val_df, test_df = split_data(all_data, train=13, val=1, test=1,parts = 1)\n",
    "train_scaled, val_scaled, test_scaled = scale_data(train_df, val_df, test_df)"
   ]
  },
  {
   "cell_type": "code",
   "execution_count": null,
   "metadata": {},
   "outputs": [],
   "source": [
    "### Visualize data\n",
    "# visualize_data(all_data)\n",
    "# inspect_data_ranges(all_data)\n",
    "# inspect_data_ranges(train_scaled)\n",
    "# plot_dataset_soh(train_df, \"Train\")\n",
    "# plot_dataset_soh(val_df, \"Validation\")\n",
    "# plot_dataset_soh(test_df, \"Test\")"
   ]
  },
  {
   "cell_type": "markdown",
   "metadata": {},
   "source": [
    "## Model implementation"
   ]
  },
  {
   "cell_type": "markdown",
   "metadata": {},
   "source": [
    "### Model definition\n",
    "- One/muti step prediction model  -- class LSTMmodel()\n",
    "- LSTM with attention model -- class LSTMattention()\n",
    "- Transformer model -- class TransformerModel()"
   ]
  },
  {
   "cell_type": "code",
   "execution_count": 12,
   "metadata": {},
   "outputs": [],
   "source": [
    "class LSTMOneStep(nn.Module):\n",
    "    def __init__(self, input_dim, hidden_dim, num_layers=1, dropout=0.0):\n",
    "        super(LSTMOneStep, self).__init__()\n",
    "        self.hidden_dim = hidden_dim\n",
    "        self.num_layers = num_layers\n",
    "        \n",
    "        self.lstm = nn.LSTM(input_dim, hidden_dim, num_layers, batch_first=True, dropout=dropout)\n",
    "        # 假设只预测 1 个值 (SOH)\n",
    "        self.fc = nn.Linear(hidden_dim, 1)\n",
    "    \n",
    "    def forward_one_step(self, x_t, hidden):\n",
    "        \"\"\"\n",
    "        x_t: (batch, 1, input_dim)\n",
    "        hidden: (h, c) \n",
    "            h,c 形状: (num_layers, batch, hidden_dim)\n",
    "        return: \n",
    "            pred: (batch, 1) —— 预测值\n",
    "            (h, c) —— 更新后的隐藏状态\n",
    "        \"\"\"\n",
    "        out, (h, c) = self.lstm(x_t, hidden)  # out: (batch, 1, hidden_dim)\n",
    "        pred = self.fc(out[:, -1, :])         # (batch, hidden_dim) -> (batch, 1)\n",
    "        return pred, (h, c)\n",
    "    \n",
    "    def init_hidden(self, batch_size, device):\n",
    "        h0 = torch.zeros(self.num_layers, batch_size, self.hidden_dim, device=device)\n",
    "        c0 = torch.zeros(self.num_layers, batch_size, self.hidden_dim, device=device)\n",
    "        return (h0, c0)\n",
    "   "
   ]
  },
  {
   "cell_type": "markdown",
   "metadata": {},
   "source": [
    "### Model Training and Validation"
   ]
  },
  {
   "cell_type": "code",
   "execution_count": null,
   "metadata": {},
   "outputs": [],
   "source": [
    "import random\n",
    "import copy\n",
    "import time\n",
    "import os\n",
    "import torch.optim as optim\n",
    "from tqdm import tqdm\n",
    "import torch.nn.functional as F\n",
    "\n",
    "def train_model(model, train_scaled, val_scaled, EPOCHS=20, LEARNING_RATE=1e-3, device = DEVICE, batch_size=1, patience=5,\n",
    "                initial_teacher_forcing=1.0, teacher_forcing_decay=0.1):\n",
    "    \"\"\"\n",
    "    最基础的多cell并行方法：每个 batch 对应一个 cell，内部对该 cell 序列逐步迭代进行teacher forcing + scheduled sampling。\n",
    "    \"\"\"\n",
    "    # 1) 构建 Dataset / DataLoader\n",
    "    train_dataset = CellDataset(train_scaled)\n",
    "    val_dataset = CellDataset(val_scaled)\n",
    "\n",
    "    train_loader = DataLoader(train_dataset, batch_size=batch_size, shuffle=True)\n",
    "    val_loader = DataLoader(val_dataset, batch_size=batch_size, shuffle=False)\n",
    "    \n",
    "    # 2) 优化器 / 损失\n",
    "    optimizer = optim.Adam(model.parameters(), lr=LEARNING_RATE, weight_decay=1e-4)\n",
    "    criterion = nn.MSELoss()\n",
    "    \n",
    "    # ReduceLROnPlateau 作为示例\n",
    "    scheduler = torch.optim.lr_scheduler.ReduceLROnPlateau(optimizer, mode='min', factor=0.1, patience=patience)\n",
    "    \n",
    "    best_val_loss = float('inf')\n",
    "    best_epoch = 0\n",
    "    best_model_state = None\n",
    "    \n",
    "    history = {\n",
    "        'train_loss': [],\n",
    "        'val_loss': [],\n",
    "        'epoch': [],\n",
    "        'teacher_forcing_ratio': []\n",
    "    }\n",
    "    \n",
    "    print(\"\\nStart training ...\")\n",
    "    for epoch in range(EPOCHS):\n",
    "        # 计算 teacher forcing 概率\n",
    "        teacher_forcing_ratio = max(0.0, initial_teacher_forcing - teacher_forcing_decay*epoch)\n",
    "        \n",
    "        model.train()\n",
    "        train_loss = 0.0\n",
    "        count_cell = 0\n",
    "        \n",
    "        # ============ 训练循环 ============ \n",
    "        pbar = tqdm(train_loader, desc=f\"Epoch {epoch+1}/{EPOCHS}\", leave=False)\n",
    "        for cell_seq in pbar:\n",
    "            # cell_seq shape: (T, feature_dim), batch_size=1 情况下\n",
    "            cell_seq = cell_seq.to(device)\n",
    "            T = cell_seq.shape[0]\n",
    "            \n",
    "            # 初始化隐藏状态\n",
    "            hidden = model.init_hidden(batch_size=1, device=device)\n",
    "            optimizer.zero_grad()\n",
    "            \n",
    "            total_loss_cell = 0.0\n",
    "            \n",
    "            # 遍历序列的时间步\n",
    "            # 假设要预测 cell_seq[t,0] (SOH) -> 这里的 y_true=t行 =>  t 行 \"SOH\"\n",
    "            # 也可以选未来时刻 (t+1), 视需求而定\n",
    "            y_pred_prev = None\n",
    "            for t in range(T):\n",
    "                # 构造输入 x_t: (1, 1, feature_dim)\n",
    "                x_t = cell_seq[t : t+1, :].unsqueeze(0)  # => (1, 1, feature_dim)\n",
    "                \n",
    "                # 真实值\n",
    "                y_true = cell_seq[t, 0]  # 第0列为 SOH\n",
    "                \n",
    "                # 如果上一时刻有预测值 & 需要使用自回归\n",
    "                if (t>0) and (random.random() < (1-teacher_forcing_ratio)) and (y_pred_prev is not None):\n",
    "                    # 用上一时刻预测替换 x_t 的第 0 列\n",
    "                    x_t[0,0,0] = y_pred_prev  \n",
    "                \n",
    "                # 前向\n",
    "                y_pred, hidden = model.forward_one_step(x_t, hidden)\n",
    "                # y_pred shape: (1,1)\n",
    "                \n",
    "                # 当前时刻 loss\n",
    "                loss_step = criterion(y_pred[0,0], y_true)\n",
    "                total_loss_cell += loss_step\n",
    "                \n",
    "                # 记录当前预测\n",
    "                y_pred_prev = y_pred[0,0].detach()\n",
    "            \n",
    "            total_loss_cell.backward()\n",
    "            nn.utils.clip_grad_norm_(model.parameters(), max_norm=1)\n",
    "            optimizer.step()\n",
    "            \n",
    "            train_loss += total_loss_cell.item()\n",
    "            count_cell += 1\n",
    "        \n",
    "        train_loss /= max(1, count_cell)\n",
    "        \n",
    "        # ============ 验证循环 ============ \n",
    "        model.eval()\n",
    "        val_loss = 0.0\n",
    "        count_val_cell = 0\n",
    "        with torch.no_grad():\n",
    "            for cell_seq in val_loader:\n",
    "                cell_seq = cell_seq.to(device)\n",
    "                T = cell_seq.shape[0]\n",
    "                hidden = model.init_hidden(batch_size=1, device=device)\n",
    "                \n",
    "                total_loss_val_cell = 0.0\n",
    "                y_pred_prev = None\n",
    "                # 验证时 teacher_forcing_ratio=0 => 纯自回归\n",
    "                for t in range(T):\n",
    "                    x_t = cell_seq[t : t+1, :].unsqueeze(0)\n",
    "                    y_true = cell_seq[t, 0]\n",
    "                    \n",
    "                    if (t>0) and (y_pred_prev is not None):\n",
    "                        x_t[0,0,0] = y_pred_prev\n",
    "                        \n",
    "                    y_pred, hidden = model.forward_one_step(x_t, hidden)\n",
    "                    loss_step = criterion(y_pred[0,0], y_true)\n",
    "                    total_loss_val_cell += loss_step.item()\n",
    "                    \n",
    "                    y_pred_prev = y_pred[0,0]\n",
    "                \n",
    "                val_loss += total_loss_val_cell\n",
    "                count_val_cell += 1\n",
    "        \n",
    "        val_loss /= max(1, count_val_cell)\n",
    "        scheduler.step(val_loss)\n",
    "        \n",
    "        history['train_loss'].append(train_loss)\n",
    "        history['val_loss'].append(val_loss)\n",
    "        history['epoch'].append(epoch+1)\n",
    "        history['teacher_forcing_ratio'].append(teacher_forcing_ratio)\n",
    "        \n",
    "        pbar.clear()\n",
    "        print(f\"Epoch {epoch+1}/{EPOCHS} | Train Loss: {train_loss:.4f} | Val Loss: {val_loss:.4f} | \"\n",
    "              f\"TF: {teacher_forcing_ratio:.2f} | LR: {optimizer.param_groups[0]['lr']:.2e}\")\n",
    "        \n",
    "        # 保存最佳模型\n",
    "        if val_loss < best_val_loss:\n",
    "            best_val_loss = val_loss\n",
    "            best_epoch = epoch+1\n",
    "            best_model_state = copy.deepcopy(model.state_dict())\n",
    "    \n",
    "    print(f\"Best model at epoch {best_epoch} with Val Loss: {best_val_loss:.4f}\")\n",
    "    # 可以将 best_model_state 保存到文件\n",
    "    return history, best_model_state\n"
   ]
  },
  {
   "cell_type": "code",
   "execution_count": 17,
   "metadata": {},
   "outputs": [
    {
     "name": "stdout",
     "output_type": "stream",
     "text": [
      "\n",
      "Start training...\n"
     ]
    },
    {
     "name": "stderr",
     "output_type": "stream",
     "text": [
      "                                                    \r"
     ]
    },
    {
     "ename": "TypeError",
     "evalue": "forward() got an unexpected keyword argument 'target_seq'",
     "output_type": "error",
     "traceback": [
      "\u001b[1;31m---------------------------------------------------------------------------\u001b[0m",
      "\u001b[1;31mTypeError\u001b[0m                                 Traceback (most recent call last)",
      "Cell \u001b[1;32mIn[17], line 9\u001b[0m\n\u001b[0;32m      6\u001b[0m PATIENCE \u001b[38;5;241m=\u001b[39m \u001b[38;5;241m10\u001b[39m\n\u001b[0;32m      7\u001b[0m logger \u001b[38;5;241m=\u001b[39m TensorBoardLogger(\u001b[38;5;124m\"\u001b[39m\u001b[38;5;124mlogs\u001b[39m\u001b[38;5;124m\"\u001b[39m, name\u001b[38;5;241m=\u001b[39m\u001b[38;5;124m\"\u001b[39m\u001b[38;5;124mLSTM\u001b[39m\u001b[38;5;124m\"\u001b[39m)\n\u001b[1;32m----> 9\u001b[0m history \u001b[38;5;241m=\u001b[39m \u001b[43mtrain_and_validation\u001b[49m\u001b[43m(\u001b[49m\u001b[43mmodel\u001b[49m\u001b[43m,\u001b[49m\u001b[43m \u001b[49m\u001b[43mtrain_loader\u001b[49m\u001b[43m,\u001b[49m\u001b[43m \u001b[49m\u001b[43mval_loader\u001b[49m\u001b[43m,\u001b[49m\u001b[43m \u001b[49m\u001b[43mlogger\u001b[49m\u001b[43m,\u001b[49m\u001b[43m \u001b[49m\u001b[43mEPOCHS\u001b[49m\u001b[43m,\u001b[49m\u001b[43m \u001b[49m\u001b[43mLEARNING_RATE\u001b[49m\u001b[43m,\u001b[49m\u001b[43m \u001b[49m\u001b[43mPATIENCE\u001b[49m\u001b[43m)\u001b[49m\n",
      "Cell \u001b[1;32mIn[15], line 48\u001b[0m, in \u001b[0;36mtrain_and_validation\u001b[1;34m(model, train_loader, val_loader, logger, EPOCHS, LEARNING_RATE, PATIENCE, initial_teacher_forcing, teacher_forcing_decay)\u001b[0m\n\u001b[0;32m     45\u001b[0m optimizer\u001b[38;5;241m.\u001b[39mzero_grad()\n\u001b[0;32m     46\u001b[0m \u001b[38;5;66;03m# 模型前向：内部实现 scheduled sampling，\u001b[39;00m\n\u001b[0;32m     47\u001b[0m \u001b[38;5;66;03m# teacher_forcing_ratio 控制使用 ground truth 的概率\u001b[39;00m\n\u001b[1;32m---> 48\u001b[0m outputs, _ \u001b[38;5;241m=\u001b[39m \u001b[43mmodel\u001b[49m\u001b[43m(\u001b[49m\u001b[43mx_seed\u001b[49m\u001b[43m,\u001b[49m\u001b[43m \u001b[49m\u001b[43mtarget_seq\u001b[49m\u001b[38;5;241;43m=\u001b[39;49m\u001b[43mx_future\u001b[49m\u001b[43m,\u001b[49m\u001b[43m \u001b[49m\u001b[43mteacher_forcing_ratio\u001b[49m\u001b[38;5;241;43m=\u001b[39;49m\u001b[43mteacher_forcing_ratio\u001b[49m\u001b[43m)\u001b[49m\n\u001b[0;32m     49\u001b[0m loss \u001b[38;5;241m=\u001b[39m criterion(outputs, y_target)\n\u001b[0;32m     50\u001b[0m loss\u001b[38;5;241m.\u001b[39mbackward()\n",
      "File \u001b[1;32mc:\\Users\\zzhuqshun\\.conda\\envs\\ML\\lib\\site-packages\\torch\\nn\\modules\\module.py:1553\u001b[0m, in \u001b[0;36mModule._wrapped_call_impl\u001b[1;34m(self, *args, **kwargs)\u001b[0m\n\u001b[0;32m   1551\u001b[0m     \u001b[38;5;28;01mreturn\u001b[39;00m \u001b[38;5;28mself\u001b[39m\u001b[38;5;241m.\u001b[39m_compiled_call_impl(\u001b[38;5;241m*\u001b[39margs, \u001b[38;5;241m*\u001b[39m\u001b[38;5;241m*\u001b[39mkwargs)  \u001b[38;5;66;03m# type: ignore[misc]\u001b[39;00m\n\u001b[0;32m   1552\u001b[0m \u001b[38;5;28;01melse\u001b[39;00m:\n\u001b[1;32m-> 1553\u001b[0m     \u001b[38;5;28;01mreturn\u001b[39;00m \u001b[38;5;28mself\u001b[39m\u001b[38;5;241m.\u001b[39m_call_impl(\u001b[38;5;241m*\u001b[39margs, \u001b[38;5;241m*\u001b[39m\u001b[38;5;241m*\u001b[39mkwargs)\n",
      "File \u001b[1;32mc:\\Users\\zzhuqshun\\.conda\\envs\\ML\\lib\\site-packages\\torch\\nn\\modules\\module.py:1562\u001b[0m, in \u001b[0;36mModule._call_impl\u001b[1;34m(self, *args, **kwargs)\u001b[0m\n\u001b[0;32m   1557\u001b[0m \u001b[38;5;66;03m# If we don't have any hooks, we want to skip the rest of the logic in\u001b[39;00m\n\u001b[0;32m   1558\u001b[0m \u001b[38;5;66;03m# this function, and just call forward.\u001b[39;00m\n\u001b[0;32m   1559\u001b[0m \u001b[38;5;28;01mif\u001b[39;00m \u001b[38;5;129;01mnot\u001b[39;00m (\u001b[38;5;28mself\u001b[39m\u001b[38;5;241m.\u001b[39m_backward_hooks \u001b[38;5;129;01mor\u001b[39;00m \u001b[38;5;28mself\u001b[39m\u001b[38;5;241m.\u001b[39m_backward_pre_hooks \u001b[38;5;129;01mor\u001b[39;00m \u001b[38;5;28mself\u001b[39m\u001b[38;5;241m.\u001b[39m_forward_hooks \u001b[38;5;129;01mor\u001b[39;00m \u001b[38;5;28mself\u001b[39m\u001b[38;5;241m.\u001b[39m_forward_pre_hooks\n\u001b[0;32m   1560\u001b[0m         \u001b[38;5;129;01mor\u001b[39;00m _global_backward_pre_hooks \u001b[38;5;129;01mor\u001b[39;00m _global_backward_hooks\n\u001b[0;32m   1561\u001b[0m         \u001b[38;5;129;01mor\u001b[39;00m _global_forward_hooks \u001b[38;5;129;01mor\u001b[39;00m _global_forward_pre_hooks):\n\u001b[1;32m-> 1562\u001b[0m     \u001b[38;5;28;01mreturn\u001b[39;00m forward_call(\u001b[38;5;241m*\u001b[39margs, \u001b[38;5;241m*\u001b[39m\u001b[38;5;241m*\u001b[39mkwargs)\n\u001b[0;32m   1564\u001b[0m \u001b[38;5;28;01mtry\u001b[39;00m:\n\u001b[0;32m   1565\u001b[0m     result \u001b[38;5;241m=\u001b[39m \u001b[38;5;28;01mNone\u001b[39;00m\n",
      "\u001b[1;31mTypeError\u001b[0m: forward() got an unexpected keyword argument 'target_seq'"
     ]
    }
   ],
   "source": [
    "model = LSTMmodel(input_dim=4, hidden_dim=64, num_layers=2, dropout=0.2, output_length=PRED_LEN)\n",
    "model.to(device)\n",
    "\n",
    "EPOCHS = 100\n",
    "LEARNING_RATE = 1e-3\n",
    "PATIENCE = 10\n",
    "logger = TensorBoardLogger(\"logs\", name=\"LSTM\")\n",
    "\n",
    "history = train_and_validation(model, train_loader, val_loader, logger, EPOCHS, LEARNING_RATE, PATIENCE)"
   ]
  },
  {
   "cell_type": "markdown",
   "metadata": {},
   "source": [
    "## ! Create sequence window\n",
    "- Split data by cell id\n",
    "- Use feature [SOH_ZHU, Current, Voltage, Temperature]\n",
    "- Create continuous train/val rolling window with stride (Prediction length)\n",
    "- Problem: fixed window, real case should be rolling window on whole cell data"
   ]
  },
  {
   "cell_type": "code",
   "execution_count": null,
   "metadata": {},
   "outputs": [],
   "source": [
    "# class SequenceDataset(Dataset):\n",
    "#     def __init__(self, df, seed_len=36, pred_len=5, cell_col='cell_id'):\n",
    "#         self.seed_len = seed_len\n",
    "#         self.pred_len = pred_len\n",
    "#         self.sequences = []\n",
    "        \n",
    "#         # 遍历每个电池（cell_id），分别生成滑动窗口\n",
    "#         for cell in df[cell_col].unique():\n",
    "#             cell_data = df[df[cell_col] == cell]\n",
    "#             # 取出感兴趣的特征列\n",
    "#             data = cell_data[['SOH_ZHU', 'Current[A]', 'Voltage[V]', 'Temperature[°C]']].values\n",
    "#             # 用 stride=pred_len 生成滑动窗口\n",
    "#             # 每个窗口长度为 seed_len + pred_len\n",
    "#             for start in range(0, len(data) - (seed_len + pred_len) + 1, pred_len):\n",
    "#                 block = data[start: start + seed_len + pred_len]\n",
    "#                 self.sequences.append(block)\n",
    "\n",
    "#     def __len__(self):\n",
    "#         return len(self.sequences)\n",
    "\n",
    "#     def __getitem__(self, idx):\n",
    "#         block = self.sequences[idx]\n",
    "#         # 分割为种子序列和未来序列\n",
    "#         x_seed = block[:self.seed_len]       # (seed_len, 4)\n",
    "#         x_future = block[self.seed_len:]       # (pred_len, 4)\n",
    "#         # 目标仅取未来序列的第一列（SOH_ZHU）\n",
    "#         y_target = x_future[:, 0]              # (pred_len,)\n",
    "#         return (\n",
    "#             torch.tensor(x_seed, dtype=torch.float32),\n",
    "#             torch.tensor(x_future, dtype=torch.float32),\n",
    "#             torch.tensor(y_target, dtype=torch.float32)\n",
    "#         )\n",
    "# SEED_LEN = 72\n",
    "# PRED_LEN = 12   \n",
    "# train_dataset = SequenceDataset(train_scaled, seed_len=SEED_LEN, pred_len=PRED_LEN)\n",
    "# val_dataset = SequenceDataset(val_scaled, seed_len=SEED_LEN, pred_len=PRED_LEN)\n",
    "# test_dataset = SequenceDataset(test_scaled, seed_len=SEED_LEN, pred_len=PRED_LEN)\n",
    "\n",
    "# BATCH_SIZE = 32\n",
    "# train_loader = DataLoader(train_dataset, batch_size=BATCH_SIZE, shuffle=True, pin_memory=torch.cuda.is_available())\n",
    "# val_loader = DataLoader(val_dataset, batch_size=BATCH_SIZE, shuffle=False, pin_memory=torch.cuda.is_available())\n",
    "# test_loader = DataLoader(test_dataset, batch_size=BATCH_SIZE, shuffle=False, pin_memory=torch.cuda.is_available())\n"
   ]
  },
  {
   "cell_type": "code",
   "execution_count": null,
   "metadata": {},
   "outputs": [],
   "source": [
    " \n",
    "# class AttentionLayer(nn.Module):\n",
    "#     def __init__(self, hidden_dim):\n",
    "#         super(AttentionLayer, self).__init__()\n",
    "#         self.hidden_dim = hidden_dim\n",
    "#         # 前馈网络：先降维，再经过 Tanh 激活，最后映射到标量注意力得分\n",
    "#         self.attention = nn.Sequential(\n",
    "#             nn.Linear(hidden_dim, hidden_dim // 2),\n",
    "#             nn.Tanh(),\n",
    "#             nn.Linear(hidden_dim // 2, 1)\n",
    "#         )\n",
    "        \n",
    "#     def forward(self, lstm_output):\n",
    "#         \"\"\"\n",
    "#         Args:\n",
    "#             lstm_output: [batch_size, seq_len, hidden_dim]\n",
    "#         Returns:\n",
    "#             context: [batch_size, hidden_dim]，加权求和后的上下文向量\n",
    "#             attn_weights: [batch_size, seq_len, 1]，归一化的注意力权重\n",
    "#         \"\"\"\n",
    "#         # 计算每个时间步的注意力得分\n",
    "#         attn_scores = self.attention(lstm_output)  # 形状: (batch_size, seq_len, 1)\n",
    "#         # 对得分做 softmax 归一化\n",
    "#         attn_weights = F.softmax(attn_scores, dim=1)\n",
    "#         # 利用注意力权重对所有时间步的隐藏状态做加权求和\n",
    "#         context = torch.bmm(attn_weights.transpose(1, 2), lstm_output)  # 形状: (batch_size, 1, hidden_dim)\n",
    "#         context = context.squeeze(1)  # 形状: (batch_size, hidden_dim)\n",
    "#         return context, attn_weights\n",
    "\n",
    "# class LSTMattention(nn.Module):\n",
    "#     def __init__(self, input_dim: int, hidden_dim: int, num_layers: int, dropout: float, output_length: int = 5):\n",
    "#         \"\"\"\n",
    "#         Args:\n",
    "#             input_dim (int): 输入特征数\n",
    "#             hidden_dim (int): LSTM 隐藏层维度\n",
    "#             num_layers (int): LSTM 层数\n",
    "#             dropout (float): dropout 概率\n",
    "#             output_length (int): 预测步数，即未来要预测多少个时间步的值\n",
    "#         \"\"\"\n",
    "#         super(LSTMattention, self).__init__()\n",
    "#         self.hidden_dim = hidden_dim\n",
    "#         self.num_layers = num_layers\n",
    "#         self.output_length = output_length\n",
    "        \n",
    "#         self.lstm = nn.LSTM(input_dim, hidden_dim, num_layers, batch_first=True, dropout=dropout)\n",
    "#         # 添加加性注意力层\n",
    "#         self.attention = AttentionLayer(hidden_dim)\n",
    "#         # 全连接层将上下文向量映射为多步预测输出\n",
    "#         # self.fc = nn.Linear(hidden_dim, output_length)\n",
    "#         self.fc = nn.Sequential(\n",
    "#             nn.Linear(hidden_dim, hidden_dim // 2),\n",
    "#             nn.LeakyReLU(),\n",
    "#             nn.Dropout(dropout),\n",
    "#             nn.Linear(hidden_dim // 2, output_length)\n",
    "#         )\n",
    "    \n",
    "#     def forward(self, x: torch.Tensor) -> torch.Tensor:\n",
    "#         \"\"\"\n",
    "#         Args:\n",
    "#             x (torch.Tensor): 输入数据，形状为 (batch_size, seq_len, input_dim)\n",
    "        \n",
    "#         Returns:\n",
    "#             torch.Tensor: 预测结果，形状为 (batch_size, output_length)\n",
    "#         \"\"\"\n",
    "#         # 初始化 LSTM 的隐状态和细胞状态\n",
    "#         h0 = torch.zeros(self.num_layers, x.size(0), self.hidden_dim, dtype=x.dtype, device=x.device)\n",
    "#         c0 = torch.zeros(self.num_layers, x.size(0), self.hidden_dim, dtype=x.dtype, device=x.device)\n",
    "        \n",
    "#         # LSTM 输出： (batch_size, seq_len, hidden_dim)\n",
    "#         lstm_out, _ = self.lstm(x, (h0, c0))\n",
    "        \n",
    "#         # 使用加性注意力机制生成上下文向量\n",
    "#         context, attn_weights = self.attention(lstm_out)\n",
    "        \n",
    "#         # 利用上下文向量进行多步预测\n",
    "#         output = self.fc(context)\n",
    "        \n",
    "#         return output, attn_weights\n",
    "\n",
    "# class TransformerModel(nn.Module):\n",
    "#     def __init__(self, input_dim: int, hidden_dim: int, num_layers: int, dropout: float, output_length: int = 1):\n",
    "#         \"\"\"\n",
    "#         Args:\n",
    "#             input_dim (int): 输入特征数\n",
    "#             hidden_dim (int): Transformer 隐藏层维度\n",
    "#             num_layers (int): Transformer 层数\n",
    "#             dropout (float): dropout 概率\n",
    "#             output_length (int): 预测步数，1 表示单步预测，大于1则为多步预测\n",
    "#         \"\"\"\n",
    "#         super(TransformerModel, self).__init__()\n",
    "#         self.hidden_dim = hidden_dim\n",
    "#         self.num_layers = num_layers\n",
    "#         self.output_length = output_length\n",
    "\n",
    "#         # Transformer Encoder 部分，添加 batch_first=True\n",
    "#         self.encoder_layer = nn.TransformerEncoderLayer(d_model=hidden_dim, nhead=8, dropout=dropout, batch_first=True)\n",
    "#         self.transformer_encoder = nn.TransformerEncoder(self.encoder_layer, num_layers=num_layers)\n",
    "        \n",
    "#         # 用于处理输入特征的线性层\n",
    "#         self.input_fc = nn.Linear(input_dim, hidden_dim)\n",
    "        \n",
    "#         # 输出层\n",
    "#         self.fc = nn.Linear(hidden_dim, output_length)\n",
    "    \n",
    "#     def forward(self, x: torch.Tensor) -> torch.Tensor:\n",
    "#         # 输入 x 的形状是 (batch_size, seq_len, input_dim)\n",
    "#         batch_size, seq_len, _ = x.size()\n",
    "        \n",
    "#         # 将输入特征通过线性层转换到 hidden_dim 的维度\n",
    "#         x = self.input_fc(x)  # 形状变为 (batch_size, seq_len, hidden_dim)\n",
    "        \n",
    "#         # Transformer 编码器输出\n",
    "#         transformer_out = self.transformer_encoder(x)\n",
    "        \n",
    "#         # 取最后一个时间步的输出\n",
    "#         final_hidden = transformer_out[:, -1, :]  # 形状为 (batch_size, hidden_dim)\n",
    "        \n",
    "#         # 通过全连接层得到最终的输出\n",
    "#         output = self.fc(final_hidden)  # 形状为 (batch_size, output_length)\n",
    "        \n",
    "#         return output, _"
   ]
  }
 ],
 "metadata": {
  "kernelspec": {
   "display_name": "ML",
   "language": "python",
   "name": "python3"
  },
  "language_info": {
   "codemirror_mode": {
    "name": "ipython",
    "version": 3
   },
   "file_extension": ".py",
   "mimetype": "text/x-python",
   "name": "python",
   "nbconvert_exporter": "python",
   "pygments_lexer": "ipython3",
   "version": "3.9.18"
  }
 },
 "nbformat": 4,
 "nbformat_minor": 2
}
