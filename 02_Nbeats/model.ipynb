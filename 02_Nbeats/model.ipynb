{
 "cells": [
  {
   "cell_type": "code",
   "execution_count": 3,
   "metadata": {},
   "outputs": [
    {
     "name": "stdout",
     "output_type": "stream",
     "text": [
      "Requirement already satisfied: darts in c:\\users\\zzhuqshun\\.conda\\envs\\ml\\lib\\site-packages (0.31.0)\n",
      "Requirement already satisfied: holidays>=0.11.1 in c:\\users\\zzhuqshun\\.conda\\envs\\ml\\lib\\site-packages (from darts) (0.59)\n",
      "Requirement already satisfied: joblib>=0.16.0 in c:\\users\\zzhuqshun\\.conda\\envs\\ml\\lib\\site-packages (from darts) (1.3.2)\n",
      "Requirement already satisfied: matplotlib>=3.3.0 in c:\\users\\zzhuqshun\\.conda\\envs\\ml\\lib\\site-packages (from darts) (3.9.2)\n",
      "Requirement already satisfied: nfoursid>=1.0.0 in c:\\users\\zzhuqshun\\.conda\\envs\\ml\\lib\\site-packages (from darts) (1.0.1)\n",
      "Requirement already satisfied: numpy<2.0.0,>=1.19.0 in c:\\users\\zzhuqshun\\.conda\\envs\\ml\\lib\\site-packages (from darts) (1.26.3)\n",
      "Requirement already satisfied: pmdarima>=1.8.0 in c:\\users\\zzhuqshun\\.conda\\envs\\ml\\lib\\site-packages (from darts) (2.0.4)\n",
      "Requirement already satisfied: pyod>=0.9.5 in c:\\users\\zzhuqshun\\.conda\\envs\\ml\\lib\\site-packages (from darts) (2.0.2)\n",
      "Requirement already satisfied: requests>=2.22.0 in c:\\users\\zzhuqshun\\.conda\\envs\\ml\\lib\\site-packages (from darts) (2.32.3)\n",
      "Requirement already satisfied: scikit-learn>=1.0.1 in c:\\users\\zzhuqshun\\.conda\\envs\\ml\\lib\\site-packages (from darts) (1.3.2)\n",
      "Requirement already satisfied: scipy>=1.3.2 in c:\\users\\zzhuqshun\\.conda\\envs\\ml\\lib\\site-packages (from darts) (1.11.3)\n",
      "Requirement already satisfied: shap>=0.40.0 in c:\\users\\zzhuqshun\\.conda\\envs\\ml\\lib\\site-packages (from darts) (0.46.0)\n",
      "Requirement already satisfied: statsforecast>=1.4 in c:\\users\\zzhuqshun\\.conda\\envs\\ml\\lib\\site-packages (from darts) (1.7.8)\n",
      "Requirement already satisfied: statsmodels>=0.14.0 in c:\\users\\zzhuqshun\\.conda\\envs\\ml\\lib\\site-packages (from darts) (0.14.4)\n",
      "Requirement already satisfied: tbats>=1.1.0 in c:\\users\\zzhuqshun\\.conda\\envs\\ml\\lib\\site-packages (from darts) (1.1.3)\n",
      "Requirement already satisfied: tqdm>=4.60.0 in c:\\users\\zzhuqshun\\.conda\\envs\\ml\\lib\\site-packages (from darts) (4.66.5)\n",
      "Requirement already satisfied: typing-extensions in c:\\users\\zzhuqshun\\.conda\\envs\\ml\\lib\\site-packages (from darts) (4.12.2)\n",
      "Requirement already satisfied: xarray>=0.17.0 in c:\\users\\zzhuqshun\\.conda\\envs\\ml\\lib\\site-packages (from darts) (2024.7.0)\n",
      "Requirement already satisfied: xgboost>=1.6.0 in c:\\users\\zzhuqshun\\.conda\\envs\\ml\\lib\\site-packages (from darts) (2.1.2)\n",
      "Requirement already satisfied: pytorch-lightning>=1.5.0 in c:\\users\\zzhuqshun\\.conda\\envs\\ml\\lib\\site-packages (from darts) (2.4.0)\n",
      "Requirement already satisfied: tensorboardX>=2.1 in c:\\users\\zzhuqshun\\.conda\\envs\\ml\\lib\\site-packages (from darts) (2.6.2.2)\n",
      "Requirement already satisfied: torch>=1.8.0 in c:\\users\\zzhuqshun\\.conda\\envs\\ml\\lib\\site-packages (from darts) (2.4.1+cu118)\n",
      "Requirement already satisfied: pandas>=1.0.5 in c:\\users\\zzhuqshun\\.conda\\envs\\ml\\lib\\site-packages (from darts) (2.2.2)\n",
      "Requirement already satisfied: python-dateutil in c:\\users\\zzhuqshun\\.conda\\envs\\ml\\lib\\site-packages (from holidays>=0.11.1->darts) (2.8.2)\n",
      "Requirement already satisfied: contourpy>=1.0.1 in c:\\users\\zzhuqshun\\.conda\\envs\\ml\\lib\\site-packages (from matplotlib>=3.3.0->darts) (1.2.0)\n",
      "Requirement already satisfied: cycler>=0.10 in c:\\users\\zzhuqshun\\.conda\\envs\\ml\\lib\\site-packages (from matplotlib>=3.3.0->darts) (0.11.0)\n",
      "Requirement already satisfied: fonttools>=4.22.0 in c:\\users\\zzhuqshun\\.conda\\envs\\ml\\lib\\site-packages (from matplotlib>=3.3.0->darts) (4.25.0)\n",
      "Requirement already satisfied: kiwisolver>=1.3.1 in c:\\users\\zzhuqshun\\.conda\\envs\\ml\\lib\\site-packages (from matplotlib>=3.3.0->darts) (1.4.4)\n",
      "Requirement already satisfied: packaging>=20.0 in c:\\users\\zzhuqshun\\.conda\\envs\\ml\\lib\\site-packages (from matplotlib>=3.3.0->darts) (24.1)\n",
      "Requirement already satisfied: pillow>=8 in c:\\users\\zzhuqshun\\.conda\\envs\\ml\\lib\\site-packages (from matplotlib>=3.3.0->darts) (10.2.0)\n",
      "Requirement already satisfied: pyparsing>=2.3.1 in c:\\users\\zzhuqshun\\.conda\\envs\\ml\\lib\\site-packages (from matplotlib>=3.3.0->darts) (3.1.2)\n",
      "Requirement already satisfied: importlib-resources>=3.2.0 in c:\\users\\zzhuqshun\\.conda\\envs\\ml\\lib\\site-packages (from matplotlib>=3.3.0->darts) (6.4.0)\n",
      "Requirement already satisfied: pytz>=2020.1 in c:\\users\\zzhuqshun\\.conda\\envs\\ml\\lib\\site-packages (from pandas>=1.0.5->darts) (2022.7.1)\n",
      "Requirement already satisfied: tzdata>=2022.7 in c:\\users\\zzhuqshun\\.conda\\envs\\ml\\lib\\site-packages (from pandas>=1.0.5->darts) (2023.3)\n",
      "Requirement already satisfied: Cython!=0.29.18,!=0.29.31,>=0.29 in c:\\users\\zzhuqshun\\.conda\\envs\\ml\\lib\\site-packages (from pmdarima>=1.8.0->darts) (3.0.11)\n",
      "Requirement already satisfied: urllib3 in c:\\users\\zzhuqshun\\.conda\\envs\\ml\\lib\\site-packages (from pmdarima>=1.8.0->darts) (1.26.20)\n",
      "Requirement already satisfied: setuptools!=50.0.0,>=38.6.0 in c:\\users\\zzhuqshun\\.conda\\envs\\ml\\lib\\site-packages (from pmdarima>=1.8.0->darts) (72.1.0)\n",
      "Requirement already satisfied: numba>=0.51 in c:\\users\\zzhuqshun\\.conda\\envs\\ml\\lib\\site-packages (from pyod>=0.9.5->darts) (0.60.0)\n",
      "Requirement already satisfied: PyYAML>=5.4 in c:\\users\\zzhuqshun\\.conda\\envs\\ml\\lib\\site-packages (from pytorch-lightning>=1.5.0->darts) (6.0.1)\n",
      "Requirement already satisfied: fsspec>=2022.5.0 in c:\\users\\zzhuqshun\\.conda\\envs\\ml\\lib\\site-packages (from fsspec[http]>=2022.5.0->pytorch-lightning>=1.5.0->darts) (2024.2.0)\n",
      "Requirement already satisfied: torchmetrics>=0.7.0 in c:\\users\\zzhuqshun\\.conda\\envs\\ml\\lib\\site-packages (from pytorch-lightning>=1.5.0->darts) (1.4.2)\n",
      "Requirement already satisfied: lightning-utilities>=0.10.0 in c:\\users\\zzhuqshun\\.conda\\envs\\ml\\lib\\site-packages (from pytorch-lightning>=1.5.0->darts) (0.11.7)\n",
      "Requirement already satisfied: charset-normalizer<4,>=2 in c:\\users\\zzhuqshun\\.conda\\envs\\ml\\lib\\site-packages (from requests>=2.22.0->darts) (2.0.4)\n",
      "Requirement already satisfied: idna<4,>=2.5 in c:\\users\\zzhuqshun\\.conda\\envs\\ml\\lib\\site-packages (from requests>=2.22.0->darts) (3.7)\n",
      "Requirement already satisfied: certifi>=2017.4.17 in c:\\users\\zzhuqshun\\.conda\\envs\\ml\\lib\\site-packages (from requests>=2.22.0->darts) (2024.8.30)\n",
      "Requirement already satisfied: threadpoolctl>=2.0.0 in c:\\users\\zzhuqshun\\.conda\\envs\\ml\\lib\\site-packages (from scikit-learn>=1.0.1->darts) (3.2.0)\n",
      "Requirement already satisfied: slicer==0.0.8 in c:\\users\\zzhuqshun\\.conda\\envs\\ml\\lib\\site-packages (from shap>=0.40.0->darts) (0.0.8)\n",
      "Requirement already satisfied: cloudpickle in c:\\users\\zzhuqshun\\.conda\\envs\\ml\\lib\\site-packages (from shap>=0.40.0->darts) (3.1.0)\n",
      "Requirement already satisfied: coreforecast>=0.0.12 in c:\\users\\zzhuqshun\\.conda\\envs\\ml\\lib\\site-packages (from statsforecast>=1.4->darts) (0.0.13.1)\n",
      "Requirement already satisfied: fugue>=0.8.1 in c:\\users\\zzhuqshun\\.conda\\envs\\ml\\lib\\site-packages (from statsforecast>=1.4->darts) (0.9.1)\n",
      "Requirement already satisfied: utilsforecast>=0.1.4 in c:\\users\\zzhuqshun\\.conda\\envs\\ml\\lib\\site-packages (from statsforecast>=1.4->darts) (0.2.7)\n",
      "Requirement already satisfied: patsy>=0.5.6 in c:\\users\\zzhuqshun\\.conda\\envs\\ml\\lib\\site-packages (from statsmodels>=0.14.0->darts) (0.5.6)\n",
      "Requirement already satisfied: protobuf>=3.20 in c:\\users\\zzhuqshun\\.conda\\envs\\ml\\lib\\site-packages (from tensorboardX>=2.1->darts) (3.20.2)\n",
      "Requirement already satisfied: filelock in c:\\users\\zzhuqshun\\.conda\\envs\\ml\\lib\\site-packages (from torch>=1.8.0->darts) (3.13.1)\n",
      "Requirement already satisfied: sympy in c:\\users\\zzhuqshun\\.conda\\envs\\ml\\lib\\site-packages (from torch>=1.8.0->darts) (1.12)\n",
      "Requirement already satisfied: networkx in c:\\users\\zzhuqshun\\.conda\\envs\\ml\\lib\\site-packages (from torch>=1.8.0->darts) (3.2.1)\n",
      "Requirement already satisfied: jinja2 in c:\\users\\zzhuqshun\\.conda\\envs\\ml\\lib\\site-packages (from torch>=1.8.0->darts) (3.1.3)\n",
      "Requirement already satisfied: colorama in c:\\users\\zzhuqshun\\.conda\\envs\\ml\\lib\\site-packages (from tqdm>=4.60.0->darts) (0.4.6)\n",
      "Requirement already satisfied: aiohttp!=4.0.0a0,!=4.0.0a1 in c:\\users\\zzhuqshun\\.conda\\envs\\ml\\lib\\site-packages (from fsspec[http]>=2022.5.0->pytorch-lightning>=1.5.0->darts) (3.10.5)\n",
      "Requirement already satisfied: triad>=0.9.7 in c:\\users\\zzhuqshun\\.conda\\envs\\ml\\lib\\site-packages (from fugue>=0.8.1->statsforecast>=1.4->darts) (0.9.8)\n",
      "Requirement already satisfied: adagio>=0.2.4 in c:\\users\\zzhuqshun\\.conda\\envs\\ml\\lib\\site-packages (from fugue>=0.8.1->statsforecast>=1.4->darts) (0.2.6)\n",
      "Requirement already satisfied: zipp>=3.1.0 in c:\\users\\zzhuqshun\\.conda\\envs\\ml\\lib\\site-packages (from importlib-resources>=3.2.0->matplotlib>=3.3.0->darts) (3.17.0)\n",
      "Requirement already satisfied: llvmlite<0.44,>=0.43.0dev0 in c:\\users\\zzhuqshun\\.conda\\envs\\ml\\lib\\site-packages (from numba>=0.51->pyod>=0.9.5->darts) (0.43.0)\n",
      "Requirement already satisfied: six in c:\\users\\zzhuqshun\\.conda\\envs\\ml\\lib\\site-packages (from patsy>=0.5.6->statsmodels>=0.14.0->darts) (1.16.0)\n",
      "Requirement already satisfied: MarkupSafe>=2.0 in c:\\users\\zzhuqshun\\.conda\\envs\\ml\\lib\\site-packages (from jinja2->torch>=1.8.0->darts) (2.1.5)\n",
      "Requirement already satisfied: mpmath>=0.19 in c:\\users\\zzhuqshun\\.conda\\envs\\ml\\lib\\site-packages (from sympy->torch>=1.8.0->darts) (1.3.0)\n",
      "Requirement already satisfied: aiohappyeyeballs>=2.3.0 in c:\\users\\zzhuqshun\\.conda\\envs\\ml\\lib\\site-packages (from aiohttp!=4.0.0a0,!=4.0.0a1->fsspec[http]>=2022.5.0->pytorch-lightning>=1.5.0->darts) (2.4.0)\n",
      "Requirement already satisfied: aiosignal>=1.1.2 in c:\\users\\zzhuqshun\\.conda\\envs\\ml\\lib\\site-packages (from aiohttp!=4.0.0a0,!=4.0.0a1->fsspec[http]>=2022.5.0->pytorch-lightning>=1.5.0->darts) (1.2.0)\n",
      "Requirement already satisfied: attrs>=17.3.0 in c:\\users\\zzhuqshun\\.conda\\envs\\ml\\lib\\site-packages (from aiohttp!=4.0.0a0,!=4.0.0a1->fsspec[http]>=2022.5.0->pytorch-lightning>=1.5.0->darts) (23.1.0)\n",
      "Requirement already satisfied: frozenlist>=1.1.1 in c:\\users\\zzhuqshun\\.conda\\envs\\ml\\lib\\site-packages (from aiohttp!=4.0.0a0,!=4.0.0a1->fsspec[http]>=2022.5.0->pytorch-lightning>=1.5.0->darts) (1.4.0)\n",
      "Requirement already satisfied: multidict<7.0,>=4.5 in c:\\users\\zzhuqshun\\.conda\\envs\\ml\\lib\\site-packages (from aiohttp!=4.0.0a0,!=4.0.0a1->fsspec[http]>=2022.5.0->pytorch-lightning>=1.5.0->darts) (6.0.4)\n",
      "Requirement already satisfied: yarl<2.0,>=1.0 in c:\\users\\zzhuqshun\\.conda\\envs\\ml\\lib\\site-packages (from aiohttp!=4.0.0a0,!=4.0.0a1->fsspec[http]>=2022.5.0->pytorch-lightning>=1.5.0->darts) (1.11.0)\n",
      "Requirement already satisfied: async-timeout<5.0,>=4.0 in c:\\users\\zzhuqshun\\.conda\\envs\\ml\\lib\\site-packages (from aiohttp!=4.0.0a0,!=4.0.0a1->fsspec[http]>=2022.5.0->pytorch-lightning>=1.5.0->darts) (4.0.3)\n",
      "Requirement already satisfied: pyarrow>=6.0.1 in c:\\users\\zzhuqshun\\.conda\\envs\\ml\\lib\\site-packages (from triad>=0.9.7->fugue>=0.8.1->statsforecast>=1.4->darts) (17.0.0)\n",
      "Requirement already satisfied: fs in c:\\users\\zzhuqshun\\.conda\\envs\\ml\\lib\\site-packages (from triad>=0.9.7->fugue>=0.8.1->statsforecast>=1.4->darts) (2.4.16)\n",
      "Requirement already satisfied: appdirs~=1.4.3 in c:\\users\\zzhuqshun\\.conda\\envs\\ml\\lib\\site-packages (from fs->triad>=0.9.7->fugue>=0.8.1->statsforecast>=1.4->darts) (1.4.4)\n",
      "Note: you may need to restart the kernel to use updated packages.\n"
     ]
    }
   ],
   "source": [
    "%pip install darts\n",
    "%matplotlib widget"
   ]
  },
  {
   "cell_type": "code",
   "execution_count": 4,
   "metadata": {},
   "outputs": [],
   "source": [
    "## Packages\n",
    "import pandas as pd\n",
    "import numpy as np\n",
    "import matplotlib.pyplot as plt\n",
    "from darts import TimeSeries\n",
    "from darts.models import NBEATSModel\n",
    "from darts.dataprocessing.transformers import Scaler\n",
    "from sklearn.metrics import mean_absolute_error\n",
    "from pytorch_lightning.callbacks import ModelCheckpoint\n",
    "import optuna\n",
    "from tqdm import tqdm\n"
   ]
  },
  {
   "cell_type": "code",
   "execution_count": 5,
   "metadata": {},
   "outputs": [],
   "source": [
    "## Read data\n",
    "data = pd.read_parquet(r\"..\\01_Datenaufbereitung\\Output\\Calculated\\df_15.parquet\")\n",
    "data['Absolute_Time[yyyy-mm-dd hh:mm:ss]'] = pd.to_datetime(data['Absolute_Time[yyyy-mm-dd hh:mm:ss]'])\n",
    "data = data[['Absolute_Time[yyyy-mm-dd hh:mm:ss]', 'Current[A]', 'Voltage[V]', 'Temperature[°C]', 'SOH_ZHU']]\n",
    "\n",
    "## Resample to hourly\n",
    "data.set_index('Absolute_Time[yyyy-mm-dd hh:mm:ss]', inplace=True)\n",
    "data_hourly = data.resample('h').mean().reset_index()\n",
    "\n",
    "## Fill missing values\n",
    "data_hourly.interpolate(method='linear', inplace=True)\n",
    "data_hourly['SOH_ZHU'] = data_hourly['SOH_ZHU'].fillna(1)"
   ]
  },
  {
   "cell_type": "code",
   "execution_count": 6,
   "metadata": {},
   "outputs": [
    {
     "data": {
      "text/plain": [
       "Text(0.5, 0, 'Time')"
      ]
     },
     "execution_count": 6,
     "metadata": {},
     "output_type": "execute_result"
    },
    {
     "data": {
      "application/vnd.jupyter.widget-view+json": {
       "model_id": "0f073f254b894679ae955db40ca3314d",
       "version_major": 2,
       "version_minor": 0
      },
      "image/png": "[encoded data removed]",
      "text/html": [
       "\n",
       "            <div style=\"display: inline-block;\">\n",
       "                <div class=\"jupyter-widgets widget-label\" style=\"text-align: center;\">\n",
       "                    Figure\n",
       "                </div>\n",
       "                <img src='data:image/png;base64,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' width=800.0/>\n",
       "            </div>\n",
       "        "
      ],
      "text/plain": [
       "Canvas(toolbar=Toolbar(toolitems=[('Home', 'Reset original view', 'home', 'home'), ('Back', 'Back to previous …"
      ]
     },
     "metadata": {},
     "output_type": "display_data"
    }
   ],
   "source": [
    "## Data to time series\n",
    "target_series = TimeSeries.from_dataframe(data_hourly, 'Absolute_Time[yyyy-mm-dd hh:mm:ss]', 'SOH_ZHU')\n",
    "covariates = TimeSeries.from_dataframe(data_hourly, 'Absolute_Time[yyyy-mm-dd hh:mm:ss]', ['Current[A]', 'Voltage[V]', 'Temperature[°C]'])\n",
    "\n",
    "## Time align\n",
    "target_series, covariates = target_series.slice_intersect(covariates), covariates.slice_intersect(target_series)\n",
    "\n",
    "## Covariates normalization\n",
    "scaler = Scaler() # Scale data [min,max] to [0,1]\n",
    "## Don't scale SOH\n",
    "covariates_scaled = scaler.fit_transform(covariates)\n",
    "\n",
    "## Data split\n",
    "train_series, val_series = target_series.split_after(0.8)\n",
    "cov_train, cov_val = covariates_scaled.split_after(0.8)\n",
    "\n",
    "# Time align\n",
    "required_start_time = train_series.start_time() - pd.Timedelta(hours=12) \n",
    "if cov_train.start_time() > required_start_time:\n",
    "    cov_train = covariates_scaled.slice(required_start_time, cov_train.end_time())\n",
    "if cov_val.start_time() > required_start_time:\n",
    "    cov_val = covariates_scaled.slice(required_start_time, cov_val.end_time())\n",
    "\n",
    "plt.figure(figsize=(8, 5))\n",
    "train_series.plot(label=\"training\")\n",
    "val_series.plot(label=\"validation\")\n",
    "plt.title(\"SOH Over Time (hourly)\")\n",
    "plt.xlabel(\"Time\")"
   ]
  },
  {
   "cell_type": "code",
   "execution_count": null,
   "metadata": {},
   "outputs": [],
   "source": [
    "# Optuna objective function\n",
    "def objective(trial):\n",
    "    # Define hyperparameter search space\n",
    "    input_chunk_length = trial.suggest_int(\"input_chunk_length\", 12, 24)\n",
    "    output_chunk_length = trial.suggest_int(\"output_chunk_length\", 1, 12)\n",
    "    batch_size = trial.suggest_categorical(\"batch_size\", [16, 32, 64])\n",
    "    num_blocks = trial.suggest_int(\"num_blocks\", 2, 3)\n",
    "    num_stacks = trial.suggest_int(\"num_stacks\", 2, 3)\n",
    "\n",
    "    # Define and train model\n",
    "    model = NBEATSModel(\n",
    "        input_chunk_length=input_chunk_length,\n",
    "        output_chunk_length=output_chunk_length,\n",
    "        batch_size=batch_size,\n",
    "        num_blocks=num_blocks,\n",
    "        num_stacks=num_stacks,\n",
    "        random_state=42,\n",
    "        pl_trainer_kwargs={\n",
    "            \"callbacks\": [ModelCheckpoint(monitor=\"val_loss\", mode=\"min\", save_top_k=1)],\n",
    "            \"enable_checkpointing\": True\n",
    "        }\n",
    "    )\n",
    "\n",
    "    model.fit(series=train_series, past_covariates=cov_train, \n",
    "              val_series=val_series, val_past_covariates=cov_val, epochs=100)  \n",
    "    \n",
    "    # Retrieve best validation loss directly from the training process\n",
    "    best_val_loss = model.trainer.checkpoint_callback.best_model_score.item() \n",
    "    \n",
    "    return best_val_loss\n",
    "\n"
   ]
  },
  {
   "cell_type": "code",
   "execution_count": null,
   "metadata": {},
   "outputs": [],
   "source": [
    "# Optuna call with progress bar\n",
    "study = optuna.create_study(direction=\"minimize\")\n",
    "study.optimize(objective, n_trials=50)  \n",
    "\n",
    "# Best trial\n",
    "print(\"Best trial:\")\n",
    "trial = study.best_trial\n",
    "print(f\"  Value (MAE): {trial.value}\")\n",
    "print(\"  Params: \")\n",
    "for key, value in trial.params.items():\n",
    "    print(f\"    {key}: {value}\")"
   ]
  },
  {
   "cell_type": "code",
   "execution_count": 10,
   "metadata": {},
   "outputs": [],
   "source": [
    "best_params = {'input_chunk_length': 15, 'output_chunk_length': 1, 'batch_size': 16, 'num_blocks': 2, 'num_stacks': 2}"
   ]
  },
  {
   "cell_type": "code",
   "execution_count": 11,
   "metadata": {},
   "outputs": [
    {
     "name": "stderr",
     "output_type": "stream",
     "text": [
      "GPU available: True (cuda), used: True\n",
      "TPU available: False, using: 0 TPU cores\n",
      "HPU available: False, using: 0 HPUs\n",
      "LOCAL_RANK: 0 - CUDA_VISIBLE_DEVICES: [0]\n",
      "\n",
      "  | Name            | Type             | Params | Mode \n",
      "-------------------------------------------------------------\n",
      "0 | criterion       | MSELoss          | 0      | train\n",
      "1 | train_criterion | MSELoss          | 0      | train\n",
      "2 | val_criterion   | MSELoss          | 0      | train\n",
      "3 | train_metrics   | MetricCollection | 0      | train\n",
      "4 | val_metrics     | MetricCollection | 0      | train\n",
      "5 | stacks          | ModuleList       | 863 K  | train\n",
      "-------------------------------------------------------------\n",
      "862 K     Trainable params\n",
      "1.6 K     Non-trainable params\n",
      "863 K     Total params\n",
      "3.455     Total estimated model params size (MB)\n",
      "54        Modules in train mode\n",
      "0         Modules in eval mode\n"
     ]
    },
    {
     "data": {
      "application/vnd.jupyter.widget-view+json": {
       "model_id": "468818bdc7a1410795889f25d5f6fdab",
       "version_major": 2,
       "version_minor": 0
      },
      "text/plain": [
       "Sanity Checking: |          | 0/? [00:00<?, ?it/s]"
      ]
     },
     "metadata": {},
     "output_type": "display_data"
    },
    {
     "data": {
      "application/vnd.jupyter.widget-view+json": {
       "model_id": "a5093dc62bf1426ab8718aa739859f09",
       "version_major": 2,
       "version_minor": 0
      },
      "text/plain": [
       "Training: |          | 0/? [00:00<?, ?it/s]"
      ]
     },
     "metadata": {},
     "output_type": "display_data"
    },
    {
     "data": {
      "application/vnd.jupyter.widget-view+json": {
       "model_id": "b0398ec897f541a58527fe78f57d8ff7",
       "version_major": 2,
       "version_minor": 0
      },
      "text/plain": [
       "Validation: |          | 0/? [00:00<?, ?it/s]"
      ]
     },
     "metadata": {},
     "output_type": "display_data"
    },
    {
     "data": {
      "application/vnd.jupyter.widget-view+json": {
       "model_id": "e38f3d3638b54c589503f0341dcb6e5d",
       "version_major": 2,
       "version_minor": 0
      },
      "text/plain": [
       "Validation: |          | 0/? [00:00<?, ?it/s]"
      ]
     },
     "metadata": {},
     "output_type": "display_data"
    },
    {
     "data": {
      "application/vnd.jupyter.widget-view+json": {
       "model_id": "2b1449cdd98744aab1470d0a136a4e6d",
       "version_major": 2,
       "version_minor": 0
      },
      "text/plain": [
       "Validation: |          | 0/? [00:00<?, ?it/s]"
      ]
     },
     "metadata": {},
     "output_type": "display_data"
    },
    {
     "data": {
      "application/vnd.jupyter.widget-view+json": {
       "model_id": "312412079d174a06b2a78790aa7d3c5b",
       "version_major": 2,
       "version_minor": 0
      },
      "text/plain": [
       "Validation: |          | 0/? [00:00<?, ?it/s]"
      ]
     },
     "metadata": {},
     "output_type": "display_data"
    },
    {
     "data": {
      "application/vnd.jupyter.widget-view+json": {
       "model_id": "6bb030f448724132b7c181df48c23293",
       "version_major": 2,
       "version_minor": 0
      },
      "text/plain": [
       "Validation: |          | 0/? [00:00<?, ?it/s]"
      ]
     },
     "metadata": {},
     "output_type": "display_data"
    },
    {
     "data": {
      "application/vnd.jupyter.widget-view+json": {
       "model_id": "56bf4250f3c24eabac9ff7e529757dae",
       "version_major": 2,
       "version_minor": 0
      },
      "text/plain": [
       "Validation: |          | 0/? [00:00<?, ?it/s]"
      ]
     },
     "metadata": {},
     "output_type": "display_data"
    },
    {
     "data": {
      "application/vnd.jupyter.widget-view+json": {
       "model_id": "3092b6596ad84e889440d908d8134a07",
       "version_major": 2,
       "version_minor": 0
      },
      "text/plain": [
       "Validation: |          | 0/? [00:00<?, ?it/s]"
      ]
     },
     "metadata": {},
     "output_type": "display_data"
    },
    {
     "data": {
      "application/vnd.jupyter.widget-view+json": {
       "model_id": "8e64b895de5743bdb6bd2758ed3197f3",
       "version_major": 2,
       "version_minor": 0
      },
      "text/plain": [
       "Validation: |          | 0/? [00:00<?, ?it/s]"
      ]
     },
     "metadata": {},
     "output_type": "display_data"
    },
    {
     "data": {
      "application/vnd.jupyter.widget-view+json": {
       "model_id": "2a076e7be87a4202b34e96e9c48ae05f",
       "version_major": 2,
       "version_minor": 0
      },
      "text/plain": [
       "Validation: |          | 0/? [00:00<?, ?it/s]"
      ]
     },
     "metadata": {},
     "output_type": "display_data"
    },
    {
     "data": {
      "application/vnd.jupyter.widget-view+json": {
       "model_id": "dd27a3b8a0774099a9ba82f232c195e2",
       "version_major": 2,
       "version_minor": 0
      },
      "text/plain": [
       "Validation: |          | 0/? [00:00<?, ?it/s]"
      ]
     },
     "metadata": {},
     "output_type": "display_data"
    },
    {
     "data": {
      "application/vnd.jupyter.widget-view+json": {
       "model_id": "f1fef856bd56401bbc9227365353ec52",
       "version_major": 2,
       "version_minor": 0
      },
      "text/plain": [
       "Validation: |          | 0/? [00:00<?, ?it/s]"
      ]
     },
     "metadata": {},
     "output_type": "display_data"
    },
    {
     "data": {
      "application/vnd.jupyter.widget-view+json": {
       "model_id": "06870e6bb1d34b30b673ae43afce9985",
       "version_major": 2,
       "version_minor": 0
      },
      "text/plain": [
       "Validation: |          | 0/? [00:00<?, ?it/s]"
      ]
     },
     "metadata": {},
     "output_type": "display_data"
    },
    {
     "data": {
      "application/vnd.jupyter.widget-view+json": {
       "model_id": "fe3345d6e9584b06bed5bbf508c47501",
       "version_major": 2,
       "version_minor": 0
      },
      "text/plain": [
       "Validation: |          | 0/? [00:00<?, ?it/s]"
      ]
     },
     "metadata": {},
     "output_type": "display_data"
    },
    {
     "data": {
      "application/vnd.jupyter.widget-view+json": {
       "model_id": "e28cc7cc0f1a40f69a66c7c7e428a0ff",
       "version_major": 2,
       "version_minor": 0
      },
      "text/plain": [
       "Validation: |          | 0/? [00:00<?, ?it/s]"
      ]
     },
     "metadata": {},
     "output_type": "display_data"
    },
    {
     "data": {
      "application/vnd.jupyter.widget-view+json": {
       "model_id": "685d2abdd52c4ba593d25b26d371d39c",
       "version_major": 2,
       "version_minor": 0
      },
      "text/plain": [
       "Validation: |          | 0/? [00:00<?, ?it/s]"
      ]
     },
     "metadata": {},
     "output_type": "display_data"
    },
    {
     "data": {
      "application/vnd.jupyter.widget-view+json": {
       "model_id": "13fa4b1f605c4212a143f82c1a1c461f",
       "version_major": 2,
       "version_minor": 0
      },
      "text/plain": [
       "Validation: |          | 0/? [00:00<?, ?it/s]"
      ]
     },
     "metadata": {},
     "output_type": "display_data"
    },
    {
     "data": {
      "application/vnd.jupyter.widget-view+json": {
       "model_id": "2a8a6de3e4c042e2a39444c2aa47e8f2",
       "version_major": 2,
       "version_minor": 0
      },
      "text/plain": [
       "Validation: |          | 0/? [00:00<?, ?it/s]"
      ]
     },
     "metadata": {},
     "output_type": "display_data"
    },
    {
     "data": {
      "application/vnd.jupyter.widget-view+json": {
       "model_id": "9e4bcc862e5e43adbff936862d94b030",
       "version_major": 2,
       "version_minor": 0
      },
      "text/plain": [
       "Validation: |          | 0/? [00:00<?, ?it/s]"
      ]
     },
     "metadata": {},
     "output_type": "display_data"
    },
    {
     "data": {
      "application/vnd.jupyter.widget-view+json": {
       "model_id": "35bec5d25ff14e90924b83d424c20092",
       "version_major": 2,
       "version_minor": 0
      },
      "text/plain": [
       "Validation: |          | 0/? [00:00<?, ?it/s]"
      ]
     },
     "metadata": {},
     "output_type": "display_data"
    },
    {
     "data": {
      "application/vnd.jupyter.widget-view+json": {
       "model_id": "f7e60a41f1574588a51013aad7a22802",
       "version_major": 2,
       "version_minor": 0
      },
      "text/plain": [
       "Validation: |          | 0/? [00:00<?, ?it/s]"
      ]
     },
     "metadata": {},
     "output_type": "display_data"
    },
    {
     "data": {
      "application/vnd.jupyter.widget-view+json": {
       "model_id": "2ed2fcef44fc46e2874622ef21053658",
       "version_major": 2,
       "version_minor": 0
      },
      "text/plain": [
       "Validation: |          | 0/? [00:00<?, ?it/s]"
      ]
     },
     "metadata": {},
     "output_type": "display_data"
    },
    {
     "data": {
      "application/vnd.jupyter.widget-view+json": {
       "model_id": "e12a97ac8d4440c395fa721547344043",
       "version_major": 2,
       "version_minor": 0
      },
      "text/plain": [
       "Validation: |          | 0/? [00:00<?, ?it/s]"
      ]
     },
     "metadata": {},
     "output_type": "display_data"
    },
    {
     "data": {
      "application/vnd.jupyter.widget-view+json": {
       "model_id": "1c1dae7bbfbb4583ac7e5b9aaddbc2f4",
       "version_major": 2,
       "version_minor": 0
      },
      "text/plain": [
       "Validation: |          | 0/? [00:00<?, ?it/s]"
      ]
     },
     "metadata": {},
     "output_type": "display_data"
    },
    {
     "data": {
      "application/vnd.jupyter.widget-view+json": {
       "model_id": "b3599cb486a24cf9950f881fbb3c2c48",
       "version_major": 2,
       "version_minor": 0
      },
      "text/plain": [
       "Validation: |          | 0/? [00:00<?, ?it/s]"
      ]
     },
     "metadata": {},
     "output_type": "display_data"
    },
    {
     "data": {
      "application/vnd.jupyter.widget-view+json": {
       "model_id": "74938023fbc944009d29a7357edb1d6f",
       "version_major": 2,
       "version_minor": 0
      },
      "text/plain": [
       "Validation: |          | 0/? [00:00<?, ?it/s]"
      ]
     },
     "metadata": {},
     "output_type": "display_data"
    },
    {
     "data": {
      "application/vnd.jupyter.widget-view+json": {
       "model_id": "390b7750c2804b46807dd8465fd93eac",
       "version_major": 2,
       "version_minor": 0
      },
      "text/plain": [
       "Validation: |          | 0/? [00:00<?, ?it/s]"
      ]
     },
     "metadata": {},
     "output_type": "display_data"
    },
    {
     "data": {
      "application/vnd.jupyter.widget-view+json": {
       "model_id": "1c6c92c79b404391a6ee5f63f50e4b19",
       "version_major": 2,
       "version_minor": 0
      },
      "text/plain": [
       "Validation: |          | 0/? [00:00<?, ?it/s]"
      ]
     },
     "metadata": {},
     "output_type": "display_data"
    },
    {
     "data": {
      "application/vnd.jupyter.widget-view+json": {
       "model_id": "d24b9e109bfb4dedbd5ca5e988b95e1d",
       "version_major": 2,
       "version_minor": 0
      },
      "text/plain": [
       "Validation: |          | 0/? [00:00<?, ?it/s]"
      ]
     },
     "metadata": {},
     "output_type": "display_data"
    },
    {
     "data": {
      "application/vnd.jupyter.widget-view+json": {
       "model_id": "f3ea9bb3c8a8434ebbe4ad286ad773fa",
       "version_major": 2,
       "version_minor": 0
      },
      "text/plain": [
       "Validation: |          | 0/? [00:00<?, ?it/s]"
      ]
     },
     "metadata": {},
     "output_type": "display_data"
    },
    {
     "data": {
      "application/vnd.jupyter.widget-view+json": {
       "model_id": "c04127288e5942b599d6007bd4c69270",
       "version_major": 2,
       "version_minor": 0
      },
      "text/plain": [
       "Validation: |          | 0/? [00:00<?, ?it/s]"
      ]
     },
     "metadata": {},
     "output_type": "display_data"
    },
    {
     "data": {
      "application/vnd.jupyter.widget-view+json": {
       "model_id": "0d075a525eeb465bb22c8c0214ed9909",
       "version_major": 2,
       "version_minor": 0
      },
      "text/plain": [
       "Validation: |          | 0/? [00:00<?, ?it/s]"
      ]
     },
     "metadata": {},
     "output_type": "display_data"
    },
    {
     "data": {
      "application/vnd.jupyter.widget-view+json": {
       "model_id": "920de55cf71d4dec9fe39f31575c73a8",
       "version_major": 2,
       "version_minor": 0
      },
      "text/plain": [
       "Validation: |          | 0/? [00:00<?, ?it/s]"
      ]
     },
     "metadata": {},
     "output_type": "display_data"
    },
    {
     "data": {
      "application/vnd.jupyter.widget-view+json": {
       "model_id": "462a55ca5cc740519bd801493817820c",
       "version_major": 2,
       "version_minor": 0
      },
      "text/plain": [
       "Validation: |          | 0/? [00:00<?, ?it/s]"
      ]
     },
     "metadata": {},
     "output_type": "display_data"
    },
    {
     "data": {
      "application/vnd.jupyter.widget-view+json": {
       "model_id": "aeed7edf9d4b4476adacf3e602f0fdc2",
       "version_major": 2,
       "version_minor": 0
      },
      "text/plain": [
       "Validation: |          | 0/? [00:00<?, ?it/s]"
      ]
     },
     "metadata": {},
     "output_type": "display_data"
    },
    {
     "data": {
      "application/vnd.jupyter.widget-view+json": {
       "model_id": "4e10517722ee4d0781210c6addb86fda",
       "version_major": 2,
       "version_minor": 0
      },
      "text/plain": [
       "Validation: |          | 0/? [00:00<?, ?it/s]"
      ]
     },
     "metadata": {},
     "output_type": "display_data"
    },
    {
     "data": {
      "application/vnd.jupyter.widget-view+json": {
       "model_id": "0e7082b850c14becac1bf173ca59e4f0",
       "version_major": 2,
       "version_minor": 0
      },
      "text/plain": [
       "Validation: |          | 0/? [00:00<?, ?it/s]"
      ]
     },
     "metadata": {},
     "output_type": "display_data"
    },
    {
     "data": {
      "application/vnd.jupyter.widget-view+json": {
       "model_id": "1ea5e12f6cdf4f23a645b4ee1423aac9",
       "version_major": 2,
       "version_minor": 0
      },
      "text/plain": [
       "Validation: |          | 0/? [00:00<?, ?it/s]"
      ]
     },
     "metadata": {},
     "output_type": "display_data"
    },
    {
     "data": {
      "application/vnd.jupyter.widget-view+json": {
       "model_id": "197902359b25430aac7647c5b1043f63",
       "version_major": 2,
       "version_minor": 0
      },
      "text/plain": [
       "Validation: |          | 0/? [00:00<?, ?it/s]"
      ]
     },
     "metadata": {},
     "output_type": "display_data"
    },
    {
     "data": {
      "application/vnd.jupyter.widget-view+json": {
       "model_id": "07fba80369954916ad4b78daf2315a97",
       "version_major": 2,
       "version_minor": 0
      },
      "text/plain": [
       "Validation: |          | 0/? [00:00<?, ?it/s]"
      ]
     },
     "metadata": {},
     "output_type": "display_data"
    },
    {
     "data": {
      "application/vnd.jupyter.widget-view+json": {
       "model_id": "1782e36ade34429a9f6d74d18939ff07",
       "version_major": 2,
       "version_minor": 0
      },
      "text/plain": [
       "Validation: |          | 0/? [00:00<?, ?it/s]"
      ]
     },
     "metadata": {},
     "output_type": "display_data"
    },
    {
     "data": {
      "application/vnd.jupyter.widget-view+json": {
       "model_id": "e5959b25fc7a4d38b985720537c04850",
       "version_major": 2,
       "version_minor": 0
      },
      "text/plain": [
       "Validation: |          | 0/? [00:00<?, ?it/s]"
      ]
     },
     "metadata": {},
     "output_type": "display_data"
    },
    {
     "data": {
      "application/vnd.jupyter.widget-view+json": {
       "model_id": "13019536d3ce4e1081b01a087cf2b21d",
       "version_major": 2,
       "version_minor": 0
      },
      "text/plain": [
       "Validation: |          | 0/? [00:00<?, ?it/s]"
      ]
     },
     "metadata": {},
     "output_type": "display_data"
    },
    {
     "data": {
      "application/vnd.jupyter.widget-view+json": {
       "model_id": "63bb745dc0dc40328037596fc7944541",
       "version_major": 2,
       "version_minor": 0
      },
      "text/plain": [
       "Validation: |          | 0/? [00:00<?, ?it/s]"
      ]
     },
     "metadata": {},
     "output_type": "display_data"
    },
    {
     "data": {
      "application/vnd.jupyter.widget-view+json": {
       "model_id": "3695ac0cc10e427db3115ad389e3ac30",
       "version_major": 2,
       "version_minor": 0
      },
      "text/plain": [
       "Validation: |          | 0/? [00:00<?, ?it/s]"
      ]
     },
     "metadata": {},
     "output_type": "display_data"
    },
    {
     "data": {
      "application/vnd.jupyter.widget-view+json": {
       "model_id": "62877ecaea8e41ca8a63947730ede103",
       "version_major": 2,
       "version_minor": 0
      },
      "text/plain": [
       "Validation: |          | 0/? [00:00<?, ?it/s]"
      ]
     },
     "metadata": {},
     "output_type": "display_data"
    },
    {
     "data": {
      "application/vnd.jupyter.widget-view+json": {
       "model_id": "0cfa41974b1841a5ba466eaec9427c0b",
       "version_major": 2,
       "version_minor": 0
      },
      "text/plain": [
       "Validation: |          | 0/? [00:00<?, ?it/s]"
      ]
     },
     "metadata": {},
     "output_type": "display_data"
    },
    {
     "data": {
      "application/vnd.jupyter.widget-view+json": {
       "model_id": "107bda19c8024d2fb4ce84673d8d8b8d",
       "version_major": 2,
       "version_minor": 0
      },
      "text/plain": [
       "Validation: |          | 0/? [00:00<?, ?it/s]"
      ]
     },
     "metadata": {},
     "output_type": "display_data"
    },
    {
     "data": {
      "application/vnd.jupyter.widget-view+json": {
       "model_id": "6bc543a5784f4b90918fbfd7d7ac3648",
       "version_major": 2,
       "version_minor": 0
      },
      "text/plain": [
       "Validation: |          | 0/? [00:00<?, ?it/s]"
      ]
     },
     "metadata": {},
     "output_type": "display_data"
    },
    {
     "data": {
      "application/vnd.jupyter.widget-view+json": {
       "model_id": "2e25a25e755648e98964b69ba7f2fbd2",
       "version_major": 2,
       "version_minor": 0
      },
      "text/plain": [
       "Validation: |          | 0/? [00:00<?, ?it/s]"
      ]
     },
     "metadata": {},
     "output_type": "display_data"
    },
    {
     "data": {
      "application/vnd.jupyter.widget-view+json": {
       "model_id": "4886e7e30f9c457fbe029f3c9c913f1a",
       "version_major": 2,
       "version_minor": 0
      },
      "text/plain": [
       "Validation: |          | 0/? [00:00<?, ?it/s]"
      ]
     },
     "metadata": {},
     "output_type": "display_data"
    },
    {
     "data": {
      "application/vnd.jupyter.widget-view+json": {
       "model_id": "ebc1d7f3a3bf4c66b3eb2020e4e10c48",
       "version_major": 2,
       "version_minor": 0
      },
      "text/plain": [
       "Validation: |          | 0/? [00:00<?, ?it/s]"
      ]
     },
     "metadata": {},
     "output_type": "display_data"
    },
    {
     "data": {
      "application/vnd.jupyter.widget-view+json": {
       "model_id": "85738a89904741fab9b4f50e64153265",
       "version_major": 2,
       "version_minor": 0
      },
      "text/plain": [
       "Validation: |          | 0/? [00:00<?, ?it/s]"
      ]
     },
     "metadata": {},
     "output_type": "display_data"
    },
    {
     "data": {
      "application/vnd.jupyter.widget-view+json": {
       "model_id": "dacdc3fd2aa345698b7a45e223e331a6",
       "version_major": 2,
       "version_minor": 0
      },
      "text/plain": [
       "Validation: |          | 0/? [00:00<?, ?it/s]"
      ]
     },
     "metadata": {},
     "output_type": "display_data"
    },
    {
     "data": {
      "application/vnd.jupyter.widget-view+json": {
       "model_id": "fa43ccc858a741df91be9305cddaebad",
       "version_major": 2,
       "version_minor": 0
      },
      "text/plain": [
       "Validation: |          | 0/? [00:00<?, ?it/s]"
      ]
     },
     "metadata": {},
     "output_type": "display_data"
    },
    {
     "data": {
      "application/vnd.jupyter.widget-view+json": {
       "model_id": "72e2d88e060449cf9881912a9de44d40",
       "version_major": 2,
       "version_minor": 0
      },
      "text/plain": [
       "Validation: |          | 0/? [00:00<?, ?it/s]"
      ]
     },
     "metadata": {},
     "output_type": "display_data"
    },
    {
     "data": {
      "application/vnd.jupyter.widget-view+json": {
       "model_id": "4c5a729dc7704ff0942e008aa5c70903",
       "version_major": 2,
       "version_minor": 0
      },
      "text/plain": [
       "Validation: |          | 0/? [00:00<?, ?it/s]"
      ]
     },
     "metadata": {},
     "output_type": "display_data"
    },
    {
     "data": {
      "application/vnd.jupyter.widget-view+json": {
       "model_id": "f99372745baa455f8571533845cc7ce0",
       "version_major": 2,
       "version_minor": 0
      },
      "text/plain": [
       "Validation: |          | 0/? [00:00<?, ?it/s]"
      ]
     },
     "metadata": {},
     "output_type": "display_data"
    },
    {
     "data": {
      "application/vnd.jupyter.widget-view+json": {
       "model_id": "559444f3be564b61b02705d421f66b52",
       "version_major": 2,
       "version_minor": 0
      },
      "text/plain": [
       "Validation: |          | 0/? [00:00<?, ?it/s]"
      ]
     },
     "metadata": {},
     "output_type": "display_data"
    },
    {
     "data": {
      "application/vnd.jupyter.widget-view+json": {
       "model_id": "e5c856e5fc404170a60b5ad364d6d711",
       "version_major": 2,
       "version_minor": 0
      },
      "text/plain": [
       "Validation: |          | 0/? [00:00<?, ?it/s]"
      ]
     },
     "metadata": {},
     "output_type": "display_data"
    },
    {
     "data": {
      "application/vnd.jupyter.widget-view+json": {
       "model_id": "16f0a8f03b774b56b15c34249f0d945e",
       "version_major": 2,
       "version_minor": 0
      },
      "text/plain": [
       "Validation: |          | 0/? [00:00<?, ?it/s]"
      ]
     },
     "metadata": {},
     "output_type": "display_data"
    },
    {
     "data": {
      "application/vnd.jupyter.widget-view+json": {
       "model_id": "1061ccd00cb449a0968c3ee4e5fdfa9f",
       "version_major": 2,
       "version_minor": 0
      },
      "text/plain": [
       "Validation: |          | 0/? [00:00<?, ?it/s]"
      ]
     },
     "metadata": {},
     "output_type": "display_data"
    },
    {
     "data": {
      "application/vnd.jupyter.widget-view+json": {
       "model_id": "b6460ac3c6ea4da09e3863c1d2cede94",
       "version_major": 2,
       "version_minor": 0
      },
      "text/plain": [
       "Validation: |          | 0/? [00:00<?, ?it/s]"
      ]
     },
     "metadata": {},
     "output_type": "display_data"
    },
    {
     "data": {
      "application/vnd.jupyter.widget-view+json": {
       "model_id": "ae4f9b4dad104364a6eaf8896adf1ec5",
       "version_major": 2,
       "version_minor": 0
      },
      "text/plain": [
       "Validation: |          | 0/? [00:00<?, ?it/s]"
      ]
     },
     "metadata": {},
     "output_type": "display_data"
    },
    {
     "data": {
      "application/vnd.jupyter.widget-view+json": {
       "model_id": "d01dde3160d54dce92c1d2487352895a",
       "version_major": 2,
       "version_minor": 0
      },
      "text/plain": [
       "Validation: |          | 0/? [00:00<?, ?it/s]"
      ]
     },
     "metadata": {},
     "output_type": "display_data"
    },
    {
     "data": {
      "application/vnd.jupyter.widget-view+json": {
       "model_id": "8514267d65b7493b98bdf880d6cdbcf6",
       "version_major": 2,
       "version_minor": 0
      },
      "text/plain": [
       "Validation: |          | 0/? [00:00<?, ?it/s]"
      ]
     },
     "metadata": {},
     "output_type": "display_data"
    },
    {
     "data": {
      "application/vnd.jupyter.widget-view+json": {
       "model_id": "4190c290d3ab4fe795632a265d9de3a9",
       "version_major": 2,
       "version_minor": 0
      },
      "text/plain": [
       "Validation: |          | 0/? [00:00<?, ?it/s]"
      ]
     },
     "metadata": {},
     "output_type": "display_data"
    },
    {
     "data": {
      "application/vnd.jupyter.widget-view+json": {
       "model_id": "f6e4ca5ed7d44bd183004dc6d3eb345b",
       "version_major": 2,
       "version_minor": 0
      },
      "text/plain": [
       "Validation: |          | 0/? [00:00<?, ?it/s]"
      ]
     },
     "metadata": {},
     "output_type": "display_data"
    },
    {
     "data": {
      "application/vnd.jupyter.widget-view+json": {
       "model_id": "062b3880ea7f4444b87b08c6785f6226",
       "version_major": 2,
       "version_minor": 0
      },
      "text/plain": [
       "Validation: |          | 0/? [00:00<?, ?it/s]"
      ]
     },
     "metadata": {},
     "output_type": "display_data"
    },
    {
     "data": {
      "application/vnd.jupyter.widget-view+json": {
       "model_id": "9f75e9b475a04ef98d7d90c926882c4c",
       "version_major": 2,
       "version_minor": 0
      },
      "text/plain": [
       "Validation: |          | 0/? [00:00<?, ?it/s]"
      ]
     },
     "metadata": {},
     "output_type": "display_data"
    },
    {
     "data": {
      "application/vnd.jupyter.widget-view+json": {
       "model_id": "c5b3fb4f4c624d9c8144f2da33a9dbfa",
       "version_major": 2,
       "version_minor": 0
      },
      "text/plain": [
       "Validation: |          | 0/? [00:00<?, ?it/s]"
      ]
     },
     "metadata": {},
     "output_type": "display_data"
    },
    {
     "data": {
      "application/vnd.jupyter.widget-view+json": {
       "model_id": "df921177d53e4f03ba7107eef0cebf25",
       "version_major": 2,
       "version_minor": 0
      },
      "text/plain": [
       "Validation: |          | 0/? [00:00<?, ?it/s]"
      ]
     },
     "metadata": {},
     "output_type": "display_data"
    },
    {
     "data": {
      "application/vnd.jupyter.widget-view+json": {
       "model_id": "230bf5f291a040468e6fe24d42a1e658",
       "version_major": 2,
       "version_minor": 0
      },
      "text/plain": [
       "Validation: |          | 0/? [00:00<?, ?it/s]"
      ]
     },
     "metadata": {},
     "output_type": "display_data"
    },
    {
     "data": {
      "application/vnd.jupyter.widget-view+json": {
       "model_id": "7ab04175b23d41468172531f1b77bb15",
       "version_major": 2,
       "version_minor": 0
      },
      "text/plain": [
       "Validation: |          | 0/? [00:00<?, ?it/s]"
      ]
     },
     "metadata": {},
     "output_type": "display_data"
    },
    {
     "data": {
      "application/vnd.jupyter.widget-view+json": {
       "model_id": "765367d31ef140faaebc135588d285e0",
       "version_major": 2,
       "version_minor": 0
      },
      "text/plain": [
       "Validation: |          | 0/? [00:00<?, ?it/s]"
      ]
     },
     "metadata": {},
     "output_type": "display_data"
    },
    {
     "data": {
      "application/vnd.jupyter.widget-view+json": {
       "model_id": "2f1ffd492020439d841873dddf4e5407",
       "version_major": 2,
       "version_minor": 0
      },
      "text/plain": [
       "Validation: |          | 0/? [00:00<?, ?it/s]"
      ]
     },
     "metadata": {},
     "output_type": "display_data"
    },
    {
     "data": {
      "application/vnd.jupyter.widget-view+json": {
       "model_id": "94922d03a448419ca2900705367812b0",
       "version_major": 2,
       "version_minor": 0
      },
      "text/plain": [
       "Validation: |          | 0/? [00:00<?, ?it/s]"
      ]
     },
     "metadata": {},
     "output_type": "display_data"
    },
    {
     "data": {
      "application/vnd.jupyter.widget-view+json": {
       "model_id": "d19dd7ec8f3445dd9de6fa4bac9cf6af",
       "version_major": 2,
       "version_minor": 0
      },
      "text/plain": [
       "Validation: |          | 0/? [00:00<?, ?it/s]"
      ]
     },
     "metadata": {},
     "output_type": "display_data"
    },
    {
     "data": {
      "application/vnd.jupyter.widget-view+json": {
       "model_id": "e3aed5ae979d40af81e8d8208a61997a",
       "version_major": 2,
       "version_minor": 0
      },
      "text/plain": [
       "Validation: |          | 0/? [00:00<?, ?it/s]"
      ]
     },
     "metadata": {},
     "output_type": "display_data"
    },
    {
     "data": {
      "application/vnd.jupyter.widget-view+json": {
       "model_id": "8736179b11324bc481dd66eb783802d2",
       "version_major": 2,
       "version_minor": 0
      },
      "text/plain": [
       "Validation: |          | 0/? [00:00<?, ?it/s]"
      ]
     },
     "metadata": {},
     "output_type": "display_data"
    },
    {
     "data": {
      "application/vnd.jupyter.widget-view+json": {
       "model_id": "67a5b496032f40019b8711ad76e35ac1",
       "version_major": 2,
       "version_minor": 0
      },
      "text/plain": [
       "Validation: |          | 0/? [00:00<?, ?it/s]"
      ]
     },
     "metadata": {},
     "output_type": "display_data"
    },
    {
     "data": {
      "application/vnd.jupyter.widget-view+json": {
       "model_id": "8b88ab92cbb74ad3a2ddd9e7b7bd5c83",
       "version_major": 2,
       "version_minor": 0
      },
      "text/plain": [
       "Validation: |          | 0/? [00:00<?, ?it/s]"
      ]
     },
     "metadata": {},
     "output_type": "display_data"
    },
    {
     "data": {
      "application/vnd.jupyter.widget-view+json": {
       "model_id": "1e7448414f454e85a8ef9598513c6ee1",
       "version_major": 2,
       "version_minor": 0
      },
      "text/plain": [
       "Validation: |          | 0/? [00:00<?, ?it/s]"
      ]
     },
     "metadata": {},
     "output_type": "display_data"
    },
    {
     "data": {
      "application/vnd.jupyter.widget-view+json": {
       "model_id": "a6622e5edfbc4debb61edc5d3a3c8a24",
       "version_major": 2,
       "version_minor": 0
      },
      "text/plain": [
       "Validation: |          | 0/? [00:00<?, ?it/s]"
      ]
     },
     "metadata": {},
     "output_type": "display_data"
    },
    {
     "data": {
      "application/vnd.jupyter.widget-view+json": {
       "model_id": "9f46c25287b34b51812cabc4246102c6",
       "version_major": 2,
       "version_minor": 0
      },
      "text/plain": [
       "Validation: |          | 0/? [00:00<?, ?it/s]"
      ]
     },
     "metadata": {},
     "output_type": "display_data"
    },
    {
     "data": {
      "application/vnd.jupyter.widget-view+json": {
       "model_id": "c5fdc8fe69e44b1ca0d1dc4a8ff8e702",
       "version_major": 2,
       "version_minor": 0
      },
      "text/plain": [
       "Validation: |          | 0/? [00:00<?, ?it/s]"
      ]
     },
     "metadata": {},
     "output_type": "display_data"
    },
    {
     "data": {
      "application/vnd.jupyter.widget-view+json": {
       "model_id": "29dfc06cf629451a82008f9fad6f2a37",
       "version_major": 2,
       "version_minor": 0
      },
      "text/plain": [
       "Validation: |          | 0/? [00:00<?, ?it/s]"
      ]
     },
     "metadata": {},
     "output_type": "display_data"
    },
    {
     "data": {
      "application/vnd.jupyter.widget-view+json": {
       "model_id": "9dc9dc9e73fc4c228af34741e874923b",
       "version_major": 2,
       "version_minor": 0
      },
      "text/plain": [
       "Validation: |          | 0/? [00:00<?, ?it/s]"
      ]
     },
     "metadata": {},
     "output_type": "display_data"
    },
    {
     "data": {
      "application/vnd.jupyter.widget-view+json": {
       "model_id": "ff2f2d6801f14738aa75c148d91aa380",
       "version_major": 2,
       "version_minor": 0
      },
      "text/plain": [
       "Validation: |          | 0/? [00:00<?, ?it/s]"
      ]
     },
     "metadata": {},
     "output_type": "display_data"
    },
    {
     "data": {
      "application/vnd.jupyter.widget-view+json": {
       "model_id": "e0544cbc16e541ccbd63ad9f19443953",
       "version_major": 2,
       "version_minor": 0
      },
      "text/plain": [
       "Validation: |          | 0/? [00:00<?, ?it/s]"
      ]
     },
     "metadata": {},
     "output_type": "display_data"
    },
    {
     "data": {
      "application/vnd.jupyter.widget-view+json": {
       "model_id": "94bbc558ab1a46468f03b75eac0e6dcf",
       "version_major": 2,
       "version_minor": 0
      },
      "text/plain": [
       "Validation: |          | 0/? [00:00<?, ?it/s]"
      ]
     },
     "metadata": {},
     "output_type": "display_data"
    },
    {
     "data": {
      "application/vnd.jupyter.widget-view+json": {
       "model_id": "f36192171d3d4141b88a2b4ff06c7c3d",
       "version_major": 2,
       "version_minor": 0
      },
      "text/plain": [
       "Validation: |          | 0/? [00:00<?, ?it/s]"
      ]
     },
     "metadata": {},
     "output_type": "display_data"
    },
    {
     "data": {
      "application/vnd.jupyter.widget-view+json": {
       "model_id": "d81403063b734317bdd68017795eb6d2",
       "version_major": 2,
       "version_minor": 0
      },
      "text/plain": [
       "Validation: |          | 0/? [00:00<?, ?it/s]"
      ]
     },
     "metadata": {},
     "output_type": "display_data"
    },
    {
     "data": {
      "application/vnd.jupyter.widget-view+json": {
       "model_id": "9d5ff441208e45e48da0cf9ae8f526fb",
       "version_major": 2,
       "version_minor": 0
      },
      "text/plain": [
       "Validation: |          | 0/? [00:00<?, ?it/s]"
      ]
     },
     "metadata": {},
     "output_type": "display_data"
    },
    {
     "data": {
      "application/vnd.jupyter.widget-view+json": {
       "model_id": "564ce06fae994515a2e944d1954beb49",
       "version_major": 2,
       "version_minor": 0
      },
      "text/plain": [
       "Validation: |          | 0/? [00:00<?, ?it/s]"
      ]
     },
     "metadata": {},
     "output_type": "display_data"
    },
    {
     "data": {
      "application/vnd.jupyter.widget-view+json": {
       "model_id": "80310b8418614eb89ffe6778f514c7a7",
       "version_major": 2,
       "version_minor": 0
      },
      "text/plain": [
       "Validation: |          | 0/? [00:00<?, ?it/s]"
      ]
     },
     "metadata": {},
     "output_type": "display_data"
    },
    {
     "data": {
      "application/vnd.jupyter.widget-view+json": {
       "model_id": "9ce0972054f14c3faa477420151f4b1f",
       "version_major": 2,
       "version_minor": 0
      },
      "text/plain": [
       "Validation: |          | 0/? [00:00<?, ?it/s]"
      ]
     },
     "metadata": {},
     "output_type": "display_data"
    },
    {
     "data": {
      "application/vnd.jupyter.widget-view+json": {
       "model_id": "0ddf1c0558fc4dc3ab7c20dfa0230b6f",
       "version_major": 2,
       "version_minor": 0
      },
      "text/plain": [
       "Validation: |          | 0/? [00:00<?, ?it/s]"
      ]
     },
     "metadata": {},
     "output_type": "display_data"
    },
    {
     "data": {
      "application/vnd.jupyter.widget-view+json": {
       "model_id": "4cf3319c60844a349c3bf86501149aa5",
       "version_major": 2,
       "version_minor": 0
      },
      "text/plain": [
       "Validation: |          | 0/? [00:00<?, ?it/s]"
      ]
     },
     "metadata": {},
     "output_type": "display_data"
    },
    {
     "data": {
      "application/vnd.jupyter.widget-view+json": {
       "model_id": "da6bd0abc4d14424a8c9bcee10c3a848",
       "version_major": 2,
       "version_minor": 0
      },
      "text/plain": [
       "Validation: |          | 0/? [00:00<?, ?it/s]"
      ]
     },
     "metadata": {},
     "output_type": "display_data"
    },
    {
     "data": {
      "application/vnd.jupyter.widget-view+json": {
       "model_id": "5e7045b932984fcbb3b70591808ced4e",
       "version_major": 2,
       "version_minor": 0
      },
      "text/plain": [
       "Validation: |          | 0/? [00:00<?, ?it/s]"
      ]
     },
     "metadata": {},
     "output_type": "display_data"
    },
    {
     "data": {
      "application/vnd.jupyter.widget-view+json": {
       "model_id": "8fc33605dba3400b98f542cd0331d1a2",
       "version_major": 2,
       "version_minor": 0
      },
      "text/plain": [
       "Validation: |          | 0/? [00:00<?, ?it/s]"
      ]
     },
     "metadata": {},
     "output_type": "display_data"
    },
    {
     "data": {
      "application/vnd.jupyter.widget-view+json": {
       "model_id": "77aed8f40a25402390a6d36791140c8a",
       "version_major": 2,
       "version_minor": 0
      },
      "text/plain": [
       "Validation: |          | 0/? [00:00<?, ?it/s]"
      ]
     },
     "metadata": {},
     "output_type": "display_data"
    },
    {
     "data": {
      "application/vnd.jupyter.widget-view+json": {
       "model_id": "e062b7fcdebc4fffb641a58c22f692a9",
       "version_major": 2,
       "version_minor": 0
      },
      "text/plain": [
       "Validation: |          | 0/? [00:00<?, ?it/s]"
      ]
     },
     "metadata": {},
     "output_type": "display_data"
    },
    {
     "data": {
      "application/vnd.jupyter.widget-view+json": {
       "model_id": "fbd8bf3391a341208707e9004c9623f2",
       "version_major": 2,
       "version_minor": 0
      },
      "text/plain": [
       "Validation: |          | 0/? [00:00<?, ?it/s]"
      ]
     },
     "metadata": {},
     "output_type": "display_data"
    },
    {
     "data": {
      "application/vnd.jupyter.widget-view+json": {
       "model_id": "b8826598212b415da444ca4ded349b46",
       "version_major": 2,
       "version_minor": 0
      },
      "text/plain": [
       "Validation: |          | 0/? [00:00<?, ?it/s]"
      ]
     },
     "metadata": {},
     "output_type": "display_data"
    },
    {
     "data": {
      "application/vnd.jupyter.widget-view+json": {
       "model_id": "781e8e8e8d0d4492a1fce3d5651f4775",
       "version_major": 2,
       "version_minor": 0
      },
      "text/plain": [
       "Validation: |          | 0/? [00:00<?, ?it/s]"
      ]
     },
     "metadata": {},
     "output_type": "display_data"
    },
    {
     "data": {
      "application/vnd.jupyter.widget-view+json": {
       "model_id": "80fd469cbfa64915803db5a992643fb4",
       "version_major": 2,
       "version_minor": 0
      },
      "text/plain": [
       "Validation: |          | 0/? [00:00<?, ?it/s]"
      ]
     },
     "metadata": {},
     "output_type": "display_data"
    },
    {
     "data": {
      "application/vnd.jupyter.widget-view+json": {
       "model_id": "9d05307605dd498fa5d0f3cd4f577cba",
       "version_major": 2,
       "version_minor": 0
      },
      "text/plain": [
       "Validation: |          | 0/? [00:00<?, ?it/s]"
      ]
     },
     "metadata": {},
     "output_type": "display_data"
    },
    {
     "data": {
      "application/vnd.jupyter.widget-view+json": {
       "model_id": "57c67e4b959c4dbe88f887bbe7e475c1",
       "version_major": 2,
       "version_minor": 0
      },
      "text/plain": [
       "Validation: |          | 0/? [00:00<?, ?it/s]"
      ]
     },
     "metadata": {},
     "output_type": "display_data"
    },
    {
     "data": {
      "application/vnd.jupyter.widget-view+json": {
       "model_id": "299f4563c50d44eeb3b47a1805487085",
       "version_major": 2,
       "version_minor": 0
      },
      "text/plain": [
       "Validation: |          | 0/? [00:00<?, ?it/s]"
      ]
     },
     "metadata": {},
     "output_type": "display_data"
    },
    {
     "data": {
      "application/vnd.jupyter.widget-view+json": {
       "model_id": "9471b68a9412495590680ddf1809c2a5",
       "version_major": 2,
       "version_minor": 0
      },
      "text/plain": [
       "Validation: |          | 0/? [00:00<?, ?it/s]"
      ]
     },
     "metadata": {},
     "output_type": "display_data"
    },
    {
     "data": {
      "application/vnd.jupyter.widget-view+json": {
       "model_id": "690ae9dd9b374fcf8ef980567b88117e",
       "version_major": 2,
       "version_minor": 0
      },
      "text/plain": [
       "Validation: |          | 0/? [00:00<?, ?it/s]"
      ]
     },
     "metadata": {},
     "output_type": "display_data"
    },
    {
     "data": {
      "application/vnd.jupyter.widget-view+json": {
       "model_id": "25474ac7938d4078bc2a056a192f661f",
       "version_major": 2,
       "version_minor": 0
      },
      "text/plain": [
       "Validation: |          | 0/? [00:00<?, ?it/s]"
      ]
     },
     "metadata": {},
     "output_type": "display_data"
    },
    {
     "data": {
      "application/vnd.jupyter.widget-view+json": {
       "model_id": "d7e1bbb568d54a1ba0528f790d88c116",
       "version_major": 2,
       "version_minor": 0
      },
      "text/plain": [
       "Validation: |          | 0/? [00:00<?, ?it/s]"
      ]
     },
     "metadata": {},
     "output_type": "display_data"
    },
    {
     "data": {
      "application/vnd.jupyter.widget-view+json": {
       "model_id": "9102aba1363c45988e84400c9ead6137",
       "version_major": 2,
       "version_minor": 0
      },
      "text/plain": [
       "Validation: |          | 0/? [00:00<?, ?it/s]"
      ]
     },
     "metadata": {},
     "output_type": "display_data"
    },
    {
     "data": {
      "application/vnd.jupyter.widget-view+json": {
       "model_id": "b3ac078146bb4c6d857a9358ca3f68b4",
       "version_major": 2,
       "version_minor": 0
      },
      "text/plain": [
       "Validation: |          | 0/? [00:00<?, ?it/s]"
      ]
     },
     "metadata": {},
     "output_type": "display_data"
    },
    {
     "data": {
      "application/vnd.jupyter.widget-view+json": {
       "model_id": "756e5053c25043b4ba9f0a93de97f47e",
       "version_major": 2,
       "version_minor": 0
      },
      "text/plain": [
       "Validation: |          | 0/? [00:00<?, ?it/s]"
      ]
     },
     "metadata": {},
     "output_type": "display_data"
    },
    {
     "data": {
      "application/vnd.jupyter.widget-view+json": {
       "model_id": "d2c78cef3dfa4599bf3ae345d7191eb9",
       "version_major": 2,
       "version_minor": 0
      },
      "text/plain": [
       "Validation: |          | 0/? [00:00<?, ?it/s]"
      ]
     },
     "metadata": {},
     "output_type": "display_data"
    },
    {
     "data": {
      "application/vnd.jupyter.widget-view+json": {
       "model_id": "7df455092fa3423fb02fb7a60d2504db",
       "version_major": 2,
       "version_minor": 0
      },
      "text/plain": [
       "Validation: |          | 0/? [00:00<?, ?it/s]"
      ]
     },
     "metadata": {},
     "output_type": "display_data"
    },
    {
     "data": {
      "application/vnd.jupyter.widget-view+json": {
       "model_id": "14c7e054dd20469bad7d2304c5803dfa",
       "version_major": 2,
       "version_minor": 0
      },
      "text/plain": [
       "Validation: |          | 0/? [00:00<?, ?it/s]"
      ]
     },
     "metadata": {},
     "output_type": "display_data"
    },
    {
     "data": {
      "application/vnd.jupyter.widget-view+json": {
       "model_id": "e5b58aac52634d8082a3304d841eab9f",
       "version_major": 2,
       "version_minor": 0
      },
      "text/plain": [
       "Validation: |          | 0/? [00:00<?, ?it/s]"
      ]
     },
     "metadata": {},
     "output_type": "display_data"
    },
    {
     "data": {
      "application/vnd.jupyter.widget-view+json": {
       "model_id": "835dabd8a2d44794b941afe75aac61db",
       "version_major": 2,
       "version_minor": 0
      },
      "text/plain": [
       "Validation: |          | 0/? [00:00<?, ?it/s]"
      ]
     },
     "metadata": {},
     "output_type": "display_data"
    },
    {
     "data": {
      "application/vnd.jupyter.widget-view+json": {
       "model_id": "ce25b9b58f7f4630b8b8c34c934cc738",
       "version_major": 2,
       "version_minor": 0
      },
      "text/plain": [
       "Validation: |          | 0/? [00:00<?, ?it/s]"
      ]
     },
     "metadata": {},
     "output_type": "display_data"
    },
    {
     "data": {
      "application/vnd.jupyter.widget-view+json": {
       "model_id": "31a4f9cd92214c7184465ff2db6dcb88",
       "version_major": 2,
       "version_minor": 0
      },
      "text/plain": [
       "Validation: |          | 0/? [00:00<?, ?it/s]"
      ]
     },
     "metadata": {},
     "output_type": "display_data"
    },
    {
     "data": {
      "application/vnd.jupyter.widget-view+json": {
       "model_id": "5e51ed424bac4e05bec342347ca27b8d",
       "version_major": 2,
       "version_minor": 0
      },
      "text/plain": [
       "Validation: |          | 0/? [00:00<?, ?it/s]"
      ]
     },
     "metadata": {},
     "output_type": "display_data"
    },
    {
     "data": {
      "application/vnd.jupyter.widget-view+json": {
       "model_id": "692105ade79b434596f916636e53d51b",
       "version_major": 2,
       "version_minor": 0
      },
      "text/plain": [
       "Validation: |          | 0/? [00:00<?, ?it/s]"
      ]
     },
     "metadata": {},
     "output_type": "display_data"
    },
    {
     "data": {
      "application/vnd.jupyter.widget-view+json": {
       "model_id": "6e24b75259ad409d9efd641a2e0c265c",
       "version_major": 2,
       "version_minor": 0
      },
      "text/plain": [
       "Validation: |          | 0/? [00:00<?, ?it/s]"
      ]
     },
     "metadata": {},
     "output_type": "display_data"
    },
    {
     "data": {
      "application/vnd.jupyter.widget-view+json": {
       "model_id": "fbc58253227a4a3bb37f579ea444f2c4",
       "version_major": 2,
       "version_minor": 0
      },
      "text/plain": [
       "Validation: |          | 0/? [00:00<?, ?it/s]"
      ]
     },
     "metadata": {},
     "output_type": "display_data"
    },
    {
     "data": {
      "application/vnd.jupyter.widget-view+json": {
       "model_id": "7ed7377e90cc41dcae6a364951b58da3",
       "version_major": 2,
       "version_minor": 0
      },
      "text/plain": [
       "Validation: |          | 0/? [00:00<?, ?it/s]"
      ]
     },
     "metadata": {},
     "output_type": "display_data"
    },
    {
     "data": {
      "application/vnd.jupyter.widget-view+json": {
       "model_id": "5579b9e5e4bc4aacb239a98675ae91a3",
       "version_major": 2,
       "version_minor": 0
      },
      "text/plain": [
       "Validation: |          | 0/? [00:00<?, ?it/s]"
      ]
     },
     "metadata": {},
     "output_type": "display_data"
    },
    {
     "data": {
      "application/vnd.jupyter.widget-view+json": {
       "model_id": "43015c8c8120473d86fa9adbec33fd6d",
       "version_major": 2,
       "version_minor": 0
      },
      "text/plain": [
       "Validation: |          | 0/? [00:00<?, ?it/s]"
      ]
     },
     "metadata": {},
     "output_type": "display_data"
    },
    {
     "data": {
      "application/vnd.jupyter.widget-view+json": {
       "model_id": "64afeda0951941c193311c3eef897323",
       "version_major": 2,
       "version_minor": 0
      },
      "text/plain": [
       "Validation: |          | 0/? [00:00<?, ?it/s]"
      ]
     },
     "metadata": {},
     "output_type": "display_data"
    },
    {
     "data": {
      "application/vnd.jupyter.widget-view+json": {
       "model_id": "56b75054807343faafa733d039864f09",
       "version_major": 2,
       "version_minor": 0
      },
      "text/plain": [
       "Validation: |          | 0/? [00:00<?, ?it/s]"
      ]
     },
     "metadata": {},
     "output_type": "display_data"
    },
    {
     "data": {
      "application/vnd.jupyter.widget-view+json": {
       "model_id": "859c9f7aa4ec4c09906fb1ee6190f7c8",
       "version_major": 2,
       "version_minor": 0
      },
      "text/plain": [
       "Validation: |          | 0/? [00:00<?, ?it/s]"
      ]
     },
     "metadata": {},
     "output_type": "display_data"
    },
    {
     "data": {
      "application/vnd.jupyter.widget-view+json": {
       "model_id": "6147af8144824e219d5e960b793d8243",
       "version_major": 2,
       "version_minor": 0
      },
      "text/plain": [
       "Validation: |          | 0/? [00:00<?, ?it/s]"
      ]
     },
     "metadata": {},
     "output_type": "display_data"
    },
    {
     "data": {
      "application/vnd.jupyter.widget-view+json": {
       "model_id": "c26483c1c45949d880575b21e16a7718",
       "version_major": 2,
       "version_minor": 0
      },
      "text/plain": [
       "Validation: |          | 0/? [00:00<?, ?it/s]"
      ]
     },
     "metadata": {},
     "output_type": "display_data"
    },
    {
     "data": {
      "application/vnd.jupyter.widget-view+json": {
       "model_id": "76354bc5145c4c7682982ad49e963537",
       "version_major": 2,
       "version_minor": 0
      },
      "text/plain": [
       "Validation: |          | 0/? [00:00<?, ?it/s]"
      ]
     },
     "metadata": {},
     "output_type": "display_data"
    },
    {
     "data": {
      "application/vnd.jupyter.widget-view+json": {
       "model_id": "401dd8d42cfd4aaf83f70cc0250e7103",
       "version_major": 2,
       "version_minor": 0
      },
      "text/plain": [
       "Validation: |          | 0/? [00:00<?, ?it/s]"
      ]
     },
     "metadata": {},
     "output_type": "display_data"
    },
    {
     "data": {
      "application/vnd.jupyter.widget-view+json": {
       "model_id": "b9d7477edc824e5d963f5b0f8a5f12a1",
       "version_major": 2,
       "version_minor": 0
      },
      "text/plain": [
       "Validation: |          | 0/? [00:00<?, ?it/s]"
      ]
     },
     "metadata": {},
     "output_type": "display_data"
    },
    {
     "data": {
      "application/vnd.jupyter.widget-view+json": {
       "model_id": "388824982ea047b8b674a741ed95fe8b",
       "version_major": 2,
       "version_minor": 0
      },
      "text/plain": [
       "Validation: |          | 0/? [00:00<?, ?it/s]"
      ]
     },
     "metadata": {},
     "output_type": "display_data"
    },
    {
     "data": {
      "application/vnd.jupyter.widget-view+json": {
       "model_id": "04c5bc04564247e29e982637c439af1a",
       "version_major": 2,
       "version_minor": 0
      },
      "text/plain": [
       "Validation: |          | 0/? [00:00<?, ?it/s]"
      ]
     },
     "metadata": {},
     "output_type": "display_data"
    },
    {
     "data": {
      "application/vnd.jupyter.widget-view+json": {
       "model_id": "3b4260322eb84356805ef8494ea2d803",
       "version_major": 2,
       "version_minor": 0
      },
      "text/plain": [
       "Validation: |          | 0/? [00:00<?, ?it/s]"
      ]
     },
     "metadata": {},
     "output_type": "display_data"
    },
    {
     "data": {
      "application/vnd.jupyter.widget-view+json": {
       "model_id": "ea37ff0aa3d84d0087fdd1e58fcc1bcd",
       "version_major": 2,
       "version_minor": 0
      },
      "text/plain": [
       "Validation: |          | 0/? [00:00<?, ?it/s]"
      ]
     },
     "metadata": {},
     "output_type": "display_data"
    },
    {
     "data": {
      "application/vnd.jupyter.widget-view+json": {
       "model_id": "fcf385bdb8c64174b447b0679db89502",
       "version_major": 2,
       "version_minor": 0
      },
      "text/plain": [
       "Validation: |          | 0/? [00:00<?, ?it/s]"
      ]
     },
     "metadata": {},
     "output_type": "display_data"
    },
    {
     "data": {
      "application/vnd.jupyter.widget-view+json": {
       "model_id": "cd787810a64d44ff9a0f67bb2b3641bc",
       "version_major": 2,
       "version_minor": 0
      },
      "text/plain": [
       "Validation: |          | 0/? [00:00<?, ?it/s]"
      ]
     },
     "metadata": {},
     "output_type": "display_data"
    },
    {
     "data": {
      "application/vnd.jupyter.widget-view+json": {
       "model_id": "366b7e4687e4486fb6f4dc47788aea4e",
       "version_major": 2,
       "version_minor": 0
      },
      "text/plain": [
       "Validation: |          | 0/? [00:00<?, ?it/s]"
      ]
     },
     "metadata": {},
     "output_type": "display_data"
    },
    {
     "data": {
      "application/vnd.jupyter.widget-view+json": {
       "model_id": "2f837ebb06b645efb231492e24408fc2",
       "version_major": 2,
       "version_minor": 0
      },
      "text/plain": [
       "Validation: |          | 0/? [00:00<?, ?it/s]"
      ]
     },
     "metadata": {},
     "output_type": "display_data"
    },
    {
     "data": {
      "application/vnd.jupyter.widget-view+json": {
       "model_id": "4cfa6e6fc6924c4f8f32ea9e7a7bd071",
       "version_major": 2,
       "version_minor": 0
      },
      "text/plain": [
       "Validation: |          | 0/? [00:00<?, ?it/s]"
      ]
     },
     "metadata": {},
     "output_type": "display_data"
    },
    {
     "data": {
      "application/vnd.jupyter.widget-view+json": {
       "model_id": "960684172f174c39addbbdaad4c25c1a",
       "version_major": 2,
       "version_minor": 0
      },
      "text/plain": [
       "Validation: |          | 0/? [00:00<?, ?it/s]"
      ]
     },
     "metadata": {},
     "output_type": "display_data"
    },
    {
     "data": {
      "application/vnd.jupyter.widget-view+json": {
       "model_id": "9cb9eb22f7f54dca913b6bc2c00837c7",
       "version_major": 2,
       "version_minor": 0
      },
      "text/plain": [
       "Validation: |          | 0/? [00:00<?, ?it/s]"
      ]
     },
     "metadata": {},
     "output_type": "display_data"
    },
    {
     "data": {
      "application/vnd.jupyter.widget-view+json": {
       "model_id": "91b1bd3706164d88b195768509b81d71",
       "version_major": 2,
       "version_minor": 0
      },
      "text/plain": [
       "Validation: |          | 0/? [00:00<?, ?it/s]"
      ]
     },
     "metadata": {},
     "output_type": "display_data"
    },
    {
     "data": {
      "application/vnd.jupyter.widget-view+json": {
       "model_id": "e762c31661414864bb6800b4d174a066",
       "version_major": 2,
       "version_minor": 0
      },
      "text/plain": [
       "Validation: |          | 0/? [00:00<?, ?it/s]"
      ]
     },
     "metadata": {},
     "output_type": "display_data"
    },
    {
     "data": {
      "application/vnd.jupyter.widget-view+json": {
       "model_id": "6994f04626844ac48cfe9d6819887246",
       "version_major": 2,
       "version_minor": 0
      },
      "text/plain": [
       "Validation: |          | 0/? [00:00<?, ?it/s]"
      ]
     },
     "metadata": {},
     "output_type": "display_data"
    },
    {
     "data": {
      "application/vnd.jupyter.widget-view+json": {
       "model_id": "625f3ef969704acbab0d00046f385d47",
       "version_major": 2,
       "version_minor": 0
      },
      "text/plain": [
       "Validation: |          | 0/? [00:00<?, ?it/s]"
      ]
     },
     "metadata": {},
     "output_type": "display_data"
    },
    {
     "data": {
      "application/vnd.jupyter.widget-view+json": {
       "model_id": "fb436c77414d488da0b787fa759c5b6f",
       "version_major": 2,
       "version_minor": 0
      },
      "text/plain": [
       "Validation: |          | 0/? [00:00<?, ?it/s]"
      ]
     },
     "metadata": {},
     "output_type": "display_data"
    },
    {
     "data": {
      "application/vnd.jupyter.widget-view+json": {
       "model_id": "a550710f61c84067bf5284f804dde4ee",
       "version_major": 2,
       "version_minor": 0
      },
      "text/plain": [
       "Validation: |          | 0/? [00:00<?, ?it/s]"
      ]
     },
     "metadata": {},
     "output_type": "display_data"
    },
    {
     "data": {
      "application/vnd.jupyter.widget-view+json": {
       "model_id": "f7cd1116d16149dc9963b711c89d1f30",
       "version_major": 2,
       "version_minor": 0
      },
      "text/plain": [
       "Validation: |          | 0/? [00:00<?, ?it/s]"
      ]
     },
     "metadata": {},
     "output_type": "display_data"
    },
    {
     "data": {
      "application/vnd.jupyter.widget-view+json": {
       "model_id": "ea863952226c4438891fcfbcaa036cee",
       "version_major": 2,
       "version_minor": 0
      },
      "text/plain": [
       "Validation: |          | 0/? [00:00<?, ?it/s]"
      ]
     },
     "metadata": {},
     "output_type": "display_data"
    },
    {
     "data": {
      "application/vnd.jupyter.widget-view+json": {
       "model_id": "5bd43ab206b942bc962dfa5513ac62aa",
       "version_major": 2,
       "version_minor": 0
      },
      "text/plain": [
       "Validation: |          | 0/? [00:00<?, ?it/s]"
      ]
     },
     "metadata": {},
     "output_type": "display_data"
    },
    {
     "data": {
      "application/vnd.jupyter.widget-view+json": {
       "model_id": "4786c41dbc0e4a799b4041571f8cbdb6",
       "version_major": 2,
       "version_minor": 0
      },
      "text/plain": [
       "Validation: |          | 0/? [00:00<?, ?it/s]"
      ]
     },
     "metadata": {},
     "output_type": "display_data"
    },
    {
     "data": {
      "application/vnd.jupyter.widget-view+json": {
       "model_id": "74bafabc06cc450c9aab690fa8fbe7a3",
       "version_major": 2,
       "version_minor": 0
      },
      "text/plain": [
       "Validation: |          | 0/? [00:00<?, ?it/s]"
      ]
     },
     "metadata": {},
     "output_type": "display_data"
    },
    {
     "data": {
      "application/vnd.jupyter.widget-view+json": {
       "model_id": "c1a8e33f6f1b438993c9537dcdfb03a0",
       "version_major": 2,
       "version_minor": 0
      },
      "text/plain": [
       "Validation: |          | 0/? [00:00<?, ?it/s]"
      ]
     },
     "metadata": {},
     "output_type": "display_data"
    },
    {
     "data": {
      "application/vnd.jupyter.widget-view+json": {
       "model_id": "a2fb9c48386846e08f984577c0eb8b6c",
       "version_major": 2,
       "version_minor": 0
      },
      "text/plain": [
       "Validation: |          | 0/? [00:00<?, ?it/s]"
      ]
     },
     "metadata": {},
     "output_type": "display_data"
    },
    {
     "data": {
      "application/vnd.jupyter.widget-view+json": {
       "model_id": "75a4f6a3ce3f419484242c59bac3d5dc",
       "version_major": 2,
       "version_minor": 0
      },
      "text/plain": [
       "Validation: |          | 0/? [00:00<?, ?it/s]"
      ]
     },
     "metadata": {},
     "output_type": "display_data"
    },
    {
     "data": {
      "application/vnd.jupyter.widget-view+json": {
       "model_id": "7ace9520aeed4360bd12c544aa3e879c",
       "version_major": 2,
       "version_minor": 0
      },
      "text/plain": [
       "Validation: |          | 0/? [00:00<?, ?it/s]"
      ]
     },
     "metadata": {},
     "output_type": "display_data"
    },
    {
     "data": {
      "application/vnd.jupyter.widget-view+json": {
       "model_id": "673393a12ff04404a0ba87405dc8e1be",
       "version_major": 2,
       "version_minor": 0
      },
      "text/plain": [
       "Validation: |          | 0/? [00:00<?, ?it/s]"
      ]
     },
     "metadata": {},
     "output_type": "display_data"
    },
    {
     "data": {
      "application/vnd.jupyter.widget-view+json": {
       "model_id": "f70cc4de187e44d0ba899782c975d439",
       "version_major": 2,
       "version_minor": 0
      },
      "text/plain": [
       "Validation: |          | 0/? [00:00<?, ?it/s]"
      ]
     },
     "metadata": {},
     "output_type": "display_data"
    },
    {
     "data": {
      "application/vnd.jupyter.widget-view+json": {
       "model_id": "a6c9ee7f92474c18a3c430c144d8e490",
       "version_major": 2,
       "version_minor": 0
      },
      "text/plain": [
       "Validation: |          | 0/? [00:00<?, ?it/s]"
      ]
     },
     "metadata": {},
     "output_type": "display_data"
    },
    {
     "data": {
      "application/vnd.jupyter.widget-view+json": {
       "model_id": "73f2371d889a465389dd9ae0916e1a5d",
       "version_major": 2,
       "version_minor": 0
      },
      "text/plain": [
       "Validation: |          | 0/? [00:00<?, ?it/s]"
      ]
     },
     "metadata": {},
     "output_type": "display_data"
    },
    {
     "data": {
      "application/vnd.jupyter.widget-view+json": {
       "model_id": "a6e5210942d24e6cb803ebed13958c49",
       "version_major": 2,
       "version_minor": 0
      },
      "text/plain": [
       "Validation: |          | 0/? [00:00<?, ?it/s]"
      ]
     },
     "metadata": {},
     "output_type": "display_data"
    },
    {
     "data": {
      "application/vnd.jupyter.widget-view+json": {
       "model_id": "79e6f3b919394fd4bba991f0e9cd9e7e",
       "version_major": 2,
       "version_minor": 0
      },
      "text/plain": [
       "Validation: |          | 0/? [00:00<?, ?it/s]"
      ]
     },
     "metadata": {},
     "output_type": "display_data"
    },
    {
     "data": {
      "application/vnd.jupyter.widget-view+json": {
       "model_id": "29e31034037b4e4c843c949d16f78143",
       "version_major": 2,
       "version_minor": 0
      },
      "text/plain": [
       "Validation: |          | 0/? [00:00<?, ?it/s]"
      ]
     },
     "metadata": {},
     "output_type": "display_data"
    },
    {
     "data": {
      "application/vnd.jupyter.widget-view+json": {
       "model_id": "726014431f2c42a1bb3cdcc28d986da5",
       "version_major": 2,
       "version_minor": 0
      },
      "text/plain": [
       "Validation: |          | 0/? [00:00<?, ?it/s]"
      ]
     },
     "metadata": {},
     "output_type": "display_data"
    },
    {
     "data": {
      "application/vnd.jupyter.widget-view+json": {
       "model_id": "f8f26e2c569f4e30813949a148c2938f",
       "version_major": 2,
       "version_minor": 0
      },
      "text/plain": [
       "Validation: |          | 0/? [00:00<?, ?it/s]"
      ]
     },
     "metadata": {},
     "output_type": "display_data"
    },
    {
     "data": {
      "application/vnd.jupyter.widget-view+json": {
       "model_id": "78ed369629ef4288b2cc4c632213ba8c",
       "version_major": 2,
       "version_minor": 0
      },
      "text/plain": [
       "Validation: |          | 0/? [00:00<?, ?it/s]"
      ]
     },
     "metadata": {},
     "output_type": "display_data"
    },
    {
     "data": {
      "application/vnd.jupyter.widget-view+json": {
       "model_id": "1475608dfd2348b58ed950fe3255a31e",
       "version_major": 2,
       "version_minor": 0
      },
      "text/plain": [
       "Validation: |          | 0/? [00:00<?, ?it/s]"
      ]
     },
     "metadata": {},
     "output_type": "display_data"
    },
    {
     "data": {
      "application/vnd.jupyter.widget-view+json": {
       "model_id": "8ee6ecb4951c4d98bf815b41b82483c6",
       "version_major": 2,
       "version_minor": 0
      },
      "text/plain": [
       "Validation: |          | 0/? [00:00<?, ?it/s]"
      ]
     },
     "metadata": {},
     "output_type": "display_data"
    },
    {
     "data": {
      "application/vnd.jupyter.widget-view+json": {
       "model_id": "0b438daf4b7f4a67982f22333360a1ec",
       "version_major": 2,
       "version_minor": 0
      },
      "text/plain": [
       "Validation: |          | 0/? [00:00<?, ?it/s]"
      ]
     },
     "metadata": {},
     "output_type": "display_data"
    },
    {
     "data": {
      "application/vnd.jupyter.widget-view+json": {
       "model_id": "5d9cad1b725c4561896a8ce37b235641",
       "version_major": 2,
       "version_minor": 0
      },
      "text/plain": [
       "Validation: |          | 0/? [00:00<?, ?it/s]"
      ]
     },
     "metadata": {},
     "output_type": "display_data"
    },
    {
     "data": {
      "application/vnd.jupyter.widget-view+json": {
       "model_id": "6184861826804a98afc9d6cbbca7d21f",
       "version_major": 2,
       "version_minor": 0
      },
      "text/plain": [
       "Validation: |          | 0/? [00:00<?, ?it/s]"
      ]
     },
     "metadata": {},
     "output_type": "display_data"
    },
    {
     "data": {
      "application/vnd.jupyter.widget-view+json": {
       "model_id": "5ef94c2c15d8419ab0f07a45824ca666",
       "version_major": 2,
       "version_minor": 0
      },
      "text/plain": [
       "Validation: |          | 0/? [00:00<?, ?it/s]"
      ]
     },
     "metadata": {},
     "output_type": "display_data"
    },
    {
     "data": {
      "application/vnd.jupyter.widget-view+json": {
       "model_id": "68889fa7a5bd401b88748de43a570950",
       "version_major": 2,
       "version_minor": 0
      },
      "text/plain": [
       "Validation: |          | 0/? [00:00<?, ?it/s]"
      ]
     },
     "metadata": {},
     "output_type": "display_data"
    },
    {
     "data": {
      "application/vnd.jupyter.widget-view+json": {
       "model_id": "845aafaab1174677914352b5e524a80a",
       "version_major": 2,
       "version_minor": 0
      },
      "text/plain": [
       "Validation: |          | 0/? [00:00<?, ?it/s]"
      ]
     },
     "metadata": {},
     "output_type": "display_data"
    },
    {
     "data": {
      "application/vnd.jupyter.widget-view+json": {
       "model_id": "d31f6b40bafc4468a338d4ef59e32002",
       "version_major": 2,
       "version_minor": 0
      },
      "text/plain": [
       "Validation: |          | 0/? [00:00<?, ?it/s]"
      ]
     },
     "metadata": {},
     "output_type": "display_data"
    },
    {
     "data": {
      "application/vnd.jupyter.widget-view+json": {
       "model_id": "c49ddcb091564aedae773a674d671a21",
       "version_major": 2,
       "version_minor": 0
      },
      "text/plain": [
       "Validation: |          | 0/? [00:00<?, ?it/s]"
      ]
     },
     "metadata": {},
     "output_type": "display_data"
    },
    {
     "data": {
      "application/vnd.jupyter.widget-view+json": {
       "model_id": "7708f91da0a142ed9a1966ab37f548fd",
       "version_major": 2,
       "version_minor": 0
      },
      "text/plain": [
       "Validation: |          | 0/? [00:00<?, ?it/s]"
      ]
     },
     "metadata": {},
     "output_type": "display_data"
    },
    {
     "data": {
      "application/vnd.jupyter.widget-view+json": {
       "model_id": "47c5984fe2264243ab7c5373bc6e34c1",
       "version_major": 2,
       "version_minor": 0
      },
      "text/plain": [
       "Validation: |          | 0/? [00:00<?, ?it/s]"
      ]
     },
     "metadata": {},
     "output_type": "display_data"
    },
    {
     "data": {
      "application/vnd.jupyter.widget-view+json": {
       "model_id": "3b43f120702441079f28058c63f1224e",
       "version_major": 2,
       "version_minor": 0
      },
      "text/plain": [
       "Validation: |          | 0/? [00:00<?, ?it/s]"
      ]
     },
     "metadata": {},
     "output_type": "display_data"
    },
    {
     "data": {
      "application/vnd.jupyter.widget-view+json": {
       "model_id": "cada27f83dc44515bb84bbb14ae32cb3",
       "version_major": 2,
       "version_minor": 0
      },
      "text/plain": [
       "Validation: |          | 0/? [00:00<?, ?it/s]"
      ]
     },
     "metadata": {},
     "output_type": "display_data"
    },
    {
     "data": {
      "application/vnd.jupyter.widget-view+json": {
       "model_id": "681d58c72883446baf35e74fdfb071c8",
       "version_major": 2,
       "version_minor": 0
      },
      "text/plain": [
       "Validation: |          | 0/? [00:00<?, ?it/s]"
      ]
     },
     "metadata": {},
     "output_type": "display_data"
    },
    {
     "data": {
      "application/vnd.jupyter.widget-view+json": {
       "model_id": "965eb533fc974b24868aae8e11a42229",
       "version_major": 2,
       "version_minor": 0
      },
      "text/plain": [
       "Validation: |          | 0/? [00:00<?, ?it/s]"
      ]
     },
     "metadata": {},
     "output_type": "display_data"
    },
    {
     "data": {
      "application/vnd.jupyter.widget-view+json": {
       "model_id": "3f213613613a4741be03310b881326c8",
       "version_major": 2,
       "version_minor": 0
      },
      "text/plain": [
       "Validation: |          | 0/? [00:00<?, ?it/s]"
      ]
     },
     "metadata": {},
     "output_type": "display_data"
    },
    {
     "data": {
      "application/vnd.jupyter.widget-view+json": {
       "model_id": "a8d984a7b3ba4856b5fda5ea075562da",
       "version_major": 2,
       "version_minor": 0
      },
      "text/plain": [
       "Validation: |          | 0/? [00:00<?, ?it/s]"
      ]
     },
     "metadata": {},
     "output_type": "display_data"
    },
    {
     "data": {
      "application/vnd.jupyter.widget-view+json": {
       "model_id": "5c4d0b4b83e24c19889e5a72e9ee0865",
       "version_major": 2,
       "version_minor": 0
      },
      "text/plain": [
       "Validation: |          | 0/? [00:00<?, ?it/s]"
      ]
     },
     "metadata": {},
     "output_type": "display_data"
    },
    {
     "data": {
      "application/vnd.jupyter.widget-view+json": {
       "model_id": "6f12328b1119415593f4258af7fb5a7b",
       "version_major": 2,
       "version_minor": 0
      },
      "text/plain": [
       "Validation: |          | 0/? [00:00<?, ?it/s]"
      ]
     },
     "metadata": {},
     "output_type": "display_data"
    },
    {
     "data": {
      "application/vnd.jupyter.widget-view+json": {
       "model_id": "a3136e9481d34d93a39293df576c1823",
       "version_major": 2,
       "version_minor": 0
      },
      "text/plain": [
       "Validation: |          | 0/? [00:00<?, ?it/s]"
      ]
     },
     "metadata": {},
     "output_type": "display_data"
    },
    {
     "data": {
      "application/vnd.jupyter.widget-view+json": {
       "model_id": "5b3030e90ace46789b6346a3ab347d8e",
       "version_major": 2,
       "version_minor": 0
      },
      "text/plain": [
       "Validation: |          | 0/? [00:00<?, ?it/s]"
      ]
     },
     "metadata": {},
     "output_type": "display_data"
    },
    {
     "data": {
      "application/vnd.jupyter.widget-view+json": {
       "model_id": "139679a95b5e43239baf6113849b9f51",
       "version_major": 2,
       "version_minor": 0
      },
      "text/plain": [
       "Validation: |          | 0/? [00:00<?, ?it/s]"
      ]
     },
     "metadata": {},
     "output_type": "display_data"
    },
    {
     "data": {
      "application/vnd.jupyter.widget-view+json": {
       "model_id": "ceb318668489484da3c6db6d6264d825",
       "version_major": 2,
       "version_minor": 0
      },
      "text/plain": [
       "Validation: |          | 0/? [00:00<?, ?it/s]"
      ]
     },
     "metadata": {},
     "output_type": "display_data"
    },
    {
     "data": {
      "application/vnd.jupyter.widget-view+json": {
       "model_id": "15f1ddd8184249c8b662267458d29ce2",
       "version_major": 2,
       "version_minor": 0
      },
      "text/plain": [
       "Validation: |          | 0/? [00:00<?, ?it/s]"
      ]
     },
     "metadata": {},
     "output_type": "display_data"
    },
    {
     "name": "stderr",
     "output_type": "stream",
     "text": [
      "`Trainer.fit` stopped: `max_epochs=200` reached.\n"
     ]
    },
    {
     "data": {
      "text/plain": [
       "NBEATSModel(output_chunk_shift=0, generic_architecture=True, num_stacks=2, num_blocks=2, num_layers=4, layer_widths=256, expansion_coefficient_dim=5, trend_polynomial_degree=2, dropout=0.0, activation=ReLU, input_chunk_length=15, output_chunk_length=1, batch_size=16, random_state=42, save_checkpoints=True)"
      ]
     },
     "execution_count": 11,
     "metadata": {},
     "output_type": "execute_result"
    }
   ],
   "source": [
    "# best_params = trial.params\n",
    "best_model = NBEATSModel(\n",
    "    input_chunk_length=best_params[\"input_chunk_length\"],\n",
    "    output_chunk_length=best_params[\"output_chunk_length\"],\n",
    "    batch_size=best_params[\"batch_size\"],\n",
    "    num_blocks=best_params[\"num_blocks\"],\n",
    "    num_stacks=best_params[\"num_stacks\"],\n",
    "    random_state=42,\n",
    "    save_checkpoints=True\n",
    ")\n",
    "\n",
    "best_model.fit(series=train_series, past_covariates=cov_train, \n",
    "               val_series=val_series, val_past_covariates=cov_val, epochs=200, verbose=True)\n"
   ]
  },
  {
   "cell_type": "code",
   "execution_count": 13,
   "metadata": {},
   "outputs": [
    {
     "name": "stderr",
     "output_type": "stream",
     "text": [
      "c:\\Users\\zzhuqshun\\.conda\\envs\\ML\\lib\\site-packages\\darts\\models\\forecasting\\torch_forecasting_model.py:1842: FutureWarning: You are using `torch.load` with `weights_only=False` (the current default value), which uses the default pickle module implicitly. It is possible to construct malicious pickle data which will execute arbitrary code during unpickling (See https://github.com/pytorch/pytorch/blob/main/SECURITY.md#untrusted-models for more details). In a future release, the default value for `weights_only` will be flipped to `True`. This limits the functions that could be executed during unpickling. Arbitrary objects will no longer be allowed to be loaded via this mode unless they are explicitly allowlisted by the user via `torch.serialization.add_safe_globals`. We recommend you start setting `weights_only=True` for any use case where you don't have full control of the loaded file. Please open an issue on GitHub for any issues related to this experimental feature.\n",
      "  model: TorchForecastingModel = torch.load(\n",
      "`predict()` was called with `n > output_chunk_length`: using auto-regression to forecast the values after `output_chunk_length` points. The model will access `(n - output_chunk_length)` future values of your `past_covariates` (relative to the first predicted time step). To hide this warning, set `show_warnings=False`.\n",
      "GPU available: True (cuda), used: True\n",
      "TPU available: False, using: 0 TPU cores\n",
      "HPU available: False, using: 0 HPUs\n",
      "LOCAL_RANK: 0 - CUDA_VISIBLE_DEVICES: [0]\n"
     ]
    },
    {
     "data": {
      "application/vnd.jupyter.widget-view+json": {
       "model_id": "1c64f911157e4ecbba3d7e64630b31e4",
       "version_major": 2,
       "version_minor": 0
      },
      "text/plain": [
       "Predicting: |          | 0/? [00:00<?, ?it/s]"
      ]
     },
     "metadata": {},
     "output_type": "display_data"
    },
    {
     "data": {
      "application/vnd.jupyter.widget-view+json": {
       "model_id": "0a5c52182ccc47d7aa2576b702a8957a",
       "version_major": 2,
       "version_minor": 0
      },
      "image/png": "[encoded data removed]",
      "text/html": [
       "\n",
       "            <div style=\"display: inline-block;\">\n",
       "                <div class=\"jupyter-widgets widget-label\" style=\"text-align: center;\">\n",
       "                    Figure\n",
       "                </div>\n",
       "                <img src='data:image/png;base64,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' width=800.0/>\n",
       "            </div>\n",
       "        "
      ],
      "text/plain": [
       "Canvas(toolbar=Toolbar(toolitems=[('Home', 'Reset original view', 'home', 'home'), ('Back', 'Back to previous …"
      ]
     },
     "metadata": {},
     "output_type": "display_data"
    }
   ],
   "source": [
    "model = NBEATSModel.load_from_checkpoint('in22_out1_bs16_nb3_ns2')\n",
    "\n",
    "pred_series = model.predict(len(val_series), series=train_series, past_covariates=cov_val)\n",
    "\n",
    "plt.figure(figsize=(8, 5))\n",
    "target_series.plot(label=\"Actual\")\n",
    "pred_series.plot(label=\"Forecast\")\n",
    "plt.title(\"SOH Forecast using NBEATS Model\")\n",
    "plt.xlabel(\"Time\")\n",
    "plt.legend()\n",
    "plt.show()\n",
    "\n",
    "# plt.figure(figsize=(8, 5)) \n",
    "# train_series.plot(label=\"train\")\n",
    "# val_series.plot(label=\"true\")\n",
    "# pred_series.plot(label=\"forecast\")\n",
    "# plt.legend()\n",
    "# plt.xlabel('Time')\n",
    "# plt.show()"
   ]
  },
  {
   "cell_type": "code",
   "execution_count": null,
   "metadata": {},
   "outputs": [],
   "source": [
    "# param_grid = {\n",
    "#     'input_chunk_length': [12, 24], # Half day or full day\n",
    "#     'output_chunk_length': [1, 3, 6, 12], # One Hour or more\n",
    "#     'batch_size': [16, 32, 64], # Training speed\n",
    "#     'num_blocks': [2, 3], # Depth and nonliniarity\n",
    "#     'num_stacks': [2, 3] # Different nonlinear mode \n",
    "# }"
   ]
  },
  {
   "cell_type": "code",
   "execution_count": null,
   "metadata": {},
   "outputs": [],
   "source": [
    "# def grid_search_nbeats(param_grid, train_series, val_series, cov_train=None, cov_val=None):\n",
    "#     best_params = None\n",
    "#     best_score = float(\"inf\")\n",
    "#     best_model = None \n",
    "\n",
    "#     keys, values = zip(*param_grid.items())\n",
    "#     param_combinations = [dict(zip(keys, v)) for v in itertools.product(*values)]\n",
    "\n",
    "#     for params in tqdm(param_combinations, desc=\"Grid Search Progress\"):\n",
    "#         model = NBEATSModel(\n",
    "#             input_chunk_length=params['input_chunk_length'],\n",
    "#             output_chunk_length=params['output_chunk_length'],\n",
    "#             batch_size=params['batch_size'],\n",
    "#             num_blocks=params['num_blocks'],\n",
    "#             num_stacks=params['num_stacks'],\n",
    "#             random_state=42\n",
    "#         )\n",
    "\n",
    "#         # Training\n",
    "#         model.fit(series=train_series, past_covariates=cov_train, epochs=200)\n",
    "\n",
    "#         # Predict\n",
    "#         pred_series = model.predict(len(val_series), series=train_series, past_covariates=cov_val)\n",
    "#         score = mean_absolute_error(val_series.values(), pred_series.values())\n",
    "\n",
    "#         print(f\"Params: {params} - MAE: {score}\")\n",
    "\n",
    "#         if score < best_score:\n",
    "#             best_score = score\n",
    "#             best_params = params\n",
    "#             best_model = model\n",
    "#     if best_model is not None:\n",
    "#         best_model.save_model(\"best_nbeats_model.pth\")\n",
    "#         print(\"Best model saved as 'best_nbeats_model.pth'\")\n",
    "        \n",
    "#     print(f\"Best Params: {best_params} with MAE: {best_score}\")\n",
    "#     return best_params, best_score\n",
    "\n",
    "# best_params, best_score = grid_search_nbeats(param_grid, train_series, val_series, cov_train=cov_train, cov_val=cov_val)\n"
   ]
  }
 ],
 "metadata": {
  "kernelspec": {
   "display_name": "ML",
   "language": "python",
   "name": "python3"
  },
  "language_info": {
   "codemirror_mode": {
    "name": "ipython",
    "version": 3
   },
   "file_extension": ".py",
   "mimetype": "text/x-python",
   "name": "python",
   "nbconvert_exporter": "python",
   "pygments_lexer": "ipython3",
   "version": "3.9.18"
  }
 },
 "nbformat": 4,
 "nbformat_minor": 2
}
