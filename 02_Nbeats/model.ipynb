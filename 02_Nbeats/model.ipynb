{
 "cells": [
  {
   "cell_type": "code",
   "execution_count": 1,
   "metadata": {},
   "outputs": [
    {
     "name": "stdout",
     "output_type": "stream",
     "text": [
      "Requirement already satisfied: darts in c:\\users\\zzhuqshun\\.conda\\envs\\ml\\lib\\site-packages (0.31.0)\n",
      "Requirement already satisfied: holidays>=0.11.1 in c:\\users\\zzhuqshun\\.conda\\envs\\ml\\lib\\site-packages (from darts) (0.59)\n",
      "Requirement already satisfied: joblib>=0.16.0 in c:\\users\\zzhuqshun\\.conda\\envs\\ml\\lib\\site-packages (from darts) (1.3.2)\n",
      "Requirement already satisfied: matplotlib>=3.3.0 in c:\\users\\zzhuqshun\\.conda\\envs\\ml\\lib\\site-packages (from darts) (3.9.2)\n",
      "Requirement already satisfied: nfoursid>=1.0.0 in c:\\users\\zzhuqshun\\.conda\\envs\\ml\\lib\\site-packages (from darts) (1.0.1)\n",
      "Requirement already satisfied: numpy<2.0.0,>=1.19.0 in c:\\users\\zzhuqshun\\.conda\\envs\\ml\\lib\\site-packages (from darts) (1.26.3)\n",
      "Requirement already satisfied: pmdarima>=1.8.0 in c:\\users\\zzhuqshun\\.conda\\envs\\ml\\lib\\site-packages (from darts) (2.0.4)\n",
      "Requirement already satisfied: pyod>=0.9.5 in c:\\users\\zzhuqshun\\.conda\\envs\\ml\\lib\\site-packages (from darts) (2.0.2)\n",
      "Requirement already satisfied: requests>=2.22.0 in c:\\users\\zzhuqshun\\.conda\\envs\\ml\\lib\\site-packages (from darts) (2.32.3)\n",
      "Requirement already satisfied: scikit-learn>=1.0.1 in c:\\users\\zzhuqshun\\.conda\\envs\\ml\\lib\\site-packages (from darts) (1.3.2)\n",
      "Requirement already satisfied: scipy>=1.3.2 in c:\\users\\zzhuqshun\\.conda\\envs\\ml\\lib\\site-packages (from darts) (1.11.3)\n",
      "Requirement already satisfied: shap>=0.40.0 in c:\\users\\zzhuqshun\\.conda\\envs\\ml\\lib\\site-packages (from darts) (0.46.0)\n",
      "Requirement already satisfied: statsforecast>=1.4 in c:\\users\\zzhuqshun\\.conda\\envs\\ml\\lib\\site-packages (from darts) (1.7.8)\n",
      "Requirement already satisfied: statsmodels>=0.14.0 in c:\\users\\zzhuqshun\\.conda\\envs\\ml\\lib\\site-packages (from darts) (0.14.4)\n",
      "Requirement already satisfied: tbats>=1.1.0 in c:\\users\\zzhuqshun\\.conda\\envs\\ml\\lib\\site-packages (from darts) (1.1.3)\n",
      "Requirement already satisfied: tqdm>=4.60.0 in c:\\users\\zzhuqshun\\.conda\\envs\\ml\\lib\\site-packages (from darts) (4.66.5)\n",
      "Requirement already satisfied: typing-extensions in c:\\users\\zzhuqshun\\.conda\\envs\\ml\\lib\\site-packages (from darts) (4.12.2)\n",
      "Requirement already satisfied: xarray>=0.17.0 in c:\\users\\zzhuqshun\\.conda\\envs\\ml\\lib\\site-packages (from darts) (2024.7.0)\n",
      "Requirement already satisfied: xgboost>=1.6.0 in c:\\users\\zzhuqshun\\.conda\\envs\\ml\\lib\\site-packages (from darts) (2.1.2)\n",
      "Requirement already satisfied: pytorch-lightning>=1.5.0 in c:\\users\\zzhuqshun\\.conda\\envs\\ml\\lib\\site-packages (from darts) (2.4.0)\n",
      "Requirement already satisfied: tensorboardX>=2.1 in c:\\users\\zzhuqshun\\.conda\\envs\\ml\\lib\\site-packages (from darts) (2.6.2.2)\n",
      "Requirement already satisfied: torch>=1.8.0 in c:\\users\\zzhuqshun\\.conda\\envs\\ml\\lib\\site-packages (from darts) (2.4.1+cu118)\n",
      "Requirement already satisfied: pandas>=1.0.5 in c:\\users\\zzhuqshun\\.conda\\envs\\ml\\lib\\site-packages (from darts) (2.2.2)\n",
      "Requirement already satisfied: python-dateutil in c:\\users\\zzhuqshun\\.conda\\envs\\ml\\lib\\site-packages (from holidays>=0.11.1->darts) (2.8.2)\n",
      "Requirement already satisfied: contourpy>=1.0.1 in c:\\users\\zzhuqshun\\.conda\\envs\\ml\\lib\\site-packages (from matplotlib>=3.3.0->darts) (1.2.0)\n",
      "Requirement already satisfied: cycler>=0.10 in c:\\users\\zzhuqshun\\.conda\\envs\\ml\\lib\\site-packages (from matplotlib>=3.3.0->darts) (0.11.0)\n",
      "Requirement already satisfied: fonttools>=4.22.0 in c:\\users\\zzhuqshun\\.conda\\envs\\ml\\lib\\site-packages (from matplotlib>=3.3.0->darts) (4.25.0)\n",
      "Requirement already satisfied: kiwisolver>=1.3.1 in c:\\users\\zzhuqshun\\.conda\\envs\\ml\\lib\\site-packages (from matplotlib>=3.3.0->darts) (1.4.4)\n",
      "Requirement already satisfied: packaging>=20.0 in c:\\users\\zzhuqshun\\.conda\\envs\\ml\\lib\\site-packages (from matplotlib>=3.3.0->darts) (24.1)\n",
      "Requirement already satisfied: pillow>=8 in c:\\users\\zzhuqshun\\.conda\\envs\\ml\\lib\\site-packages (from matplotlib>=3.3.0->darts) (10.2.0)\n",
      "Requirement already satisfied: pyparsing>=2.3.1 in c:\\users\\zzhuqshun\\.conda\\envs\\ml\\lib\\site-packages (from matplotlib>=3.3.0->darts) (3.1.2)\n",
      "Requirement already satisfied: importlib-resources>=3.2.0 in c:\\users\\zzhuqshun\\.conda\\envs\\ml\\lib\\site-packages (from matplotlib>=3.3.0->darts) (6.4.0)\n",
      "Requirement already satisfied: pytz>=2020.1 in c:\\users\\zzhuqshun\\.conda\\envs\\ml\\lib\\site-packages (from pandas>=1.0.5->darts) (2022.7.1)\n",
      "Requirement already satisfied: tzdata>=2022.7 in c:\\users\\zzhuqshun\\.conda\\envs\\ml\\lib\\site-packages (from pandas>=1.0.5->darts) (2023.3)\n",
      "Requirement already satisfied: Cython!=0.29.18,!=0.29.31,>=0.29 in c:\\users\\zzhuqshun\\.conda\\envs\\ml\\lib\\site-packages (from pmdarima>=1.8.0->darts) (3.0.11)\n",
      "Requirement already satisfied: urllib3 in c:\\users\\zzhuqshun\\.conda\\envs\\ml\\lib\\site-packages (from pmdarima>=1.8.0->darts) (1.26.20)\n",
      "Requirement already satisfied: setuptools!=50.0.0,>=38.6.0 in c:\\users\\zzhuqshun\\.conda\\envs\\ml\\lib\\site-packages (from pmdarima>=1.8.0->darts) (72.1.0)\n",
      "Requirement already satisfied: numba>=0.51 in c:\\users\\zzhuqshun\\.conda\\envs\\ml\\lib\\site-packages (from pyod>=0.9.5->darts) (0.60.0)\n",
      "Requirement already satisfied: PyYAML>=5.4 in c:\\users\\zzhuqshun\\.conda\\envs\\ml\\lib\\site-packages (from pytorch-lightning>=1.5.0->darts) (6.0.1)\n",
      "Requirement already satisfied: fsspec>=2022.5.0 in c:\\users\\zzhuqshun\\.conda\\envs\\ml\\lib\\site-packages (from fsspec[http]>=2022.5.0->pytorch-lightning>=1.5.0->darts) (2024.2.0)\n",
      "Requirement already satisfied: torchmetrics>=0.7.0 in c:\\users\\zzhuqshun\\.conda\\envs\\ml\\lib\\site-packages (from pytorch-lightning>=1.5.0->darts) (1.4.2)\n",
      "Requirement already satisfied: lightning-utilities>=0.10.0 in c:\\users\\zzhuqshun\\.conda\\envs\\ml\\lib\\site-packages (from pytorch-lightning>=1.5.0->darts) (0.11.7)\n",
      "Requirement already satisfied: charset-normalizer<4,>=2 in c:\\users\\zzhuqshun\\.conda\\envs\\ml\\lib\\site-packages (from requests>=2.22.0->darts) (2.0.4)\n",
      "Requirement already satisfied: idna<4,>=2.5 in c:\\users\\zzhuqshun\\.conda\\envs\\ml\\lib\\site-packages (from requests>=2.22.0->darts) (3.7)\n",
      "Requirement already satisfied: certifi>=2017.4.17 in c:\\users\\zzhuqshun\\.conda\\envs\\ml\\lib\\site-packages (from requests>=2.22.0->darts) (2024.8.30)\n",
      "Requirement already satisfied: threadpoolctl>=2.0.0 in c:\\users\\zzhuqshun\\.conda\\envs\\ml\\lib\\site-packages (from scikit-learn>=1.0.1->darts) (3.2.0)\n",
      "Requirement already satisfied: slicer==0.0.8 in c:\\users\\zzhuqshun\\.conda\\envs\\ml\\lib\\site-packages (from shap>=0.40.0->darts) (0.0.8)\n",
      "Requirement already satisfied: cloudpickle in c:\\users\\zzhuqshun\\.conda\\envs\\ml\\lib\\site-packages (from shap>=0.40.0->darts) (3.1.0)\n",
      "Requirement already satisfied: coreforecast>=0.0.12 in c:\\users\\zzhuqshun\\.conda\\envs\\ml\\lib\\site-packages (from statsforecast>=1.4->darts) (0.0.13.1)\n",
      "Requirement already satisfied: fugue>=0.8.1 in c:\\users\\zzhuqshun\\.conda\\envs\\ml\\lib\\site-packages (from statsforecast>=1.4->darts) (0.9.1)\n",
      "Requirement already satisfied: utilsforecast>=0.1.4 in c:\\users\\zzhuqshun\\.conda\\envs\\ml\\lib\\site-packages (from statsforecast>=1.4->darts) (0.2.7)\n",
      "Requirement already satisfied: patsy>=0.5.6 in c:\\users\\zzhuqshun\\.conda\\envs\\ml\\lib\\site-packages (from statsmodels>=0.14.0->darts) (0.5.6)\n",
      "Requirement already satisfied: protobuf>=3.20 in c:\\users\\zzhuqshun\\.conda\\envs\\ml\\lib\\site-packages (from tensorboardX>=2.1->darts) (3.20.2)\n",
      "Requirement already satisfied: filelock in c:\\users\\zzhuqshun\\.conda\\envs\\ml\\lib\\site-packages (from torch>=1.8.0->darts) (3.13.1)\n",
      "Requirement already satisfied: sympy in c:\\users\\zzhuqshun\\.conda\\envs\\ml\\lib\\site-packages (from torch>=1.8.0->darts) (1.12)\n",
      "Requirement already satisfied: networkx in c:\\users\\zzhuqshun\\.conda\\envs\\ml\\lib\\site-packages (from torch>=1.8.0->darts) (3.2.1)\n",
      "Requirement already satisfied: jinja2 in c:\\users\\zzhuqshun\\.conda\\envs\\ml\\lib\\site-packages (from torch>=1.8.0->darts) (3.1.3)\n",
      "Requirement already satisfied: colorama in c:\\users\\zzhuqshun\\.conda\\envs\\ml\\lib\\site-packages (from tqdm>=4.60.0->darts) (0.4.6)\n",
      "Requirement already satisfied: aiohttp!=4.0.0a0,!=4.0.0a1 in c:\\users\\zzhuqshun\\.conda\\envs\\ml\\lib\\site-packages (from fsspec[http]>=2022.5.0->pytorch-lightning>=1.5.0->darts) (3.10.5)\n",
      "Requirement already satisfied: triad>=0.9.7 in c:\\users\\zzhuqshun\\.conda\\envs\\ml\\lib\\site-packages (from fugue>=0.8.1->statsforecast>=1.4->darts) (0.9.8)\n",
      "Requirement already satisfied: adagio>=0.2.4 in c:\\users\\zzhuqshun\\.conda\\envs\\ml\\lib\\site-packages (from fugue>=0.8.1->statsforecast>=1.4->darts) (0.2.6)\n",
      "Requirement already satisfied: zipp>=3.1.0 in c:\\users\\zzhuqshun\\.conda\\envs\\ml\\lib\\site-packages (from importlib-resources>=3.2.0->matplotlib>=3.3.0->darts) (3.17.0)\n",
      "Requirement already satisfied: llvmlite<0.44,>=0.43.0dev0 in c:\\users\\zzhuqshun\\.conda\\envs\\ml\\lib\\site-packages (from numba>=0.51->pyod>=0.9.5->darts) (0.43.0)\n",
      "Requirement already satisfied: six in c:\\users\\zzhuqshun\\.conda\\envs\\ml\\lib\\site-packages (from patsy>=0.5.6->statsmodels>=0.14.0->darts) (1.16.0)\n",
      "Requirement already satisfied: MarkupSafe>=2.0 in c:\\users\\zzhuqshun\\.conda\\envs\\ml\\lib\\site-packages (from jinja2->torch>=1.8.0->darts) (2.1.5)\n",
      "Requirement already satisfied: mpmath>=0.19 in c:\\users\\zzhuqshun\\.conda\\envs\\ml\\lib\\site-packages (from sympy->torch>=1.8.0->darts) (1.3.0)\n",
      "Requirement already satisfied: aiohappyeyeballs>=2.3.0 in c:\\users\\zzhuqshun\\.conda\\envs\\ml\\lib\\site-packages (from aiohttp!=4.0.0a0,!=4.0.0a1->fsspec[http]>=2022.5.0->pytorch-lightning>=1.5.0->darts) (2.4.0)\n",
      "Requirement already satisfied: aiosignal>=1.1.2 in c:\\users\\zzhuqshun\\.conda\\envs\\ml\\lib\\site-packages (from aiohttp!=4.0.0a0,!=4.0.0a1->fsspec[http]>=2022.5.0->pytorch-lightning>=1.5.0->darts) (1.2.0)\n",
      "Requirement already satisfied: attrs>=17.3.0 in c:\\users\\zzhuqshun\\.conda\\envs\\ml\\lib\\site-packages (from aiohttp!=4.0.0a0,!=4.0.0a1->fsspec[http]>=2022.5.0->pytorch-lightning>=1.5.0->darts) (23.1.0)\n",
      "Requirement already satisfied: frozenlist>=1.1.1 in c:\\users\\zzhuqshun\\.conda\\envs\\ml\\lib\\site-packages (from aiohttp!=4.0.0a0,!=4.0.0a1->fsspec[http]>=2022.5.0->pytorch-lightning>=1.5.0->darts) (1.4.0)\n",
      "Requirement already satisfied: multidict<7.0,>=4.5 in c:\\users\\zzhuqshun\\.conda\\envs\\ml\\lib\\site-packages (from aiohttp!=4.0.0a0,!=4.0.0a1->fsspec[http]>=2022.5.0->pytorch-lightning>=1.5.0->darts) (6.0.4)\n",
      "Requirement already satisfied: yarl<2.0,>=1.0 in c:\\users\\zzhuqshun\\.conda\\envs\\ml\\lib\\site-packages (from aiohttp!=4.0.0a0,!=4.0.0a1->fsspec[http]>=2022.5.0->pytorch-lightning>=1.5.0->darts) (1.11.0)\n",
      "Requirement already satisfied: async-timeout<5.0,>=4.0 in c:\\users\\zzhuqshun\\.conda\\envs\\ml\\lib\\site-packages (from aiohttp!=4.0.0a0,!=4.0.0a1->fsspec[http]>=2022.5.0->pytorch-lightning>=1.5.0->darts) (4.0.3)\n",
      "Requirement already satisfied: pyarrow>=6.0.1 in c:\\users\\zzhuqshun\\.conda\\envs\\ml\\lib\\site-packages (from triad>=0.9.7->fugue>=0.8.1->statsforecast>=1.4->darts) (17.0.0)\n",
      "Requirement already satisfied: fs in c:\\users\\zzhuqshun\\.conda\\envs\\ml\\lib\\site-packages (from triad>=0.9.7->fugue>=0.8.1->statsforecast>=1.4->darts) (2.4.16)\n",
      "Requirement already satisfied: appdirs~=1.4.3 in c:\\users\\zzhuqshun\\.conda\\envs\\ml\\lib\\site-packages (from fs->triad>=0.9.7->fugue>=0.8.1->statsforecast>=1.4->darts) (1.4.4)\n",
      "Note: you may need to restart the kernel to use updated packages.\n"
     ]
    }
   ],
   "source": [
    "%pip install darts\n",
    "%matplotlib widget"
   ]
  },
  {
   "cell_type": "code",
   "execution_count": 2,
   "metadata": {},
   "outputs": [],
   "source": [
    "## Packages\n",
    "import pandas as pd\n",
    "import numpy as np\n",
    "import matplotlib.pyplot as plt\n",
    "from darts import TimeSeries\n",
    "from darts.models import NBEATSModel\n",
    "from darts.dataprocessing.transformers import Scaler\n",
    "from sklearn.metrics import mean_absolute_error\n",
    "from pytorch_lightning.callbacks import ModelCheckpoint\n",
    "from sklearn.preprocessing import MinMaxScaler\n",
    "from pathlib import Path\n",
    "import optuna\n",
    "from tqdm import tqdm\n",
    "from sklearn.model_selection import train_test_split\n",
    "from typing import Dict, Tuple\n",
    "\n",
    "\n"
   ]
  },
  {
   "cell_type": "code",
   "execution_count": null,
   "metadata": {},
   "outputs": [
    {
     "name": "stderr",
     "output_type": "stream",
     "text": [
      "Processing cells: 100%|██████████| 15/15 [01:14<00:00,  4.98s/cell]\n"
     ]
    }
   ],
   "source": [
    "# ## Read data\n",
    "# data = pd.read_parquet(r\"..\\01_Datenaufbereitung\\Output\\Calculated\\df_15.parquet\")\n",
    "# data['Absolute_Time[yyyy-mm-dd hh:mm:ss]'] = pd.to_datetime(data['Absolute_Time[yyyy-mm-dd hh:mm:ss]'])\n",
    "# data = data[['Absolute_Time[yyyy-mm-dd hh:mm:ss]', 'Current[A]', 'Voltage[V]', 'Temperature[°C]', 'SOH_ZHU']]\n",
    "\n",
    "# ## Resample to hourly\n",
    "# data.set_index('Absolute_Time[yyyy-mm-dd hh:mm:ss]', inplace=True)\n",
    "# data_hourly = data.resample('h').mean().reset_index()\n",
    "\n",
    "# ## Fill missing values\n",
    "# data_hourly.interpolate(method='linear', inplace=True)\n",
    "# data_hourly['SOH_ZHU'] = data_hourly['SOH_ZHU'].fillna(1)"
   ]
  },
  {
   "cell_type": "code",
   "execution_count": null,
   "metadata": {},
   "outputs": [
    {
     "name": "stderr",
     "output_type": "stream",
     "text": [
      "Processing cells: 100%|██████████| 15/15 [01:14<00:00,  4.98s/cell]\n"
     ]
    }
   ],
   "source": [
    "# ## Read data\n",
    "# data = pd.read_parquet(r\"..\\01_Datenaufbereitung\\Output\\Calculated\\df_15.parquet\")\n",
    "# data['Absolute_Time[yyyy-mm-dd hh:mm:ss]'] = pd.to_datetime(data['Absolute_Time[yyyy-mm-dd hh:mm:ss]'])\n",
    "# data = data[['Absolute_Time[yyyy-mm-dd hh:mm:ss]', 'Current[A]', 'Voltage[V]', 'Temperature[°C]', 'SOH_ZHU']]\n",
    "\n",
    "# ## Resample to hourly\n",
    "# data.set_index('Absolute_Time[yyyy-mm-dd hh:mm:ss]', inplace=True)\n",
    "# data_hourly = data.resample('h').mean().reset_index()\n",
    "\n",
    "# ## Fill missing values\n",
    "# data_hourly.interpolate(method='linear', inplace=True)\n",
    "# data_hourly['SOH_ZHU'] = data_hourly['SOH_ZHU'].fillna(1)"
   ]
  },
  {
   "cell_type": "code",
   "execution_count": null,
   "metadata": {},
   "outputs": [
    {
     "data": {
      "text/plain": [
       "Text(0.5, 0, 'Time')"
      ]
     },
     "execution_count": 6,
     "metadata": {},
     "output_type": "execute_result"
    },
    {
     "data": {
      "application/vnd.jupyter.widget-view+json": {
       "model_id": "0f073f254b894679ae955db40ca3314d",
       "version_major": 2,
       "version_minor": 0
      },
      "image/png": "[encoded data removed]",
      "text/html": [
       "\n",
       "            <div style=\"display: inline-block;\">\n",
       "                <div class=\"jupyter-widgets widget-label\" style=\"text-align: center;\">\n",
       "                    Figure\n",
       "                </div>\n",
       "                <img src='data:image/png;base64,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' width=800.0/>\n",
       "            </div>\n",
       "        "
      ],
      "text/plain": [
       "Canvas(toolbar=Toolbar(toolitems=[('Home', 'Reset original view', 'home', 'home'), ('Back', 'Back to previous …"
      ]
     },
     "metadata": {},
     "output_type": "display_data"
    }
   ],
   "source": [
    "# # ## Data to time series\n",
    "# # target_series = TimeSeries.from_dataframe(data_hourly, 'Absolute_Time[yyyy-mm-dd hh:mm:ss]', 'SOH_ZHU')\n",
    "# # covariates = TimeSeries.from_dataframe(data_hourly, 'Absolute_Time[yyyy-mm-dd hh:mm:ss]', ['Current[A]', 'Voltage[V]', 'Temperature[°C]'])\n",
    "\n",
    "# # ## Time align\n",
    "# # target_series, covariates = target_series.slice_intersect(covariates), covariates.slice_intersect(target_series)\n",
    "\n",
    "# # ## Covariates normalization\n",
    "# # scaler = Scaler() # Scale data [min,max] to [0,1]\n",
    "# # ## Don't scale SOH\n",
    "# # covariates_scaled = scaler.fit_transform(covariates)\n",
    "\n",
    "# ## Data split\n",
    "# train_series, val_series = target_series.split_after(0.8)\n",
    "# cov_train, cov_val = covariates_scaled.split_after(0.8)\n",
    "\n",
    "# # Time align\n",
    "# required_start_time = train_series.start_time() - pd.Timedelta(hours=12) \n",
    "# if cov_train.start_time() > required_start_time:\n",
    "#     cov_train = covariates_scaled.slice(required_start_time, cov_train.end_time())\n",
    "# if cov_val.start_time() > required_start_time:\n",
    "#     cov_val = covariates_scaled.slice(required_start_time, cov_val.end_time())\n",
    "\n",
    "# plt.figure(figsize=(8, 5))\n",
    "# train_series.plot(label=\"training\")\n",
    "# val_series.plot(label=\"validation\")\n",
    "# plt.title(\"SOH Over Time (hourly)\")\n",
    "# plt.xlabel(\"Time\")"
   ]
  },
  {
   "cell_type": "code",
   "execution_count": 3,
   "metadata": {},
   "outputs": [
    {
     "name": "stdout",
     "output_type": "stream",
     "text": [
      "Found 15 parquet files\n"
     ]
    },
    {
     "name": "stderr",
     "output_type": "stream",
     "text": [
      "Processing cells:   0%|          | 0/15 [00:00<?, ?cell/s]"
     ]
    },
    {
     "name": "stdout",
     "output_type": "stream",
     "text": [
      "Processing C01 ...\n"
     ]
    },
    {
     "name": "stderr",
     "output_type": "stream",
     "text": [
      "Processing cells:   7%|▋         | 1/15 [00:15<03:40, 15.78s/cell]"
     ]
    },
    {
     "name": "stdout",
     "output_type": "stream",
     "text": [
      "Processing C03 ...\n"
     ]
    },
    {
     "name": "stderr",
     "output_type": "stream",
     "text": [
      "Processing cells:  13%|█▎        | 2/15 [00:22<02:15, 10.43s/cell]"
     ]
    },
    {
     "name": "stdout",
     "output_type": "stream",
     "text": [
      "Processing C05 ...\n"
     ]
    },
    {
     "name": "stderr",
     "output_type": "stream",
     "text": [
      "Processing cells:  20%|██        | 3/15 [00:29<01:43,  8.66s/cell]"
     ]
    },
    {
     "name": "stdout",
     "output_type": "stream",
     "text": [
      "Processing C07 ...\n"
     ]
    },
    {
     "name": "stderr",
     "output_type": "stream",
     "text": [
      "Processing cells:  27%|██▋       | 4/15 [00:34<01:22,  7.53s/cell]"
     ]
    },
    {
     "name": "stdout",
     "output_type": "stream",
     "text": [
      "Processing C09 ...\n"
     ]
    },
    {
     "name": "stderr",
     "output_type": "stream",
     "text": [
      "Processing cells:  33%|███▎      | 5/15 [00:38<01:00,  6.01s/cell]"
     ]
    },
    {
     "name": "stdout",
     "output_type": "stream",
     "text": [
      "Processing C11 ...\n"
     ]
    },
    {
     "name": "stderr",
     "output_type": "stream",
     "text": [
      "Processing cells:  40%|████      | 6/15 [00:41<00:46,  5.21s/cell]"
     ]
    },
    {
     "name": "stdout",
     "output_type": "stream",
     "text": [
      "Processing C13 ...\n"
     ]
    },
    {
     "name": "stderr",
     "output_type": "stream",
     "text": [
      "Processing cells:  47%|████▋     | 7/15 [00:43<00:31,  3.98s/cell]"
     ]
    },
    {
     "name": "stdout",
     "output_type": "stream",
     "text": [
      "Processing C15 ...\n"
     ]
    },
    {
     "name": "stderr",
     "output_type": "stream",
     "text": [
      "Processing cells:  53%|█████▎    | 8/15 [00:45<00:23,  3.31s/cell]"
     ]
    },
    {
     "name": "stdout",
     "output_type": "stream",
     "text": [
      "Processing C17 ...\n"
     ]
    },
    {
     "name": "stderr",
     "output_type": "stream",
     "text": [
      "Processing cells:  60%|██████    | 9/15 [00:50<00:24,  4.10s/cell]"
     ]
    },
    {
     "name": "stdout",
     "output_type": "stream",
     "text": [
      "Processing C19 ...\n"
     ]
    },
    {
     "name": "stderr",
     "output_type": "stream",
     "text": [
      "Processing cells:  67%|██████▋   | 10/15 [00:56<00:23,  4.61s/cell]"
     ]
    },
    {
     "name": "stdout",
     "output_type": "stream",
     "text": [
      "Processing C21 ...\n"
     ]
    },
    {
     "name": "stderr",
     "output_type": "stream",
     "text": [
      "Processing cells:  73%|███████▎  | 11/15 [01:02<00:19,  4.99s/cell]"
     ]
    },
    {
     "name": "stdout",
     "output_type": "stream",
     "text": [
      "Processing C23 ...\n"
     ]
    },
    {
     "name": "stderr",
     "output_type": "stream",
     "text": [
      "Processing cells:  80%|████████  | 12/15 [01:09<00:16,  5.46s/cell]"
     ]
    },
    {
     "name": "stdout",
     "output_type": "stream",
     "text": [
      "Processing C25 ...\n"
     ]
    },
    {
     "name": "stderr",
     "output_type": "stream",
     "text": [
      "Processing cells:  87%|████████▋ | 13/15 [01:14<00:10,  5.34s/cell]"
     ]
    },
    {
     "name": "stdout",
     "output_type": "stream",
     "text": [
      "Processing C27 ...\n"
     ]
    },
    {
     "name": "stderr",
     "output_type": "stream",
     "text": [
      "Processing cells:  93%|█████████▎| 14/15 [01:20<00:05,  5.66s/cell]"
     ]
    },
    {
     "name": "stdout",
     "output_type": "stream",
     "text": [
      "Processing C29 ...\n"
     ]
    },
    {
     "name": "stderr",
     "output_type": "stream",
     "text": [
      "Processing cells: 100%|██████████| 15/15 [01:24<00:00,  5.62s/cell]\n"
     ]
    }
   ],
   "source": [
    "def load_data(data_dir: str, feature_range=(-1, 1)) -> dict:\n",
    "    data_path = Path(data_dir)\n",
    "    processed_data = {}\n",
    "\n",
    "    # Find all parquet files\n",
    "    parquet_files = list(data_path.glob(\"**/df*.parquet\"))\n",
    "    print(f\"Found {len(parquet_files)} parquet files\")\n",
    "\n",
    "    for file_path in tqdm(parquet_files, desc=\"Processing cells\", unit=\"cell\"):\n",
    "        # Extract cell number from parent directory name\n",
    "        file_name = file_path.stem  \n",
    "        cell_number = file_name.replace('df_', '')  \n",
    "        cell_name = f'C{cell_number}'  \n",
    "        tqdm.write(f\"Processing {cell_name} ...\")\n",
    "            \n",
    "        # Load and process data\n",
    "        data = pd.read_parquet(file_path)\n",
    "        data['Absolute_Time[yyyy-mm-dd hh:mm:ss]'] = pd.to_datetime(data['Absolute_Time[yyyy-mm-dd hh:mm:ss]'])\n",
    "        \n",
    "        # Select relevant columns\n",
    "        data = data[['Absolute_Time[yyyy-mm-dd hh:mm:ss]', 'Current[A]', 'Voltage[V]', \n",
    "                    'Temperature[°C]', 'SOH_ZHU']]\n",
    "        \n",
    "        # Resample to hourly\n",
    "        data.set_index('Absolute_Time[yyyy-mm-dd hh:mm:ss]', inplace=True)\n",
    "        data_hourly = data.resample('h').mean().reset_index()\n",
    "        \n",
    "        # Fill missing values\n",
    "        data_hourly.interpolate(method='linear', inplace=True)\n",
    "        data_hourly['SOH_ZHU'] = data_hourly['SOH_ZHU'].fillna(1)\n",
    "        \n",
    "        # Convert to time series\n",
    "        target_series = TimeSeries.from_dataframe(\n",
    "            data_hourly, 'Absolute_Time[yyyy-mm-dd hh:mm:ss]', 'SOH_ZHU'\n",
    "        )\n",
    "        covariates = TimeSeries.from_dataframe(\n",
    "            data_hourly, 'Absolute_Time[yyyy-mm-dd hh:mm:ss]', \n",
    "            ['Current[A]', 'Voltage[V]', 'Temperature[°C]']\n",
    "        )\n",
    "        \n",
    "        # Time align\n",
    "        target_series, covariates = target_series.slice_intersect(covariates), covariates.slice_intersect(target_series)\n",
    "        \n",
    "        # Scale covariates\n",
    "        scaler = Scaler(scaler=MinMaxScaler(feature_range=(-1,1)))\n",
    "        covariates_scaled = scaler.fit_transform(covariates)\n",
    "        \n",
    "        processed_data[cell_name] = {\n",
    "            'target': target_series,\n",
    "            'covariates_scaled': covariates_scaled\n",
    "        }\n",
    "    \n",
    "    return processed_data\n",
    "\n",
    "data_dir = \"../01_Datenaufbereitung/Output/Calculated/\"\n",
    "processed_data = load_data(data_dir)"
   ]
  },
  {
   "cell_type": "code",
   "execution_count": 4,
   "metadata": {},
   "outputs": [
    {
     "name": "stdout",
     "output_type": "stream",
     "text": [
      "All Data Ranges:\n",
      "\n",
      "=== C01 ===\n",
      "\n",
      "Target (SOH_ZHU):\n",
      "Time Range: 2023-02-02 09:00:00 to 2023-09-16 07:00:00\n",
      "Value Range: 0.9225 to 1.0000\n",
      "Number of Data Points: 5423\n",
      "\n",
      "Covariates (scaled):\n",
      "Current[A]:\n",
      "Value Range: -1.0000 to 1.0000\n",
      "Voltage[V]:\n",
      "Value Range: -1.0000 to 1.0000\n",
      "Temperature[°C]:\n",
      "Value Range: -1.0000 to 1.0000\n",
      "\n",
      "=== C03 ===\n",
      "\n",
      "Target (SOH_ZHU):\n",
      "Time Range: 2023-02-02 09:00:00 to 2023-08-17 10:00:00\n",
      "Value Range: 0.9206 to 1.0000\n",
      "Number of Data Points: 4706\n",
      "\n",
      "Covariates (scaled):\n",
      "Current[A]:\n",
      "Value Range: -1.0000 to 1.0000\n",
      "Voltage[V]:\n",
      "Value Range: -1.0000 to 1.0000\n",
      "Temperature[°C]:\n",
      "Value Range: -1.0000 to 1.0000\n",
      "\n",
      "=== C05 ===\n",
      "\n",
      "Target (SOH_ZHU):\n",
      "Time Range: 2023-02-02 09:00:00 to 2023-08-13 12:00:00\n",
      "Value Range: 0.9172 to 1.0000\n",
      "Number of Data Points: 4612\n",
      "\n",
      "Covariates (scaled):\n",
      "Current[A]:\n",
      "Value Range: -1.0000 to 1.0000\n",
      "Voltage[V]:\n",
      "Value Range: -1.0000 to 1.0000\n",
      "Temperature[°C]:\n",
      "Value Range: -1.0000 to 1.0000\n",
      "\n",
      "=== C07 ===\n",
      "\n",
      "Target (SOH_ZHU):\n",
      "Time Range: 2023-02-02 09:00:00 to 2023-08-13 14:00:00\n",
      "Value Range: 0.8744 to 1.0000\n",
      "Number of Data Points: 4614\n",
      "\n",
      "Covariates (scaled):\n",
      "Current[A]:\n",
      "Value Range: -1.0000 to 1.0000\n",
      "Voltage[V]:\n",
      "Value Range: -1.0000 to 1.0000\n",
      "Temperature[°C]:\n",
      "Value Range: -1.0000 to 1.0000\n",
      "\n",
      "=== C09 ===\n",
      "\n",
      "Target (SOH_ZHU):\n",
      "Time Range: 2023-02-02 09:00:00 to 2023-05-23 08:00:00\n",
      "Value Range: 0.6815 to 1.0000\n",
      "Number of Data Points: 2640\n",
      "\n",
      "Covariates (scaled):\n",
      "Current[A]:\n",
      "Value Range: -1.0000 to 1.0000\n",
      "Voltage[V]:\n",
      "Value Range: -1.0000 to 1.0000\n",
      "Temperature[°C]:\n",
      "Value Range: -1.0000 to 1.0000\n",
      "\n",
      "=== C11 ===\n",
      "\n",
      "Target (SOH_ZHU):\n",
      "Time Range: 2023-02-02 09:00:00 to 2023-06-09 17:00:00\n",
      "Value Range: 0.6555 to 1.0000\n",
      "Number of Data Points: 3057\n",
      "\n",
      "Covariates (scaled):\n",
      "Current[A]:\n",
      "Value Range: -1.0000 to 1.0000\n",
      "Voltage[V]:\n",
      "Value Range: -1.0000 to 1.0000\n",
      "Temperature[°C]:\n",
      "Value Range: -1.0000 to 1.0000\n",
      "\n",
      "=== C13 ===\n",
      "\n",
      "Target (SOH_ZHU):\n",
      "Time Range: 2023-02-02 09:00:00 to 2023-03-24 03:00:00\n",
      "Value Range: 0.6227 to 1.0000\n",
      "Number of Data Points: 1195\n",
      "\n",
      "Covariates (scaled):\n",
      "Current[A]:\n",
      "Value Range: -1.0000 to 1.0000\n",
      "Voltage[V]:\n",
      "Value Range: -1.0000 to 1.0000\n",
      "Temperature[°C]:\n",
      "Value Range: -1.0000 to 1.0000\n",
      "\n",
      "=== C15 ===\n",
      "\n",
      "Target (SOH_ZHU):\n",
      "Time Range: 2023-02-02 08:00:00 to 2023-04-11 15:00:00\n",
      "Value Range: 0.6271 to 1.0000\n",
      "Number of Data Points: 1640\n",
      "\n",
      "Covariates (scaled):\n",
      "Current[A]:\n",
      "Value Range: -1.0000 to 1.0000\n",
      "Voltage[V]:\n",
      "Value Range: -1.0000 to 1.0000\n",
      "Temperature[°C]:\n",
      "Value Range: -1.0000 to 1.0000\n",
      "\n",
      "=== C17 ===\n",
      "\n",
      "Target (SOH_ZHU):\n",
      "Time Range: 2023-02-02 09:00:00 to 2023-08-12 18:00:00\n",
      "Value Range: 0.7191 to 1.0000\n",
      "Number of Data Points: 4594\n",
      "\n",
      "Covariates (scaled):\n",
      "Current[A]:\n",
      "Value Range: -1.0000 to 1.0000\n",
      "Voltage[V]:\n",
      "Value Range: -1.0000 to 1.0000\n",
      "Temperature[°C]:\n",
      "Value Range: -1.0000 to 1.0000\n",
      "\n",
      "=== C19 ===\n",
      "\n",
      "Target (SOH_ZHU):\n",
      "Time Range: 2023-02-02 09:00:00 to 2023-08-13 02:00:00\n",
      "Value Range: 0.8395 to 1.0000\n",
      "Number of Data Points: 4602\n",
      "\n",
      "Covariates (scaled):\n",
      "Current[A]:\n",
      "Value Range: -1.0000 to 1.0000\n",
      "Voltage[V]:\n",
      "Value Range: -1.0000 to 1.0000\n",
      "Temperature[°C]:\n",
      "Value Range: -1.0000 to 1.0000\n",
      "\n",
      "=== C21 ===\n",
      "\n",
      "Target (SOH_ZHU):\n",
      "Time Range: 2023-02-02 09:00:00 to 2023-08-13 01:00:00\n",
      "Value Range: 0.8235 to 1.0000\n",
      "Number of Data Points: 4601\n",
      "\n",
      "Covariates (scaled):\n",
      "Current[A]:\n",
      "Value Range: -1.0000 to 1.0000\n",
      "Voltage[V]:\n",
      "Value Range: -1.0000 to 1.0000\n",
      "Temperature[°C]:\n",
      "Value Range: -1.0000 to 1.0000\n",
      "\n",
      "=== C23 ===\n",
      "\n",
      "Target (SOH_ZHU):\n",
      "Time Range: 2023-02-02 09:00:00 to 2023-08-11 09:00:00\n",
      "Value Range: 0.8367 to 1.0000\n",
      "Number of Data Points: 4561\n",
      "\n",
      "Covariates (scaled):\n",
      "Current[A]:\n",
      "Value Range: -1.0000 to 1.0000\n",
      "Voltage[V]:\n",
      "Value Range: -1.0000 to 1.0000\n",
      "Temperature[°C]:\n",
      "Value Range: -1.0000 to 1.0000\n",
      "\n",
      "=== C25 ===\n",
      "\n",
      "Target (SOH_ZHU):\n",
      "Time Range: 2023-02-02 09:00:00 to 2023-07-02 11:00:00\n",
      "Value Range: 0.6545 to 1.0000\n",
      "Number of Data Points: 3603\n",
      "\n",
      "Covariates (scaled):\n",
      "Current[A]:\n",
      "Value Range: -1.0000 to 1.0000\n",
      "Voltage[V]:\n",
      "Value Range: -1.0000 to 1.0000\n",
      "Temperature[°C]:\n",
      "Value Range: -1.0000 to 1.0000\n",
      "\n",
      "=== C27 ===\n",
      "\n",
      "Target (SOH_ZHU):\n",
      "Time Range: 2023-02-02 09:00:00 to 2023-08-01 09:00:00\n",
      "Value Range: 0.9297 to 1.0000\n",
      "Number of Data Points: 4321\n",
      "\n",
      "Covariates (scaled):\n",
      "Current[A]:\n",
      "Value Range: -1.0000 to 1.0000\n",
      "Voltage[V]:\n",
      "Value Range: -1.0000 to 1.0000\n",
      "Temperature[°C]:\n",
      "Value Range: -1.0000 to 1.0000\n",
      "\n",
      "=== C29 ===\n",
      "\n",
      "Target (SOH_ZHU):\n",
      "Time Range: 2023-02-02 09:00:00 to 2023-07-02 11:00:00\n",
      "Value Range: 0.6545 to 1.0000\n",
      "Number of Data Points: 3603\n",
      "\n",
      "Covariates (scaled):\n",
      "Current[A]:\n",
      "Value Range: -1.0000 to 1.0000\n",
      "Voltage[V]:\n",
      "Value Range: -1.0000 to 1.0000\n",
      "Temperature[°C]:\n",
      "Value Range: -1.0000 to 1.0000\n"
     ]
    }
   ],
   "source": [
    "def inspect_data_ranges(data_dict: dict):\n",
    "   \"\"\"\n",
    "   Inspect time ranges and value ranges for each battery in the data dictionary\n",
    "   \"\"\"\n",
    "   for cell_name, cell_data in data_dict.items():\n",
    "       print(f\"\\n=== {cell_name} ===\")\n",
    "       \n",
    "       # Get target data range\n",
    "       target = cell_data['target']\n",
    "       target_values = target.values().flatten()  # Flatten array for calculation\n",
    "       print(\"\\nTarget (SOH_ZHU):\")\n",
    "       print(f\"Time Range: {target.start_time()} to {target.end_time()}\")\n",
    "       print(f\"Value Range: {target_values.min():.4f} to {target_values.max():.4f}\")\n",
    "       print(f\"Number of Data Points: {len(target)}\")\n",
    "       \n",
    "       # Get covariates data range\n",
    "       covariates = cell_data['covariates_scaled']\n",
    "       cov_values = covariates.values()\n",
    "       print(\"\\nCovariates (scaled):\")\n",
    "       for i, feature in enumerate(covariates.components):\n",
    "           values = cov_values[:, i].flatten()\n",
    "           print(f\"{feature}:\")\n",
    "           print(f\"Value Range: {values.min():.4f} to {values.max():.4f}\")\n",
    "\n",
    "# View all data ranges\n",
    "print(\"All Data Ranges:\")\n",
    "inspect_data_ranges(processed_data)"
   ]
  },
  {
   "cell_type": "code",
   "execution_count": 9,
   "metadata": {},
   "outputs": [
    {
     "name": "stdout",
     "output_type": "stream",
     "text": [
      "Data split completed:\n",
      "Training set: 9 cells ['C01', 'C03', 'C05', 'C09', 'C11', 'C13', 'C17', 'C27', 'C29']\n",
      "Validation set: 3 cells ['C07', 'C15', 'C21']\n",
      "Test set: 3 cells ['C19', 'C23', 'C25']\n",
      "\n",
      "=== C03 ===\n",
      "\n",
      "Target (SOH_ZHU):\n",
      "Time Range: 2023-02-02 09:00:00 to 2023-08-17 10:00:00\n",
      "Value Range: 0.9206 to 1.0000\n",
      "Number of Data Points: 4706\n",
      "\n",
      "Covariates (scaled):\n",
      "Current[A]:\n",
      "Value Range: -1.0000 to 1.0000\n",
      "Voltage[V]:\n",
      "Value Range: -1.0000 to 1.0000\n",
      "Temperature[°C]:\n",
      "Value Range: -1.0000 to 1.0000\n",
      "\n",
      "=== C09 ===\n",
      "\n",
      "Target (SOH_ZHU):\n",
      "Time Range: 2023-02-02 09:00:00 to 2023-05-23 08:00:00\n",
      "Value Range: 0.6815 to 1.0000\n",
      "Number of Data Points: 2640\n",
      "\n",
      "Covariates (scaled):\n",
      "Current[A]:\n",
      "Value Range: -1.0000 to 1.0000\n",
      "Voltage[V]:\n",
      "Value Range: -1.0000 to 1.0000\n",
      "Temperature[°C]:\n",
      "Value Range: -1.0000 to 1.0000\n",
      "\n",
      "=== C17 ===\n",
      "\n",
      "Target (SOH_ZHU):\n",
      "Time Range: 2023-02-02 09:00:00 to 2023-08-12 18:00:00\n",
      "Value Range: 0.7191 to 1.0000\n",
      "Number of Data Points: 4594\n",
      "\n",
      "Covariates (scaled):\n",
      "Current[A]:\n",
      "Value Range: -1.0000 to 1.0000\n",
      "Voltage[V]:\n",
      "Value Range: -1.0000 to 1.0000\n",
      "Temperature[°C]:\n",
      "Value Range: -1.0000 to 1.0000\n",
      "\n",
      "=== C11 ===\n",
      "\n",
      "Target (SOH_ZHU):\n",
      "Time Range: 2023-02-02 09:00:00 to 2023-06-09 17:00:00\n",
      "Value Range: 0.6555 to 1.0000\n",
      "Number of Data Points: 3057\n",
      "\n",
      "Covariates (scaled):\n",
      "Current[A]:\n",
      "Value Range: -1.0000 to 1.0000\n",
      "Voltage[V]:\n",
      "Value Range: -1.0000 to 1.0000\n",
      "Temperature[°C]:\n",
      "Value Range: -1.0000 to 1.0000\n",
      "\n",
      "=== C01 ===\n",
      "\n",
      "Target (SOH_ZHU):\n",
      "Time Range: 2023-02-02 09:00:00 to 2023-09-16 07:00:00\n",
      "Value Range: 0.9225 to 1.0000\n",
      "Number of Data Points: 5423\n",
      "\n",
      "Covariates (scaled):\n",
      "Current[A]:\n",
      "Value Range: -1.0000 to 1.0000\n",
      "Voltage[V]:\n",
      "Value Range: -1.0000 to 1.0000\n",
      "Temperature[°C]:\n",
      "Value Range: -1.0000 to 1.0000\n",
      "\n",
      "=== C27 ===\n",
      "\n",
      "Target (SOH_ZHU):\n",
      "Time Range: 2023-02-02 09:00:00 to 2023-08-01 09:00:00\n",
      "Value Range: 0.9297 to 1.0000\n",
      "Number of Data Points: 4321\n",
      "\n",
      "Covariates (scaled):\n",
      "Current[A]:\n",
      "Value Range: -1.0000 to 1.0000\n",
      "Voltage[V]:\n",
      "Value Range: -1.0000 to 1.0000\n",
      "Temperature[°C]:\n",
      "Value Range: -1.0000 to 1.0000\n",
      "\n",
      "=== C05 ===\n",
      "\n",
      "Target (SOH_ZHU):\n",
      "Time Range: 2023-02-02 09:00:00 to 2023-08-13 12:00:00\n",
      "Value Range: 0.9172 to 1.0000\n",
      "Number of Data Points: 4612\n",
      "\n",
      "Covariates (scaled):\n",
      "Current[A]:\n",
      "Value Range: -1.0000 to 1.0000\n",
      "Voltage[V]:\n",
      "Value Range: -1.0000 to 1.0000\n",
      "Temperature[°C]:\n",
      "Value Range: -1.0000 to 1.0000\n",
      "\n",
      "=== C13 ===\n",
      "\n",
      "Target (SOH_ZHU):\n",
      "Time Range: 2023-02-02 09:00:00 to 2023-03-24 03:00:00\n",
      "Value Range: 0.6227 to 1.0000\n",
      "Number of Data Points: 1195\n",
      "\n",
      "Covariates (scaled):\n",
      "Current[A]:\n",
      "Value Range: -1.0000 to 1.0000\n",
      "Voltage[V]:\n",
      "Value Range: -1.0000 to 1.0000\n",
      "Temperature[°C]:\n",
      "Value Range: -1.0000 to 1.0000\n",
      "\n",
      "=== C29 ===\n",
      "\n",
      "Target (SOH_ZHU):\n",
      "Time Range: 2023-02-02 09:00:00 to 2023-07-02 11:00:00\n",
      "Value Range: 0.6545 to 1.0000\n",
      "Number of Data Points: 3603\n",
      "\n",
      "Covariates (scaled):\n",
      "Current[A]:\n",
      "Value Range: -1.0000 to 1.0000\n",
      "Voltage[V]:\n",
      "Value Range: -1.0000 to 1.0000\n",
      "Temperature[°C]:\n",
      "Value Range: -1.0000 to 1.0000\n"
     ]
    }
   ],
   "source": [
    "def split_cell_data(processed_data: dict, train_ratio=0.6, val_ratio=0.2, test_ratio=0.2) -> Tuple[Dict, Dict, Dict]:\n",
    "   # Get all cell numbers\n",
    "   cell_names = list(processed_data.keys())\n",
    "   \n",
    "   # Calculate number of cells needed for each set\n",
    "   n_cells = len(cell_names)\n",
    "   n_train = int(n_cells * train_ratio)\n",
    "   n_val = int(n_cells * val_ratio)\n",
    "   \n",
    "   # Randomly shuffle cell order\n",
    "   np.random.seed(773)\n",
    "   np.random.shuffle(cell_names)\n",
    "   \n",
    "   # Split cell numbers\n",
    "   train_cells = cell_names[:n_train]\n",
    "   val_cells = cell_names[n_train:n_train + n_val]\n",
    "   test_cells = cell_names[n_train + n_val:]\n",
    "   \n",
    "   # Create dataset dictionaries\n",
    "   train_data = {cell: processed_data[cell] for cell in train_cells}\n",
    "   val_data = {cell: processed_data[cell] for cell in val_cells}\n",
    "   test_data = {cell: processed_data[cell] for cell in test_cells}\n",
    "   \n",
    "   print(f\"Data split completed:\")\n",
    "   print(f\"Training set: {len(train_data)} cells {sorted(train_cells)}\")\n",
    "   print(f\"Validation set: {len(val_data)} cells {sorted(val_cells)}\")\n",
    "   print(f\"Test set: {len(test_data)} cells {sorted(test_cells)}\")\n",
    "   \n",
    "   return train_data, val_data, test_data\n",
    "\n",
    "# Usage example:\n",
    "train_data, val_data, test_data = split_cell_data(processed_data)\n",
    "inspect_data_ranges(train_data)"
   ]
  },
  {
   "cell_type": "code",
   "execution_count": 10,
   "metadata": {},
   "outputs": [
    {
     "data": {
      "application/vnd.jupyter.widget-view+json": {
       "model_id": "31d59e2f63bf492696e699ec35f78dac",
       "version_major": 2,
       "version_minor": 0
      },
      "image/png": "[encoded data removed]",
      "text/html": [
       "\n",
       "            <div style=\"display: inline-block;\">\n",
       "                <div class=\"jupyter-widgets widget-label\" style=\"text-align: center;\">\n",
       "                    Figure\n",
       "                </div>\n",
       "                <img src='data:image/png;base64,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' width=1000.0/>\n",
       "            </div>\n",
       "        "
      ],
      "text/plain": [
       "Canvas(toolbar=Toolbar(toolitems=[('Home', 'Reset original view', 'home', 'home'), ('Back', 'Back to previous …"
      ]
     },
     "metadata": {},
     "output_type": "display_data"
    },
    {
     "data": {
      "application/vnd.jupyter.widget-view+json": {
       "model_id": "4faba3c2145f45809528e5f83d4bb435",
       "version_major": 2,
       "version_minor": 0
      },
      "image/png": "[encoded data removed]",
      "text/html": [
       "\n",
       "            <div style=\"display: inline-block;\">\n",
       "                <div class=\"jupyter-widgets widget-label\" style=\"text-align: center;\">\n",
       "                    Figure\n",
       "                </div>\n",
       "                <img src='data:image/png;base64,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' width=1000.0/>\n",
       "            </div>\n",
       "        "
      ],
      "text/plain": [
       "Canvas(toolbar=Toolbar(toolitems=[('Home', 'Reset original view', 'home', 'home'), ('Back', 'Back to previous …"
      ]
     },
     "metadata": {},
     "output_type": "display_data"
    },
    {
     "data": {
      "application/vnd.jupyter.widget-view+json": {
       "model_id": "7925d50ade68436fb4fc5d9136ae30bf",
       "version_major": 2,
       "version_minor": 0
      },
      "image/png": "[encoded data removed]",
      "text/html": [
       "\n",
       "            <div style=\"display: inline-block;\">\n",
       "                <div class=\"jupyter-widgets widget-label\" style=\"text-align: center;\">\n",
       "                    Figure\n",
       "                </div>\n",
       "                <img src='data:image/png;base64,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' width=1000.0/>\n",
       "            </div>\n",
       "        "
      ],
      "text/plain": [
       "Canvas(toolbar=Toolbar(toolitems=[('Home', 'Reset original view', 'home', 'home'), ('Back', 'Back to previous …"
      ]
     },
     "metadata": {},
     "output_type": "display_data"
    }
   ],
   "source": [
    "def plot_dataset_soh(data_dict: dict, title: str, figsize=(10, 7)):\n",
    "    plt.figure(figsize=figsize)\n",
    "    \n",
    "    # Plot each cell's SOH\n",
    "    for cell_name, cell_data in data_dict.items():\n",
    "        target = cell_data['target']\n",
    "        plt.plot(target.time_index, target.values().flatten(), label=cell_name)\n",
    "    \n",
    "    plt.title(f'{title} Set SOH Curves')\n",
    "    plt.xlabel('Time')\n",
    "    plt.ylabel('SOH_ZHU')\n",
    "    plt.grid(True)\n",
    "    plt.legend(loc='upper right')\n",
    "    plt.tight_layout()\n",
    "    plt.show()\n",
    "\n",
    "# Plot all three datasets\n",
    "plot_dataset_soh(train_data, \"Training\")\n",
    "plot_dataset_soh(val_data, \"Validation\")\n",
    "plot_dataset_soh(test_data, \"Test\")"
   ]
  },
  {
   "cell_type": "code",
   "execution_count": 18,
   "metadata": {},
   "outputs": [],
   "source": [
    "def prepare_data(train_data, val_data):\n",
    "    # Concatenate training data\n",
    "    train_targets = []\n",
    "    train_covariates = []\n",
    "    for cell_data in train_data.values():\n",
    "        train_targets.append(cell_data['target'])\n",
    "        train_covariates.append(cell_data['covariates_scaled'])\n",
    "    \n",
    "    train_series = train_targets[0]\n",
    "    train_cov = train_covariates[0]\n",
    "    for i in range(1, len(train_targets)):\n",
    "        train_series = train_series.concatenate(train_targets[i], ignore_time_axis=True)\n",
    "        train_cov = train_cov.concatenate(train_covariates[i], ignore_time_axis=True)\n",
    "    \n",
    "    # Concatenate validation data\n",
    "    val_targets = []\n",
    "    val_covariates = []\n",
    "    for cell_data in val_data.values():\n",
    "        val_targets.append(cell_data['target'])\n",
    "        val_covariates.append(cell_data['covariates_scaled'])\n",
    "    \n",
    "    val_series = val_targets[0]\n",
    "    val_cov = val_covariates[0]\n",
    "    for i in range(1, len(val_targets)):\n",
    "        val_series = val_series.concatenate(val_targets[i], ignore_time_axis=True)\n",
    "        val_cov = val_cov.concatenate(val_covariates[i], ignore_time_axis=True)\n",
    "    \n",
    "    return train_series, train_cov, val_series, val_cov"
   ]
  },
  {
   "cell_type": "code",
   "execution_count": null,
   "metadata": {},
   "outputs": [],
   "source": [
    "# Optuna objective function\n",
    "def objective(trial):\n",
    "    # Define hyperparameter search space\n",
    "    # 1. Search - Basic structure\n",
    "    input_chunk_length = trial.suggest_int(\"input_chunk_length\", 12, 24)\n",
    "    output_chunk_length = trial.suggest_int(\"output_chunk_length\", 1, 12)\n",
    "    num_blocks = trial.suggest_int(\"num_blocks\", 2, 5)\n",
    "    num_stacks = trial.suggest_int(\"num_stacks\", 2, 5)\n",
    "    activation = trial.suggest_categorical(\"activation\", [\"ReLU\", \"LeakyReLU\"])\n",
    "    # 2. Search - Training parameters\n",
    "    batch_size = trial.suggest_categorical(\"batch_size\", [16, 32, 64, 128])\n",
    "    learning_rate = trial.suggest_float(\"learning_rate\", 1e-5, 1e-2, log=True)\n",
    "    expansion_coefficient_dim = trial.suggest_int(\"expansion_coefficient_dim\", 5, 10)\n",
    "    trend_polynomial_degree = trial.suggest_int(\"trend_polynomial_degree\", 2, 4)\n",
    "\n",
    "    # Define and train model\n",
    "    model = NBEATSModel(\n",
    "        input_chunk_length=input_chunk_length,\n",
    "        output_chunk_length=output_chunk_length,\n",
    "        num_blocks=num_blocks,\n",
    "        num_stacks=num_stacks,\n",
    "        batch_size=batch_size,\n",
    "        expansion_coefficient_dim=expansion_coefficient_dim, \n",
    "        trend_polynomial_degree=trend_polynomial_degree, \n",
    "        optimizer_kwargs={\"lr\": learning_rate},\n",
    "        random_state=773,\n",
    "        activation = activation,\n",
    "        pl_trainer_kwargs={\n",
    "            \"callbacks\": [ModelCheckpoint(monitor=\"val_loss\", mode=\"min\", save_top_k=1)],\n",
    "            \"enable_checkpointing\": True\n",
    "        }\n",
    "    )\n",
    "    train_series, ctrain_cov, val_series, val_cov = prepare_data(train_data, val_data)\n",
    "    \n",
    "    model.fit(series=train_series, past_covariates=ctrain_cov, \n",
    "              val_series=val_series, val_past_covariates=val_cov, epochs=200)  \n",
    "    \n",
    "    # Retrieve best validation loss directly from the training process\n",
    "    best_val_loss = model.trainer.checkpoint_callback.best_model_score.item() \n",
    "    \n",
    "    return best_val_loss\n",
    "\n"
   ]
  },
  {
   "cell_type": "code",
   "execution_count": 20,
   "metadata": {},
   "outputs": [
    {
     "name": "stderr",
     "output_type": "stream",
     "text": [
      "[I 2024-12-17 14:31:05,897] A new study created in memory with name: no-name-386e14fb-ab4a-4dae-99b9-1ddac65b7bdc\n",
      "GPU available: True (cuda), used: True\n",
      "TPU available: False, using: 0 TPU cores\n",
      "HPU available: False, using: 0 HPUs\n",
      "c:\\Users\\zzhuqshun\\.conda\\envs\\ML\\lib\\site-packages\\pytorch_lightning\\callbacks\\model_checkpoint.py:654: Checkpoint directory e:\\00_Thesis\\02_Nbeats\\checkpoints exists and is not empty.\n",
      "LOCAL_RANK: 0 - CUDA_VISIBLE_DEVICES: [0]\n",
      "\n",
      "  | Name            | Type             | Params | Mode \n",
      "-------------------------------------------------------------\n",
      "0 | criterion       | MSELoss          | 0      | train\n",
      "1 | train_criterion | MSELoss          | 0      | train\n",
      "2 | val_criterion   | MSELoss          | 0      | train\n",
      "3 | train_metrics   | MetricCollection | 0      | train\n",
      "4 | val_metrics     | MetricCollection | 0      | train\n",
      "5 | stacks          | ModuleList       | 2.3 M  | train\n",
      "-------------------------------------------------------------\n",
      "2.3 M     Trainable params\n",
      "2.6 K     Non-trainable params\n",
      "2.3 M     Total params\n",
      "9.064     Total estimated model params size (MB)\n",
      "126       Modules in train mode\n",
      "0         Modules in eval mode\n"
     ]
    },
    {
     "data": {
      "application/vnd.jupyter.widget-view+json": {
       "model_id": "a202c9f853314dcdbb222fb25d43ed9c",
       "version_major": 2,
       "version_minor": 0
      },
      "text/plain": [
       "Sanity Checking: |          | 0/? [00:00<?, ?it/s]"
      ]
     },
     "metadata": {},
     "output_type": "display_data"
    },
    {
     "data": {
      "application/vnd.jupyter.widget-view+json": {
       "model_id": "ed68098100cd4b77a653d1d54cc84bbc",
       "version_major": 2,
       "version_minor": 0
      },
      "text/plain": [
       "Training: |          | 0/? [00:00<?, ?it/s]"
      ]
     },
     "metadata": {},
     "output_type": "display_data"
    },
    {
     "data": {
      "application/vnd.jupyter.widget-view+json": {
       "model_id": "07cfdc15c70f45349bb1872fe8d603ab",
       "version_major": 2,
       "version_minor": 0
      },
      "text/plain": [
       "Validation: |          | 0/? [00:00<?, ?it/s]"
      ]
     },
     "metadata": {},
     "output_type": "display_data"
    },
    {
     "name": "stderr",
     "output_type": "stream",
     "text": [
      "\n",
      "Detected KeyboardInterrupt, attempting graceful shutdown ...\n",
      "[W 2024-12-17 14:32:55,229] Trial 0 failed with parameters: {'input_chunk_length': 24, 'output_chunk_length': 1, 'num_blocks': 2, 'num_stacks': 5, 'activation': 'ReLU', 'batch_size': 16, 'learning_rate': 0.004299730172915944, 'expansion_coefficient_dim': 7, 'trend_polynomial_degree': 3} because of the following error: NameError(\"name 'exit' is not defined\").\n",
      "Traceback (most recent call last):\n",
      "  File \"c:\\Users\\zzhuqshun\\.conda\\envs\\ML\\lib\\site-packages\\pytorch_lightning\\trainer\\call.py\", line 47, in _call_and_handle_interrupt\n",
      "    return trainer_fn(*args, **kwargs)\n",
      "  File \"c:\\Users\\zzhuqshun\\.conda\\envs\\ML\\lib\\site-packages\\pytorch_lightning\\trainer\\trainer.py\", line 574, in _fit_impl\n",
      "    self._run(model, ckpt_path=ckpt_path)\n",
      "  File \"c:\\Users\\zzhuqshun\\.conda\\envs\\ML\\lib\\site-packages\\pytorch_lightning\\trainer\\trainer.py\", line 981, in _run\n",
      "    results = self._run_stage()\n",
      "  File \"c:\\Users\\zzhuqshun\\.conda\\envs\\ML\\lib\\site-packages\\pytorch_lightning\\trainer\\trainer.py\", line 1025, in _run_stage\n",
      "    self.fit_loop.run()\n",
      "  File \"c:\\Users\\zzhuqshun\\.conda\\envs\\ML\\lib\\site-packages\\pytorch_lightning\\loops\\fit_loop.py\", line 205, in run\n",
      "    self.advance()\n",
      "  File \"c:\\Users\\zzhuqshun\\.conda\\envs\\ML\\lib\\site-packages\\pytorch_lightning\\loops\\fit_loop.py\", line 363, in advance\n",
      "    self.epoch_loop.run(self._data_fetcher)\n",
      "  File \"c:\\Users\\zzhuqshun\\.conda\\envs\\ML\\lib\\site-packages\\pytorch_lightning\\loops\\training_epoch_loop.py\", line 140, in run\n",
      "    self.advance(data_fetcher)\n",
      "  File \"c:\\Users\\zzhuqshun\\.conda\\envs\\ML\\lib\\site-packages\\pytorch_lightning\\loops\\training_epoch_loop.py\", line 250, in advance\n",
      "    batch_output = self.automatic_optimization.run(trainer.optimizers[0], batch_idx, kwargs)\n",
      "  File \"c:\\Users\\zzhuqshun\\.conda\\envs\\ML\\lib\\site-packages\\pytorch_lightning\\loops\\optimization\\automatic.py\", line 190, in run\n",
      "    self._optimizer_step(batch_idx, closure)\n",
      "  File \"c:\\Users\\zzhuqshun\\.conda\\envs\\ML\\lib\\site-packages\\pytorch_lightning\\loops\\optimization\\automatic.py\", line 268, in _optimizer_step\n",
      "    call._call_lightning_module_hook(\n",
      "  File \"c:\\Users\\zzhuqshun\\.conda\\envs\\ML\\lib\\site-packages\\pytorch_lightning\\trainer\\call.py\", line 167, in _call_lightning_module_hook\n",
      "    output = fn(*args, **kwargs)\n",
      "  File \"c:\\Users\\zzhuqshun\\.conda\\envs\\ML\\lib\\site-packages\\pytorch_lightning\\core\\module.py\", line 1306, in optimizer_step\n",
      "    optimizer.step(closure=optimizer_closure)\n",
      "  File \"c:\\Users\\zzhuqshun\\.conda\\envs\\ML\\lib\\site-packages\\pytorch_lightning\\core\\optimizer.py\", line 153, in step\n",
      "    step_output = self._strategy.optimizer_step(self._optimizer, closure, **kwargs)\n",
      "  File \"c:\\Users\\zzhuqshun\\.conda\\envs\\ML\\lib\\site-packages\\pytorch_lightning\\strategies\\strategy.py\", line 238, in optimizer_step\n",
      "    return self.precision_plugin.optimizer_step(optimizer, model=model, closure=closure, **kwargs)\n",
      "  File \"c:\\Users\\zzhuqshun\\.conda\\envs\\ML\\lib\\site-packages\\pytorch_lightning\\plugins\\precision\\precision.py\", line 122, in optimizer_step\n",
      "    return optimizer.step(closure=closure, **kwargs)\n",
      "  File \"c:\\Users\\zzhuqshun\\.conda\\envs\\ML\\lib\\site-packages\\torch\\optim\\optimizer.py\", line 484, in wrapper\n",
      "    out = func(*args, **kwargs)\n",
      "  File \"c:\\Users\\zzhuqshun\\.conda\\envs\\ML\\lib\\site-packages\\torch\\optim\\optimizer.py\", line 89, in _use_grad\n",
      "    ret = func(self, *args, **kwargs)\n",
      "  File \"c:\\Users\\zzhuqshun\\.conda\\envs\\ML\\lib\\site-packages\\torch\\optim\\adam.py\", line 205, in step\n",
      "    loss = closure()\n",
      "  File \"c:\\Users\\zzhuqshun\\.conda\\envs\\ML\\lib\\site-packages\\pytorch_lightning\\plugins\\precision\\precision.py\", line 108, in _wrap_closure\n",
      "    closure_result = closure()\n",
      "  File \"c:\\Users\\zzhuqshun\\.conda\\envs\\ML\\lib\\site-packages\\pytorch_lightning\\loops\\optimization\\automatic.py\", line 144, in __call__\n",
      "    self._result = self.closure(*args, **kwargs)\n",
      "  File \"c:\\Users\\zzhuqshun\\.conda\\envs\\ML\\lib\\site-packages\\torch\\utils\\_contextlib.py\", line 116, in decorate_context\n",
      "    return func(*args, **kwargs)\n",
      "  File \"c:\\Users\\zzhuqshun\\.conda\\envs\\ML\\lib\\site-packages\\pytorch_lightning\\loops\\optimization\\automatic.py\", line 138, in closure\n",
      "    self._backward_fn(step_output.closure_loss)\n",
      "  File \"c:\\Users\\zzhuqshun\\.conda\\envs\\ML\\lib\\site-packages\\pytorch_lightning\\loops\\optimization\\automatic.py\", line 239, in backward_fn\n",
      "    call._call_strategy_hook(self.trainer, \"backward\", loss, optimizer)\n",
      "  File \"c:\\Users\\zzhuqshun\\.conda\\envs\\ML\\lib\\site-packages\\pytorch_lightning\\trainer\\call.py\", line 319, in _call_strategy_hook\n",
      "    output = fn(*args, **kwargs)\n",
      "  File \"c:\\Users\\zzhuqshun\\.conda\\envs\\ML\\lib\\site-packages\\pytorch_lightning\\strategies\\strategy.py\", line 212, in backward\n",
      "    self.precision_plugin.backward(closure_loss, self.lightning_module, optimizer, *args, **kwargs)\n",
      "  File \"c:\\Users\\zzhuqshun\\.conda\\envs\\ML\\lib\\site-packages\\pytorch_lightning\\plugins\\precision\\precision.py\", line 72, in backward\n",
      "    model.backward(tensor, *args, **kwargs)\n",
      "  File \"c:\\Users\\zzhuqshun\\.conda\\envs\\ML\\lib\\site-packages\\pytorch_lightning\\core\\module.py\", line 1101, in backward\n",
      "    loss.backward(*args, **kwargs)\n",
      "  File \"c:\\Users\\zzhuqshun\\.conda\\envs\\ML\\lib\\site-packages\\torch\\_tensor.py\", line 521, in backward\n",
      "    torch.autograd.backward(\n",
      "  File \"c:\\Users\\zzhuqshun\\.conda\\envs\\ML\\lib\\site-packages\\torch\\autograd\\__init__.py\", line 289, in backward\n",
      "    _engine_run_backward(\n",
      "  File \"c:\\Users\\zzhuqshun\\.conda\\envs\\ML\\lib\\site-packages\\torch\\autograd\\graph.py\", line 769, in _engine_run_backward\n",
      "    return Variable._execution_engine.run_backward(  # Calls into the C++ engine to run the backward pass\n",
      "KeyboardInterrupt\n",
      "\n",
      "During handling of the above exception, another exception occurred:\n",
      "\n",
      "Traceback (most recent call last):\n",
      "  File \"c:\\Users\\zzhuqshun\\.conda\\envs\\ML\\lib\\site-packages\\optuna\\study\\_optimize.py\", line 197, in _run_trial\n",
      "    value_or_values = func(trial)\n",
      "  File \"C:\\Users\\zzhuqshun\\AppData\\Local\\Temp\\ipykernel_4196\\944516383.py\", line 35, in objective\n",
      "    model.fit(series=train_series, past_covariates=ctrain_cov,\n",
      "  File \"c:\\Users\\zzhuqshun\\.conda\\envs\\ML\\lib\\site-packages\\darts\\utils\\torch.py\", line 103, in decorator\n",
      "    return decorated(self, *args, **kwargs)\n",
      "  File \"c:\\Users\\zzhuqshun\\.conda\\envs\\ML\\lib\\site-packages\\darts\\models\\forecasting\\torch_forecasting_model.py\", line 776, in fit\n",
      "    return self.fit_from_dataset(*params)\n",
      "  File \"c:\\Users\\zzhuqshun\\.conda\\envs\\ML\\lib\\site-packages\\darts\\utils\\torch.py\", line 103, in decorator\n",
      "    return decorated(self, *args, **kwargs)\n",
      "  File \"c:\\Users\\zzhuqshun\\.conda\\envs\\ML\\lib\\site-packages\\darts\\models\\forecasting\\torch_forecasting_model.py\", line 956, in fit_from_dataset\n",
      "    self._train(\n",
      "  File \"c:\\Users\\zzhuqshun\\.conda\\envs\\ML\\lib\\site-packages\\darts\\models\\forecasting\\torch_forecasting_model.py\", line 1145, in _train\n",
      "    trainer.fit(\n",
      "  File \"c:\\Users\\zzhuqshun\\.conda\\envs\\ML\\lib\\site-packages\\pytorch_lightning\\trainer\\trainer.py\", line 538, in fit\n",
      "    call._call_and_handle_interrupt(\n",
      "  File \"c:\\Users\\zzhuqshun\\.conda\\envs\\ML\\lib\\site-packages\\pytorch_lightning\\trainer\\call.py\", line 64, in _call_and_handle_interrupt\n",
      "    exit(1)\n",
      "NameError: name 'exit' is not defined\n",
      "[W 2024-12-17 14:32:55,503] Trial 0 failed with value None.\n"
     ]
    },
    {
     "ename": "NameError",
     "evalue": "name 'exit' is not defined",
     "output_type": "error",
     "traceback": [
      "\u001b[1;31m---------------------------------------------------------------------------\u001b[0m",
      "\u001b[1;31mKeyboardInterrupt\u001b[0m                         Traceback (most recent call last)",
      "File \u001b[1;32mc:\\Users\\zzhuqshun\\.conda\\envs\\ML\\lib\\site-packages\\pytorch_lightning\\trainer\\call.py:47\u001b[0m, in \u001b[0;36m_call_and_handle_interrupt\u001b[1;34m(trainer, trainer_fn, *args, **kwargs)\u001b[0m\n\u001b[0;32m     46\u001b[0m         \u001b[38;5;28;01mreturn\u001b[39;00m trainer\u001b[38;5;241m.\u001b[39mstrategy\u001b[38;5;241m.\u001b[39mlauncher\u001b[38;5;241m.\u001b[39mlaunch(trainer_fn, \u001b[38;5;241m*\u001b[39margs, trainer\u001b[38;5;241m=\u001b[39mtrainer, \u001b[38;5;241m*\u001b[39m\u001b[38;5;241m*\u001b[39mkwargs)\n\u001b[1;32m---> 47\u001b[0m     \u001b[38;5;28;01mreturn\u001b[39;00m trainer_fn(\u001b[38;5;241m*\u001b[39margs, \u001b[38;5;241m*\u001b[39m\u001b[38;5;241m*\u001b[39mkwargs)\n\u001b[0;32m     49\u001b[0m \u001b[38;5;28;01mexcept\u001b[39;00m _TunerExitException:\n",
      "File \u001b[1;32mc:\\Users\\zzhuqshun\\.conda\\envs\\ML\\lib\\site-packages\\pytorch_lightning\\trainer\\trainer.py:574\u001b[0m, in \u001b[0;36mTrainer._fit_impl\u001b[1;34m(self, model, train_dataloaders, val_dataloaders, datamodule, ckpt_path)\u001b[0m\n\u001b[0;32m    568\u001b[0m ckpt_path \u001b[38;5;241m=\u001b[39m \u001b[38;5;28mself\u001b[39m\u001b[38;5;241m.\u001b[39m_checkpoint_connector\u001b[38;5;241m.\u001b[39m_select_ckpt_path(\n\u001b[0;32m    569\u001b[0m     \u001b[38;5;28mself\u001b[39m\u001b[38;5;241m.\u001b[39mstate\u001b[38;5;241m.\u001b[39mfn,\n\u001b[0;32m    570\u001b[0m     ckpt_path,\n\u001b[0;32m    571\u001b[0m     model_provided\u001b[38;5;241m=\u001b[39m\u001b[38;5;28;01mTrue\u001b[39;00m,\n\u001b[0;32m    572\u001b[0m     model_connected\u001b[38;5;241m=\u001b[39m\u001b[38;5;28mself\u001b[39m\u001b[38;5;241m.\u001b[39mlightning_module \u001b[38;5;129;01mis\u001b[39;00m \u001b[38;5;129;01mnot\u001b[39;00m \u001b[38;5;28;01mNone\u001b[39;00m,\n\u001b[0;32m    573\u001b[0m )\n\u001b[1;32m--> 574\u001b[0m \u001b[38;5;28;43mself\u001b[39;49m\u001b[38;5;241;43m.\u001b[39;49m\u001b[43m_run\u001b[49m\u001b[43m(\u001b[49m\u001b[43mmodel\u001b[49m\u001b[43m,\u001b[49m\u001b[43m \u001b[49m\u001b[43mckpt_path\u001b[49m\u001b[38;5;241;43m=\u001b[39;49m\u001b[43mckpt_path\u001b[49m\u001b[43m)\u001b[49m\n\u001b[0;32m    576\u001b[0m \u001b[38;5;28;01massert\u001b[39;00m \u001b[38;5;28mself\u001b[39m\u001b[38;5;241m.\u001b[39mstate\u001b[38;5;241m.\u001b[39mstopped\n",
      "File \u001b[1;32mc:\\Users\\zzhuqshun\\.conda\\envs\\ML\\lib\\site-packages\\pytorch_lightning\\trainer\\trainer.py:981\u001b[0m, in \u001b[0;36mTrainer._run\u001b[1;34m(self, model, ckpt_path)\u001b[0m\n\u001b[0;32m    978\u001b[0m \u001b[38;5;66;03m# ----------------------------\u001b[39;00m\n\u001b[0;32m    979\u001b[0m \u001b[38;5;66;03m# RUN THE TRAINER\u001b[39;00m\n\u001b[0;32m    980\u001b[0m \u001b[38;5;66;03m# ----------------------------\u001b[39;00m\n\u001b[1;32m--> 981\u001b[0m results \u001b[38;5;241m=\u001b[39m \u001b[38;5;28;43mself\u001b[39;49m\u001b[38;5;241;43m.\u001b[39;49m\u001b[43m_run_stage\u001b[49m\u001b[43m(\u001b[49m\u001b[43m)\u001b[49m\n\u001b[0;32m    983\u001b[0m \u001b[38;5;66;03m# ----------------------------\u001b[39;00m\n\u001b[0;32m    984\u001b[0m \u001b[38;5;66;03m# POST-Training CLEAN UP\u001b[39;00m\n\u001b[0;32m    985\u001b[0m \u001b[38;5;66;03m# ----------------------------\u001b[39;00m\n",
      "File \u001b[1;32mc:\\Users\\zzhuqshun\\.conda\\envs\\ML\\lib\\site-packages\\pytorch_lightning\\trainer\\trainer.py:1025\u001b[0m, in \u001b[0;36mTrainer._run_stage\u001b[1;34m(self)\u001b[0m\n\u001b[0;32m   1024\u001b[0m \u001b[38;5;28;01mwith\u001b[39;00m torch\u001b[38;5;241m.\u001b[39mautograd\u001b[38;5;241m.\u001b[39mset_detect_anomaly(\u001b[38;5;28mself\u001b[39m\u001b[38;5;241m.\u001b[39m_detect_anomaly):\n\u001b[1;32m-> 1025\u001b[0m     \u001b[38;5;28;43mself\u001b[39;49m\u001b[38;5;241;43m.\u001b[39;49m\u001b[43mfit_loop\u001b[49m\u001b[38;5;241;43m.\u001b[39;49m\u001b[43mrun\u001b[49m\u001b[43m(\u001b[49m\u001b[43m)\u001b[49m\n\u001b[0;32m   1026\u001b[0m \u001b[38;5;28;01mreturn\u001b[39;00m \u001b[38;5;28;01mNone\u001b[39;00m\n",
      "File \u001b[1;32mc:\\Users\\zzhuqshun\\.conda\\envs\\ML\\lib\\site-packages\\pytorch_lightning\\loops\\fit_loop.py:205\u001b[0m, in \u001b[0;36m_FitLoop.run\u001b[1;34m(self)\u001b[0m\n\u001b[0;32m    204\u001b[0m \u001b[38;5;28mself\u001b[39m\u001b[38;5;241m.\u001b[39mon_advance_start()\n\u001b[1;32m--> 205\u001b[0m \u001b[38;5;28;43mself\u001b[39;49m\u001b[38;5;241;43m.\u001b[39;49m\u001b[43madvance\u001b[49m\u001b[43m(\u001b[49m\u001b[43m)\u001b[49m\n\u001b[0;32m    206\u001b[0m \u001b[38;5;28mself\u001b[39m\u001b[38;5;241m.\u001b[39mon_advance_end()\n",
      "File \u001b[1;32mc:\\Users\\zzhuqshun\\.conda\\envs\\ML\\lib\\site-packages\\pytorch_lightning\\loops\\fit_loop.py:363\u001b[0m, in \u001b[0;36m_FitLoop.advance\u001b[1;34m(self)\u001b[0m\n\u001b[0;32m    362\u001b[0m \u001b[38;5;28;01massert\u001b[39;00m \u001b[38;5;28mself\u001b[39m\u001b[38;5;241m.\u001b[39m_data_fetcher \u001b[38;5;129;01mis\u001b[39;00m \u001b[38;5;129;01mnot\u001b[39;00m \u001b[38;5;28;01mNone\u001b[39;00m\n\u001b[1;32m--> 363\u001b[0m \u001b[38;5;28;43mself\u001b[39;49m\u001b[38;5;241;43m.\u001b[39;49m\u001b[43mepoch_loop\u001b[49m\u001b[38;5;241;43m.\u001b[39;49m\u001b[43mrun\u001b[49m\u001b[43m(\u001b[49m\u001b[38;5;28;43mself\u001b[39;49m\u001b[38;5;241;43m.\u001b[39;49m\u001b[43m_data_fetcher\u001b[49m\u001b[43m)\u001b[49m\n",
      "File \u001b[1;32mc:\\Users\\zzhuqshun\\.conda\\envs\\ML\\lib\\site-packages\\pytorch_lightning\\loops\\training_epoch_loop.py:140\u001b[0m, in \u001b[0;36m_TrainingEpochLoop.run\u001b[1;34m(self, data_fetcher)\u001b[0m\n\u001b[0;32m    139\u001b[0m \u001b[38;5;28;01mtry\u001b[39;00m:\n\u001b[1;32m--> 140\u001b[0m     \u001b[38;5;28;43mself\u001b[39;49m\u001b[38;5;241;43m.\u001b[39;49m\u001b[43madvance\u001b[49m\u001b[43m(\u001b[49m\u001b[43mdata_fetcher\u001b[49m\u001b[43m)\u001b[49m\n\u001b[0;32m    141\u001b[0m     \u001b[38;5;28mself\u001b[39m\u001b[38;5;241m.\u001b[39mon_advance_end(data_fetcher)\n",
      "File \u001b[1;32mc:\\Users\\zzhuqshun\\.conda\\envs\\ML\\lib\\site-packages\\pytorch_lightning\\loops\\training_epoch_loop.py:250\u001b[0m, in \u001b[0;36m_TrainingEpochLoop.advance\u001b[1;34m(self, data_fetcher)\u001b[0m\n\u001b[0;32m    248\u001b[0m \u001b[38;5;28;01mif\u001b[39;00m trainer\u001b[38;5;241m.\u001b[39mlightning_module\u001b[38;5;241m.\u001b[39mautomatic_optimization:\n\u001b[0;32m    249\u001b[0m     \u001b[38;5;66;03m# in automatic optimization, there can only be one optimizer\u001b[39;00m\n\u001b[1;32m--> 250\u001b[0m     batch_output \u001b[38;5;241m=\u001b[39m \u001b[38;5;28;43mself\u001b[39;49m\u001b[38;5;241;43m.\u001b[39;49m\u001b[43mautomatic_optimization\u001b[49m\u001b[38;5;241;43m.\u001b[39;49m\u001b[43mrun\u001b[49m\u001b[43m(\u001b[49m\u001b[43mtrainer\u001b[49m\u001b[38;5;241;43m.\u001b[39;49m\u001b[43moptimizers\u001b[49m\u001b[43m[\u001b[49m\u001b[38;5;241;43m0\u001b[39;49m\u001b[43m]\u001b[49m\u001b[43m,\u001b[49m\u001b[43m \u001b[49m\u001b[43mbatch_idx\u001b[49m\u001b[43m,\u001b[49m\u001b[43m \u001b[49m\u001b[43mkwargs\u001b[49m\u001b[43m)\u001b[49m\n\u001b[0;32m    251\u001b[0m \u001b[38;5;28;01melse\u001b[39;00m:\n",
      "File \u001b[1;32mc:\\Users\\zzhuqshun\\.conda\\envs\\ML\\lib\\site-packages\\pytorch_lightning\\loops\\optimization\\automatic.py:190\u001b[0m, in \u001b[0;36m_AutomaticOptimization.run\u001b[1;34m(self, optimizer, batch_idx, kwargs)\u001b[0m\n\u001b[0;32m    185\u001b[0m \u001b[38;5;66;03m# ------------------------------\u001b[39;00m\n\u001b[0;32m    186\u001b[0m \u001b[38;5;66;03m# BACKWARD PASS\u001b[39;00m\n\u001b[0;32m    187\u001b[0m \u001b[38;5;66;03m# ------------------------------\u001b[39;00m\n\u001b[0;32m    188\u001b[0m \u001b[38;5;66;03m# gradient update with accumulated gradients\u001b[39;00m\n\u001b[0;32m    189\u001b[0m \u001b[38;5;28;01melse\u001b[39;00m:\n\u001b[1;32m--> 190\u001b[0m     \u001b[38;5;28;43mself\u001b[39;49m\u001b[38;5;241;43m.\u001b[39;49m\u001b[43m_optimizer_step\u001b[49m\u001b[43m(\u001b[49m\u001b[43mbatch_idx\u001b[49m\u001b[43m,\u001b[49m\u001b[43m \u001b[49m\u001b[43mclosure\u001b[49m\u001b[43m)\u001b[49m\n\u001b[0;32m    192\u001b[0m result \u001b[38;5;241m=\u001b[39m closure\u001b[38;5;241m.\u001b[39mconsume_result()\n",
      "File \u001b[1;32mc:\\Users\\zzhuqshun\\.conda\\envs\\ML\\lib\\site-packages\\pytorch_lightning\\loops\\optimization\\automatic.py:268\u001b[0m, in \u001b[0;36m_AutomaticOptimization._optimizer_step\u001b[1;34m(self, batch_idx, train_step_and_backward_closure)\u001b[0m\n\u001b[0;32m    267\u001b[0m \u001b[38;5;66;03m# model hook\u001b[39;00m\n\u001b[1;32m--> 268\u001b[0m \u001b[43mcall\u001b[49m\u001b[38;5;241;43m.\u001b[39;49m\u001b[43m_call_lightning_module_hook\u001b[49m\u001b[43m(\u001b[49m\n\u001b[0;32m    269\u001b[0m \u001b[43m    \u001b[49m\u001b[43mtrainer\u001b[49m\u001b[43m,\u001b[49m\n\u001b[0;32m    270\u001b[0m \u001b[43m    \u001b[49m\u001b[38;5;124;43m\"\u001b[39;49m\u001b[38;5;124;43moptimizer_step\u001b[39;49m\u001b[38;5;124;43m\"\u001b[39;49m\u001b[43m,\u001b[49m\n\u001b[0;32m    271\u001b[0m \u001b[43m    \u001b[49m\u001b[43mtrainer\u001b[49m\u001b[38;5;241;43m.\u001b[39;49m\u001b[43mcurrent_epoch\u001b[49m\u001b[43m,\u001b[49m\n\u001b[0;32m    272\u001b[0m \u001b[43m    \u001b[49m\u001b[43mbatch_idx\u001b[49m\u001b[43m,\u001b[49m\n\u001b[0;32m    273\u001b[0m \u001b[43m    \u001b[49m\u001b[43moptimizer\u001b[49m\u001b[43m,\u001b[49m\n\u001b[0;32m    274\u001b[0m \u001b[43m    \u001b[49m\u001b[43mtrain_step_and_backward_closure\u001b[49m\u001b[43m,\u001b[49m\n\u001b[0;32m    275\u001b[0m \u001b[43m\u001b[49m\u001b[43m)\u001b[49m\n\u001b[0;32m    277\u001b[0m \u001b[38;5;28;01mif\u001b[39;00m \u001b[38;5;129;01mnot\u001b[39;00m should_accumulate:\n",
      "File \u001b[1;32mc:\\Users\\zzhuqshun\\.conda\\envs\\ML\\lib\\site-packages\\pytorch_lightning\\trainer\\call.py:167\u001b[0m, in \u001b[0;36m_call_lightning_module_hook\u001b[1;34m(trainer, hook_name, pl_module, *args, **kwargs)\u001b[0m\n\u001b[0;32m    166\u001b[0m \u001b[38;5;28;01mwith\u001b[39;00m trainer\u001b[38;5;241m.\u001b[39mprofiler\u001b[38;5;241m.\u001b[39mprofile(\u001b[38;5;124mf\u001b[39m\u001b[38;5;124m\"\u001b[39m\u001b[38;5;124m[LightningModule]\u001b[39m\u001b[38;5;132;01m{\u001b[39;00mpl_module\u001b[38;5;241m.\u001b[39m\u001b[38;5;18m__class__\u001b[39m\u001b[38;5;241m.\u001b[39m\u001b[38;5;18m__name__\u001b[39m\u001b[38;5;132;01m}\u001b[39;00m\u001b[38;5;124m.\u001b[39m\u001b[38;5;132;01m{\u001b[39;00mhook_name\u001b[38;5;132;01m}\u001b[39;00m\u001b[38;5;124m\"\u001b[39m):\n\u001b[1;32m--> 167\u001b[0m     output \u001b[38;5;241m=\u001b[39m fn(\u001b[38;5;241m*\u001b[39margs, \u001b[38;5;241m*\u001b[39m\u001b[38;5;241m*\u001b[39mkwargs)\n\u001b[0;32m    169\u001b[0m \u001b[38;5;66;03m# restore current_fx when nested context\u001b[39;00m\n",
      "File \u001b[1;32mc:\\Users\\zzhuqshun\\.conda\\envs\\ML\\lib\\site-packages\\pytorch_lightning\\core\\module.py:1306\u001b[0m, in \u001b[0;36mLightningModule.optimizer_step\u001b[1;34m(self, epoch, batch_idx, optimizer, optimizer_closure)\u001b[0m\n\u001b[0;32m   1282\u001b[0m \u001b[38;5;250m\u001b[39m\u001b[38;5;124mr\u001b[39m\u001b[38;5;124;03m\"\"\"Override this method to adjust the default way the :class:`~pytorch_lightning.trainer.trainer.Trainer` calls\u001b[39;00m\n\u001b[0;32m   1283\u001b[0m \u001b[38;5;124;03mthe optimizer.\u001b[39;00m\n\u001b[0;32m   1284\u001b[0m \n\u001b[1;32m   (...)\u001b[0m\n\u001b[0;32m   1304\u001b[0m \n\u001b[0;32m   1305\u001b[0m \u001b[38;5;124;03m\"\"\"\u001b[39;00m\n\u001b[1;32m-> 1306\u001b[0m \u001b[43moptimizer\u001b[49m\u001b[38;5;241;43m.\u001b[39;49m\u001b[43mstep\u001b[49m\u001b[43m(\u001b[49m\u001b[43mclosure\u001b[49m\u001b[38;5;241;43m=\u001b[39;49m\u001b[43moptimizer_closure\u001b[49m\u001b[43m)\u001b[49m\n",
      "File \u001b[1;32mc:\\Users\\zzhuqshun\\.conda\\envs\\ML\\lib\\site-packages\\pytorch_lightning\\core\\optimizer.py:153\u001b[0m, in \u001b[0;36mLightningOptimizer.step\u001b[1;34m(self, closure, **kwargs)\u001b[0m\n\u001b[0;32m    152\u001b[0m \u001b[38;5;28;01massert\u001b[39;00m \u001b[38;5;28mself\u001b[39m\u001b[38;5;241m.\u001b[39m_strategy \u001b[38;5;129;01mis\u001b[39;00m \u001b[38;5;129;01mnot\u001b[39;00m \u001b[38;5;28;01mNone\u001b[39;00m\n\u001b[1;32m--> 153\u001b[0m step_output \u001b[38;5;241m=\u001b[39m \u001b[38;5;28mself\u001b[39m\u001b[38;5;241m.\u001b[39m_strategy\u001b[38;5;241m.\u001b[39moptimizer_step(\u001b[38;5;28mself\u001b[39m\u001b[38;5;241m.\u001b[39m_optimizer, closure, \u001b[38;5;241m*\u001b[39m\u001b[38;5;241m*\u001b[39mkwargs)\n\u001b[0;32m    155\u001b[0m \u001b[38;5;28mself\u001b[39m\u001b[38;5;241m.\u001b[39m_on_after_step()\n",
      "File \u001b[1;32mc:\\Users\\zzhuqshun\\.conda\\envs\\ML\\lib\\site-packages\\pytorch_lightning\\strategies\\strategy.py:238\u001b[0m, in \u001b[0;36mStrategy.optimizer_step\u001b[1;34m(self, optimizer, closure, model, **kwargs)\u001b[0m\n\u001b[0;32m    237\u001b[0m \u001b[38;5;28;01massert\u001b[39;00m \u001b[38;5;28misinstance\u001b[39m(model, pl\u001b[38;5;241m.\u001b[39mLightningModule)\n\u001b[1;32m--> 238\u001b[0m \u001b[38;5;28;01mreturn\u001b[39;00m \u001b[38;5;28mself\u001b[39m\u001b[38;5;241m.\u001b[39mprecision_plugin\u001b[38;5;241m.\u001b[39moptimizer_step(optimizer, model\u001b[38;5;241m=\u001b[39mmodel, closure\u001b[38;5;241m=\u001b[39mclosure, \u001b[38;5;241m*\u001b[39m\u001b[38;5;241m*\u001b[39mkwargs)\n",
      "File \u001b[1;32mc:\\Users\\zzhuqshun\\.conda\\envs\\ML\\lib\\site-packages\\pytorch_lightning\\plugins\\precision\\precision.py:122\u001b[0m, in \u001b[0;36mPrecision.optimizer_step\u001b[1;34m(self, optimizer, model, closure, **kwargs)\u001b[0m\n\u001b[0;32m    121\u001b[0m closure \u001b[38;5;241m=\u001b[39m partial(\u001b[38;5;28mself\u001b[39m\u001b[38;5;241m.\u001b[39m_wrap_closure, model, optimizer, closure)\n\u001b[1;32m--> 122\u001b[0m \u001b[38;5;28;01mreturn\u001b[39;00m optimizer\u001b[38;5;241m.\u001b[39mstep(closure\u001b[38;5;241m=\u001b[39mclosure, \u001b[38;5;241m*\u001b[39m\u001b[38;5;241m*\u001b[39mkwargs)\n",
      "File \u001b[1;32mc:\\Users\\zzhuqshun\\.conda\\envs\\ML\\lib\\site-packages\\torch\\optim\\optimizer.py:484\u001b[0m, in \u001b[0;36mOptimizer.profile_hook_step.<locals>.wrapper\u001b[1;34m(*args, **kwargs)\u001b[0m\n\u001b[0;32m    480\u001b[0m             \u001b[38;5;28;01mraise\u001b[39;00m \u001b[38;5;167;01mRuntimeError\u001b[39;00m(\n\u001b[0;32m    481\u001b[0m                 \u001b[38;5;124mf\u001b[39m\u001b[38;5;124m\"\u001b[39m\u001b[38;5;132;01m{\u001b[39;00mfunc\u001b[38;5;132;01m}\u001b[39;00m\u001b[38;5;124m must return None or a tuple of (new_args, new_kwargs), but got \u001b[39m\u001b[38;5;132;01m{\u001b[39;00mresult\u001b[38;5;132;01m}\u001b[39;00m\u001b[38;5;124m.\u001b[39m\u001b[38;5;124m\"\u001b[39m\n\u001b[0;32m    482\u001b[0m             )\n\u001b[1;32m--> 484\u001b[0m out \u001b[38;5;241m=\u001b[39m func(\u001b[38;5;241m*\u001b[39margs, \u001b[38;5;241m*\u001b[39m\u001b[38;5;241m*\u001b[39mkwargs)\n\u001b[0;32m    485\u001b[0m \u001b[38;5;28mself\u001b[39m\u001b[38;5;241m.\u001b[39m_optimizer_step_code()\n",
      "File \u001b[1;32mc:\\Users\\zzhuqshun\\.conda\\envs\\ML\\lib\\site-packages\\torch\\optim\\optimizer.py:89\u001b[0m, in \u001b[0;36m_use_grad_for_differentiable.<locals>._use_grad\u001b[1;34m(self, *args, **kwargs)\u001b[0m\n\u001b[0;32m     88\u001b[0m     torch\u001b[38;5;241m.\u001b[39m_dynamo\u001b[38;5;241m.\u001b[39mgraph_break()\n\u001b[1;32m---> 89\u001b[0m     ret \u001b[38;5;241m=\u001b[39m func(\u001b[38;5;28mself\u001b[39m, \u001b[38;5;241m*\u001b[39margs, \u001b[38;5;241m*\u001b[39m\u001b[38;5;241m*\u001b[39mkwargs)\n\u001b[0;32m     90\u001b[0m \u001b[38;5;28;01mfinally\u001b[39;00m:\n",
      "File \u001b[1;32mc:\\Users\\zzhuqshun\\.conda\\envs\\ML\\lib\\site-packages\\torch\\optim\\adam.py:205\u001b[0m, in \u001b[0;36mAdam.step\u001b[1;34m(self, closure)\u001b[0m\n\u001b[0;32m    204\u001b[0m     \u001b[38;5;28;01mwith\u001b[39;00m torch\u001b[38;5;241m.\u001b[39menable_grad():\n\u001b[1;32m--> 205\u001b[0m         loss \u001b[38;5;241m=\u001b[39m \u001b[43mclosure\u001b[49m\u001b[43m(\u001b[49m\u001b[43m)\u001b[49m\n\u001b[0;32m    207\u001b[0m \u001b[38;5;28;01mfor\u001b[39;00m group \u001b[38;5;129;01min\u001b[39;00m \u001b[38;5;28mself\u001b[39m\u001b[38;5;241m.\u001b[39mparam_groups:\n",
      "File \u001b[1;32mc:\\Users\\zzhuqshun\\.conda\\envs\\ML\\lib\\site-packages\\pytorch_lightning\\plugins\\precision\\precision.py:108\u001b[0m, in \u001b[0;36mPrecision._wrap_closure\u001b[1;34m(self, model, optimizer, closure)\u001b[0m\n\u001b[0;32m    101\u001b[0m \u001b[38;5;250m\u001b[39m\u001b[38;5;124;03m\"\"\"This double-closure allows makes sure the ``closure`` is executed before the ``on_before_optimizer_step``\u001b[39;00m\n\u001b[0;32m    102\u001b[0m \u001b[38;5;124;03mhook is called.\u001b[39;00m\n\u001b[0;32m    103\u001b[0m \n\u001b[1;32m   (...)\u001b[0m\n\u001b[0;32m    106\u001b[0m \n\u001b[0;32m    107\u001b[0m \u001b[38;5;124;03m\"\"\"\u001b[39;00m\n\u001b[1;32m--> 108\u001b[0m closure_result \u001b[38;5;241m=\u001b[39m \u001b[43mclosure\u001b[49m\u001b[43m(\u001b[49m\u001b[43m)\u001b[49m\n\u001b[0;32m    109\u001b[0m \u001b[38;5;28mself\u001b[39m\u001b[38;5;241m.\u001b[39m_after_closure(model, optimizer)\n",
      "File \u001b[1;32mc:\\Users\\zzhuqshun\\.conda\\envs\\ML\\lib\\site-packages\\pytorch_lightning\\loops\\optimization\\automatic.py:144\u001b[0m, in \u001b[0;36mClosure.__call__\u001b[1;34m(self, *args, **kwargs)\u001b[0m\n\u001b[0;32m    142\u001b[0m \u001b[38;5;129m@override\u001b[39m\n\u001b[0;32m    143\u001b[0m \u001b[38;5;28;01mdef\u001b[39;00m \u001b[38;5;21m__call__\u001b[39m(\u001b[38;5;28mself\u001b[39m, \u001b[38;5;241m*\u001b[39margs: Any, \u001b[38;5;241m*\u001b[39m\u001b[38;5;241m*\u001b[39mkwargs: Any) \u001b[38;5;241m-\u001b[39m\u001b[38;5;241m>\u001b[39m Optional[Tensor]:\n\u001b[1;32m--> 144\u001b[0m     \u001b[38;5;28mself\u001b[39m\u001b[38;5;241m.\u001b[39m_result \u001b[38;5;241m=\u001b[39m \u001b[38;5;28mself\u001b[39m\u001b[38;5;241m.\u001b[39mclosure(\u001b[38;5;241m*\u001b[39margs, \u001b[38;5;241m*\u001b[39m\u001b[38;5;241m*\u001b[39mkwargs)\n\u001b[0;32m    145\u001b[0m     \u001b[38;5;28;01mreturn\u001b[39;00m \u001b[38;5;28mself\u001b[39m\u001b[38;5;241m.\u001b[39m_result\u001b[38;5;241m.\u001b[39mloss\n",
      "File \u001b[1;32mc:\\Users\\zzhuqshun\\.conda\\envs\\ML\\lib\\site-packages\\torch\\utils\\_contextlib.py:116\u001b[0m, in \u001b[0;36mcontext_decorator.<locals>.decorate_context\u001b[1;34m(*args, **kwargs)\u001b[0m\n\u001b[0;32m    115\u001b[0m \u001b[38;5;28;01mwith\u001b[39;00m ctx_factory():\n\u001b[1;32m--> 116\u001b[0m     \u001b[38;5;28;01mreturn\u001b[39;00m func(\u001b[38;5;241m*\u001b[39margs, \u001b[38;5;241m*\u001b[39m\u001b[38;5;241m*\u001b[39mkwargs)\n",
      "File \u001b[1;32mc:\\Users\\zzhuqshun\\.conda\\envs\\ML\\lib\\site-packages\\pytorch_lightning\\loops\\optimization\\automatic.py:138\u001b[0m, in \u001b[0;36mClosure.closure\u001b[1;34m(self, *args, **kwargs)\u001b[0m\n\u001b[0;32m    137\u001b[0m \u001b[38;5;28;01mif\u001b[39;00m \u001b[38;5;28mself\u001b[39m\u001b[38;5;241m.\u001b[39m_backward_fn \u001b[38;5;129;01mis\u001b[39;00m \u001b[38;5;129;01mnot\u001b[39;00m \u001b[38;5;28;01mNone\u001b[39;00m \u001b[38;5;129;01mand\u001b[39;00m step_output\u001b[38;5;241m.\u001b[39mclosure_loss \u001b[38;5;129;01mis\u001b[39;00m \u001b[38;5;129;01mnot\u001b[39;00m \u001b[38;5;28;01mNone\u001b[39;00m:\n\u001b[1;32m--> 138\u001b[0m     \u001b[38;5;28;43mself\u001b[39;49m\u001b[38;5;241;43m.\u001b[39;49m\u001b[43m_backward_fn\u001b[49m\u001b[43m(\u001b[49m\u001b[43mstep_output\u001b[49m\u001b[38;5;241;43m.\u001b[39;49m\u001b[43mclosure_loss\u001b[49m\u001b[43m)\u001b[49m\n\u001b[0;32m    140\u001b[0m \u001b[38;5;28;01mreturn\u001b[39;00m step_output\n",
      "File \u001b[1;32mc:\\Users\\zzhuqshun\\.conda\\envs\\ML\\lib\\site-packages\\pytorch_lightning\\loops\\optimization\\automatic.py:239\u001b[0m, in \u001b[0;36m_AutomaticOptimization._make_backward_fn.<locals>.backward_fn\u001b[1;34m(loss)\u001b[0m\n\u001b[0;32m    238\u001b[0m \u001b[38;5;28;01mdef\u001b[39;00m \u001b[38;5;21mbackward_fn\u001b[39m(loss: Tensor) \u001b[38;5;241m-\u001b[39m\u001b[38;5;241m>\u001b[39m \u001b[38;5;28;01mNone\u001b[39;00m:\n\u001b[1;32m--> 239\u001b[0m     \u001b[43mcall\u001b[49m\u001b[38;5;241;43m.\u001b[39;49m\u001b[43m_call_strategy_hook\u001b[49m\u001b[43m(\u001b[49m\u001b[38;5;28;43mself\u001b[39;49m\u001b[38;5;241;43m.\u001b[39;49m\u001b[43mtrainer\u001b[49m\u001b[43m,\u001b[49m\u001b[43m \u001b[49m\u001b[38;5;124;43m\"\u001b[39;49m\u001b[38;5;124;43mbackward\u001b[39;49m\u001b[38;5;124;43m\"\u001b[39;49m\u001b[43m,\u001b[49m\u001b[43m \u001b[49m\u001b[43mloss\u001b[49m\u001b[43m,\u001b[49m\u001b[43m \u001b[49m\u001b[43moptimizer\u001b[49m\u001b[43m)\u001b[49m\n",
      "File \u001b[1;32mc:\\Users\\zzhuqshun\\.conda\\envs\\ML\\lib\\site-packages\\pytorch_lightning\\trainer\\call.py:319\u001b[0m, in \u001b[0;36m_call_strategy_hook\u001b[1;34m(trainer, hook_name, *args, **kwargs)\u001b[0m\n\u001b[0;32m    318\u001b[0m \u001b[38;5;28;01mwith\u001b[39;00m trainer\u001b[38;5;241m.\u001b[39mprofiler\u001b[38;5;241m.\u001b[39mprofile(\u001b[38;5;124mf\u001b[39m\u001b[38;5;124m\"\u001b[39m\u001b[38;5;124m[Strategy]\u001b[39m\u001b[38;5;132;01m{\u001b[39;00mtrainer\u001b[38;5;241m.\u001b[39mstrategy\u001b[38;5;241m.\u001b[39m\u001b[38;5;18m__class__\u001b[39m\u001b[38;5;241m.\u001b[39m\u001b[38;5;18m__name__\u001b[39m\u001b[38;5;132;01m}\u001b[39;00m\u001b[38;5;124m.\u001b[39m\u001b[38;5;132;01m{\u001b[39;00mhook_name\u001b[38;5;132;01m}\u001b[39;00m\u001b[38;5;124m\"\u001b[39m):\n\u001b[1;32m--> 319\u001b[0m     output \u001b[38;5;241m=\u001b[39m fn(\u001b[38;5;241m*\u001b[39margs, \u001b[38;5;241m*\u001b[39m\u001b[38;5;241m*\u001b[39mkwargs)\n\u001b[0;32m    321\u001b[0m \u001b[38;5;66;03m# restore current_fx when nested context\u001b[39;00m\n",
      "File \u001b[1;32mc:\\Users\\zzhuqshun\\.conda\\envs\\ML\\lib\\site-packages\\pytorch_lightning\\strategies\\strategy.py:212\u001b[0m, in \u001b[0;36mStrategy.backward\u001b[1;34m(self, closure_loss, optimizer, *args, **kwargs)\u001b[0m\n\u001b[0;32m    210\u001b[0m closure_loss \u001b[38;5;241m=\u001b[39m \u001b[38;5;28mself\u001b[39m\u001b[38;5;241m.\u001b[39mprecision_plugin\u001b[38;5;241m.\u001b[39mpre_backward(closure_loss, \u001b[38;5;28mself\u001b[39m\u001b[38;5;241m.\u001b[39mlightning_module)\n\u001b[1;32m--> 212\u001b[0m \u001b[38;5;28mself\u001b[39m\u001b[38;5;241m.\u001b[39mprecision_plugin\u001b[38;5;241m.\u001b[39mbackward(closure_loss, \u001b[38;5;28mself\u001b[39m\u001b[38;5;241m.\u001b[39mlightning_module, optimizer, \u001b[38;5;241m*\u001b[39margs, \u001b[38;5;241m*\u001b[39m\u001b[38;5;241m*\u001b[39mkwargs)\n\u001b[0;32m    214\u001b[0m closure_loss \u001b[38;5;241m=\u001b[39m \u001b[38;5;28mself\u001b[39m\u001b[38;5;241m.\u001b[39mprecision_plugin\u001b[38;5;241m.\u001b[39mpost_backward(closure_loss, \u001b[38;5;28mself\u001b[39m\u001b[38;5;241m.\u001b[39mlightning_module)\n",
      "File \u001b[1;32mc:\\Users\\zzhuqshun\\.conda\\envs\\ML\\lib\\site-packages\\pytorch_lightning\\plugins\\precision\\precision.py:72\u001b[0m, in \u001b[0;36mPrecision.backward\u001b[1;34m(self, tensor, model, optimizer, *args, **kwargs)\u001b[0m\n\u001b[0;32m     61\u001b[0m \u001b[38;5;250m\u001b[39m\u001b[38;5;124mr\u001b[39m\u001b[38;5;124;03m\"\"\"Performs the actual backpropagation.\u001b[39;00m\n\u001b[0;32m     62\u001b[0m \n\u001b[0;32m     63\u001b[0m \u001b[38;5;124;03mArgs:\u001b[39;00m\n\u001b[1;32m   (...)\u001b[0m\n\u001b[0;32m     70\u001b[0m \n\u001b[0;32m     71\u001b[0m \u001b[38;5;124;03m\"\"\"\u001b[39;00m\n\u001b[1;32m---> 72\u001b[0m model\u001b[38;5;241m.\u001b[39mbackward(tensor, \u001b[38;5;241m*\u001b[39margs, \u001b[38;5;241m*\u001b[39m\u001b[38;5;241m*\u001b[39mkwargs)\n",
      "File \u001b[1;32mc:\\Users\\zzhuqshun\\.conda\\envs\\ML\\lib\\site-packages\\pytorch_lightning\\core\\module.py:1101\u001b[0m, in \u001b[0;36mLightningModule.backward\u001b[1;34m(self, loss, *args, **kwargs)\u001b[0m\n\u001b[0;32m   1100\u001b[0m \u001b[38;5;28;01melse\u001b[39;00m:\n\u001b[1;32m-> 1101\u001b[0m     loss\u001b[38;5;241m.\u001b[39mbackward(\u001b[38;5;241m*\u001b[39margs, \u001b[38;5;241m*\u001b[39m\u001b[38;5;241m*\u001b[39mkwargs)\n",
      "File \u001b[1;32mc:\\Users\\zzhuqshun\\.conda\\envs\\ML\\lib\\site-packages\\torch\\_tensor.py:521\u001b[0m, in \u001b[0;36mTensor.backward\u001b[1;34m(self, gradient, retain_graph, create_graph, inputs)\u001b[0m\n\u001b[0;32m    512\u001b[0m     \u001b[38;5;28;01mreturn\u001b[39;00m handle_torch_function(\n\u001b[0;32m    513\u001b[0m         Tensor\u001b[38;5;241m.\u001b[39mbackward,\n\u001b[0;32m    514\u001b[0m         (\u001b[38;5;28mself\u001b[39m,),\n\u001b[1;32m   (...)\u001b[0m\n\u001b[0;32m    519\u001b[0m         inputs\u001b[38;5;241m=\u001b[39minputs,\n\u001b[0;32m    520\u001b[0m     )\n\u001b[1;32m--> 521\u001b[0m \u001b[43mtorch\u001b[49m\u001b[38;5;241;43m.\u001b[39;49m\u001b[43mautograd\u001b[49m\u001b[38;5;241;43m.\u001b[39;49m\u001b[43mbackward\u001b[49m\u001b[43m(\u001b[49m\n\u001b[0;32m    522\u001b[0m \u001b[43m    \u001b[49m\u001b[38;5;28;43mself\u001b[39;49m\u001b[43m,\u001b[49m\u001b[43m \u001b[49m\u001b[43mgradient\u001b[49m\u001b[43m,\u001b[49m\u001b[43m \u001b[49m\u001b[43mretain_graph\u001b[49m\u001b[43m,\u001b[49m\u001b[43m \u001b[49m\u001b[43mcreate_graph\u001b[49m\u001b[43m,\u001b[49m\u001b[43m \u001b[49m\u001b[43minputs\u001b[49m\u001b[38;5;241;43m=\u001b[39;49m\u001b[43minputs\u001b[49m\n\u001b[0;32m    523\u001b[0m \u001b[43m\u001b[49m\u001b[43m)\u001b[49m\n",
      "File \u001b[1;32mc:\\Users\\zzhuqshun\\.conda\\envs\\ML\\lib\\site-packages\\torch\\autograd\\__init__.py:289\u001b[0m, in \u001b[0;36mbackward\u001b[1;34m(tensors, grad_tensors, retain_graph, create_graph, grad_variables, inputs)\u001b[0m\n\u001b[0;32m    286\u001b[0m \u001b[38;5;66;03m# The reason we repeat the same comment below is that\u001b[39;00m\n\u001b[0;32m    287\u001b[0m \u001b[38;5;66;03m# some Python versions print out the first line of a multi-line function\u001b[39;00m\n\u001b[0;32m    288\u001b[0m \u001b[38;5;66;03m# calls in the traceback and some print out the last line\u001b[39;00m\n\u001b[1;32m--> 289\u001b[0m \u001b[43m_engine_run_backward\u001b[49m\u001b[43m(\u001b[49m\n\u001b[0;32m    290\u001b[0m \u001b[43m    \u001b[49m\u001b[43mtensors\u001b[49m\u001b[43m,\u001b[49m\n\u001b[0;32m    291\u001b[0m \u001b[43m    \u001b[49m\u001b[43mgrad_tensors_\u001b[49m\u001b[43m,\u001b[49m\n\u001b[0;32m    292\u001b[0m \u001b[43m    \u001b[49m\u001b[43mretain_graph\u001b[49m\u001b[43m,\u001b[49m\n\u001b[0;32m    293\u001b[0m \u001b[43m    \u001b[49m\u001b[43mcreate_graph\u001b[49m\u001b[43m,\u001b[49m\n\u001b[0;32m    294\u001b[0m \u001b[43m    \u001b[49m\u001b[43minputs\u001b[49m\u001b[43m,\u001b[49m\n\u001b[0;32m    295\u001b[0m \u001b[43m    \u001b[49m\u001b[43mallow_unreachable\u001b[49m\u001b[38;5;241;43m=\u001b[39;49m\u001b[38;5;28;43;01mTrue\u001b[39;49;00m\u001b[43m,\u001b[49m\n\u001b[0;32m    296\u001b[0m \u001b[43m    \u001b[49m\u001b[43maccumulate_grad\u001b[49m\u001b[38;5;241;43m=\u001b[39;49m\u001b[38;5;28;43;01mTrue\u001b[39;49;00m\u001b[43m,\u001b[49m\n\u001b[0;32m    297\u001b[0m \u001b[43m\u001b[49m\u001b[43m)\u001b[49m\n",
      "File \u001b[1;32mc:\\Users\\zzhuqshun\\.conda\\envs\\ML\\lib\\site-packages\\torch\\autograd\\graph.py:769\u001b[0m, in \u001b[0;36m_engine_run_backward\u001b[1;34m(t_outputs, *args, **kwargs)\u001b[0m\n\u001b[0;32m    768\u001b[0m \u001b[38;5;28;01mtry\u001b[39;00m:\n\u001b[1;32m--> 769\u001b[0m     \u001b[38;5;28;01mreturn\u001b[39;00m Variable\u001b[38;5;241m.\u001b[39m_execution_engine\u001b[38;5;241m.\u001b[39mrun_backward(  \u001b[38;5;66;03m# Calls into the C++ engine to run the backward pass\u001b[39;00m\n\u001b[0;32m    770\u001b[0m         t_outputs, \u001b[38;5;241m*\u001b[39margs, \u001b[38;5;241m*\u001b[39m\u001b[38;5;241m*\u001b[39mkwargs\n\u001b[0;32m    771\u001b[0m     )  \u001b[38;5;66;03m# Calls into the C++ engine to run the backward pass\u001b[39;00m\n\u001b[0;32m    772\u001b[0m \u001b[38;5;28;01mfinally\u001b[39;00m:\n",
      "\u001b[1;31mKeyboardInterrupt\u001b[0m: ",
      "\nDuring handling of the above exception, another exception occurred:\n",
      "\u001b[1;31mNameError\u001b[0m                                 Traceback (most recent call last)",
      "Cell \u001b[1;32mIn[20], line 3\u001b[0m\n\u001b[0;32m      1\u001b[0m \u001b[38;5;66;03m# Optuna call with progress bar\u001b[39;00m\n\u001b[0;32m      2\u001b[0m study \u001b[38;5;241m=\u001b[39m optuna\u001b[38;5;241m.\u001b[39mcreate_study(direction\u001b[38;5;241m=\u001b[39m\u001b[38;5;124m\"\u001b[39m\u001b[38;5;124mminimize\u001b[39m\u001b[38;5;124m\"\u001b[39m)\n\u001b[1;32m----> 3\u001b[0m \u001b[43mstudy\u001b[49m\u001b[38;5;241;43m.\u001b[39;49m\u001b[43moptimize\u001b[49m\u001b[43m(\u001b[49m\u001b[43mobjective\u001b[49m\u001b[43m,\u001b[49m\u001b[43m \u001b[49m\u001b[43mn_trials\u001b[49m\u001b[38;5;241;43m=\u001b[39;49m\u001b[38;5;241;43m100\u001b[39;49m\u001b[43m)\u001b[49m  \n\u001b[0;32m      5\u001b[0m \u001b[38;5;66;03m# Best trial\u001b[39;00m\n\u001b[0;32m      6\u001b[0m \u001b[38;5;28mprint\u001b[39m(\u001b[38;5;124m\"\u001b[39m\u001b[38;5;124mBest trial:\u001b[39m\u001b[38;5;124m\"\u001b[39m)\n",
      "File \u001b[1;32mc:\\Users\\zzhuqshun\\.conda\\envs\\ML\\lib\\site-packages\\optuna\\study\\study.py:475\u001b[0m, in \u001b[0;36mStudy.optimize\u001b[1;34m(self, func, n_trials, timeout, n_jobs, catch, callbacks, gc_after_trial, show_progress_bar)\u001b[0m\n\u001b[0;32m    373\u001b[0m \u001b[38;5;28;01mdef\u001b[39;00m \u001b[38;5;21moptimize\u001b[39m(\n\u001b[0;32m    374\u001b[0m     \u001b[38;5;28mself\u001b[39m,\n\u001b[0;32m    375\u001b[0m     func: ObjectiveFuncType,\n\u001b[1;32m   (...)\u001b[0m\n\u001b[0;32m    382\u001b[0m     show_progress_bar: \u001b[38;5;28mbool\u001b[39m \u001b[38;5;241m=\u001b[39m \u001b[38;5;28;01mFalse\u001b[39;00m,\n\u001b[0;32m    383\u001b[0m ) \u001b[38;5;241m-\u001b[39m\u001b[38;5;241m>\u001b[39m \u001b[38;5;28;01mNone\u001b[39;00m:\n\u001b[0;32m    384\u001b[0m \u001b[38;5;250m    \u001b[39m\u001b[38;5;124;03m\"\"\"Optimize an objective function.\u001b[39;00m\n\u001b[0;32m    385\u001b[0m \n\u001b[0;32m    386\u001b[0m \u001b[38;5;124;03m    Optimization is done by choosing a suitable set of hyperparameter values from a given\u001b[39;00m\n\u001b[1;32m   (...)\u001b[0m\n\u001b[0;32m    473\u001b[0m \u001b[38;5;124;03m            If nested invocation of this method occurs.\u001b[39;00m\n\u001b[0;32m    474\u001b[0m \u001b[38;5;124;03m    \"\"\"\u001b[39;00m\n\u001b[1;32m--> 475\u001b[0m     \u001b[43m_optimize\u001b[49m\u001b[43m(\u001b[49m\n\u001b[0;32m    476\u001b[0m \u001b[43m        \u001b[49m\u001b[43mstudy\u001b[49m\u001b[38;5;241;43m=\u001b[39;49m\u001b[38;5;28;43mself\u001b[39;49m\u001b[43m,\u001b[49m\n\u001b[0;32m    477\u001b[0m \u001b[43m        \u001b[49m\u001b[43mfunc\u001b[49m\u001b[38;5;241;43m=\u001b[39;49m\u001b[43mfunc\u001b[49m\u001b[43m,\u001b[49m\n\u001b[0;32m    478\u001b[0m \u001b[43m        \u001b[49m\u001b[43mn_trials\u001b[49m\u001b[38;5;241;43m=\u001b[39;49m\u001b[43mn_trials\u001b[49m\u001b[43m,\u001b[49m\n\u001b[0;32m    479\u001b[0m \u001b[43m        \u001b[49m\u001b[43mtimeout\u001b[49m\u001b[38;5;241;43m=\u001b[39;49m\u001b[43mtimeout\u001b[49m\u001b[43m,\u001b[49m\n\u001b[0;32m    480\u001b[0m \u001b[43m        \u001b[49m\u001b[43mn_jobs\u001b[49m\u001b[38;5;241;43m=\u001b[39;49m\u001b[43mn_jobs\u001b[49m\u001b[43m,\u001b[49m\n\u001b[0;32m    481\u001b[0m \u001b[43m        \u001b[49m\u001b[43mcatch\u001b[49m\u001b[38;5;241;43m=\u001b[39;49m\u001b[38;5;28;43mtuple\u001b[39;49m\u001b[43m(\u001b[49m\u001b[43mcatch\u001b[49m\u001b[43m)\u001b[49m\u001b[43m \u001b[49m\u001b[38;5;28;43;01mif\u001b[39;49;00m\u001b[43m \u001b[49m\u001b[38;5;28;43misinstance\u001b[39;49m\u001b[43m(\u001b[49m\u001b[43mcatch\u001b[49m\u001b[43m,\u001b[49m\u001b[43m \u001b[49m\u001b[43mIterable\u001b[49m\u001b[43m)\u001b[49m\u001b[43m \u001b[49m\u001b[38;5;28;43;01melse\u001b[39;49;00m\u001b[43m \u001b[49m\u001b[43m(\u001b[49m\u001b[43mcatch\u001b[49m\u001b[43m,\u001b[49m\u001b[43m)\u001b[49m\u001b[43m,\u001b[49m\n\u001b[0;32m    482\u001b[0m \u001b[43m        \u001b[49m\u001b[43mcallbacks\u001b[49m\u001b[38;5;241;43m=\u001b[39;49m\u001b[43mcallbacks\u001b[49m\u001b[43m,\u001b[49m\n\u001b[0;32m    483\u001b[0m \u001b[43m        \u001b[49m\u001b[43mgc_after_trial\u001b[49m\u001b[38;5;241;43m=\u001b[39;49m\u001b[43mgc_after_trial\u001b[49m\u001b[43m,\u001b[49m\n\u001b[0;32m    484\u001b[0m \u001b[43m        \u001b[49m\u001b[43mshow_progress_bar\u001b[49m\u001b[38;5;241;43m=\u001b[39;49m\u001b[43mshow_progress_bar\u001b[49m\u001b[43m,\u001b[49m\n\u001b[0;32m    485\u001b[0m \u001b[43m    \u001b[49m\u001b[43m)\u001b[49m\n",
      "File \u001b[1;32mc:\\Users\\zzhuqshun\\.conda\\envs\\ML\\lib\\site-packages\\optuna\\study\\_optimize.py:63\u001b[0m, in \u001b[0;36m_optimize\u001b[1;34m(study, func, n_trials, timeout, n_jobs, catch, callbacks, gc_after_trial, show_progress_bar)\u001b[0m\n\u001b[0;32m     61\u001b[0m \u001b[38;5;28;01mtry\u001b[39;00m:\n\u001b[0;32m     62\u001b[0m     \u001b[38;5;28;01mif\u001b[39;00m n_jobs \u001b[38;5;241m==\u001b[39m \u001b[38;5;241m1\u001b[39m:\n\u001b[1;32m---> 63\u001b[0m         \u001b[43m_optimize_sequential\u001b[49m\u001b[43m(\u001b[49m\n\u001b[0;32m     64\u001b[0m \u001b[43m            \u001b[49m\u001b[43mstudy\u001b[49m\u001b[43m,\u001b[49m\n\u001b[0;32m     65\u001b[0m \u001b[43m            \u001b[49m\u001b[43mfunc\u001b[49m\u001b[43m,\u001b[49m\n\u001b[0;32m     66\u001b[0m \u001b[43m            \u001b[49m\u001b[43mn_trials\u001b[49m\u001b[43m,\u001b[49m\n\u001b[0;32m     67\u001b[0m \u001b[43m            \u001b[49m\u001b[43mtimeout\u001b[49m\u001b[43m,\u001b[49m\n\u001b[0;32m     68\u001b[0m \u001b[43m            \u001b[49m\u001b[43mcatch\u001b[49m\u001b[43m,\u001b[49m\n\u001b[0;32m     69\u001b[0m \u001b[43m            \u001b[49m\u001b[43mcallbacks\u001b[49m\u001b[43m,\u001b[49m\n\u001b[0;32m     70\u001b[0m \u001b[43m            \u001b[49m\u001b[43mgc_after_trial\u001b[49m\u001b[43m,\u001b[49m\n\u001b[0;32m     71\u001b[0m \u001b[43m            \u001b[49m\u001b[43mreseed_sampler_rng\u001b[49m\u001b[38;5;241;43m=\u001b[39;49m\u001b[38;5;28;43;01mFalse\u001b[39;49;00m\u001b[43m,\u001b[49m\n\u001b[0;32m     72\u001b[0m \u001b[43m            \u001b[49m\u001b[43mtime_start\u001b[49m\u001b[38;5;241;43m=\u001b[39;49m\u001b[38;5;28;43;01mNone\u001b[39;49;00m\u001b[43m,\u001b[49m\n\u001b[0;32m     73\u001b[0m \u001b[43m            \u001b[49m\u001b[43mprogress_bar\u001b[49m\u001b[38;5;241;43m=\u001b[39;49m\u001b[43mprogress_bar\u001b[49m\u001b[43m,\u001b[49m\n\u001b[0;32m     74\u001b[0m \u001b[43m        \u001b[49m\u001b[43m)\u001b[49m\n\u001b[0;32m     75\u001b[0m     \u001b[38;5;28;01melse\u001b[39;00m:\n\u001b[0;32m     76\u001b[0m         \u001b[38;5;28;01mif\u001b[39;00m n_jobs \u001b[38;5;241m==\u001b[39m \u001b[38;5;241m-\u001b[39m\u001b[38;5;241m1\u001b[39m:\n",
      "File \u001b[1;32mc:\\Users\\zzhuqshun\\.conda\\envs\\ML\\lib\\site-packages\\optuna\\study\\_optimize.py:160\u001b[0m, in \u001b[0;36m_optimize_sequential\u001b[1;34m(study, func, n_trials, timeout, catch, callbacks, gc_after_trial, reseed_sampler_rng, time_start, progress_bar)\u001b[0m\n\u001b[0;32m    157\u001b[0m         \u001b[38;5;28;01mbreak\u001b[39;00m\n\u001b[0;32m    159\u001b[0m \u001b[38;5;28;01mtry\u001b[39;00m:\n\u001b[1;32m--> 160\u001b[0m     frozen_trial \u001b[38;5;241m=\u001b[39m \u001b[43m_run_trial\u001b[49m\u001b[43m(\u001b[49m\u001b[43mstudy\u001b[49m\u001b[43m,\u001b[49m\u001b[43m \u001b[49m\u001b[43mfunc\u001b[49m\u001b[43m,\u001b[49m\u001b[43m \u001b[49m\u001b[43mcatch\u001b[49m\u001b[43m)\u001b[49m\n\u001b[0;32m    161\u001b[0m \u001b[38;5;28;01mfinally\u001b[39;00m:\n\u001b[0;32m    162\u001b[0m     \u001b[38;5;66;03m# The following line mitigates memory problems that can be occurred in some\u001b[39;00m\n\u001b[0;32m    163\u001b[0m     \u001b[38;5;66;03m# environments (e.g., services that use computing containers such as GitHub Actions).\u001b[39;00m\n\u001b[0;32m    164\u001b[0m     \u001b[38;5;66;03m# Please refer to the following PR for further details:\u001b[39;00m\n\u001b[0;32m    165\u001b[0m     \u001b[38;5;66;03m# https://github.com/optuna/optuna/pull/325.\u001b[39;00m\n\u001b[0;32m    166\u001b[0m     \u001b[38;5;28;01mif\u001b[39;00m gc_after_trial:\n",
      "File \u001b[1;32mc:\\Users\\zzhuqshun\\.conda\\envs\\ML\\lib\\site-packages\\optuna\\study\\_optimize.py:248\u001b[0m, in \u001b[0;36m_run_trial\u001b[1;34m(study, func, catch)\u001b[0m\n\u001b[0;32m    241\u001b[0m         \u001b[38;5;28;01massert\u001b[39;00m \u001b[38;5;28;01mFalse\u001b[39;00m, \u001b[38;5;124m\"\u001b[39m\u001b[38;5;124mShould not reach.\u001b[39m\u001b[38;5;124m\"\u001b[39m\n\u001b[0;32m    243\u001b[0m \u001b[38;5;28;01mif\u001b[39;00m (\n\u001b[0;32m    244\u001b[0m     frozen_trial\u001b[38;5;241m.\u001b[39mstate \u001b[38;5;241m==\u001b[39m TrialState\u001b[38;5;241m.\u001b[39mFAIL\n\u001b[0;32m    245\u001b[0m     \u001b[38;5;129;01mand\u001b[39;00m func_err \u001b[38;5;129;01mis\u001b[39;00m \u001b[38;5;129;01mnot\u001b[39;00m \u001b[38;5;28;01mNone\u001b[39;00m\n\u001b[0;32m    246\u001b[0m     \u001b[38;5;129;01mand\u001b[39;00m \u001b[38;5;129;01mnot\u001b[39;00m \u001b[38;5;28misinstance\u001b[39m(func_err, catch)\n\u001b[0;32m    247\u001b[0m ):\n\u001b[1;32m--> 248\u001b[0m     \u001b[38;5;28;01mraise\u001b[39;00m func_err\n\u001b[0;32m    249\u001b[0m \u001b[38;5;28;01mreturn\u001b[39;00m frozen_trial\n",
      "File \u001b[1;32mc:\\Users\\zzhuqshun\\.conda\\envs\\ML\\lib\\site-packages\\optuna\\study\\_optimize.py:197\u001b[0m, in \u001b[0;36m_run_trial\u001b[1;34m(study, func, catch)\u001b[0m\n\u001b[0;32m    195\u001b[0m \u001b[38;5;28;01mwith\u001b[39;00m get_heartbeat_thread(trial\u001b[38;5;241m.\u001b[39m_trial_id, study\u001b[38;5;241m.\u001b[39m_storage):\n\u001b[0;32m    196\u001b[0m     \u001b[38;5;28;01mtry\u001b[39;00m:\n\u001b[1;32m--> 197\u001b[0m         value_or_values \u001b[38;5;241m=\u001b[39m \u001b[43mfunc\u001b[49m\u001b[43m(\u001b[49m\u001b[43mtrial\u001b[49m\u001b[43m)\u001b[49m\n\u001b[0;32m    198\u001b[0m     \u001b[38;5;28;01mexcept\u001b[39;00m exceptions\u001b[38;5;241m.\u001b[39mTrialPruned \u001b[38;5;28;01mas\u001b[39;00m e:\n\u001b[0;32m    199\u001b[0m         \u001b[38;5;66;03m# TODO(mamu): Handle multi-objective cases.\u001b[39;00m\n\u001b[0;32m    200\u001b[0m         state \u001b[38;5;241m=\u001b[39m TrialState\u001b[38;5;241m.\u001b[39mPRUNED\n",
      "Cell \u001b[1;32mIn[19], line 35\u001b[0m, in \u001b[0;36mobjective\u001b[1;34m(trial)\u001b[0m\n\u001b[0;32m     17\u001b[0m model \u001b[38;5;241m=\u001b[39m NBEATSModel(\n\u001b[0;32m     18\u001b[0m     input_chunk_length\u001b[38;5;241m=\u001b[39minput_chunk_length,\n\u001b[0;32m     19\u001b[0m     output_chunk_length\u001b[38;5;241m=\u001b[39moutput_chunk_length,\n\u001b[1;32m   (...)\u001b[0m\n\u001b[0;32m     31\u001b[0m     }\n\u001b[0;32m     32\u001b[0m )\n\u001b[0;32m     33\u001b[0m train_series, ctrain_cov, val_series, val_cov \u001b[38;5;241m=\u001b[39m prepare_data(train_data, val_data)\n\u001b[1;32m---> 35\u001b[0m \u001b[43mmodel\u001b[49m\u001b[38;5;241;43m.\u001b[39;49m\u001b[43mfit\u001b[49m\u001b[43m(\u001b[49m\u001b[43mseries\u001b[49m\u001b[38;5;241;43m=\u001b[39;49m\u001b[43mtrain_series\u001b[49m\u001b[43m,\u001b[49m\u001b[43m \u001b[49m\u001b[43mpast_covariates\u001b[49m\u001b[38;5;241;43m=\u001b[39;49m\u001b[43mctrain_cov\u001b[49m\u001b[43m,\u001b[49m\u001b[43m \u001b[49m\n\u001b[0;32m     36\u001b[0m \u001b[43m          \u001b[49m\u001b[43mval_series\u001b[49m\u001b[38;5;241;43m=\u001b[39;49m\u001b[43mval_series\u001b[49m\u001b[43m,\u001b[49m\u001b[43m \u001b[49m\u001b[43mval_past_covariates\u001b[49m\u001b[38;5;241;43m=\u001b[39;49m\u001b[43mval_cov\u001b[49m\u001b[43m,\u001b[49m\u001b[43m \u001b[49m\u001b[43mepochs\u001b[49m\u001b[38;5;241;43m=\u001b[39;49m\u001b[38;5;241;43m100\u001b[39;49m\u001b[43m)\u001b[49m  \n\u001b[0;32m     38\u001b[0m \u001b[38;5;66;03m# Retrieve best validation loss directly from the training process\u001b[39;00m\n\u001b[0;32m     39\u001b[0m best_val_loss \u001b[38;5;241m=\u001b[39m model\u001b[38;5;241m.\u001b[39mtrainer\u001b[38;5;241m.\u001b[39mcheckpoint_callback\u001b[38;5;241m.\u001b[39mbest_model_score\u001b[38;5;241m.\u001b[39mitem() \n",
      "File \u001b[1;32mc:\\Users\\zzhuqshun\\.conda\\envs\\ML\\lib\\site-packages\\darts\\utils\\torch.py:103\u001b[0m, in \u001b[0;36mrandom_method.<locals>.decorator\u001b[1;34m(self, *args, **kwargs)\u001b[0m\n\u001b[0;32m    101\u001b[0m \u001b[38;5;28;01mwith\u001b[39;00m fork_rng():\n\u001b[0;32m    102\u001b[0m     manual_seed(\u001b[38;5;28mself\u001b[39m\u001b[38;5;241m.\u001b[39m_random_instance\u001b[38;5;241m.\u001b[39mrandint(\u001b[38;5;241m0\u001b[39m, high\u001b[38;5;241m=\u001b[39mMAX_TORCH_SEED_VALUE))\n\u001b[1;32m--> 103\u001b[0m     \u001b[38;5;28;01mreturn\u001b[39;00m decorated(\u001b[38;5;28mself\u001b[39m, \u001b[38;5;241m*\u001b[39margs, \u001b[38;5;241m*\u001b[39m\u001b[38;5;241m*\u001b[39mkwargs)\n",
      "File \u001b[1;32mc:\\Users\\zzhuqshun\\.conda\\envs\\ML\\lib\\site-packages\\darts\\models\\forecasting\\torch_forecasting_model.py:776\u001b[0m, in \u001b[0;36mTorchForecastingModel.fit\u001b[1;34m(self, series, past_covariates, future_covariates, val_series, val_past_covariates, val_future_covariates, trainer, verbose, epochs, max_samples_per_ts, dataloader_kwargs, sample_weight, val_sample_weight)\u001b[0m\n\u001b[0;32m    770\u001b[0m \u001b[38;5;66;03m# call super fit only if user is actually fitting the model\u001b[39;00m\n\u001b[0;32m    771\u001b[0m \u001b[38;5;28msuper\u001b[39m()\u001b[38;5;241m.\u001b[39mfit(\n\u001b[0;32m    772\u001b[0m     series\u001b[38;5;241m=\u001b[39mseq2series(series),\n\u001b[0;32m    773\u001b[0m     past_covariates\u001b[38;5;241m=\u001b[39mseq2series(past_covariates),\n\u001b[0;32m    774\u001b[0m     future_covariates\u001b[38;5;241m=\u001b[39mseq2series(future_covariates),\n\u001b[0;32m    775\u001b[0m )\n\u001b[1;32m--> 776\u001b[0m \u001b[38;5;28;01mreturn\u001b[39;00m \u001b[38;5;28;43mself\u001b[39;49m\u001b[38;5;241;43m.\u001b[39;49m\u001b[43mfit_from_dataset\u001b[49m\u001b[43m(\u001b[49m\u001b[38;5;241;43m*\u001b[39;49m\u001b[43mparams\u001b[49m\u001b[43m)\u001b[49m\n",
      "File \u001b[1;32mc:\\Users\\zzhuqshun\\.conda\\envs\\ML\\lib\\site-packages\\darts\\utils\\torch.py:103\u001b[0m, in \u001b[0;36mrandom_method.<locals>.decorator\u001b[1;34m(self, *args, **kwargs)\u001b[0m\n\u001b[0;32m    101\u001b[0m \u001b[38;5;28;01mwith\u001b[39;00m fork_rng():\n\u001b[0;32m    102\u001b[0m     manual_seed(\u001b[38;5;28mself\u001b[39m\u001b[38;5;241m.\u001b[39m_random_instance\u001b[38;5;241m.\u001b[39mrandint(\u001b[38;5;241m0\u001b[39m, high\u001b[38;5;241m=\u001b[39mMAX_TORCH_SEED_VALUE))\n\u001b[1;32m--> 103\u001b[0m     \u001b[38;5;28;01mreturn\u001b[39;00m decorated(\u001b[38;5;28mself\u001b[39m, \u001b[38;5;241m*\u001b[39margs, \u001b[38;5;241m*\u001b[39m\u001b[38;5;241m*\u001b[39mkwargs)\n",
      "File \u001b[1;32mc:\\Users\\zzhuqshun\\.conda\\envs\\ML\\lib\\site-packages\\darts\\models\\forecasting\\torch_forecasting_model.py:956\u001b[0m, in \u001b[0;36mTorchForecastingModel.fit_from_dataset\u001b[1;34m(self, train_dataset, val_dataset, trainer, verbose, epochs, dataloader_kwargs)\u001b[0m\n\u001b[0;32m    903\u001b[0m \u001b[38;5;129m@random_method\u001b[39m\n\u001b[0;32m    904\u001b[0m \u001b[38;5;28;01mdef\u001b[39;00m \u001b[38;5;21mfit_from_dataset\u001b[39m(\n\u001b[0;32m    905\u001b[0m     \u001b[38;5;28mself\u001b[39m,\n\u001b[1;32m   (...)\u001b[0m\n\u001b[0;32m    911\u001b[0m     dataloader_kwargs: Optional[Dict[\u001b[38;5;28mstr\u001b[39m, Any]] \u001b[38;5;241m=\u001b[39m \u001b[38;5;28;01mNone\u001b[39;00m,\n\u001b[0;32m    912\u001b[0m ) \u001b[38;5;241m-\u001b[39m\u001b[38;5;241m>\u001b[39m \u001b[38;5;124m\"\u001b[39m\u001b[38;5;124mTorchForecastingModel\u001b[39m\u001b[38;5;124m\"\u001b[39m:\n\u001b[0;32m    913\u001b[0m \u001b[38;5;250m    \u001b[39m\u001b[38;5;124;03m\"\"\"\u001b[39;00m\n\u001b[0;32m    914\u001b[0m \u001b[38;5;124;03m    Train the model with a specific :class:`darts.utils.data.TrainingDataset` instance.\u001b[39;00m\n\u001b[0;32m    915\u001b[0m \u001b[38;5;124;03m    These datasets implement a PyTorch ``Dataset``, and specify how the target and covariates are sliced\u001b[39;00m\n\u001b[1;32m   (...)\u001b[0m\n\u001b[0;32m    954\u001b[0m \u001b[38;5;124;03m        Fitted model.\u001b[39;00m\n\u001b[0;32m    955\u001b[0m \u001b[38;5;124;03m    \"\"\"\u001b[39;00m\n\u001b[1;32m--> 956\u001b[0m     \u001b[38;5;28;43mself\u001b[39;49m\u001b[38;5;241;43m.\u001b[39;49m\u001b[43m_train\u001b[49m\u001b[43m(\u001b[49m\n\u001b[0;32m    957\u001b[0m \u001b[43m        \u001b[49m\u001b[38;5;241;43m*\u001b[39;49m\u001b[38;5;28;43mself\u001b[39;49m\u001b[38;5;241;43m.\u001b[39;49m\u001b[43m_setup_for_train\u001b[49m\u001b[43m(\u001b[49m\n\u001b[0;32m    958\u001b[0m \u001b[43m            \u001b[49m\u001b[43mtrain_dataset\u001b[49m\u001b[38;5;241;43m=\u001b[39;49m\u001b[43mtrain_dataset\u001b[49m\u001b[43m,\u001b[49m\n\u001b[0;32m    959\u001b[0m \u001b[43m            \u001b[49m\u001b[43mval_dataset\u001b[49m\u001b[38;5;241;43m=\u001b[39;49m\u001b[43mval_dataset\u001b[49m\u001b[43m,\u001b[49m\n\u001b[0;32m    960\u001b[0m \u001b[43m            \u001b[49m\u001b[43mtrainer\u001b[49m\u001b[38;5;241;43m=\u001b[39;49m\u001b[43mtrainer\u001b[49m\u001b[43m,\u001b[49m\n\u001b[0;32m    961\u001b[0m \u001b[43m            \u001b[49m\u001b[43mverbose\u001b[49m\u001b[38;5;241;43m=\u001b[39;49m\u001b[43mverbose\u001b[49m\u001b[43m,\u001b[49m\n\u001b[0;32m    962\u001b[0m \u001b[43m            \u001b[49m\u001b[43mepochs\u001b[49m\u001b[38;5;241;43m=\u001b[39;49m\u001b[43mepochs\u001b[49m\u001b[43m,\u001b[49m\n\u001b[0;32m    963\u001b[0m \u001b[43m            \u001b[49m\u001b[43mdataloader_kwargs\u001b[49m\u001b[38;5;241;43m=\u001b[39;49m\u001b[43mdataloader_kwargs\u001b[49m\u001b[43m,\u001b[49m\n\u001b[0;32m    964\u001b[0m \u001b[43m        \u001b[49m\u001b[43m)\u001b[49m\n\u001b[0;32m    965\u001b[0m \u001b[43m    \u001b[49m\u001b[43m)\u001b[49m\n\u001b[0;32m    966\u001b[0m     \u001b[38;5;28;01mreturn\u001b[39;00m \u001b[38;5;28mself\u001b[39m\n",
      "File \u001b[1;32mc:\\Users\\zzhuqshun\\.conda\\envs\\ML\\lib\\site-packages\\darts\\models\\forecasting\\torch_forecasting_model.py:1145\u001b[0m, in \u001b[0;36mTorchForecastingModel._train\u001b[1;34m(self, trainer, model, train_loader, val_loader)\u001b[0m\n\u001b[0;32m   1142\u001b[0m \u001b[38;5;28mself\u001b[39m\u001b[38;5;241m.\u001b[39mload_ckpt_path \u001b[38;5;241m=\u001b[39m \u001b[38;5;28;01mNone\u001b[39;00m\n\u001b[0;32m   1144\u001b[0m \u001b[38;5;28;01mif\u001b[39;00m \u001b[38;5;28mself\u001b[39m\u001b[38;5;241m.\u001b[39m_requires_training:\n\u001b[1;32m-> 1145\u001b[0m     \u001b[43mtrainer\u001b[49m\u001b[38;5;241;43m.\u001b[39;49m\u001b[43mfit\u001b[49m\u001b[43m(\u001b[49m\n\u001b[0;32m   1146\u001b[0m \u001b[43m        \u001b[49m\u001b[43mmodel\u001b[49m\u001b[43m,\u001b[49m\n\u001b[0;32m   1147\u001b[0m \u001b[43m        \u001b[49m\u001b[43mtrain_dataloaders\u001b[49m\u001b[38;5;241;43m=\u001b[39;49m\u001b[43mtrain_loader\u001b[49m\u001b[43m,\u001b[49m\n\u001b[0;32m   1148\u001b[0m \u001b[43m        \u001b[49m\u001b[43mval_dataloaders\u001b[49m\u001b[38;5;241;43m=\u001b[39;49m\u001b[43mval_loader\u001b[49m\u001b[43m,\u001b[49m\n\u001b[0;32m   1149\u001b[0m \u001b[43m        \u001b[49m\u001b[43mckpt_path\u001b[49m\u001b[38;5;241;43m=\u001b[39;49m\u001b[43mckpt_path\u001b[49m\u001b[43m,\u001b[49m\n\u001b[0;32m   1150\u001b[0m \u001b[43m    \u001b[49m\u001b[43m)\u001b[49m\n\u001b[0;32m   1151\u001b[0m \u001b[38;5;28mself\u001b[39m\u001b[38;5;241m.\u001b[39mmodel \u001b[38;5;241m=\u001b[39m model\n\u001b[0;32m   1152\u001b[0m \u001b[38;5;28mself\u001b[39m\u001b[38;5;241m.\u001b[39mtrainer \u001b[38;5;241m=\u001b[39m trainer\n",
      "File \u001b[1;32mc:\\Users\\zzhuqshun\\.conda\\envs\\ML\\lib\\site-packages\\pytorch_lightning\\trainer\\trainer.py:538\u001b[0m, in \u001b[0;36mTrainer.fit\u001b[1;34m(self, model, train_dataloaders, val_dataloaders, datamodule, ckpt_path)\u001b[0m\n\u001b[0;32m    536\u001b[0m \u001b[38;5;28mself\u001b[39m\u001b[38;5;241m.\u001b[39mstate\u001b[38;5;241m.\u001b[39mstatus \u001b[38;5;241m=\u001b[39m TrainerStatus\u001b[38;5;241m.\u001b[39mRUNNING\n\u001b[0;32m    537\u001b[0m \u001b[38;5;28mself\u001b[39m\u001b[38;5;241m.\u001b[39mtraining \u001b[38;5;241m=\u001b[39m \u001b[38;5;28;01mTrue\u001b[39;00m\n\u001b[1;32m--> 538\u001b[0m \u001b[43mcall\u001b[49m\u001b[38;5;241;43m.\u001b[39;49m\u001b[43m_call_and_handle_interrupt\u001b[49m\u001b[43m(\u001b[49m\n\u001b[0;32m    539\u001b[0m \u001b[43m    \u001b[49m\u001b[38;5;28;43mself\u001b[39;49m\u001b[43m,\u001b[49m\u001b[43m \u001b[49m\u001b[38;5;28;43mself\u001b[39;49m\u001b[38;5;241;43m.\u001b[39;49m\u001b[43m_fit_impl\u001b[49m\u001b[43m,\u001b[49m\u001b[43m \u001b[49m\u001b[43mmodel\u001b[49m\u001b[43m,\u001b[49m\u001b[43m \u001b[49m\u001b[43mtrain_dataloaders\u001b[49m\u001b[43m,\u001b[49m\u001b[43m \u001b[49m\u001b[43mval_dataloaders\u001b[49m\u001b[43m,\u001b[49m\u001b[43m \u001b[49m\u001b[43mdatamodule\u001b[49m\u001b[43m,\u001b[49m\u001b[43m \u001b[49m\u001b[43mckpt_path\u001b[49m\n\u001b[0;32m    540\u001b[0m \u001b[43m\u001b[49m\u001b[43m)\u001b[49m\n",
      "File \u001b[1;32mc:\\Users\\zzhuqshun\\.conda\\envs\\ML\\lib\\site-packages\\pytorch_lightning\\trainer\\call.py:64\u001b[0m, in \u001b[0;36m_call_and_handle_interrupt\u001b[1;34m(trainer, trainer_fn, *args, **kwargs)\u001b[0m\n\u001b[0;32m     62\u001b[0m     \u001b[38;5;28;01mif\u001b[39;00m \u001b[38;5;28misinstance\u001b[39m(launcher, _SubprocessScriptLauncher):\n\u001b[0;32m     63\u001b[0m         launcher\u001b[38;5;241m.\u001b[39mkill(_get_sigkill_signal())\n\u001b[1;32m---> 64\u001b[0m     \u001b[43mexit\u001b[49m(\u001b[38;5;241m1\u001b[39m)\n\u001b[0;32m     66\u001b[0m \u001b[38;5;28;01mexcept\u001b[39;00m \u001b[38;5;167;01mBaseException\u001b[39;00m \u001b[38;5;28;01mas\u001b[39;00m exception:\n\u001b[0;32m     67\u001b[0m     _interrupt(trainer, exception)\n",
      "\u001b[1;31mNameError\u001b[0m: name 'exit' is not defined"
     ]
    }
   ],
   "source": [
    "# Optuna call with progress bar\n",
    "study = optuna.create_study(direction=\"minimize\")\n",
    "study.optimize(objective, n_trials=100)  \n",
    "\n",
    "# Best trial\n",
    "print(\"Best trial:\")\n",
    "trial = study.best_trial\n",
    "print(f\"  Value (MAE): {trial.value}\")\n",
    "print(\"  Params: \")\n",
    "for key, value in trial.params.items():\n",
    "    print(f\"    {key}: {value}\")"
   ]
  },
  {
   "cell_type": "code",
   "execution_count": 10,
   "metadata": {},
   "outputs": [],
   "source": [
    "best_params = {'input_chunk_length': 15, 'output_chunk_length': 1, 'batch_size': 16, 'num_blocks': 2, 'num_stacks': 2}"
   ]
  },
  {
   "cell_type": "code",
   "execution_count": 11,
   "metadata": {},
   "outputs": [
    {
     "name": "stderr",
     "output_type": "stream",
     "text": [
      "GPU available: True (cuda), used: True\n",
      "TPU available: False, using: 0 TPU cores\n",
      "HPU available: False, using: 0 HPUs\n",
      "LOCAL_RANK: 0 - CUDA_VISIBLE_DEVICES: [0]\n",
      "\n",
      "  | Name            | Type             | Params | Mode \n",
      "-------------------------------------------------------------\n",
      "0 | criterion       | MSELoss          | 0      | train\n",
      "1 | train_criterion | MSELoss          | 0      | train\n",
      "2 | val_criterion   | MSELoss          | 0      | train\n",
      "3 | train_metrics   | MetricCollection | 0      | train\n",
      "4 | val_metrics     | MetricCollection | 0      | train\n",
      "5 | stacks          | ModuleList       | 863 K  | train\n",
      "-------------------------------------------------------------\n",
      "862 K     Trainable params\n",
      "1.6 K     Non-trainable params\n",
      "863 K     Total params\n",
      "3.455     Total estimated model params size (MB)\n",
      "54        Modules in train mode\n",
      "0         Modules in eval mode\n"
     ]
    },
    {
     "data": {
      "application/vnd.jupyter.widget-view+json": {
       "model_id": "468818bdc7a1410795889f25d5f6fdab",
       "version_major": 2,
       "version_minor": 0
      },
      "text/plain": [
       "Sanity Checking: |          | 0/? [00:00<?, ?it/s]"
      ]
     },
     "metadata": {},
     "output_type": "display_data"
    },
    {
     "data": {
      "application/vnd.jupyter.widget-view+json": {
       "model_id": "a5093dc62bf1426ab8718aa739859f09",
       "version_major": 2,
       "version_minor": 0
      },
      "text/plain": [
       "Training: |          | 0/? [00:00<?, ?it/s]"
      ]
     },
     "metadata": {},
     "output_type": "display_data"
    },
    {
     "data": {
      "application/vnd.jupyter.widget-view+json": {
       "model_id": "b0398ec897f541a58527fe78f57d8ff7",
       "version_major": 2,
       "version_minor": 0
      },
      "text/plain": [
       "Validation: |          | 0/? [00:00<?, ?it/s]"
      ]
     },
     "metadata": {},
     "output_type": "display_data"
    },
    {
     "data": {
      "application/vnd.jupyter.widget-view+json": {
       "model_id": "e38f3d3638b54c589503f0341dcb6e5d",
       "version_major": 2,
       "version_minor": 0
      },
      "text/plain": [
       "Validation: |          | 0/? [00:00<?, ?it/s]"
      ]
     },
     "metadata": {},
     "output_type": "display_data"
    },
    {
     "data": {
      "application/vnd.jupyter.widget-view+json": {
       "model_id": "2b1449cdd98744aab1470d0a136a4e6d",
       "version_major": 2,
       "version_minor": 0
      },
      "text/plain": [
       "Validation: |          | 0/? [00:00<?, ?it/s]"
      ]
     },
     "metadata": {},
     "output_type": "display_data"
    },
    {
     "data": {
      "application/vnd.jupyter.widget-view+json": {
       "model_id": "312412079d174a06b2a78790aa7d3c5b",
       "version_major": 2,
       "version_minor": 0
      },
      "text/plain": [
       "Validation: |          | 0/? [00:00<?, ?it/s]"
      ]
     },
     "metadata": {},
     "output_type": "display_data"
    },
    {
     "data": {
      "application/vnd.jupyter.widget-view+json": {
       "model_id": "6bb030f448724132b7c181df48c23293",
       "version_major": 2,
       "version_minor": 0
      },
      "text/plain": [
       "Validation: |          | 0/? [00:00<?, ?it/s]"
      ]
     },
     "metadata": {},
     "output_type": "display_data"
    },
    {
     "data": {
      "application/vnd.jupyter.widget-view+json": {
       "model_id": "56bf4250f3c24eabac9ff7e529757dae",
       "version_major": 2,
       "version_minor": 0
      },
      "text/plain": [
       "Validation: |          | 0/? [00:00<?, ?it/s]"
      ]
     },
     "metadata": {},
     "output_type": "display_data"
    },
    {
     "data": {
      "application/vnd.jupyter.widget-view+json": {
       "model_id": "3092b6596ad84e889440d908d8134a07",
       "version_major": 2,
       "version_minor": 0
      },
      "text/plain": [
       "Validation: |          | 0/? [00:00<?, ?it/s]"
      ]
     },
     "metadata": {},
     "output_type": "display_data"
    },
    {
     "data": {
      "application/vnd.jupyter.widget-view+json": {
       "model_id": "8e64b895de5743bdb6bd2758ed3197f3",
       "version_major": 2,
       "version_minor": 0
      },
      "text/plain": [
       "Validation: |          | 0/? [00:00<?, ?it/s]"
      ]
     },
     "metadata": {},
     "output_type": "display_data"
    },
    {
     "data": {
      "application/vnd.jupyter.widget-view+json": {
       "model_id": "2a076e7be87a4202b34e96e9c48ae05f",
       "version_major": 2,
       "version_minor": 0
      },
      "text/plain": [
       "Validation: |          | 0/? [00:00<?, ?it/s]"
      ]
     },
     "metadata": {},
     "output_type": "display_data"
    },
    {
     "data": {
      "application/vnd.jupyter.widget-view+json": {
       "model_id": "dd27a3b8a0774099a9ba82f232c195e2",
       "version_major": 2,
       "version_minor": 0
      },
      "text/plain": [
       "Validation: |          | 0/? [00:00<?, ?it/s]"
      ]
     },
     "metadata": {},
     "output_type": "display_data"
    },
    {
     "data": {
      "application/vnd.jupyter.widget-view+json": {
       "model_id": "f1fef856bd56401bbc9227365353ec52",
       "version_major": 2,
       "version_minor": 0
      },
      "text/plain": [
       "Validation: |          | 0/? [00:00<?, ?it/s]"
      ]
     },
     "metadata": {},
     "output_type": "display_data"
    },
    {
     "data": {
      "application/vnd.jupyter.widget-view+json": {
       "model_id": "06870e6bb1d34b30b673ae43afce9985",
       "version_major": 2,
       "version_minor": 0
      },
      "text/plain": [
       "Validation: |          | 0/? [00:00<?, ?it/s]"
      ]
     },
     "metadata": {},
     "output_type": "display_data"
    },
    {
     "data": {
      "application/vnd.jupyter.widget-view+json": {
       "model_id": "fe3345d6e9584b06bed5bbf508c47501",
       "version_major": 2,
       "version_minor": 0
      },
      "text/plain": [
       "Validation: |          | 0/? [00:00<?, ?it/s]"
      ]
     },
     "metadata": {},
     "output_type": "display_data"
    },
    {
     "data": {
      "application/vnd.jupyter.widget-view+json": {
       "model_id": "e28cc7cc0f1a40f69a66c7c7e428a0ff",
       "version_major": 2,
       "version_minor": 0
      },
      "text/plain": [
       "Validation: |          | 0/? [00:00<?, ?it/s]"
      ]
     },
     "metadata": {},
     "output_type": "display_data"
    },
    {
     "data": {
      "application/vnd.jupyter.widget-view+json": {
       "model_id": "685d2abdd52c4ba593d25b26d371d39c",
       "version_major": 2,
       "version_minor": 0
      },
      "text/plain": [
       "Validation: |          | 0/? [00:00<?, ?it/s]"
      ]
     },
     "metadata": {},
     "output_type": "display_data"
    },
    {
     "data": {
      "application/vnd.jupyter.widget-view+json": {
       "model_id": "13fa4b1f605c4212a143f82c1a1c461f",
       "version_major": 2,
       "version_minor": 0
      },
      "text/plain": [
       "Validation: |          | 0/? [00:00<?, ?it/s]"
      ]
     },
     "metadata": {},
     "output_type": "display_data"
    },
    {
     "data": {
      "application/vnd.jupyter.widget-view+json": {
       "model_id": "2a8a6de3e4c042e2a39444c2aa47e8f2",
       "version_major": 2,
       "version_minor": 0
      },
      "text/plain": [
       "Validation: |          | 0/? [00:00<?, ?it/s]"
      ]
     },
     "metadata": {},
     "output_type": "display_data"
    },
    {
     "data": {
      "application/vnd.jupyter.widget-view+json": {
       "model_id": "9e4bcc862e5e43adbff936862d94b030",
       "version_major": 2,
       "version_minor": 0
      },
      "text/plain": [
       "Validation: |          | 0/? [00:00<?, ?it/s]"
      ]
     },
     "metadata": {},
     "output_type": "display_data"
    },
    {
     "data": {
      "application/vnd.jupyter.widget-view+json": {
       "model_id": "35bec5d25ff14e90924b83d424c20092",
       "version_major": 2,
       "version_minor": 0
      },
      "text/plain": [
       "Validation: |          | 0/? [00:00<?, ?it/s]"
      ]
     },
     "metadata": {},
     "output_type": "display_data"
    },
    {
     "data": {
      "application/vnd.jupyter.widget-view+json": {
       "model_id": "f7e60a41f1574588a51013aad7a22802",
       "version_major": 2,
       "version_minor": 0
      },
      "text/plain": [
       "Validation: |          | 0/? [00:00<?, ?it/s]"
      ]
     },
     "metadata": {},
     "output_type": "display_data"
    },
    {
     "data": {
      "application/vnd.jupyter.widget-view+json": {
       "model_id": "2ed2fcef44fc46e2874622ef21053658",
       "version_major": 2,
       "version_minor": 0
      },
      "text/plain": [
       "Validation: |          | 0/? [00:00<?, ?it/s]"
      ]
     },
     "metadata": {},
     "output_type": "display_data"
    },
    {
     "data": {
      "application/vnd.jupyter.widget-view+json": {
       "model_id": "e12a97ac8d4440c395fa721547344043",
       "version_major": 2,
       "version_minor": 0
      },
      "text/plain": [
       "Validation: |          | 0/? [00:00<?, ?it/s]"
      ]
     },
     "metadata": {},
     "output_type": "display_data"
    },
    {
     "data": {
      "application/vnd.jupyter.widget-view+json": {
       "model_id": "1c1dae7bbfbb4583ac7e5b9aaddbc2f4",
       "version_major": 2,
       "version_minor": 0
      },
      "text/plain": [
       "Validation: |          | 0/? [00:00<?, ?it/s]"
      ]
     },
     "metadata": {},
     "output_type": "display_data"
    },
    {
     "data": {
      "application/vnd.jupyter.widget-view+json": {
       "model_id": "b3599cb486a24cf9950f881fbb3c2c48",
       "version_major": 2,
       "version_minor": 0
      },
      "text/plain": [
       "Validation: |          | 0/? [00:00<?, ?it/s]"
      ]
     },
     "metadata": {},
     "output_type": "display_data"
    },
    {
     "data": {
      "application/vnd.jupyter.widget-view+json": {
       "model_id": "74938023fbc944009d29a7357edb1d6f",
       "version_major": 2,
       "version_minor": 0
      },
      "text/plain": [
       "Validation: |          | 0/? [00:00<?, ?it/s]"
      ]
     },
     "metadata": {},
     "output_type": "display_data"
    },
    {
     "data": {
      "application/vnd.jupyter.widget-view+json": {
       "model_id": "390b7750c2804b46807dd8465fd93eac",
       "version_major": 2,
       "version_minor": 0
      },
      "text/plain": [
       "Validation: |          | 0/? [00:00<?, ?it/s]"
      ]
     },
     "metadata": {},
     "output_type": "display_data"
    },
    {
     "data": {
      "application/vnd.jupyter.widget-view+json": {
       "model_id": "1c6c92c79b404391a6ee5f63f50e4b19",
       "version_major": 2,
       "version_minor": 0
      },
      "text/plain": [
       "Validation: |          | 0/? [00:00<?, ?it/s]"
      ]
     },
     "metadata": {},
     "output_type": "display_data"
    },
    {
     "data": {
      "application/vnd.jupyter.widget-view+json": {
       "model_id": "d24b9e109bfb4dedbd5ca5e988b95e1d",
       "version_major": 2,
       "version_minor": 0
      },
      "text/plain": [
       "Validation: |          | 0/? [00:00<?, ?it/s]"
      ]
     },
     "metadata": {},
     "output_type": "display_data"
    },
    {
     "data": {
      "application/vnd.jupyter.widget-view+json": {
       "model_id": "f3ea9bb3c8a8434ebbe4ad286ad773fa",
       "version_major": 2,
       "version_minor": 0
      },
      "text/plain": [
       "Validation: |          | 0/? [00:00<?, ?it/s]"
      ]
     },
     "metadata": {},
     "output_type": "display_data"
    },
    {
     "data": {
      "application/vnd.jupyter.widget-view+json": {
       "model_id": "c04127288e5942b599d6007bd4c69270",
       "version_major": 2,
       "version_minor": 0
      },
      "text/plain": [
       "Validation: |          | 0/? [00:00<?, ?it/s]"
      ]
     },
     "metadata": {},
     "output_type": "display_data"
    },
    {
     "data": {
      "application/vnd.jupyter.widget-view+json": {
       "model_id": "0d075a525eeb465bb22c8c0214ed9909",
       "version_major": 2,
       "version_minor": 0
      },
      "text/plain": [
       "Validation: |          | 0/? [00:00<?, ?it/s]"
      ]
     },
     "metadata": {},
     "output_type": "display_data"
    },
    {
     "data": {
      "application/vnd.jupyter.widget-view+json": {
       "model_id": "920de55cf71d4dec9fe39f31575c73a8",
       "version_major": 2,
       "version_minor": 0
      },
      "text/plain": [
       "Validation: |          | 0/? [00:00<?, ?it/s]"
      ]
     },
     "metadata": {},
     "output_type": "display_data"
    },
    {
     "data": {
      "application/vnd.jupyter.widget-view+json": {
       "model_id": "462a55ca5cc740519bd801493817820c",
       "version_major": 2,
       "version_minor": 0
      },
      "text/plain": [
       "Validation: |          | 0/? [00:00<?, ?it/s]"
      ]
     },
     "metadata": {},
     "output_type": "display_data"
    },
    {
     "data": {
      "application/vnd.jupyter.widget-view+json": {
       "model_id": "aeed7edf9d4b4476adacf3e602f0fdc2",
       "version_major": 2,
       "version_minor": 0
      },
      "text/plain": [
       "Validation: |          | 0/? [00:00<?, ?it/s]"
      ]
     },
     "metadata": {},
     "output_type": "display_data"
    },
    {
     "data": {
      "application/vnd.jupyter.widget-view+json": {
       "model_id": "4e10517722ee4d0781210c6addb86fda",
       "version_major": 2,
       "version_minor": 0
      },
      "text/plain": [
       "Validation: |          | 0/? [00:00<?, ?it/s]"
      ]
     },
     "metadata": {},
     "output_type": "display_data"
    },
    {
     "data": {
      "application/vnd.jupyter.widget-view+json": {
       "model_id": "0e7082b850c14becac1bf173ca59e4f0",
       "version_major": 2,
       "version_minor": 0
      },
      "text/plain": [
       "Validation: |          | 0/? [00:00<?, ?it/s]"
      ]
     },
     "metadata": {},
     "output_type": "display_data"
    },
    {
     "data": {
      "application/vnd.jupyter.widget-view+json": {
       "model_id": "1ea5e12f6cdf4f23a645b4ee1423aac9",
       "version_major": 2,
       "version_minor": 0
      },
      "text/plain": [
       "Validation: |          | 0/? [00:00<?, ?it/s]"
      ]
     },
     "metadata": {},
     "output_type": "display_data"
    },
    {
     "data": {
      "application/vnd.jupyter.widget-view+json": {
       "model_id": "197902359b25430aac7647c5b1043f63",
       "version_major": 2,
       "version_minor": 0
      },
      "text/plain": [
       "Validation: |          | 0/? [00:00<?, ?it/s]"
      ]
     },
     "metadata": {},
     "output_type": "display_data"
    },
    {
     "data": {
      "application/vnd.jupyter.widget-view+json": {
       "model_id": "07fba80369954916ad4b78daf2315a97",
       "version_major": 2,
       "version_minor": 0
      },
      "text/plain": [
       "Validation: |          | 0/? [00:00<?, ?it/s]"
      ]
     },
     "metadata": {},
     "output_type": "display_data"
    },
    {
     "data": {
      "application/vnd.jupyter.widget-view+json": {
       "model_id": "1782e36ade34429a9f6d74d18939ff07",
       "version_major": 2,
       "version_minor": 0
      },
      "text/plain": [
       "Validation: |          | 0/? [00:00<?, ?it/s]"
      ]
     },
     "metadata": {},
     "output_type": "display_data"
    },
    {
     "data": {
      "application/vnd.jupyter.widget-view+json": {
       "model_id": "e5959b25fc7a4d38b985720537c04850",
       "version_major": 2,
       "version_minor": 0
      },
      "text/plain": [
       "Validation: |          | 0/? [00:00<?, ?it/s]"
      ]
     },
     "metadata": {},
     "output_type": "display_data"
    },
    {
     "data": {
      "application/vnd.jupyter.widget-view+json": {
       "model_id": "13019536d3ce4e1081b01a087cf2b21d",
       "version_major": 2,
       "version_minor": 0
      },
      "text/plain": [
       "Validation: |          | 0/? [00:00<?, ?it/s]"
      ]
     },
     "metadata": {},
     "output_type": "display_data"
    },
    {
     "data": {
      "application/vnd.jupyter.widget-view+json": {
       "model_id": "63bb745dc0dc40328037596fc7944541",
       "version_major": 2,
       "version_minor": 0
      },
      "text/plain": [
       "Validation: |          | 0/? [00:00<?, ?it/s]"
      ]
     },
     "metadata": {},
     "output_type": "display_data"
    },
    {
     "data": {
      "application/vnd.jupyter.widget-view+json": {
       "model_id": "3695ac0cc10e427db3115ad389e3ac30",
       "version_major": 2,
       "version_minor": 0
      },
      "text/plain": [
       "Validation: |          | 0/? [00:00<?, ?it/s]"
      ]
     },
     "metadata": {},
     "output_type": "display_data"
    },
    {
     "data": {
      "application/vnd.jupyter.widget-view+json": {
       "model_id": "62877ecaea8e41ca8a63947730ede103",
       "version_major": 2,
       "version_minor": 0
      },
      "text/plain": [
       "Validation: |          | 0/? [00:00<?, ?it/s]"
      ]
     },
     "metadata": {},
     "output_type": "display_data"
    },
    {
     "data": {
      "application/vnd.jupyter.widget-view+json": {
       "model_id": "0cfa41974b1841a5ba466eaec9427c0b",
       "version_major": 2,
       "version_minor": 0
      },
      "text/plain": [
       "Validation: |          | 0/? [00:00<?, ?it/s]"
      ]
     },
     "metadata": {},
     "output_type": "display_data"
    },
    {
     "data": {
      "application/vnd.jupyter.widget-view+json": {
       "model_id": "107bda19c8024d2fb4ce84673d8d8b8d",
       "version_major": 2,
       "version_minor": 0
      },
      "text/plain": [
       "Validation: |          | 0/? [00:00<?, ?it/s]"
      ]
     },
     "metadata": {},
     "output_type": "display_data"
    },
    {
     "data": {
      "application/vnd.jupyter.widget-view+json": {
       "model_id": "6bc543a5784f4b90918fbfd7d7ac3648",
       "version_major": 2,
       "version_minor": 0
      },
      "text/plain": [
       "Validation: |          | 0/? [00:00<?, ?it/s]"
      ]
     },
     "metadata": {},
     "output_type": "display_data"
    },
    {
     "data": {
      "application/vnd.jupyter.widget-view+json": {
       "model_id": "2e25a25e755648e98964b69ba7f2fbd2",
       "version_major": 2,
       "version_minor": 0
      },
      "text/plain": [
       "Validation: |          | 0/? [00:00<?, ?it/s]"
      ]
     },
     "metadata": {},
     "output_type": "display_data"
    },
    {
     "data": {
      "application/vnd.jupyter.widget-view+json": {
       "model_id": "4886e7e30f9c457fbe029f3c9c913f1a",
       "version_major": 2,
       "version_minor": 0
      },
      "text/plain": [
       "Validation: |          | 0/? [00:00<?, ?it/s]"
      ]
     },
     "metadata": {},
     "output_type": "display_data"
    },
    {
     "data": {
      "application/vnd.jupyter.widget-view+json": {
       "model_id": "ebc1d7f3a3bf4c66b3eb2020e4e10c48",
       "version_major": 2,
       "version_minor": 0
      },
      "text/plain": [
       "Validation: |          | 0/? [00:00<?, ?it/s]"
      ]
     },
     "metadata": {},
     "output_type": "display_data"
    },
    {
     "data": {
      "application/vnd.jupyter.widget-view+json": {
       "model_id": "85738a89904741fab9b4f50e64153265",
       "version_major": 2,
       "version_minor": 0
      },
      "text/plain": [
       "Validation: |          | 0/? [00:00<?, ?it/s]"
      ]
     },
     "metadata": {},
     "output_type": "display_data"
    },
    {
     "data": {
      "application/vnd.jupyter.widget-view+json": {
       "model_id": "dacdc3fd2aa345698b7a45e223e331a6",
       "version_major": 2,
       "version_minor": 0
      },
      "text/plain": [
       "Validation: |          | 0/? [00:00<?, ?it/s]"
      ]
     },
     "metadata": {},
     "output_type": "display_data"
    },
    {
     "data": {
      "application/vnd.jupyter.widget-view+json": {
       "model_id": "fa43ccc858a741df91be9305cddaebad",
       "version_major": 2,
       "version_minor": 0
      },
      "text/plain": [
       "Validation: |          | 0/? [00:00<?, ?it/s]"
      ]
     },
     "metadata": {},
     "output_type": "display_data"
    },
    {
     "data": {
      "application/vnd.jupyter.widget-view+json": {
       "model_id": "72e2d88e060449cf9881912a9de44d40",
       "version_major": 2,
       "version_minor": 0
      },
      "text/plain": [
       "Validation: |          | 0/? [00:00<?, ?it/s]"
      ]
     },
     "metadata": {},
     "output_type": "display_data"
    },
    {
     "data": {
      "application/vnd.jupyter.widget-view+json": {
       "model_id": "4c5a729dc7704ff0942e008aa5c70903",
       "version_major": 2,
       "version_minor": 0
      },
      "text/plain": [
       "Validation: |          | 0/? [00:00<?, ?it/s]"
      ]
     },
     "metadata": {},
     "output_type": "display_data"
    },
    {
     "data": {
      "application/vnd.jupyter.widget-view+json": {
       "model_id": "f99372745baa455f8571533845cc7ce0",
       "version_major": 2,
       "version_minor": 0
      },
      "text/plain": [
       "Validation: |          | 0/? [00:00<?, ?it/s]"
      ]
     },
     "metadata": {},
     "output_type": "display_data"
    },
    {
     "data": {
      "application/vnd.jupyter.widget-view+json": {
       "model_id": "559444f3be564b61b02705d421f66b52",
       "version_major": 2,
       "version_minor": 0
      },
      "text/plain": [
       "Validation: |          | 0/? [00:00<?, ?it/s]"
      ]
     },
     "metadata": {},
     "output_type": "display_data"
    },
    {
     "data": {
      "application/vnd.jupyter.widget-view+json": {
       "model_id": "e5c856e5fc404170a60b5ad364d6d711",
       "version_major": 2,
       "version_minor": 0
      },
      "text/plain": [
       "Validation: |          | 0/? [00:00<?, ?it/s]"
      ]
     },
     "metadata": {},
     "output_type": "display_data"
    },
    {
     "data": {
      "application/vnd.jupyter.widget-view+json": {
       "model_id": "16f0a8f03b774b56b15c34249f0d945e",
       "version_major": 2,
       "version_minor": 0
      },
      "text/plain": [
       "Validation: |          | 0/? [00:00<?, ?it/s]"
      ]
     },
     "metadata": {},
     "output_type": "display_data"
    },
    {
     "data": {
      "application/vnd.jupyter.widget-view+json": {
       "model_id": "1061ccd00cb449a0968c3ee4e5fdfa9f",
       "version_major": 2,
       "version_minor": 0
      },
      "text/plain": [
       "Validation: |          | 0/? [00:00<?, ?it/s]"
      ]
     },
     "metadata": {},
     "output_type": "display_data"
    },
    {
     "data": {
      "application/vnd.jupyter.widget-view+json": {
       "model_id": "b6460ac3c6ea4da09e3863c1d2cede94",
       "version_major": 2,
       "version_minor": 0
      },
      "text/plain": [
       "Validation: |          | 0/? [00:00<?, ?it/s]"
      ]
     },
     "metadata": {},
     "output_type": "display_data"
    },
    {
     "data": {
      "application/vnd.jupyter.widget-view+json": {
       "model_id": "ae4f9b4dad104364a6eaf8896adf1ec5",
       "version_major": 2,
       "version_minor": 0
      },
      "text/plain": [
       "Validation: |          | 0/? [00:00<?, ?it/s]"
      ]
     },
     "metadata": {},
     "output_type": "display_data"
    },
    {
     "data": {
      "application/vnd.jupyter.widget-view+json": {
       "model_id": "d01dde3160d54dce92c1d2487352895a",
       "version_major": 2,
       "version_minor": 0
      },
      "text/plain": [
       "Validation: |          | 0/? [00:00<?, ?it/s]"
      ]
     },
     "metadata": {},
     "output_type": "display_data"
    },
    {
     "data": {
      "application/vnd.jupyter.widget-view+json": {
       "model_id": "8514267d65b7493b98bdf880d6cdbcf6",
       "version_major": 2,
       "version_minor": 0
      },
      "text/plain": [
       "Validation: |          | 0/? [00:00<?, ?it/s]"
      ]
     },
     "metadata": {},
     "output_type": "display_data"
    },
    {
     "data": {
      "application/vnd.jupyter.widget-view+json": {
       "model_id": "4190c290d3ab4fe795632a265d9de3a9",
       "version_major": 2,
       "version_minor": 0
      },
      "text/plain": [
       "Validation: |          | 0/? [00:00<?, ?it/s]"
      ]
     },
     "metadata": {},
     "output_type": "display_data"
    },
    {
     "data": {
      "application/vnd.jupyter.widget-view+json": {
       "model_id": "f6e4ca5ed7d44bd183004dc6d3eb345b",
       "version_major": 2,
       "version_minor": 0
      },
      "text/plain": [
       "Validation: |          | 0/? [00:00<?, ?it/s]"
      ]
     },
     "metadata": {},
     "output_type": "display_data"
    },
    {
     "data": {
      "application/vnd.jupyter.widget-view+json": {
       "model_id": "062b3880ea7f4444b87b08c6785f6226",
       "version_major": 2,
       "version_minor": 0
      },
      "text/plain": [
       "Validation: |          | 0/? [00:00<?, ?it/s]"
      ]
     },
     "metadata": {},
     "output_type": "display_data"
    },
    {
     "data": {
      "application/vnd.jupyter.widget-view+json": {
       "model_id": "9f75e9b475a04ef98d7d90c926882c4c",
       "version_major": 2,
       "version_minor": 0
      },
      "text/plain": [
       "Validation: |          | 0/? [00:00<?, ?it/s]"
      ]
     },
     "metadata": {},
     "output_type": "display_data"
    },
    {
     "data": {
      "application/vnd.jupyter.widget-view+json": {
       "model_id": "c5b3fb4f4c624d9c8144f2da33a9dbfa",
       "version_major": 2,
       "version_minor": 0
      },
      "text/plain": [
       "Validation: |          | 0/? [00:00<?, ?it/s]"
      ]
     },
     "metadata": {},
     "output_type": "display_data"
    },
    {
     "data": {
      "application/vnd.jupyter.widget-view+json": {
       "model_id": "df921177d53e4f03ba7107eef0cebf25",
       "version_major": 2,
       "version_minor": 0
      },
      "text/plain": [
       "Validation: |          | 0/? [00:00<?, ?it/s]"
      ]
     },
     "metadata": {},
     "output_type": "display_data"
    },
    {
     "data": {
      "application/vnd.jupyter.widget-view+json": {
       "model_id": "230bf5f291a040468e6fe24d42a1e658",
       "version_major": 2,
       "version_minor": 0
      },
      "text/plain": [
       "Validation: |          | 0/? [00:00<?, ?it/s]"
      ]
     },
     "metadata": {},
     "output_type": "display_data"
    },
    {
     "data": {
      "application/vnd.jupyter.widget-view+json": {
       "model_id": "7ab04175b23d41468172531f1b77bb15",
       "version_major": 2,
       "version_minor": 0
      },
      "text/plain": [
       "Validation: |          | 0/? [00:00<?, ?it/s]"
      ]
     },
     "metadata": {},
     "output_type": "display_data"
    },
    {
     "data": {
      "application/vnd.jupyter.widget-view+json": {
       "model_id": "765367d31ef140faaebc135588d285e0",
       "version_major": 2,
       "version_minor": 0
      },
      "text/plain": [
       "Validation: |          | 0/? [00:00<?, ?it/s]"
      ]
     },
     "metadata": {},
     "output_type": "display_data"
    },
    {
     "data": {
      "application/vnd.jupyter.widget-view+json": {
       "model_id": "2f1ffd492020439d841873dddf4e5407",
       "version_major": 2,
       "version_minor": 0
      },
      "text/plain": [
       "Validation: |          | 0/? [00:00<?, ?it/s]"
      ]
     },
     "metadata": {},
     "output_type": "display_data"
    },
    {
     "data": {
      "application/vnd.jupyter.widget-view+json": {
       "model_id": "94922d03a448419ca2900705367812b0",
       "version_major": 2,
       "version_minor": 0
      },
      "text/plain": [
       "Validation: |          | 0/? [00:00<?, ?it/s]"
      ]
     },
     "metadata": {},
     "output_type": "display_data"
    },
    {
     "data": {
      "application/vnd.jupyter.widget-view+json": {
       "model_id": "d19dd7ec8f3445dd9de6fa4bac9cf6af",
       "version_major": 2,
       "version_minor": 0
      },
      "text/plain": [
       "Validation: |          | 0/? [00:00<?, ?it/s]"
      ]
     },
     "metadata": {},
     "output_type": "display_data"
    },
    {
     "data": {
      "application/vnd.jupyter.widget-view+json": {
       "model_id": "e3aed5ae979d40af81e8d8208a61997a",
       "version_major": 2,
       "version_minor": 0
      },
      "text/plain": [
       "Validation: |          | 0/? [00:00<?, ?it/s]"
      ]
     },
     "metadata": {},
     "output_type": "display_data"
    },
    {
     "data": {
      "application/vnd.jupyter.widget-view+json": {
       "model_id": "8736179b11324bc481dd66eb783802d2",
       "version_major": 2,
       "version_minor": 0
      },
      "text/plain": [
       "Validation: |          | 0/? [00:00<?, ?it/s]"
      ]
     },
     "metadata": {},
     "output_type": "display_data"
    },
    {
     "data": {
      "application/vnd.jupyter.widget-view+json": {
       "model_id": "67a5b496032f40019b8711ad76e35ac1",
       "version_major": 2,
       "version_minor": 0
      },
      "text/plain": [
       "Validation: |          | 0/? [00:00<?, ?it/s]"
      ]
     },
     "metadata": {},
     "output_type": "display_data"
    },
    {
     "data": {
      "application/vnd.jupyter.widget-view+json": {
       "model_id": "8b88ab92cbb74ad3a2ddd9e7b7bd5c83",
       "version_major": 2,
       "version_minor": 0
      },
      "text/plain": [
       "Validation: |          | 0/? [00:00<?, ?it/s]"
      ]
     },
     "metadata": {},
     "output_type": "display_data"
    },
    {
     "data": {
      "application/vnd.jupyter.widget-view+json": {
       "model_id": "1e7448414f454e85a8ef9598513c6ee1",
       "version_major": 2,
       "version_minor": 0
      },
      "text/plain": [
       "Validation: |          | 0/? [00:00<?, ?it/s]"
      ]
     },
     "metadata": {},
     "output_type": "display_data"
    },
    {
     "data": {
      "application/vnd.jupyter.widget-view+json": {
       "model_id": "a6622e5edfbc4debb61edc5d3a3c8a24",
       "version_major": 2,
       "version_minor": 0
      },
      "text/plain": [
       "Validation: |          | 0/? [00:00<?, ?it/s]"
      ]
     },
     "metadata": {},
     "output_type": "display_data"
    },
    {
     "data": {
      "application/vnd.jupyter.widget-view+json": {
       "model_id": "9f46c25287b34b51812cabc4246102c6",
       "version_major": 2,
       "version_minor": 0
      },
      "text/plain": [
       "Validation: |          | 0/? [00:00<?, ?it/s]"
      ]
     },
     "metadata": {},
     "output_type": "display_data"
    },
    {
     "data": {
      "application/vnd.jupyter.widget-view+json": {
       "model_id": "c5fdc8fe69e44b1ca0d1dc4a8ff8e702",
       "version_major": 2,
       "version_minor": 0
      },
      "text/plain": [
       "Validation: |          | 0/? [00:00<?, ?it/s]"
      ]
     },
     "metadata": {},
     "output_type": "display_data"
    },
    {
     "data": {
      "application/vnd.jupyter.widget-view+json": {
       "model_id": "29dfc06cf629451a82008f9fad6f2a37",
       "version_major": 2,
       "version_minor": 0
      },
      "text/plain": [
       "Validation: |          | 0/? [00:00<?, ?it/s]"
      ]
     },
     "metadata": {},
     "output_type": "display_data"
    },
    {
     "data": {
      "application/vnd.jupyter.widget-view+json": {
       "model_id": "9dc9dc9e73fc4c228af34741e874923b",
       "version_major": 2,
       "version_minor": 0
      },
      "text/plain": [
       "Validation: |          | 0/? [00:00<?, ?it/s]"
      ]
     },
     "metadata": {},
     "output_type": "display_data"
    },
    {
     "data": {
      "application/vnd.jupyter.widget-view+json": {
       "model_id": "ff2f2d6801f14738aa75c148d91aa380",
       "version_major": 2,
       "version_minor": 0
      },
      "text/plain": [
       "Validation: |          | 0/? [00:00<?, ?it/s]"
      ]
     },
     "metadata": {},
     "output_type": "display_data"
    },
    {
     "data": {
      "application/vnd.jupyter.widget-view+json": {
       "model_id": "e0544cbc16e541ccbd63ad9f19443953",
       "version_major": 2,
       "version_minor": 0
      },
      "text/plain": [
       "Validation: |          | 0/? [00:00<?, ?it/s]"
      ]
     },
     "metadata": {},
     "output_type": "display_data"
    },
    {
     "data": {
      "application/vnd.jupyter.widget-view+json": {
       "model_id": "94bbc558ab1a46468f03b75eac0e6dcf",
       "version_major": 2,
       "version_minor": 0
      },
      "text/plain": [
       "Validation: |          | 0/? [00:00<?, ?it/s]"
      ]
     },
     "metadata": {},
     "output_type": "display_data"
    },
    {
     "data": {
      "application/vnd.jupyter.widget-view+json": {
       "model_id": "f36192171d3d4141b88a2b4ff06c7c3d",
       "version_major": 2,
       "version_minor": 0
      },
      "text/plain": [
       "Validation: |          | 0/? [00:00<?, ?it/s]"
      ]
     },
     "metadata": {},
     "output_type": "display_data"
    },
    {
     "data": {
      "application/vnd.jupyter.widget-view+json": {
       "model_id": "d81403063b734317bdd68017795eb6d2",
       "version_major": 2,
       "version_minor": 0
      },
      "text/plain": [
       "Validation: |          | 0/? [00:00<?, ?it/s]"
      ]
     },
     "metadata": {},
     "output_type": "display_data"
    },
    {
     "data": {
      "application/vnd.jupyter.widget-view+json": {
       "model_id": "9d5ff441208e45e48da0cf9ae8f526fb",
       "version_major": 2,
       "version_minor": 0
      },
      "text/plain": [
       "Validation: |          | 0/? [00:00<?, ?it/s]"
      ]
     },
     "metadata": {},
     "output_type": "display_data"
    },
    {
     "data": {
      "application/vnd.jupyter.widget-view+json": {
       "model_id": "564ce06fae994515a2e944d1954beb49",
       "version_major": 2,
       "version_minor": 0
      },
      "text/plain": [
       "Validation: |          | 0/? [00:00<?, ?it/s]"
      ]
     },
     "metadata": {},
     "output_type": "display_data"
    },
    {
     "data": {
      "application/vnd.jupyter.widget-view+json": {
       "model_id": "80310b8418614eb89ffe6778f514c7a7",
       "version_major": 2,
       "version_minor": 0
      },
      "text/plain": [
       "Validation: |          | 0/? [00:00<?, ?it/s]"
      ]
     },
     "metadata": {},
     "output_type": "display_data"
    },
    {
     "data": {
      "application/vnd.jupyter.widget-view+json": {
       "model_id": "9ce0972054f14c3faa477420151f4b1f",
       "version_major": 2,
       "version_minor": 0
      },
      "text/plain": [
       "Validation: |          | 0/? [00:00<?, ?it/s]"
      ]
     },
     "metadata": {},
     "output_type": "display_data"
    },
    {
     "data": {
      "application/vnd.jupyter.widget-view+json": {
       "model_id": "0ddf1c0558fc4dc3ab7c20dfa0230b6f",
       "version_major": 2,
       "version_minor": 0
      },
      "text/plain": [
       "Validation: |          | 0/? [00:00<?, ?it/s]"
      ]
     },
     "metadata": {},
     "output_type": "display_data"
    },
    {
     "data": {
      "application/vnd.jupyter.widget-view+json": {
       "model_id": "4cf3319c60844a349c3bf86501149aa5",
       "version_major": 2,
       "version_minor": 0
      },
      "text/plain": [
       "Validation: |          | 0/? [00:00<?, ?it/s]"
      ]
     },
     "metadata": {},
     "output_type": "display_data"
    },
    {
     "data": {
      "application/vnd.jupyter.widget-view+json": {
       "model_id": "da6bd0abc4d14424a8c9bcee10c3a848",
       "version_major": 2,
       "version_minor": 0
      },
      "text/plain": [
       "Validation: |          | 0/? [00:00<?, ?it/s]"
      ]
     },
     "metadata": {},
     "output_type": "display_data"
    },
    {
     "data": {
      "application/vnd.jupyter.widget-view+json": {
       "model_id": "5e7045b932984fcbb3b70591808ced4e",
       "version_major": 2,
       "version_minor": 0
      },
      "text/plain": [
       "Validation: |          | 0/? [00:00<?, ?it/s]"
      ]
     },
     "metadata": {},
     "output_type": "display_data"
    },
    {
     "data": {
      "application/vnd.jupyter.widget-view+json": {
       "model_id": "8fc33605dba3400b98f542cd0331d1a2",
       "version_major": 2,
       "version_minor": 0
      },
      "text/plain": [
       "Validation: |          | 0/? [00:00<?, ?it/s]"
      ]
     },
     "metadata": {},
     "output_type": "display_data"
    },
    {
     "data": {
      "application/vnd.jupyter.widget-view+json": {
       "model_id": "77aed8f40a25402390a6d36791140c8a",
       "version_major": 2,
       "version_minor": 0
      },
      "text/plain": [
       "Validation: |          | 0/? [00:00<?, ?it/s]"
      ]
     },
     "metadata": {},
     "output_type": "display_data"
    },
    {
     "data": {
      "application/vnd.jupyter.widget-view+json": {
       "model_id": "e062b7fcdebc4fffb641a58c22f692a9",
       "version_major": 2,
       "version_minor": 0
      },
      "text/plain": [
       "Validation: |          | 0/? [00:00<?, ?it/s]"
      ]
     },
     "metadata": {},
     "output_type": "display_data"
    },
    {
     "data": {
      "application/vnd.jupyter.widget-view+json": {
       "model_id": "fbd8bf3391a341208707e9004c9623f2",
       "version_major": 2,
       "version_minor": 0
      },
      "text/plain": [
       "Validation: |          | 0/? [00:00<?, ?it/s]"
      ]
     },
     "metadata": {},
     "output_type": "display_data"
    },
    {
     "data": {
      "application/vnd.jupyter.widget-view+json": {
       "model_id": "b8826598212b415da444ca4ded349b46",
       "version_major": 2,
       "version_minor": 0
      },
      "text/plain": [
       "Validation: |          | 0/? [00:00<?, ?it/s]"
      ]
     },
     "metadata": {},
     "output_type": "display_data"
    },
    {
     "data": {
      "application/vnd.jupyter.widget-view+json": {
       "model_id": "781e8e8e8d0d4492a1fce3d5651f4775",
       "version_major": 2,
       "version_minor": 0
      },
      "text/plain": [
       "Validation: |          | 0/? [00:00<?, ?it/s]"
      ]
     },
     "metadata": {},
     "output_type": "display_data"
    },
    {
     "data": {
      "application/vnd.jupyter.widget-view+json": {
       "model_id": "80fd469cbfa64915803db5a992643fb4",
       "version_major": 2,
       "version_minor": 0
      },
      "text/plain": [
       "Validation: |          | 0/? [00:00<?, ?it/s]"
      ]
     },
     "metadata": {},
     "output_type": "display_data"
    },
    {
     "data": {
      "application/vnd.jupyter.widget-view+json": {
       "model_id": "9d05307605dd498fa5d0f3cd4f577cba",
       "version_major": 2,
       "version_minor": 0
      },
      "text/plain": [
       "Validation: |          | 0/? [00:00<?, ?it/s]"
      ]
     },
     "metadata": {},
     "output_type": "display_data"
    },
    {
     "data": {
      "application/vnd.jupyter.widget-view+json": {
       "model_id": "57c67e4b959c4dbe88f887bbe7e475c1",
       "version_major": 2,
       "version_minor": 0
      },
      "text/plain": [
       "Validation: |          | 0/? [00:00<?, ?it/s]"
      ]
     },
     "metadata": {},
     "output_type": "display_data"
    },
    {
     "data": {
      "application/vnd.jupyter.widget-view+json": {
       "model_id": "299f4563c50d44eeb3b47a1805487085",
       "version_major": 2,
       "version_minor": 0
      },
      "text/plain": [
       "Validation: |          | 0/? [00:00<?, ?it/s]"
      ]
     },
     "metadata": {},
     "output_type": "display_data"
    },
    {
     "data": {
      "application/vnd.jupyter.widget-view+json": {
       "model_id": "9471b68a9412495590680ddf1809c2a5",
       "version_major": 2,
       "version_minor": 0
      },
      "text/plain": [
       "Validation: |          | 0/? [00:00<?, ?it/s]"
      ]
     },
     "metadata": {},
     "output_type": "display_data"
    },
    {
     "data": {
      "application/vnd.jupyter.widget-view+json": {
       "model_id": "690ae9dd9b374fcf8ef980567b88117e",
       "version_major": 2,
       "version_minor": 0
      },
      "text/plain": [
       "Validation: |          | 0/? [00:00<?, ?it/s]"
      ]
     },
     "metadata": {},
     "output_type": "display_data"
    },
    {
     "data": {
      "application/vnd.jupyter.widget-view+json": {
       "model_id": "25474ac7938d4078bc2a056a192f661f",
       "version_major": 2,
       "version_minor": 0
      },
      "text/plain": [
       "Validation: |          | 0/? [00:00<?, ?it/s]"
      ]
     },
     "metadata": {},
     "output_type": "display_data"
    },
    {
     "data": {
      "application/vnd.jupyter.widget-view+json": {
       "model_id": "d7e1bbb568d54a1ba0528f790d88c116",
       "version_major": 2,
       "version_minor": 0
      },
      "text/plain": [
       "Validation: |          | 0/? [00:00<?, ?it/s]"
      ]
     },
     "metadata": {},
     "output_type": "display_data"
    },
    {
     "data": {
      "application/vnd.jupyter.widget-view+json": {
       "model_id": "9102aba1363c45988e84400c9ead6137",
       "version_major": 2,
       "version_minor": 0
      },
      "text/plain": [
       "Validation: |          | 0/? [00:00<?, ?it/s]"
      ]
     },
     "metadata": {},
     "output_type": "display_data"
    },
    {
     "data": {
      "application/vnd.jupyter.widget-view+json": {
       "model_id": "b3ac078146bb4c6d857a9358ca3f68b4",
       "version_major": 2,
       "version_minor": 0
      },
      "text/plain": [
       "Validation: |          | 0/? [00:00<?, ?it/s]"
      ]
     },
     "metadata": {},
     "output_type": "display_data"
    },
    {
     "data": {
      "application/vnd.jupyter.widget-view+json": {
       "model_id": "756e5053c25043b4ba9f0a93de97f47e",
       "version_major": 2,
       "version_minor": 0
      },
      "text/plain": [
       "Validation: |          | 0/? [00:00<?, ?it/s]"
      ]
     },
     "metadata": {},
     "output_type": "display_data"
    },
    {
     "data": {
      "application/vnd.jupyter.widget-view+json": {
       "model_id": "d2c78cef3dfa4599bf3ae345d7191eb9",
       "version_major": 2,
       "version_minor": 0
      },
      "text/plain": [
       "Validation: |          | 0/? [00:00<?, ?it/s]"
      ]
     },
     "metadata": {},
     "output_type": "display_data"
    },
    {
     "data": {
      "application/vnd.jupyter.widget-view+json": {
       "model_id": "7df455092fa3423fb02fb7a60d2504db",
       "version_major": 2,
       "version_minor": 0
      },
      "text/plain": [
       "Validation: |          | 0/? [00:00<?, ?it/s]"
      ]
     },
     "metadata": {},
     "output_type": "display_data"
    },
    {
     "data": {
      "application/vnd.jupyter.widget-view+json": {
       "model_id": "14c7e054dd20469bad7d2304c5803dfa",
       "version_major": 2,
       "version_minor": 0
      },
      "text/plain": [
       "Validation: |          | 0/? [00:00<?, ?it/s]"
      ]
     },
     "metadata": {},
     "output_type": "display_data"
    },
    {
     "data": {
      "application/vnd.jupyter.widget-view+json": {
       "model_id": "e5b58aac52634d8082a3304d841eab9f",
       "version_major": 2,
       "version_minor": 0
      },
      "text/plain": [
       "Validation: |          | 0/? [00:00<?, ?it/s]"
      ]
     },
     "metadata": {},
     "output_type": "display_data"
    },
    {
     "data": {
      "application/vnd.jupyter.widget-view+json": {
       "model_id": "835dabd8a2d44794b941afe75aac61db",
       "version_major": 2,
       "version_minor": 0
      },
      "text/plain": [
       "Validation: |          | 0/? [00:00<?, ?it/s]"
      ]
     },
     "metadata": {},
     "output_type": "display_data"
    },
    {
     "data": {
      "application/vnd.jupyter.widget-view+json": {
       "model_id": "ce25b9b58f7f4630b8b8c34c934cc738",
       "version_major": 2,
       "version_minor": 0
      },
      "text/plain": [
       "Validation: |          | 0/? [00:00<?, ?it/s]"
      ]
     },
     "metadata": {},
     "output_type": "display_data"
    },
    {
     "data": {
      "application/vnd.jupyter.widget-view+json": {
       "model_id": "31a4f9cd92214c7184465ff2db6dcb88",
       "version_major": 2,
       "version_minor": 0
      },
      "text/plain": [
       "Validation: |          | 0/? [00:00<?, ?it/s]"
      ]
     },
     "metadata": {},
     "output_type": "display_data"
    },
    {
     "data": {
      "application/vnd.jupyter.widget-view+json": {
       "model_id": "5e51ed424bac4e05bec342347ca27b8d",
       "version_major": 2,
       "version_minor": 0
      },
      "text/plain": [
       "Validation: |          | 0/? [00:00<?, ?it/s]"
      ]
     },
     "metadata": {},
     "output_type": "display_data"
    },
    {
     "data": {
      "application/vnd.jupyter.widget-view+json": {
       "model_id": "692105ade79b434596f916636e53d51b",
       "version_major": 2,
       "version_minor": 0
      },
      "text/plain": [
       "Validation: |          | 0/? [00:00<?, ?it/s]"
      ]
     },
     "metadata": {},
     "output_type": "display_data"
    },
    {
     "data": {
      "application/vnd.jupyter.widget-view+json": {
       "model_id": "6e24b75259ad409d9efd641a2e0c265c",
       "version_major": 2,
       "version_minor": 0
      },
      "text/plain": [
       "Validation: |          | 0/? [00:00<?, ?it/s]"
      ]
     },
     "metadata": {},
     "output_type": "display_data"
    },
    {
     "data": {
      "application/vnd.jupyter.widget-view+json": {
       "model_id": "fbc58253227a4a3bb37f579ea444f2c4",
       "version_major": 2,
       "version_minor": 0
      },
      "text/plain": [
       "Validation: |          | 0/? [00:00<?, ?it/s]"
      ]
     },
     "metadata": {},
     "output_type": "display_data"
    },
    {
     "data": {
      "application/vnd.jupyter.widget-view+json": {
       "model_id": "7ed7377e90cc41dcae6a364951b58da3",
       "version_major": 2,
       "version_minor": 0
      },
      "text/plain": [
       "Validation: |          | 0/? [00:00<?, ?it/s]"
      ]
     },
     "metadata": {},
     "output_type": "display_data"
    },
    {
     "data": {
      "application/vnd.jupyter.widget-view+json": {
       "model_id": "5579b9e5e4bc4aacb239a98675ae91a3",
       "version_major": 2,
       "version_minor": 0
      },
      "text/plain": [
       "Validation: |          | 0/? [00:00<?, ?it/s]"
      ]
     },
     "metadata": {},
     "output_type": "display_data"
    },
    {
     "data": {
      "application/vnd.jupyter.widget-view+json": {
       "model_id": "43015c8c8120473d86fa9adbec33fd6d",
       "version_major": 2,
       "version_minor": 0
      },
      "text/plain": [
       "Validation: |          | 0/? [00:00<?, ?it/s]"
      ]
     },
     "metadata": {},
     "output_type": "display_data"
    },
    {
     "data": {
      "application/vnd.jupyter.widget-view+json": {
       "model_id": "64afeda0951941c193311c3eef897323",
       "version_major": 2,
       "version_minor": 0
      },
      "text/plain": [
       "Validation: |          | 0/? [00:00<?, ?it/s]"
      ]
     },
     "metadata": {},
     "output_type": "display_data"
    },
    {
     "data": {
      "application/vnd.jupyter.widget-view+json": {
       "model_id": "56b75054807343faafa733d039864f09",
       "version_major": 2,
       "version_minor": 0
      },
      "text/plain": [
       "Validation: |          | 0/? [00:00<?, ?it/s]"
      ]
     },
     "metadata": {},
     "output_type": "display_data"
    },
    {
     "data": {
      "application/vnd.jupyter.widget-view+json": {
       "model_id": "859c9f7aa4ec4c09906fb1ee6190f7c8",
       "version_major": 2,
       "version_minor": 0
      },
      "text/plain": [
       "Validation: |          | 0/? [00:00<?, ?it/s]"
      ]
     },
     "metadata": {},
     "output_type": "display_data"
    },
    {
     "data": {
      "application/vnd.jupyter.widget-view+json": {
       "model_id": "6147af8144824e219d5e960b793d8243",
       "version_major": 2,
       "version_minor": 0
      },
      "text/plain": [
       "Validation: |          | 0/? [00:00<?, ?it/s]"
      ]
     },
     "metadata": {},
     "output_type": "display_data"
    },
    {
     "data": {
      "application/vnd.jupyter.widget-view+json": {
       "model_id": "c26483c1c45949d880575b21e16a7718",
       "version_major": 2,
       "version_minor": 0
      },
      "text/plain": [
       "Validation: |          | 0/? [00:00<?, ?it/s]"
      ]
     },
     "metadata": {},
     "output_type": "display_data"
    },
    {
     "data": {
      "application/vnd.jupyter.widget-view+json": {
       "model_id": "76354bc5145c4c7682982ad49e963537",
       "version_major": 2,
       "version_minor": 0
      },
      "text/plain": [
       "Validation: |          | 0/? [00:00<?, ?it/s]"
      ]
     },
     "metadata": {},
     "output_type": "display_data"
    },
    {
     "data": {
      "application/vnd.jupyter.widget-view+json": {
       "model_id": "401dd8d42cfd4aaf83f70cc0250e7103",
       "version_major": 2,
       "version_minor": 0
      },
      "text/plain": [
       "Validation: |          | 0/? [00:00<?, ?it/s]"
      ]
     },
     "metadata": {},
     "output_type": "display_data"
    },
    {
     "data": {
      "application/vnd.jupyter.widget-view+json": {
       "model_id": "b9d7477edc824e5d963f5b0f8a5f12a1",
       "version_major": 2,
       "version_minor": 0
      },
      "text/plain": [
       "Validation: |          | 0/? [00:00<?, ?it/s]"
      ]
     },
     "metadata": {},
     "output_type": "display_data"
    },
    {
     "data": {
      "application/vnd.jupyter.widget-view+json": {
       "model_id": "388824982ea047b8b674a741ed95fe8b",
       "version_major": 2,
       "version_minor": 0
      },
      "text/plain": [
       "Validation: |          | 0/? [00:00<?, ?it/s]"
      ]
     },
     "metadata": {},
     "output_type": "display_data"
    },
    {
     "data": {
      "application/vnd.jupyter.widget-view+json": {
       "model_id": "04c5bc04564247e29e982637c439af1a",
       "version_major": 2,
       "version_minor": 0
      },
      "text/plain": [
       "Validation: |          | 0/? [00:00<?, ?it/s]"
      ]
     },
     "metadata": {},
     "output_type": "display_data"
    },
    {
     "data": {
      "application/vnd.jupyter.widget-view+json": {
       "model_id": "3b4260322eb84356805ef8494ea2d803",
       "version_major": 2,
       "version_minor": 0
      },
      "text/plain": [
       "Validation: |          | 0/? [00:00<?, ?it/s]"
      ]
     },
     "metadata": {},
     "output_type": "display_data"
    },
    {
     "data": {
      "application/vnd.jupyter.widget-view+json": {
       "model_id": "ea37ff0aa3d84d0087fdd1e58fcc1bcd",
       "version_major": 2,
       "version_minor": 0
      },
      "text/plain": [
       "Validation: |          | 0/? [00:00<?, ?it/s]"
      ]
     },
     "metadata": {},
     "output_type": "display_data"
    },
    {
     "data": {
      "application/vnd.jupyter.widget-view+json": {
       "model_id": "fcf385bdb8c64174b447b0679db89502",
       "version_major": 2,
       "version_minor": 0
      },
      "text/plain": [
       "Validation: |          | 0/? [00:00<?, ?it/s]"
      ]
     },
     "metadata": {},
     "output_type": "display_data"
    },
    {
     "data": {
      "application/vnd.jupyter.widget-view+json": {
       "model_id": "cd787810a64d44ff9a0f67bb2b3641bc",
       "version_major": 2,
       "version_minor": 0
      },
      "text/plain": [
       "Validation: |          | 0/? [00:00<?, ?it/s]"
      ]
     },
     "metadata": {},
     "output_type": "display_data"
    },
    {
     "data": {
      "application/vnd.jupyter.widget-view+json": {
       "model_id": "366b7e4687e4486fb6f4dc47788aea4e",
       "version_major": 2,
       "version_minor": 0
      },
      "text/plain": [
       "Validation: |          | 0/? [00:00<?, ?it/s]"
      ]
     },
     "metadata": {},
     "output_type": "display_data"
    },
    {
     "data": {
      "application/vnd.jupyter.widget-view+json": {
       "model_id": "2f837ebb06b645efb231492e24408fc2",
       "version_major": 2,
       "version_minor": 0
      },
      "text/plain": [
       "Validation: |          | 0/? [00:00<?, ?it/s]"
      ]
     },
     "metadata": {},
     "output_type": "display_data"
    },
    {
     "data": {
      "application/vnd.jupyter.widget-view+json": {
       "model_id": "4cfa6e6fc6924c4f8f32ea9e7a7bd071",
       "version_major": 2,
       "version_minor": 0
      },
      "text/plain": [
       "Validation: |          | 0/? [00:00<?, ?it/s]"
      ]
     },
     "metadata": {},
     "output_type": "display_data"
    },
    {
     "data": {
      "application/vnd.jupyter.widget-view+json": {
       "model_id": "960684172f174c39addbbdaad4c25c1a",
       "version_major": 2,
       "version_minor": 0
      },
      "text/plain": [
       "Validation: |          | 0/? [00:00<?, ?it/s]"
      ]
     },
     "metadata": {},
     "output_type": "display_data"
    },
    {
     "data": {
      "application/vnd.jupyter.widget-view+json": {
       "model_id": "9cb9eb22f7f54dca913b6bc2c00837c7",
       "version_major": 2,
       "version_minor": 0
      },
      "text/plain": [
       "Validation: |          | 0/? [00:00<?, ?it/s]"
      ]
     },
     "metadata": {},
     "output_type": "display_data"
    },
    {
     "data": {
      "application/vnd.jupyter.widget-view+json": {
       "model_id": "91b1bd3706164d88b195768509b81d71",
       "version_major": 2,
       "version_minor": 0
      },
      "text/plain": [
       "Validation: |          | 0/? [00:00<?, ?it/s]"
      ]
     },
     "metadata": {},
     "output_type": "display_data"
    },
    {
     "data": {
      "application/vnd.jupyter.widget-view+json": {
       "model_id": "e762c31661414864bb6800b4d174a066",
       "version_major": 2,
       "version_minor": 0
      },
      "text/plain": [
       "Validation: |          | 0/? [00:00<?, ?it/s]"
      ]
     },
     "metadata": {},
     "output_type": "display_data"
    },
    {
     "data": {
      "application/vnd.jupyter.widget-view+json": {
       "model_id": "6994f04626844ac48cfe9d6819887246",
       "version_major": 2,
       "version_minor": 0
      },
      "text/plain": [
       "Validation: |          | 0/? [00:00<?, ?it/s]"
      ]
     },
     "metadata": {},
     "output_type": "display_data"
    },
    {
     "data": {
      "application/vnd.jupyter.widget-view+json": {
       "model_id": "625f3ef969704acbab0d00046f385d47",
       "version_major": 2,
       "version_minor": 0
      },
      "text/plain": [
       "Validation: |          | 0/? [00:00<?, ?it/s]"
      ]
     },
     "metadata": {},
     "output_type": "display_data"
    },
    {
     "data": {
      "application/vnd.jupyter.widget-view+json": {
       "model_id": "fb436c77414d488da0b787fa759c5b6f",
       "version_major": 2,
       "version_minor": 0
      },
      "text/plain": [
       "Validation: |          | 0/? [00:00<?, ?it/s]"
      ]
     },
     "metadata": {},
     "output_type": "display_data"
    },
    {
     "data": {
      "application/vnd.jupyter.widget-view+json": {
       "model_id": "a550710f61c84067bf5284f804dde4ee",
       "version_major": 2,
       "version_minor": 0
      },
      "text/plain": [
       "Validation: |          | 0/? [00:00<?, ?it/s]"
      ]
     },
     "metadata": {},
     "output_type": "display_data"
    },
    {
     "data": {
      "application/vnd.jupyter.widget-view+json": {
       "model_id": "f7cd1116d16149dc9963b711c89d1f30",
       "version_major": 2,
       "version_minor": 0
      },
      "text/plain": [
       "Validation: |          | 0/? [00:00<?, ?it/s]"
      ]
     },
     "metadata": {},
     "output_type": "display_data"
    },
    {
     "data": {
      "application/vnd.jupyter.widget-view+json": {
       "model_id": "ea863952226c4438891fcfbcaa036cee",
       "version_major": 2,
       "version_minor": 0
      },
      "text/plain": [
       "Validation: |          | 0/? [00:00<?, ?it/s]"
      ]
     },
     "metadata": {},
     "output_type": "display_data"
    },
    {
     "data": {
      "application/vnd.jupyter.widget-view+json": {
       "model_id": "5bd43ab206b942bc962dfa5513ac62aa",
       "version_major": 2,
       "version_minor": 0
      },
      "text/plain": [
       "Validation: |          | 0/? [00:00<?, ?it/s]"
      ]
     },
     "metadata": {},
     "output_type": "display_data"
    },
    {
     "data": {
      "application/vnd.jupyter.widget-view+json": {
       "model_id": "4786c41dbc0e4a799b4041571f8cbdb6",
       "version_major": 2,
       "version_minor": 0
      },
      "text/plain": [
       "Validation: |          | 0/? [00:00<?, ?it/s]"
      ]
     },
     "metadata": {},
     "output_type": "display_data"
    },
    {
     "data": {
      "application/vnd.jupyter.widget-view+json": {
       "model_id": "74bafabc06cc450c9aab690fa8fbe7a3",
       "version_major": 2,
       "version_minor": 0
      },
      "text/plain": [
       "Validation: |          | 0/? [00:00<?, ?it/s]"
      ]
     },
     "metadata": {},
     "output_type": "display_data"
    },
    {
     "data": {
      "application/vnd.jupyter.widget-view+json": {
       "model_id": "c1a8e33f6f1b438993c9537dcdfb03a0",
       "version_major": 2,
       "version_minor": 0
      },
      "text/plain": [
       "Validation: |          | 0/? [00:00<?, ?it/s]"
      ]
     },
     "metadata": {},
     "output_type": "display_data"
    },
    {
     "data": {
      "application/vnd.jupyter.widget-view+json": {
       "model_id": "a2fb9c48386846e08f984577c0eb8b6c",
       "version_major": 2,
       "version_minor": 0
      },
      "text/plain": [
       "Validation: |          | 0/? [00:00<?, ?it/s]"
      ]
     },
     "metadata": {},
     "output_type": "display_data"
    },
    {
     "data": {
      "application/vnd.jupyter.widget-view+json": {
       "model_id": "75a4f6a3ce3f419484242c59bac3d5dc",
       "version_major": 2,
       "version_minor": 0
      },
      "text/plain": [
       "Validation: |          | 0/? [00:00<?, ?it/s]"
      ]
     },
     "metadata": {},
     "output_type": "display_data"
    },
    {
     "data": {
      "application/vnd.jupyter.widget-view+json": {
       "model_id": "7ace9520aeed4360bd12c544aa3e879c",
       "version_major": 2,
       "version_minor": 0
      },
      "text/plain": [
       "Validation: |          | 0/? [00:00<?, ?it/s]"
      ]
     },
     "metadata": {},
     "output_type": "display_data"
    },
    {
     "data": {
      "application/vnd.jupyter.widget-view+json": {
       "model_id": "673393a12ff04404a0ba87405dc8e1be",
       "version_major": 2,
       "version_minor": 0
      },
      "text/plain": [
       "Validation: |          | 0/? [00:00<?, ?it/s]"
      ]
     },
     "metadata": {},
     "output_type": "display_data"
    },
    {
     "data": {
      "application/vnd.jupyter.widget-view+json": {
       "model_id": "f70cc4de187e44d0ba899782c975d439",
       "version_major": 2,
       "version_minor": 0
      },
      "text/plain": [
       "Validation: |          | 0/? [00:00<?, ?it/s]"
      ]
     },
     "metadata": {},
     "output_type": "display_data"
    },
    {
     "data": {
      "application/vnd.jupyter.widget-view+json": {
       "model_id": "a6c9ee7f92474c18a3c430c144d8e490",
       "version_major": 2,
       "version_minor": 0
      },
      "text/plain": [
       "Validation: |          | 0/? [00:00<?, ?it/s]"
      ]
     },
     "metadata": {},
     "output_type": "display_data"
    },
    {
     "data": {
      "application/vnd.jupyter.widget-view+json": {
       "model_id": "73f2371d889a465389dd9ae0916e1a5d",
       "version_major": 2,
       "version_minor": 0
      },
      "text/plain": [
       "Validation: |          | 0/? [00:00<?, ?it/s]"
      ]
     },
     "metadata": {},
     "output_type": "display_data"
    },
    {
     "data": {
      "application/vnd.jupyter.widget-view+json": {
       "model_id": "a6e5210942d24e6cb803ebed13958c49",
       "version_major": 2,
       "version_minor": 0
      },
      "text/plain": [
       "Validation: |          | 0/? [00:00<?, ?it/s]"
      ]
     },
     "metadata": {},
     "output_type": "display_data"
    },
    {
     "data": {
      "application/vnd.jupyter.widget-view+json": {
       "model_id": "79e6f3b919394fd4bba991f0e9cd9e7e",
       "version_major": 2,
       "version_minor": 0
      },
      "text/plain": [
       "Validation: |          | 0/? [00:00<?, ?it/s]"
      ]
     },
     "metadata": {},
     "output_type": "display_data"
    },
    {
     "data": {
      "application/vnd.jupyter.widget-view+json": {
       "model_id": "29e31034037b4e4c843c949d16f78143",
       "version_major": 2,
       "version_minor": 0
      },
      "text/plain": [
       "Validation: |          | 0/? [00:00<?, ?it/s]"
      ]
     },
     "metadata": {},
     "output_type": "display_data"
    },
    {
     "data": {
      "application/vnd.jupyter.widget-view+json": {
       "model_id": "726014431f2c42a1bb3cdcc28d986da5",
       "version_major": 2,
       "version_minor": 0
      },
      "text/plain": [
       "Validation: |          | 0/? [00:00<?, ?it/s]"
      ]
     },
     "metadata": {},
     "output_type": "display_data"
    },
    {
     "data": {
      "application/vnd.jupyter.widget-view+json": {
       "model_id": "f8f26e2c569f4e30813949a148c2938f",
       "version_major": 2,
       "version_minor": 0
      },
      "text/plain": [
       "Validation: |          | 0/? [00:00<?, ?it/s]"
      ]
     },
     "metadata": {},
     "output_type": "display_data"
    },
    {
     "data": {
      "application/vnd.jupyter.widget-view+json": {
       "model_id": "78ed369629ef4288b2cc4c632213ba8c",
       "version_major": 2,
       "version_minor": 0
      },
      "text/plain": [
       "Validation: |          | 0/? [00:00<?, ?it/s]"
      ]
     },
     "metadata": {},
     "output_type": "display_data"
    },
    {
     "data": {
      "application/vnd.jupyter.widget-view+json": {
       "model_id": "1475608dfd2348b58ed950fe3255a31e",
       "version_major": 2,
       "version_minor": 0
      },
      "text/plain": [
       "Validation: |          | 0/? [00:00<?, ?it/s]"
      ]
     },
     "metadata": {},
     "output_type": "display_data"
    },
    {
     "data": {
      "application/vnd.jupyter.widget-view+json": {
       "model_id": "8ee6ecb4951c4d98bf815b41b82483c6",
       "version_major": 2,
       "version_minor": 0
      },
      "text/plain": [
       "Validation: |          | 0/? [00:00<?, ?it/s]"
      ]
     },
     "metadata": {},
     "output_type": "display_data"
    },
    {
     "data": {
      "application/vnd.jupyter.widget-view+json": {
       "model_id": "0b438daf4b7f4a67982f22333360a1ec",
       "version_major": 2,
       "version_minor": 0
      },
      "text/plain": [
       "Validation: |          | 0/? [00:00<?, ?it/s]"
      ]
     },
     "metadata": {},
     "output_type": "display_data"
    },
    {
     "data": {
      "application/vnd.jupyter.widget-view+json": {
       "model_id": "5d9cad1b725c4561896a8ce37b235641",
       "version_major": 2,
       "version_minor": 0
      },
      "text/plain": [
       "Validation: |          | 0/? [00:00<?, ?it/s]"
      ]
     },
     "metadata": {},
     "output_type": "display_data"
    },
    {
     "data": {
      "application/vnd.jupyter.widget-view+json": {
       "model_id": "6184861826804a98afc9d6cbbca7d21f",
       "version_major": 2,
       "version_minor": 0
      },
      "text/plain": [
       "Validation: |          | 0/? [00:00<?, ?it/s]"
      ]
     },
     "metadata": {},
     "output_type": "display_data"
    },
    {
     "data": {
      "application/vnd.jupyter.widget-view+json": {
       "model_id": "5ef94c2c15d8419ab0f07a45824ca666",
       "version_major": 2,
       "version_minor": 0
      },
      "text/plain": [
       "Validation: |          | 0/? [00:00<?, ?it/s]"
      ]
     },
     "metadata": {},
     "output_type": "display_data"
    },
    {
     "data": {
      "application/vnd.jupyter.widget-view+json": {
       "model_id": "68889fa7a5bd401b88748de43a570950",
       "version_major": 2,
       "version_minor": 0
      },
      "text/plain": [
       "Validation: |          | 0/? [00:00<?, ?it/s]"
      ]
     },
     "metadata": {},
     "output_type": "display_data"
    },
    {
     "data": {
      "application/vnd.jupyter.widget-view+json": {
       "model_id": "845aafaab1174677914352b5e524a80a",
       "version_major": 2,
       "version_minor": 0
      },
      "text/plain": [
       "Validation: |          | 0/? [00:00<?, ?it/s]"
      ]
     },
     "metadata": {},
     "output_type": "display_data"
    },
    {
     "data": {
      "application/vnd.jupyter.widget-view+json": {
       "model_id": "d31f6b40bafc4468a338d4ef59e32002",
       "version_major": 2,
       "version_minor": 0
      },
      "text/plain": [
       "Validation: |          | 0/? [00:00<?, ?it/s]"
      ]
     },
     "metadata": {},
     "output_type": "display_data"
    },
    {
     "data": {
      "application/vnd.jupyter.widget-view+json": {
       "model_id": "c49ddcb091564aedae773a674d671a21",
       "version_major": 2,
       "version_minor": 0
      },
      "text/plain": [
       "Validation: |          | 0/? [00:00<?, ?it/s]"
      ]
     },
     "metadata": {},
     "output_type": "display_data"
    },
    {
     "data": {
      "application/vnd.jupyter.widget-view+json": {
       "model_id": "7708f91da0a142ed9a1966ab37f548fd",
       "version_major": 2,
       "version_minor": 0
      },
      "text/plain": [
       "Validation: |          | 0/? [00:00<?, ?it/s]"
      ]
     },
     "metadata": {},
     "output_type": "display_data"
    },
    {
     "data": {
      "application/vnd.jupyter.widget-view+json": {
       "model_id": "47c5984fe2264243ab7c5373bc6e34c1",
       "version_major": 2,
       "version_minor": 0
      },
      "text/plain": [
       "Validation: |          | 0/? [00:00<?, ?it/s]"
      ]
     },
     "metadata": {},
     "output_type": "display_data"
    },
    {
     "data": {
      "application/vnd.jupyter.widget-view+json": {
       "model_id": "3b43f120702441079f28058c63f1224e",
       "version_major": 2,
       "version_minor": 0
      },
      "text/plain": [
       "Validation: |          | 0/? [00:00<?, ?it/s]"
      ]
     },
     "metadata": {},
     "output_type": "display_data"
    },
    {
     "data": {
      "application/vnd.jupyter.widget-view+json": {
       "model_id": "cada27f83dc44515bb84bbb14ae32cb3",
       "version_major": 2,
       "version_minor": 0
      },
      "text/plain": [
       "Validation: |          | 0/? [00:00<?, ?it/s]"
      ]
     },
     "metadata": {},
     "output_type": "display_data"
    },
    {
     "data": {
      "application/vnd.jupyter.widget-view+json": {
       "model_id": "681d58c72883446baf35e74fdfb071c8",
       "version_major": 2,
       "version_minor": 0
      },
      "text/plain": [
       "Validation: |          | 0/? [00:00<?, ?it/s]"
      ]
     },
     "metadata": {},
     "output_type": "display_data"
    },
    {
     "data": {
      "application/vnd.jupyter.widget-view+json": {
       "model_id": "965eb533fc974b24868aae8e11a42229",
       "version_major": 2,
       "version_minor": 0
      },
      "text/plain": [
       "Validation: |          | 0/? [00:00<?, ?it/s]"
      ]
     },
     "metadata": {},
     "output_type": "display_data"
    },
    {
     "data": {
      "application/vnd.jupyter.widget-view+json": {
       "model_id": "3f213613613a4741be03310b881326c8",
       "version_major": 2,
       "version_minor": 0
      },
      "text/plain": [
       "Validation: |          | 0/? [00:00<?, ?it/s]"
      ]
     },
     "metadata": {},
     "output_type": "display_data"
    },
    {
     "data": {
      "application/vnd.jupyter.widget-view+json": {
       "model_id": "a8d984a7b3ba4856b5fda5ea075562da",
       "version_major": 2,
       "version_minor": 0
      },
      "text/plain": [
       "Validation: |          | 0/? [00:00<?, ?it/s]"
      ]
     },
     "metadata": {},
     "output_type": "display_data"
    },
    {
     "data": {
      "application/vnd.jupyter.widget-view+json": {
       "model_id": "5c4d0b4b83e24c19889e5a72e9ee0865",
       "version_major": 2,
       "version_minor": 0
      },
      "text/plain": [
       "Validation: |          | 0/? [00:00<?, ?it/s]"
      ]
     },
     "metadata": {},
     "output_type": "display_data"
    },
    {
     "data": {
      "application/vnd.jupyter.widget-view+json": {
       "model_id": "6f12328b1119415593f4258af7fb5a7b",
       "version_major": 2,
       "version_minor": 0
      },
      "text/plain": [
       "Validation: |          | 0/? [00:00<?, ?it/s]"
      ]
     },
     "metadata": {},
     "output_type": "display_data"
    },
    {
     "data": {
      "application/vnd.jupyter.widget-view+json": {
       "model_id": "a3136e9481d34d93a39293df576c1823",
       "version_major": 2,
       "version_minor": 0
      },
      "text/plain": [
       "Validation: |          | 0/? [00:00<?, ?it/s]"
      ]
     },
     "metadata": {},
     "output_type": "display_data"
    },
    {
     "data": {
      "application/vnd.jupyter.widget-view+json": {
       "model_id": "5b3030e90ace46789b6346a3ab347d8e",
       "version_major": 2,
       "version_minor": 0
      },
      "text/plain": [
       "Validation: |          | 0/? [00:00<?, ?it/s]"
      ]
     },
     "metadata": {},
     "output_type": "display_data"
    },
    {
     "data": {
      "application/vnd.jupyter.widget-view+json": {
       "model_id": "139679a95b5e43239baf6113849b9f51",
       "version_major": 2,
       "version_minor": 0
      },
      "text/plain": [
       "Validation: |          | 0/? [00:00<?, ?it/s]"
      ]
     },
     "metadata": {},
     "output_type": "display_data"
    },
    {
     "data": {
      "application/vnd.jupyter.widget-view+json": {
       "model_id": "ceb318668489484da3c6db6d6264d825",
       "version_major": 2,
       "version_minor": 0
      },
      "text/plain": [
       "Validation: |          | 0/? [00:00<?, ?it/s]"
      ]
     },
     "metadata": {},
     "output_type": "display_data"
    },
    {
     "data": {
      "application/vnd.jupyter.widget-view+json": {
       "model_id": "15f1ddd8184249c8b662267458d29ce2",
       "version_major": 2,
       "version_minor": 0
      },
      "text/plain": [
       "Validation: |          | 0/? [00:00<?, ?it/s]"
      ]
     },
     "metadata": {},
     "output_type": "display_data"
    },
    {
     "name": "stderr",
     "output_type": "stream",
     "text": [
      "`Trainer.fit` stopped: `max_epochs=200` reached.\n"
     ]
    },
    {
     "data": {
      "text/plain": [
       "NBEATSModel(output_chunk_shift=0, generic_architecture=True, num_stacks=2, num_blocks=2, num_layers=4, layer_widths=256, expansion_coefficient_dim=5, trend_polynomial_degree=2, dropout=0.0, activation=ReLU, input_chunk_length=15, output_chunk_length=1, batch_size=16, random_state=42, save_checkpoints=True)"
      ]
     },
     "execution_count": 11,
     "metadata": {},
     "output_type": "execute_result"
    }
   ],
   "source": [
    "# best_params = trial.params\n",
    "best_model = NBEATSModel(\n",
    "    input_chunk_length=best_params[\"input_chunk_length\"],\n",
    "    output_chunk_length=best_params[\"output_chunk_length\"],\n",
    "    batch_size=best_params[\"batch_size\"],\n",
    "    num_blocks=best_params[\"num_blocks\"],\n",
    "    num_stacks=best_params[\"num_stacks\"],\n",
    "    random_state=42,\n",
    "    save_checkpoints=True\n",
    ")\n",
    "\n",
    "best_model.fit(series=train_series, past_covariates=cov_train, \n",
    "               val_series=val_series, val_past_covariates=cov_val, epochs=200, verbose=True)\n"
   ]
  },
  {
   "cell_type": "code",
   "execution_count": 13,
   "metadata": {},
   "outputs": [
    {
     "name": "stderr",
     "output_type": "stream",
     "text": [
      "c:\\Users\\zzhuqshun\\.conda\\envs\\ML\\lib\\site-packages\\darts\\models\\forecasting\\torch_forecasting_model.py:1842: FutureWarning: You are using `torch.load` with `weights_only=False` (the current default value), which uses the default pickle module implicitly. It is possible to construct malicious pickle data which will execute arbitrary code during unpickling (See https://github.com/pytorch/pytorch/blob/main/SECURITY.md#untrusted-models for more details). In a future release, the default value for `weights_only` will be flipped to `True`. This limits the functions that could be executed during unpickling. Arbitrary objects will no longer be allowed to be loaded via this mode unless they are explicitly allowlisted by the user via `torch.serialization.add_safe_globals`. We recommend you start setting `weights_only=True` for any use case where you don't have full control of the loaded file. Please open an issue on GitHub for any issues related to this experimental feature.\n",
      "  model: TorchForecastingModel = torch.load(\n",
      "`predict()` was called with `n > output_chunk_length`: using auto-regression to forecast the values after `output_chunk_length` points. The model will access `(n - output_chunk_length)` future values of your `past_covariates` (relative to the first predicted time step). To hide this warning, set `show_warnings=False`.\n",
      "GPU available: True (cuda), used: True\n",
      "TPU available: False, using: 0 TPU cores\n",
      "HPU available: False, using: 0 HPUs\n",
      "LOCAL_RANK: 0 - CUDA_VISIBLE_DEVICES: [0]\n"
     ]
    },
    {
     "data": {
      "application/vnd.jupyter.widget-view+json": {
       "model_id": "1c64f911157e4ecbba3d7e64630b31e4",
       "version_major": 2,
       "version_minor": 0
      },
      "text/plain": [
       "Predicting: |          | 0/? [00:00<?, ?it/s]"
      ]
     },
     "metadata": {},
     "output_type": "display_data"
    },
    {
     "data": {
      "application/vnd.jupyter.widget-view+json": {
       "model_id": "0a5c52182ccc47d7aa2576b702a8957a",
       "version_major": 2,
       "version_minor": 0
      },
      "image/png": "[encoded data removed]",
      "text/html": [
       "\n",
       "            <div style=\"display: inline-block;\">\n",
       "                <div class=\"jupyter-widgets widget-label\" style=\"text-align: center;\">\n",
       "                    Figure\n",
       "                </div>\n",
       "                <img src='data:image/png;base64,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' width=800.0/>\n",
       "            </div>\n",
       "        "
      ],
      "text/plain": [
       "Canvas(toolbar=Toolbar(toolitems=[('Home', 'Reset original view', 'home', 'home'), ('Back', 'Back to previous …"
      ]
     },
     "metadata": {},
     "output_type": "display_data"
    }
   ],
   "source": [
    "model = NBEATSModel.load_from_checkpoint('in22_out1_bs16_nb3_ns2')\n",
    "\n",
    "pred_series = model.predict(len(val_series), series=train_series, past_covariates=cov_val)\n",
    "\n",
    "plt.figure(figsize=(8, 5))\n",
    "target_series.plot(label=\"Actual\")\n",
    "pred_series.plot(label=\"Forecast\")\n",
    "plt.title(\"SOH Forecast using NBEATS Model\")\n",
    "plt.xlabel(\"Time\")\n",
    "plt.legend()\n",
    "plt.show()\n",
    "\n",
    "# plt.figure(figsize=(8, 5)) \n",
    "# train_series.plot(label=\"train\")\n",
    "# val_series.plot(label=\"true\")\n",
    "# pred_series.plot(label=\"forecast\")\n",
    "# plt.legend()\n",
    "# plt.xlabel('Time')\n",
    "# plt.show()"
   ]
  },
  {
   "cell_type": "code",
   "execution_count": null,
   "metadata": {},
   "outputs": [],
   "source": [
    "# param_grid = {\n",
    "#     'input_chunk_length': [12, 24], # Half day or full day\n",
    "#     'output_chunk_length': [1, 3, 6, 12], # One Hour or more\n",
    "#     'batch_size': [16, 32, 64], # Training speed\n",
    "#     'num_blocks': [2, 3], # Depth and nonliniarity\n",
    "#     'num_stacks': [2, 3] # Different nonlinear mode \n",
    "# }"
   ]
  },
  {
   "cell_type": "code",
   "execution_count": null,
   "metadata": {},
   "outputs": [],
   "source": [
    "# def grid_search_nbeats(param_grid, train_series, val_series, cov_train=None, cov_val=None):\n",
    "#     best_params = None\n",
    "#     best_score = float(\"inf\")\n",
    "#     best_model = None \n",
    "\n",
    "#     keys, values = zip(*param_grid.items())\n",
    "#     param_combinations = [dict(zip(keys, v)) for v in itertools.product(*values)]\n",
    "\n",
    "#     for params in tqdm(param_combinations, desc=\"Grid Search Progress\"):\n",
    "#         model = NBEATSModel(\n",
    "#             input_chunk_length=params['input_chunk_length'],\n",
    "#             output_chunk_length=params['output_chunk_length'],\n",
    "#             batch_size=params['batch_size'],\n",
    "#             num_blocks=params['num_blocks'],\n",
    "#             num_stacks=params['num_stacks'],\n",
    "#             random_state=42\n",
    "#         )\n",
    "\n",
    "#         # Training\n",
    "#         model.fit(series=train_series, past_covariates=cov_train, epochs=200)\n",
    "\n",
    "#         # Predict\n",
    "#         pred_series = model.predict(len(val_series), series=train_series, past_covariates=cov_val)\n",
    "#         score = mean_absolute_error(val_series.values(), pred_series.values())\n",
    "\n",
    "#         print(f\"Params: {params} - MAE: {score}\")\n",
    "\n",
    "#         if score < best_score:\n",
    "#             best_score = score\n",
    "#             best_params = params\n",
    "#             best_model = model\n",
    "#     if best_model is not None:\n",
    "#         best_model.save_model(\"best_nbeats_model.pth\")\n",
    "#         print(\"Best model saved as 'best_nbeats_model.pth'\")\n",
    "        \n",
    "#     print(f\"Best Params: {best_params} with MAE: {best_score}\")\n",
    "#     return best_params, best_score\n",
    "\n",
    "# best_params, best_score = grid_search_nbeats(param_grid, train_series, val_series, cov_train=cov_train, cov_val=cov_val)\n"
   ]
  }
 ],
 "metadata": {
  "kernelspec": {
   "display_name": "ML",
   "language": "python",
   "name": "python3"
  },
  "language_info": {
   "codemirror_mode": {
    "name": "ipython",
    "version": 3
   },
   "file_extension": ".py",
   "mimetype": "text/x-python",
   "name": "python",
   "nbconvert_exporter": "python",
   "pygments_lexer": "ipython3",
   "version": "3.9.18"
  }
 },
 "nbformat": 4,
 "nbformat_minor": 2
}
